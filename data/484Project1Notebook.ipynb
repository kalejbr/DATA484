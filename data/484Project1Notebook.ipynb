{
 "cells": [
  {
   "cell_type": "markdown",
   "id": "4e762fcd",
   "metadata": {},
   "source": [
    "To assist with Pandas and Numpy uses in Plotly and DASH"
   ]
  },
  {
   "cell_type": "code",
   "execution_count": 4,
   "id": "f6be3558",
   "metadata": {},
   "outputs": [],
   "source": [
    "# pip install plotly"
   ]
  },
  {
   "cell_type": "code",
   "execution_count": 2,
   "id": "b1080f22",
   "metadata": {},
   "outputs": [],
   "source": [
    "import pandas as pd\n",
    "import numpy as np\n",
    "import plotly.graph_objs as go\n",
    "import plotly.offline as pyo\n",
    "from plotly.subplots import make_subplots\n",
    "from plotly.colors import n_colors\n"
   ]
  },
  {
   "cell_type": "code",
   "execution_count": 3,
   "id": "7e464fc1",
   "metadata": {},
   "outputs": [
    {
     "data": {
      "text/html": [
       "<div>\n",
       "<style scoped>\n",
       "    .dataframe tbody tr th:only-of-type {\n",
       "        vertical-align: middle;\n",
       "    }\n",
       "\n",
       "    .dataframe tbody tr th {\n",
       "        vertical-align: top;\n",
       "    }\n",
       "\n",
       "    .dataframe thead th {\n",
       "        text-align: right;\n",
       "    }\n",
       "</style>\n",
       "<table border=\"1\" class=\"dataframe\">\n",
       "  <thead>\n",
       "    <tr style=\"text-align: right;\">\n",
       "      <th></th>\n",
       "      <th>age</th>\n",
       "      <th>male</th>\n",
       "      <th>female</th>\n",
       "    </tr>\n",
       "  </thead>\n",
       "  <tbody>\n",
       "    <tr>\n",
       "      <th>0</th>\n",
       "      <td>0 to 9</td>\n",
       "      <td>2075391</td>\n",
       "      <td>2065096</td>\n",
       "    </tr>\n",
       "    <tr>\n",
       "      <th>1</th>\n",
       "      <td>10 to 19</td>\n",
       "      <td>1711664</td>\n",
       "      <td>1711627</td>\n",
       "    </tr>\n",
       "    <tr>\n",
       "      <th>2</th>\n",
       "      <td>20 to 29</td>\n",
       "      <td>1395091</td>\n",
       "      <td>1542876</td>\n",
       "    </tr>\n",
       "    <tr>\n",
       "      <th>3</th>\n",
       "      <td>30 to 39</td>\n",
       "      <td>1073914</td>\n",
       "      <td>1140383</td>\n",
       "    </tr>\n",
       "    <tr>\n",
       "      <th>4</th>\n",
       "      <td>40 to 49</td>\n",
       "      <td>810979</td>\n",
       "      <td>845260</td>\n",
       "    </tr>\n",
       "    <tr>\n",
       "      <th>5</th>\n",
       "      <td>50 to 59</td>\n",
       "      <td>560534</td>\n",
       "      <td>592970</td>\n",
       "    </tr>\n",
       "    <tr>\n",
       "      <th>6</th>\n",
       "      <td>60 to 69</td>\n",
       "      <td>351893</td>\n",
       "      <td>399019</td>\n",
       "    </tr>\n",
       "    <tr>\n",
       "      <th>7</th>\n",
       "      <td>70 to 79</td>\n",
       "      <td>166194</td>\n",
       "      <td>199326</td>\n",
       "    </tr>\n",
       "    <tr>\n",
       "      <th>8</th>\n",
       "      <td>80+</td>\n",
       "      <td>40772</td>\n",
       "      <td>55704</td>\n",
       "    </tr>\n",
       "  </tbody>\n",
       "</table>\n",
       "</div>"
      ],
      "text/plain": [
       "        age     male   female\n",
       "0    0 to 9  2075391  2065096\n",
       "1  10 to 19  1711664  1711627\n",
       "2  20 to 29  1395091  1542876\n",
       "3  30 to 39  1073914  1140383\n",
       "4  40 to 49   810979   845260\n",
       "5  50 to 59   560534   592970\n",
       "6  60 to 69   351893   399019\n",
       "7  70 to 79   166194   199326\n",
       "8       80+    40772    55704"
      ]
     },
     "execution_count": 3,
     "metadata": {},
     "output_type": "execute_result"
    }
   ],
   "source": [
    "df = pd.read_csv('UKcensus1851.csv',header=2)\n",
    "df"
   ]
  },
  {
   "cell_type": "code",
   "execution_count": 36,
   "id": "c42426b5",
   "metadata": {},
   "outputs": [],
   "source": [
    "# colors = n_colors('rgb(252, 211, 182)', 'rgb(250, 105, 2)', 2075392, colortype='rgb')"
   ]
  },
  {
   "cell_type": "code",
   "execution_count": 45,
   "id": "c719effa",
   "metadata": {},
   "outputs": [],
   "source": [
    "fig = go.Figure(data=[\n",
    "    go.Table(\n",
    "        header=dict(\n",
    "            values=[\"Age\",\"Male\",\"Female\"],\n",
    "            font=dict(color='white',size=13),\n",
    "            fill_color='blue',\n",
    "            align=\"center\"\n",
    "        ),\n",
    "        cells=dict(\n",
    "            values=[df[xy].tolist() for xy in df.columns[0:]],\n",
    "            line_color=[np.array(colors)[df['male'].to_numpy()],np.array(colors)[df['female'].to_numpy()]],\n",
    "            fill_color=[np.array(colors)[df['male'].to_numpy()],np.array(colors)[df['female'].to_numpy()]],\n",
    "            align = 'center')\n",
    "        )\n",
    "])"
   ]
  },
  {
   "cell_type": "code",
   "execution_count": 46,
   "id": "d6e10604",
   "metadata": {},
   "outputs": [
    {
     "data": {
      "application/vnd.plotly.v1+json": {
       "config": {
        "plotlyServerURL": "https://plot.ly"
       },
       "data": [
        {
         "cells": {
          "align": "center",
          "fill": {
           "color": [
            [
             "rgb(250.0, 105.0, 2.0)",
             "rgb(250.35051419226545, 123.57725219006925, 33.54627730389117)",
             "rgb(250.65558730860835, 139.74612735624277, 61.002857774751845)",
             "rgb(250.9650971792785, 156.1501505017609, 88.85874613506564)",
             "rgb(251.2184807585655, 169.5794802039712, 111.6632682708945)",
             "rgb(251.45982805167796, 182.37088673893257, 133.38452465101756)",
             "rgb(251.66088992387458, 193.02716596535305, 151.4800931487127)",
             "rgb(251.8398431909939, 202.51168912267616, 167.5858871894501)",
             "rgb(251.9607090904798, 208.91758179543035, 178.46381814318363)"
            ],
            [
             "rgb(250.009921022111, 105.52581417188375, 2.892891989991284)",
             "rgb(250.3505498481973, 123.5791419544558, 33.549486337755155)",
             "rgb(250.51317077119444, 132.1980508733053, 48.18536940749962)",
             "rgb(250.90104274327103, 152.75526539336443, 83.09384689439244)",
             "rgb(251.18544505589549, 167.82858796246106, 108.69005503059424)",
             "rgb(251.4285703272299, 180.71422734318497, 130.57132945069145)",
             "rgb(251.61547583081935, 190.6202190334255, 147.39282477374144)",
             "rgb(251.80791474955802, 200.81948172657587, 164.71232746022315)",
             "rgb(251.94631951280505, 208.15493417866801, 177.16875615245513)"
            ]
           ]
          },
          "line": {
           "color": [
            [
             "rgb(250.0, 105.0, 2.0)",
             "rgb(250.35051419226545, 123.57725219006925, 33.54627730389117)",
             "rgb(250.65558730860835, 139.74612735624277, 61.002857774751845)",
             "rgb(250.9650971792785, 156.1501505017609, 88.85874613506564)",
             "rgb(251.2184807585655, 169.5794802039712, 111.6632682708945)",
             "rgb(251.45982805167796, 182.37088673893257, 133.38452465101756)",
             "rgb(251.66088992387458, 193.02716596535305, 151.4800931487127)",
             "rgb(251.8398431909939, 202.51168912267616, 167.5858871894501)",
             "rgb(251.9607090904798, 208.91758179543035, 178.46381814318363)"
            ],
            [
             "rgb(250.009921022111, 105.52581417188375, 2.892891989991284)",
             "rgb(250.3505498481973, 123.5791419544558, 33.549486337755155)",
             "rgb(250.51317077119444, 132.1980508733053, 48.18536940749962)",
             "rgb(250.90104274327103, 152.75526539336443, 83.09384689439244)",
             "rgb(251.18544505589549, 167.82858796246106, 108.69005503059424)",
             "rgb(251.4285703272299, 180.71422734318497, 130.57132945069145)",
             "rgb(251.61547583081935, 190.6202190334255, 147.39282477374144)",
             "rgb(251.80791474955802, 200.81948172657587, 164.71232746022315)",
             "rgb(251.94631951280505, 208.15493417866801, 177.16875615245513)"
            ]
           ]
          },
          "values": [
           [
            "0 to 9",
            "10 to 19",
            "20 to 29",
            "30 to 39",
            "40 to 49",
            "50 to 59",
            "60 to 69",
            "70 to 79",
            "80+"
           ],
           [
            2075391,
            1711664,
            1395091,
            1073914,
            810979,
            560534,
            351893,
            166194,
            40772
           ],
           [
            2065096,
            1711627,
            1542876,
            1140383,
            845260,
            592970,
            399019,
            199326,
            55704
           ]
          ]
         },
         "header": {
          "align": "center",
          "fill": {
           "color": "blue"
          },
          "font": {
           "color": "white",
           "size": 13
          },
          "values": [
           "Age",
           "Male",
           "Female"
          ]
         },
         "type": "table"
        }
       ],
       "layout": {
        "template": {
         "data": {
          "bar": [
           {
            "error_x": {
             "color": "#2a3f5f"
            },
            "error_y": {
             "color": "#2a3f5f"
            },
            "marker": {
             "line": {
              "color": "#E5ECF6",
              "width": 0.5
             },
             "pattern": {
              "fillmode": "overlay",
              "size": 10,
              "solidity": 0.2
             }
            },
            "type": "bar"
           }
          ],
          "barpolar": [
           {
            "marker": {
             "line": {
              "color": "#E5ECF6",
              "width": 0.5
             },
             "pattern": {
              "fillmode": "overlay",
              "size": 10,
              "solidity": 0.2
             }
            },
            "type": "barpolar"
           }
          ],
          "carpet": [
           {
            "aaxis": {
             "endlinecolor": "#2a3f5f",
             "gridcolor": "white",
             "linecolor": "white",
             "minorgridcolor": "white",
             "startlinecolor": "#2a3f5f"
            },
            "baxis": {
             "endlinecolor": "#2a3f5f",
             "gridcolor": "white",
             "linecolor": "white",
             "minorgridcolor": "white",
             "startlinecolor": "#2a3f5f"
            },
            "type": "carpet"
           }
          ],
          "choropleth": [
           {
            "colorbar": {
             "outlinewidth": 0,
             "ticks": ""
            },
            "type": "choropleth"
           }
          ],
          "contour": [
           {
            "colorbar": {
             "outlinewidth": 0,
             "ticks": ""
            },
            "colorscale": [
             [
              0,
              "#0d0887"
             ],
             [
              0.1111111111111111,
              "#46039f"
             ],
             [
              0.2222222222222222,
              "#7201a8"
             ],
             [
              0.3333333333333333,
              "#9c179e"
             ],
             [
              0.4444444444444444,
              "#bd3786"
             ],
             [
              0.5555555555555556,
              "#d8576b"
             ],
             [
              0.6666666666666666,
              "#ed7953"
             ],
             [
              0.7777777777777778,
              "#fb9f3a"
             ],
             [
              0.8888888888888888,
              "#fdca26"
             ],
             [
              1,
              "#f0f921"
             ]
            ],
            "type": "contour"
           }
          ],
          "contourcarpet": [
           {
            "colorbar": {
             "outlinewidth": 0,
             "ticks": ""
            },
            "type": "contourcarpet"
           }
          ],
          "heatmap": [
           {
            "colorbar": {
             "outlinewidth": 0,
             "ticks": ""
            },
            "colorscale": [
             [
              0,
              "#0d0887"
             ],
             [
              0.1111111111111111,
              "#46039f"
             ],
             [
              0.2222222222222222,
              "#7201a8"
             ],
             [
              0.3333333333333333,
              "#9c179e"
             ],
             [
              0.4444444444444444,
              "#bd3786"
             ],
             [
              0.5555555555555556,
              "#d8576b"
             ],
             [
              0.6666666666666666,
              "#ed7953"
             ],
             [
              0.7777777777777778,
              "#fb9f3a"
             ],
             [
              0.8888888888888888,
              "#fdca26"
             ],
             [
              1,
              "#f0f921"
             ]
            ],
            "type": "heatmap"
           }
          ],
          "heatmapgl": [
           {
            "colorbar": {
             "outlinewidth": 0,
             "ticks": ""
            },
            "colorscale": [
             [
              0,
              "#0d0887"
             ],
             [
              0.1111111111111111,
              "#46039f"
             ],
             [
              0.2222222222222222,
              "#7201a8"
             ],
             [
              0.3333333333333333,
              "#9c179e"
             ],
             [
              0.4444444444444444,
              "#bd3786"
             ],
             [
              0.5555555555555556,
              "#d8576b"
             ],
             [
              0.6666666666666666,
              "#ed7953"
             ],
             [
              0.7777777777777778,
              "#fb9f3a"
             ],
             [
              0.8888888888888888,
              "#fdca26"
             ],
             [
              1,
              "#f0f921"
             ]
            ],
            "type": "heatmapgl"
           }
          ],
          "histogram": [
           {
            "marker": {
             "pattern": {
              "fillmode": "overlay",
              "size": 10,
              "solidity": 0.2
             }
            },
            "type": "histogram"
           }
          ],
          "histogram2d": [
           {
            "colorbar": {
             "outlinewidth": 0,
             "ticks": ""
            },
            "colorscale": [
             [
              0,
              "#0d0887"
             ],
             [
              0.1111111111111111,
              "#46039f"
             ],
             [
              0.2222222222222222,
              "#7201a8"
             ],
             [
              0.3333333333333333,
              "#9c179e"
             ],
             [
              0.4444444444444444,
              "#bd3786"
             ],
             [
              0.5555555555555556,
              "#d8576b"
             ],
             [
              0.6666666666666666,
              "#ed7953"
             ],
             [
              0.7777777777777778,
              "#fb9f3a"
             ],
             [
              0.8888888888888888,
              "#fdca26"
             ],
             [
              1,
              "#f0f921"
             ]
            ],
            "type": "histogram2d"
           }
          ],
          "histogram2dcontour": [
           {
            "colorbar": {
             "outlinewidth": 0,
             "ticks": ""
            },
            "colorscale": [
             [
              0,
              "#0d0887"
             ],
             [
              0.1111111111111111,
              "#46039f"
             ],
             [
              0.2222222222222222,
              "#7201a8"
             ],
             [
              0.3333333333333333,
              "#9c179e"
             ],
             [
              0.4444444444444444,
              "#bd3786"
             ],
             [
              0.5555555555555556,
              "#d8576b"
             ],
             [
              0.6666666666666666,
              "#ed7953"
             ],
             [
              0.7777777777777778,
              "#fb9f3a"
             ],
             [
              0.8888888888888888,
              "#fdca26"
             ],
             [
              1,
              "#f0f921"
             ]
            ],
            "type": "histogram2dcontour"
           }
          ],
          "mesh3d": [
           {
            "colorbar": {
             "outlinewidth": 0,
             "ticks": ""
            },
            "type": "mesh3d"
           }
          ],
          "parcoords": [
           {
            "line": {
             "colorbar": {
              "outlinewidth": 0,
              "ticks": ""
             }
            },
            "type": "parcoords"
           }
          ],
          "pie": [
           {
            "automargin": true,
            "type": "pie"
           }
          ],
          "scatter": [
           {
            "fillpattern": {
             "fillmode": "overlay",
             "size": 10,
             "solidity": 0.2
            },
            "type": "scatter"
           }
          ],
          "scatter3d": [
           {
            "line": {
             "colorbar": {
              "outlinewidth": 0,
              "ticks": ""
             }
            },
            "marker": {
             "colorbar": {
              "outlinewidth": 0,
              "ticks": ""
             }
            },
            "type": "scatter3d"
           }
          ],
          "scattercarpet": [
           {
            "marker": {
             "colorbar": {
              "outlinewidth": 0,
              "ticks": ""
             }
            },
            "type": "scattercarpet"
           }
          ],
          "scattergeo": [
           {
            "marker": {
             "colorbar": {
              "outlinewidth": 0,
              "ticks": ""
             }
            },
            "type": "scattergeo"
           }
          ],
          "scattergl": [
           {
            "marker": {
             "colorbar": {
              "outlinewidth": 0,
              "ticks": ""
             }
            },
            "type": "scattergl"
           }
          ],
          "scattermapbox": [
           {
            "marker": {
             "colorbar": {
              "outlinewidth": 0,
              "ticks": ""
             }
            },
            "type": "scattermapbox"
           }
          ],
          "scatterpolar": [
           {
            "marker": {
             "colorbar": {
              "outlinewidth": 0,
              "ticks": ""
             }
            },
            "type": "scatterpolar"
           }
          ],
          "scatterpolargl": [
           {
            "marker": {
             "colorbar": {
              "outlinewidth": 0,
              "ticks": ""
             }
            },
            "type": "scatterpolargl"
           }
          ],
          "scatterternary": [
           {
            "marker": {
             "colorbar": {
              "outlinewidth": 0,
              "ticks": ""
             }
            },
            "type": "scatterternary"
           }
          ],
          "surface": [
           {
            "colorbar": {
             "outlinewidth": 0,
             "ticks": ""
            },
            "colorscale": [
             [
              0,
              "#0d0887"
             ],
             [
              0.1111111111111111,
              "#46039f"
             ],
             [
              0.2222222222222222,
              "#7201a8"
             ],
             [
              0.3333333333333333,
              "#9c179e"
             ],
             [
              0.4444444444444444,
              "#bd3786"
             ],
             [
              0.5555555555555556,
              "#d8576b"
             ],
             [
              0.6666666666666666,
              "#ed7953"
             ],
             [
              0.7777777777777778,
              "#fb9f3a"
             ],
             [
              0.8888888888888888,
              "#fdca26"
             ],
             [
              1,
              "#f0f921"
             ]
            ],
            "type": "surface"
           }
          ],
          "table": [
           {
            "cells": {
             "fill": {
              "color": "#EBF0F8"
             },
             "line": {
              "color": "white"
             }
            },
            "header": {
             "fill": {
              "color": "#C8D4E3"
             },
             "line": {
              "color": "white"
             }
            },
            "type": "table"
           }
          ]
         },
         "layout": {
          "annotationdefaults": {
           "arrowcolor": "#2a3f5f",
           "arrowhead": 0,
           "arrowwidth": 1
          },
          "autotypenumbers": "strict",
          "coloraxis": {
           "colorbar": {
            "outlinewidth": 0,
            "ticks": ""
           }
          },
          "colorscale": {
           "diverging": [
            [
             0,
             "#8e0152"
            ],
            [
             0.1,
             "#c51b7d"
            ],
            [
             0.2,
             "#de77ae"
            ],
            [
             0.3,
             "#f1b6da"
            ],
            [
             0.4,
             "#fde0ef"
            ],
            [
             0.5,
             "#f7f7f7"
            ],
            [
             0.6,
             "#e6f5d0"
            ],
            [
             0.7,
             "#b8e186"
            ],
            [
             0.8,
             "#7fbc41"
            ],
            [
             0.9,
             "#4d9221"
            ],
            [
             1,
             "#276419"
            ]
           ],
           "sequential": [
            [
             0,
             "#0d0887"
            ],
            [
             0.1111111111111111,
             "#46039f"
            ],
            [
             0.2222222222222222,
             "#7201a8"
            ],
            [
             0.3333333333333333,
             "#9c179e"
            ],
            [
             0.4444444444444444,
             "#bd3786"
            ],
            [
             0.5555555555555556,
             "#d8576b"
            ],
            [
             0.6666666666666666,
             "#ed7953"
            ],
            [
             0.7777777777777778,
             "#fb9f3a"
            ],
            [
             0.8888888888888888,
             "#fdca26"
            ],
            [
             1,
             "#f0f921"
            ]
           ],
           "sequentialminus": [
            [
             0,
             "#0d0887"
            ],
            [
             0.1111111111111111,
             "#46039f"
            ],
            [
             0.2222222222222222,
             "#7201a8"
            ],
            [
             0.3333333333333333,
             "#9c179e"
            ],
            [
             0.4444444444444444,
             "#bd3786"
            ],
            [
             0.5555555555555556,
             "#d8576b"
            ],
            [
             0.6666666666666666,
             "#ed7953"
            ],
            [
             0.7777777777777778,
             "#fb9f3a"
            ],
            [
             0.8888888888888888,
             "#fdca26"
            ],
            [
             1,
             "#f0f921"
            ]
           ]
          },
          "colorway": [
           "#636efa",
           "#EF553B",
           "#00cc96",
           "#ab63fa",
           "#FFA15A",
           "#19d3f3",
           "#FF6692",
           "#B6E880",
           "#FF97FF",
           "#FECB52"
          ],
          "font": {
           "color": "#2a3f5f"
          },
          "geo": {
           "bgcolor": "white",
           "lakecolor": "white",
           "landcolor": "#E5ECF6",
           "showlakes": true,
           "showland": true,
           "subunitcolor": "white"
          },
          "hoverlabel": {
           "align": "left"
          },
          "hovermode": "closest",
          "mapbox": {
           "style": "light"
          },
          "paper_bgcolor": "white",
          "plot_bgcolor": "#E5ECF6",
          "polar": {
           "angularaxis": {
            "gridcolor": "white",
            "linecolor": "white",
            "ticks": ""
           },
           "bgcolor": "#E5ECF6",
           "radialaxis": {
            "gridcolor": "white",
            "linecolor": "white",
            "ticks": ""
           }
          },
          "scene": {
           "xaxis": {
            "backgroundcolor": "#E5ECF6",
            "gridcolor": "white",
            "gridwidth": 2,
            "linecolor": "white",
            "showbackground": true,
            "ticks": "",
            "zerolinecolor": "white"
           },
           "yaxis": {
            "backgroundcolor": "#E5ECF6",
            "gridcolor": "white",
            "gridwidth": 2,
            "linecolor": "white",
            "showbackground": true,
            "ticks": "",
            "zerolinecolor": "white"
           },
           "zaxis": {
            "backgroundcolor": "#E5ECF6",
            "gridcolor": "white",
            "gridwidth": 2,
            "linecolor": "white",
            "showbackground": true,
            "ticks": "",
            "zerolinecolor": "white"
           }
          },
          "shapedefaults": {
           "line": {
            "color": "#2a3f5f"
           }
          },
          "ternary": {
           "aaxis": {
            "gridcolor": "white",
            "linecolor": "white",
            "ticks": ""
           },
           "baxis": {
            "gridcolor": "white",
            "linecolor": "white",
            "ticks": ""
           },
           "bgcolor": "#E5ECF6",
           "caxis": {
            "gridcolor": "white",
            "linecolor": "white",
            "ticks": ""
           }
          },
          "title": {
           "x": 0.05
          },
          "xaxis": {
           "automargin": true,
           "gridcolor": "white",
           "linecolor": "white",
           "ticks": "",
           "title": {
            "standoff": 15
           },
           "zerolinecolor": "white",
           "zerolinewidth": 2
          },
          "yaxis": {
           "automargin": true,
           "gridcolor": "white",
           "linecolor": "white",
           "ticks": "",
           "title": {
            "standoff": 15
           },
           "zerolinecolor": "white",
           "zerolinewidth": 2
          }
         }
        }
       }
      },
      "text/html": [
       "<div>                            <div id=\"6f4ec142-37ef-4d36-b48d-741f37a91c59\" class=\"plotly-graph-div\" style=\"height:525px; width:100%;\"></div>            <script type=\"text/javascript\">                require([\"plotly\"], function(Plotly) {                    window.PLOTLYENV=window.PLOTLYENV || {};                                    if (document.getElementById(\"6f4ec142-37ef-4d36-b48d-741f37a91c59\")) {                    Plotly.newPlot(                        \"6f4ec142-37ef-4d36-b48d-741f37a91c59\",                        [{\"cells\":{\"align\":\"center\",\"fill\":{\"color\":[[\"rgb(250.0, 105.0, 2.0)\",\"rgb(250.35051419226545, 123.57725219006925, 33.54627730389117)\",\"rgb(250.65558730860835, 139.74612735624277, 61.002857774751845)\",\"rgb(250.9650971792785, 156.1501505017609, 88.85874613506564)\",\"rgb(251.2184807585655, 169.5794802039712, 111.6632682708945)\",\"rgb(251.45982805167796, 182.37088673893257, 133.38452465101756)\",\"rgb(251.66088992387458, 193.02716596535305, 151.4800931487127)\",\"rgb(251.8398431909939, 202.51168912267616, 167.5858871894501)\",\"rgb(251.9607090904798, 208.91758179543035, 178.46381814318363)\"],[\"rgb(250.009921022111, 105.52581417188375, 2.892891989991284)\",\"rgb(250.3505498481973, 123.5791419544558, 33.549486337755155)\",\"rgb(250.51317077119444, 132.1980508733053, 48.18536940749962)\",\"rgb(250.90104274327103, 152.75526539336443, 83.09384689439244)\",\"rgb(251.18544505589549, 167.82858796246106, 108.69005503059424)\",\"rgb(251.4285703272299, 180.71422734318497, 130.57132945069145)\",\"rgb(251.61547583081935, 190.6202190334255, 147.39282477374144)\",\"rgb(251.80791474955802, 200.81948172657587, 164.71232746022315)\",\"rgb(251.94631951280505, 208.15493417866801, 177.16875615245513)\"]]},\"line\":{\"color\":[[\"rgb(250.0, 105.0, 2.0)\",\"rgb(250.35051419226545, 123.57725219006925, 33.54627730389117)\",\"rgb(250.65558730860835, 139.74612735624277, 61.002857774751845)\",\"rgb(250.9650971792785, 156.1501505017609, 88.85874613506564)\",\"rgb(251.2184807585655, 169.5794802039712, 111.6632682708945)\",\"rgb(251.45982805167796, 182.37088673893257, 133.38452465101756)\",\"rgb(251.66088992387458, 193.02716596535305, 151.4800931487127)\",\"rgb(251.8398431909939, 202.51168912267616, 167.5858871894501)\",\"rgb(251.9607090904798, 208.91758179543035, 178.46381814318363)\"],[\"rgb(250.009921022111, 105.52581417188375, 2.892891989991284)\",\"rgb(250.3505498481973, 123.5791419544558, 33.549486337755155)\",\"rgb(250.51317077119444, 132.1980508733053, 48.18536940749962)\",\"rgb(250.90104274327103, 152.75526539336443, 83.09384689439244)\",\"rgb(251.18544505589549, 167.82858796246106, 108.69005503059424)\",\"rgb(251.4285703272299, 180.71422734318497, 130.57132945069145)\",\"rgb(251.61547583081935, 190.6202190334255, 147.39282477374144)\",\"rgb(251.80791474955802, 200.81948172657587, 164.71232746022315)\",\"rgb(251.94631951280505, 208.15493417866801, 177.16875615245513)\"]]},\"values\":[[\"0 to 9\",\"10 to 19\",\"20 to 29\",\"30 to 39\",\"40 to 49\",\"50 to 59\",\"60 to 69\",\"70 to 79\",\"80+\"],[2075391,1711664,1395091,1073914,810979,560534,351893,166194,40772],[2065096,1711627,1542876,1140383,845260,592970,399019,199326,55704]]},\"header\":{\"align\":\"center\",\"fill\":{\"color\":\"blue\"},\"font\":{\"color\":\"white\",\"size\":13},\"values\":[\"Age\",\"Male\",\"Female\"]},\"type\":\"table\"}],                        {\"template\":{\"data\":{\"histogram2dcontour\":[{\"type\":\"histogram2dcontour\",\"colorbar\":{\"outlinewidth\":0,\"ticks\":\"\"},\"colorscale\":[[0.0,\"#0d0887\"],[0.1111111111111111,\"#46039f\"],[0.2222222222222222,\"#7201a8\"],[0.3333333333333333,\"#9c179e\"],[0.4444444444444444,\"#bd3786\"],[0.5555555555555556,\"#d8576b\"],[0.6666666666666666,\"#ed7953\"],[0.7777777777777778,\"#fb9f3a\"],[0.8888888888888888,\"#fdca26\"],[1.0,\"#f0f921\"]]}],\"choropleth\":[{\"type\":\"choropleth\",\"colorbar\":{\"outlinewidth\":0,\"ticks\":\"\"}}],\"histogram2d\":[{\"type\":\"histogram2d\",\"colorbar\":{\"outlinewidth\":0,\"ticks\":\"\"},\"colorscale\":[[0.0,\"#0d0887\"],[0.1111111111111111,\"#46039f\"],[0.2222222222222222,\"#7201a8\"],[0.3333333333333333,\"#9c179e\"],[0.4444444444444444,\"#bd3786\"],[0.5555555555555556,\"#d8576b\"],[0.6666666666666666,\"#ed7953\"],[0.7777777777777778,\"#fb9f3a\"],[0.8888888888888888,\"#fdca26\"],[1.0,\"#f0f921\"]]}],\"heatmap\":[{\"type\":\"heatmap\",\"colorbar\":{\"outlinewidth\":0,\"ticks\":\"\"},\"colorscale\":[[0.0,\"#0d0887\"],[0.1111111111111111,\"#46039f\"],[0.2222222222222222,\"#7201a8\"],[0.3333333333333333,\"#9c179e\"],[0.4444444444444444,\"#bd3786\"],[0.5555555555555556,\"#d8576b\"],[0.6666666666666666,\"#ed7953\"],[0.7777777777777778,\"#fb9f3a\"],[0.8888888888888888,\"#fdca26\"],[1.0,\"#f0f921\"]]}],\"heatmapgl\":[{\"type\":\"heatmapgl\",\"colorbar\":{\"outlinewidth\":0,\"ticks\":\"\"},\"colorscale\":[[0.0,\"#0d0887\"],[0.1111111111111111,\"#46039f\"],[0.2222222222222222,\"#7201a8\"],[0.3333333333333333,\"#9c179e\"],[0.4444444444444444,\"#bd3786\"],[0.5555555555555556,\"#d8576b\"],[0.6666666666666666,\"#ed7953\"],[0.7777777777777778,\"#fb9f3a\"],[0.8888888888888888,\"#fdca26\"],[1.0,\"#f0f921\"]]}],\"contourcarpet\":[{\"type\":\"contourcarpet\",\"colorbar\":{\"outlinewidth\":0,\"ticks\":\"\"}}],\"contour\":[{\"type\":\"contour\",\"colorbar\":{\"outlinewidth\":0,\"ticks\":\"\"},\"colorscale\":[[0.0,\"#0d0887\"],[0.1111111111111111,\"#46039f\"],[0.2222222222222222,\"#7201a8\"],[0.3333333333333333,\"#9c179e\"],[0.4444444444444444,\"#bd3786\"],[0.5555555555555556,\"#d8576b\"],[0.6666666666666666,\"#ed7953\"],[0.7777777777777778,\"#fb9f3a\"],[0.8888888888888888,\"#fdca26\"],[1.0,\"#f0f921\"]]}],\"surface\":[{\"type\":\"surface\",\"colorbar\":{\"outlinewidth\":0,\"ticks\":\"\"},\"colorscale\":[[0.0,\"#0d0887\"],[0.1111111111111111,\"#46039f\"],[0.2222222222222222,\"#7201a8\"],[0.3333333333333333,\"#9c179e\"],[0.4444444444444444,\"#bd3786\"],[0.5555555555555556,\"#d8576b\"],[0.6666666666666666,\"#ed7953\"],[0.7777777777777778,\"#fb9f3a\"],[0.8888888888888888,\"#fdca26\"],[1.0,\"#f0f921\"]]}],\"mesh3d\":[{\"type\":\"mesh3d\",\"colorbar\":{\"outlinewidth\":0,\"ticks\":\"\"}}],\"scatter\":[{\"fillpattern\":{\"fillmode\":\"overlay\",\"size\":10,\"solidity\":0.2},\"type\":\"scatter\"}],\"parcoords\":[{\"type\":\"parcoords\",\"line\":{\"colorbar\":{\"outlinewidth\":0,\"ticks\":\"\"}}}],\"scatterpolargl\":[{\"type\":\"scatterpolargl\",\"marker\":{\"colorbar\":{\"outlinewidth\":0,\"ticks\":\"\"}}}],\"bar\":[{\"error_x\":{\"color\":\"#2a3f5f\"},\"error_y\":{\"color\":\"#2a3f5f\"},\"marker\":{\"line\":{\"color\":\"#E5ECF6\",\"width\":0.5},\"pattern\":{\"fillmode\":\"overlay\",\"size\":10,\"solidity\":0.2}},\"type\":\"bar\"}],\"scattergeo\":[{\"type\":\"scattergeo\",\"marker\":{\"colorbar\":{\"outlinewidth\":0,\"ticks\":\"\"}}}],\"scatterpolar\":[{\"type\":\"scatterpolar\",\"marker\":{\"colorbar\":{\"outlinewidth\":0,\"ticks\":\"\"}}}],\"histogram\":[{\"marker\":{\"pattern\":{\"fillmode\":\"overlay\",\"size\":10,\"solidity\":0.2}},\"type\":\"histogram\"}],\"scattergl\":[{\"type\":\"scattergl\",\"marker\":{\"colorbar\":{\"outlinewidth\":0,\"ticks\":\"\"}}}],\"scatter3d\":[{\"type\":\"scatter3d\",\"line\":{\"colorbar\":{\"outlinewidth\":0,\"ticks\":\"\"}},\"marker\":{\"colorbar\":{\"outlinewidth\":0,\"ticks\":\"\"}}}],\"scattermapbox\":[{\"type\":\"scattermapbox\",\"marker\":{\"colorbar\":{\"outlinewidth\":0,\"ticks\":\"\"}}}],\"scatterternary\":[{\"type\":\"scatterternary\",\"marker\":{\"colorbar\":{\"outlinewidth\":0,\"ticks\":\"\"}}}],\"scattercarpet\":[{\"type\":\"scattercarpet\",\"marker\":{\"colorbar\":{\"outlinewidth\":0,\"ticks\":\"\"}}}],\"carpet\":[{\"aaxis\":{\"endlinecolor\":\"#2a3f5f\",\"gridcolor\":\"white\",\"linecolor\":\"white\",\"minorgridcolor\":\"white\",\"startlinecolor\":\"#2a3f5f\"},\"baxis\":{\"endlinecolor\":\"#2a3f5f\",\"gridcolor\":\"white\",\"linecolor\":\"white\",\"minorgridcolor\":\"white\",\"startlinecolor\":\"#2a3f5f\"},\"type\":\"carpet\"}],\"table\":[{\"cells\":{\"fill\":{\"color\":\"#EBF0F8\"},\"line\":{\"color\":\"white\"}},\"header\":{\"fill\":{\"color\":\"#C8D4E3\"},\"line\":{\"color\":\"white\"}},\"type\":\"table\"}],\"barpolar\":[{\"marker\":{\"line\":{\"color\":\"#E5ECF6\",\"width\":0.5},\"pattern\":{\"fillmode\":\"overlay\",\"size\":10,\"solidity\":0.2}},\"type\":\"barpolar\"}],\"pie\":[{\"automargin\":true,\"type\":\"pie\"}]},\"layout\":{\"autotypenumbers\":\"strict\",\"colorway\":[\"#636efa\",\"#EF553B\",\"#00cc96\",\"#ab63fa\",\"#FFA15A\",\"#19d3f3\",\"#FF6692\",\"#B6E880\",\"#FF97FF\",\"#FECB52\"],\"font\":{\"color\":\"#2a3f5f\"},\"hovermode\":\"closest\",\"hoverlabel\":{\"align\":\"left\"},\"paper_bgcolor\":\"white\",\"plot_bgcolor\":\"#E5ECF6\",\"polar\":{\"bgcolor\":\"#E5ECF6\",\"angularaxis\":{\"gridcolor\":\"white\",\"linecolor\":\"white\",\"ticks\":\"\"},\"radialaxis\":{\"gridcolor\":\"white\",\"linecolor\":\"white\",\"ticks\":\"\"}},\"ternary\":{\"bgcolor\":\"#E5ECF6\",\"aaxis\":{\"gridcolor\":\"white\",\"linecolor\":\"white\",\"ticks\":\"\"},\"baxis\":{\"gridcolor\":\"white\",\"linecolor\":\"white\",\"ticks\":\"\"},\"caxis\":{\"gridcolor\":\"white\",\"linecolor\":\"white\",\"ticks\":\"\"}},\"coloraxis\":{\"colorbar\":{\"outlinewidth\":0,\"ticks\":\"\"}},\"colorscale\":{\"sequential\":[[0.0,\"#0d0887\"],[0.1111111111111111,\"#46039f\"],[0.2222222222222222,\"#7201a8\"],[0.3333333333333333,\"#9c179e\"],[0.4444444444444444,\"#bd3786\"],[0.5555555555555556,\"#d8576b\"],[0.6666666666666666,\"#ed7953\"],[0.7777777777777778,\"#fb9f3a\"],[0.8888888888888888,\"#fdca26\"],[1.0,\"#f0f921\"]],\"sequentialminus\":[[0.0,\"#0d0887\"],[0.1111111111111111,\"#46039f\"],[0.2222222222222222,\"#7201a8\"],[0.3333333333333333,\"#9c179e\"],[0.4444444444444444,\"#bd3786\"],[0.5555555555555556,\"#d8576b\"],[0.6666666666666666,\"#ed7953\"],[0.7777777777777778,\"#fb9f3a\"],[0.8888888888888888,\"#fdca26\"],[1.0,\"#f0f921\"]],\"diverging\":[[0,\"#8e0152\"],[0.1,\"#c51b7d\"],[0.2,\"#de77ae\"],[0.3,\"#f1b6da\"],[0.4,\"#fde0ef\"],[0.5,\"#f7f7f7\"],[0.6,\"#e6f5d0\"],[0.7,\"#b8e186\"],[0.8,\"#7fbc41\"],[0.9,\"#4d9221\"],[1,\"#276419\"]]},\"xaxis\":{\"gridcolor\":\"white\",\"linecolor\":\"white\",\"ticks\":\"\",\"title\":{\"standoff\":15},\"zerolinecolor\":\"white\",\"automargin\":true,\"zerolinewidth\":2},\"yaxis\":{\"gridcolor\":\"white\",\"linecolor\":\"white\",\"ticks\":\"\",\"title\":{\"standoff\":15},\"zerolinecolor\":\"white\",\"automargin\":true,\"zerolinewidth\":2},\"scene\":{\"xaxis\":{\"backgroundcolor\":\"#E5ECF6\",\"gridcolor\":\"white\",\"linecolor\":\"white\",\"showbackground\":true,\"ticks\":\"\",\"zerolinecolor\":\"white\",\"gridwidth\":2},\"yaxis\":{\"backgroundcolor\":\"#E5ECF6\",\"gridcolor\":\"white\",\"linecolor\":\"white\",\"showbackground\":true,\"ticks\":\"\",\"zerolinecolor\":\"white\",\"gridwidth\":2},\"zaxis\":{\"backgroundcolor\":\"#E5ECF6\",\"gridcolor\":\"white\",\"linecolor\":\"white\",\"showbackground\":true,\"ticks\":\"\",\"zerolinecolor\":\"white\",\"gridwidth\":2}},\"shapedefaults\":{\"line\":{\"color\":\"#2a3f5f\"}},\"annotationdefaults\":{\"arrowcolor\":\"#2a3f5f\",\"arrowhead\":0,\"arrowwidth\":1},\"geo\":{\"bgcolor\":\"white\",\"landcolor\":\"#E5ECF6\",\"subunitcolor\":\"white\",\"showland\":true,\"showlakes\":true,\"lakecolor\":\"white\"},\"title\":{\"x\":0.05},\"mapbox\":{\"style\":\"light\"}}}},                        {\"responsive\": true}                    ).then(function(){\n",
       "                            \n",
       "var gd = document.getElementById('6f4ec142-37ef-4d36-b48d-741f37a91c59');\n",
       "var x = new MutationObserver(function (mutations, observer) {{\n",
       "        var display = window.getComputedStyle(gd).display;\n",
       "        if (!display || display === 'none') {{\n",
       "            console.log([gd, 'removed!']);\n",
       "            Plotly.purge(gd);\n",
       "            observer.disconnect();\n",
       "        }}\n",
       "}});\n",
       "\n",
       "// Listen for the removal of the full notebook cells\n",
       "var notebookContainer = gd.closest('#notebook-container');\n",
       "if (notebookContainer) {{\n",
       "    x.observe(notebookContainer, {childList: true});\n",
       "}}\n",
       "\n",
       "// Listen for the clearing of the current output cell\n",
       "var outputEl = gd.closest('.output');\n",
       "if (outputEl) {{\n",
       "    x.observe(outputEl, {childList: true});\n",
       "}}\n",
       "\n",
       "                        })                };                });            </script>        </div>"
      ]
     },
     "metadata": {},
     "output_type": "display_data"
    }
   ],
   "source": [
    "# fig.show()\n",
    "# np.random.seed(1)\n",
    "\n",
    "# colors = n_colors('rgb(255, 200, 200)', 'rgb(200, 0, 0)', , colortype='rgb')\n",
    "# a = np.random.randint(low=0, high=9, size=10)\n",
    "# b = np.random.randint(low=0, high=9, size=10)\n",
    "# c = np.random.randint(low=0, high=9, size=10)\n",
    "\n",
    "# fig = go.Figure(data=[go.Table(\n",
    "#   header=dict(\n",
    "#     values=['<b>Column A</b>', '<b>Column B</b>', '<b>Column C</b>'],\n",
    "#     line_color='white', fill_color='white',\n",
    "#     align='center',font=dict(color='black', size=12)\n",
    "#   ),\n",
    "#   cells=dict(\n",
    "#     values=[a, b, c],\n",
    "#     line_color=[np.array(colors)[df['male'].to_numpy()],np.array(colors)[df['female'].to_numpy()], np.array(colors)[c]],\n",
    "#     fill_color=[np.array(colors)[df['male'].to_numpy()],np.array(colors)[df['female'].to_numpy()], np.array(colors)[c]],\n",
    "#     align='center', font=dict(color='white', size=11)\n",
    "#     ))\n",
    "# ])\n",
    "\n",
    "fig.show()"
   ]
  },
  {
   "cell_type": "code",
   "execution_count": 18,
   "id": "b5b70b25",
   "metadata": {},
   "outputs": [
    {
     "data": {
      "text/plain": [
       "array([5, 8, 5, 0, 0, 1, 7, 6, 2, 4])"
      ]
     },
     "execution_count": 18,
     "metadata": {},
     "output_type": "execute_result"
    }
   ],
   "source": [
    "a"
   ]
  },
  {
   "cell_type": "code",
   "execution_count": 4,
   "id": "1acba67c",
   "metadata": {},
   "outputs": [
    {
     "data": {
      "text/plain": [
       "2075391"
      ]
     },
     "execution_count": 4,
     "metadata": {},
     "output_type": "execute_result"
    }
   ],
   "source": [
    "df['male'].to_numpy().max()"
   ]
  },
  {
   "cell_type": "code",
   "execution_count": 5,
   "id": "bb1b4709",
   "metadata": {},
   "outputs": [
    {
     "data": {
      "text/plain": [
       "2065096"
      ]
     },
     "execution_count": 5,
     "metadata": {},
     "output_type": "execute_result"
    }
   ],
   "source": [
    "df['female'].to_numpy().max()"
   ]
  },
  {
   "cell_type": "code",
   "execution_count": 47,
   "id": "d4624b47",
   "metadata": {},
   "outputs": [
    {
     "name": "stdout",
     "output_type": "stream",
     "text": [
      "      age   male  female\n",
      "0     0-1    8.2     8.9\n",
      "1      2-5  14.0    14.7\n",
      "2     6-10  12.1    11.2\n",
      "3    11-15   7.8     7.1\n",
      "4    16-20   7.2     7.2\n",
      "5    21-40  12.1    11.8\n",
      "6    41-60  13.7    12.9\n",
      "7    61-80  20.5    20.5\n",
      "8  over 80  39.6    37.8\n"
     ]
    }
   ],
   "source": [
    "df = pd.read_table('naplesCholeraAgeSexData.tsv',header=6)\n",
    "print(df)"
   ]
  },
  {
   "cell_type": "code",
   "execution_count": 110,
   "id": "74504d19",
   "metadata": {},
   "outputs": [],
   "source": [
    "colors = n_colors('rgb(252, 211, 182)', 'rgb(250, 105, 2)', 9000000, colortype='rgb')"
   ]
  },
  {
   "cell_type": "code",
   "execution_count": 59,
   "id": "e9c61397",
   "metadata": {},
   "outputs": [
    {
     "data": {
      "text/plain": [
       "39"
      ]
     },
     "execution_count": 59,
     "metadata": {},
     "output_type": "execute_result"
    }
   ],
   "source": [
    "df['male'].to_numpy(int).max()"
   ]
  },
  {
   "cell_type": "code",
   "execution_count": 60,
   "id": "21bebc35",
   "metadata": {},
   "outputs": [
    {
     "data": {
      "text/plain": [
       "37"
      ]
     },
     "execution_count": 60,
     "metadata": {},
     "output_type": "execute_result"
    }
   ],
   "source": [
    "df['female'].to_numpy(int).max()"
   ]
  },
  {
   "cell_type": "code",
   "execution_count": 64,
   "id": "2247822b",
   "metadata": {},
   "outputs": [
    {
     "data": {
      "text/plain": [
       "array(['rgb(251.5897435897436, 189.25641025641025, 145.0769230769231)',\n",
       "       'rgb(251.28205128205127, 172.94871794871796, 117.38461538461539)',\n",
       "       'rgb(251.3846153846154, 178.3846153846154, 126.61538461538461)',\n",
       "       'rgb(251.64102564102564, 191.97435897435898, 149.69230769230768)',\n",
       "       'rgb(251.64102564102564, 191.97435897435898, 149.69230769230768)',\n",
       "       'rgb(251.3846153846154, 178.3846153846154, 126.61538461538461)',\n",
       "       'rgb(251.33333333333334, 175.66666666666666, 122.0)',\n",
       "       'rgb(250.97435897435898, 156.64102564102564, 89.69230769230771)',\n",
       "       'rgb(250.0, 105.0, 2.0000000000000284)'], dtype='<U63')"
      ]
     },
     "execution_count": 64,
     "metadata": {},
     "output_type": "execute_result"
    }
   ],
   "source": [
    "np.array(colors)[df['male'].to_numpy(int)]"
   ]
  },
  {
   "cell_type": "code",
   "execution_count": 6,
   "id": "d8ced801",
   "metadata": {},
   "outputs": [
    {
     "data": {
      "text/html": [
       "<div>\n",
       "<style scoped>\n",
       "    .dataframe tbody tr th:only-of-type {\n",
       "        vertical-align: middle;\n",
       "    }\n",
       "\n",
       "    .dataframe tbody tr th {\n",
       "        vertical-align: top;\n",
       "    }\n",
       "\n",
       "    .dataframe thead th {\n",
       "        text-align: right;\n",
       "    }\n",
       "</style>\n",
       "<table border=\"1\" class=\"dataframe\">\n",
       "  <thead>\n",
       "    <tr style=\"text-align: right;\">\n",
       "      <th></th>\n",
       "      <th>age</th>\n",
       "      <th>male</th>\n",
       "      <th>female</th>\n",
       "    </tr>\n",
       "  </thead>\n",
       "  <tbody>\n",
       "    <tr>\n",
       "      <th>0</th>\n",
       "      <td>0 to 9</td>\n",
       "      <td>2075391</td>\n",
       "      <td>2065096</td>\n",
       "    </tr>\n",
       "    <tr>\n",
       "      <th>1</th>\n",
       "      <td>10 to 19</td>\n",
       "      <td>1711664</td>\n",
       "      <td>1711627</td>\n",
       "    </tr>\n",
       "    <tr>\n",
       "      <th>2</th>\n",
       "      <td>20 to 29</td>\n",
       "      <td>1395091</td>\n",
       "      <td>1542876</td>\n",
       "    </tr>\n",
       "    <tr>\n",
       "      <th>3</th>\n",
       "      <td>30 to 39</td>\n",
       "      <td>1073914</td>\n",
       "      <td>1140383</td>\n",
       "    </tr>\n",
       "    <tr>\n",
       "      <th>4</th>\n",
       "      <td>40 to 49</td>\n",
       "      <td>810979</td>\n",
       "      <td>845260</td>\n",
       "    </tr>\n",
       "    <tr>\n",
       "      <th>5</th>\n",
       "      <td>50 to 59</td>\n",
       "      <td>560534</td>\n",
       "      <td>592970</td>\n",
       "    </tr>\n",
       "    <tr>\n",
       "      <th>6</th>\n",
       "      <td>60 to 69</td>\n",
       "      <td>351893</td>\n",
       "      <td>399019</td>\n",
       "    </tr>\n",
       "    <tr>\n",
       "      <th>7</th>\n",
       "      <td>70 to 79</td>\n",
       "      <td>166194</td>\n",
       "      <td>199326</td>\n",
       "    </tr>\n",
       "    <tr>\n",
       "      <th>8</th>\n",
       "      <td>80+</td>\n",
       "      <td>40772</td>\n",
       "      <td>55704</td>\n",
       "    </tr>\n",
       "  </tbody>\n",
       "</table>\n",
       "</div>"
      ],
      "text/plain": [
       "        age     male   female\n",
       "0    0 to 9  2075391  2065096\n",
       "1  10 to 19  1711664  1711627\n",
       "2  20 to 29  1395091  1542876\n",
       "3  30 to 39  1073914  1140383\n",
       "4  40 to 49   810979   845260\n",
       "5  50 to 59   560534   592970\n",
       "6  60 to 69   351893   399019\n",
       "7  70 to 79   166194   199326\n",
       "8       80+    40772    55704"
      ]
     },
     "execution_count": 6,
     "metadata": {},
     "output_type": "execute_result"
    }
   ],
   "source": [
    "df = pd.read_csv('UKcensus1851.csv',header=2)\n",
    "df"
   ]
  },
  {
   "cell_type": "code",
   "execution_count": 7,
   "id": "106671b8",
   "metadata": {},
   "outputs": [
    {
     "data": {
      "text/plain": [
       "8186432"
      ]
     },
     "execution_count": 7,
     "metadata": {},
     "output_type": "execute_result"
    }
   ],
   "source": [
    "df['male'].sum()"
   ]
  },
  {
   "cell_type": "code",
   "execution_count": 8,
   "id": "e40b1640",
   "metadata": {},
   "outputs": [
    {
     "data": {
      "text/plain": [
       "8552261"
      ]
     },
     "execution_count": 8,
     "metadata": {},
     "output_type": "execute_result"
    }
   ],
   "source": [
    "df['female'].sum()"
   ]
  },
  {
   "cell_type": "code",
   "execution_count": 9,
   "id": "c4541c7d",
   "metadata": {},
   "outputs": [
    {
     "data": {
      "text/plain": [
       "9"
      ]
     },
     "execution_count": 9,
     "metadata": {},
     "output_type": "execute_result"
    }
   ],
   "source": [
    "len(df.index)"
   ]
  },
  {
   "cell_type": "code",
   "execution_count": 10,
   "id": "d4252689",
   "metadata": {},
   "outputs": [
    {
     "data": {
      "text/html": [
       "<div>\n",
       "<style scoped>\n",
       "    .dataframe tbody tr th:only-of-type {\n",
       "        vertical-align: middle;\n",
       "    }\n",
       "\n",
       "    .dataframe tbody tr th {\n",
       "        vertical-align: top;\n",
       "    }\n",
       "\n",
       "    .dataframe thead th {\n",
       "        text-align: right;\n",
       "    }\n",
       "</style>\n",
       "<table border=\"1\" class=\"dataframe\">\n",
       "  <thead>\n",
       "    <tr style=\"text-align: right;\">\n",
       "      <th></th>\n",
       "      <th>age</th>\n",
       "      <th>male</th>\n",
       "      <th>female</th>\n",
       "    </tr>\n",
       "  </thead>\n",
       "  <tbody>\n",
       "    <tr>\n",
       "      <th>0</th>\n",
       "      <td>0 to 9</td>\n",
       "      <td>2075391</td>\n",
       "      <td>2065096</td>\n",
       "    </tr>\n",
       "    <tr>\n",
       "      <th>1</th>\n",
       "      <td>10 to 19</td>\n",
       "      <td>1711664</td>\n",
       "      <td>1711627</td>\n",
       "    </tr>\n",
       "    <tr>\n",
       "      <th>2</th>\n",
       "      <td>20 to 29</td>\n",
       "      <td>1395091</td>\n",
       "      <td>1542876</td>\n",
       "    </tr>\n",
       "    <tr>\n",
       "      <th>3</th>\n",
       "      <td>30 to 39</td>\n",
       "      <td>1073914</td>\n",
       "      <td>1140383</td>\n",
       "    </tr>\n",
       "    <tr>\n",
       "      <th>4</th>\n",
       "      <td>40 to 49</td>\n",
       "      <td>810979</td>\n",
       "      <td>845260</td>\n",
       "    </tr>\n",
       "    <tr>\n",
       "      <th>5</th>\n",
       "      <td>50 to 59</td>\n",
       "      <td>560534</td>\n",
       "      <td>592970</td>\n",
       "    </tr>\n",
       "    <tr>\n",
       "      <th>6</th>\n",
       "      <td>60 to 69</td>\n",
       "      <td>351893</td>\n",
       "      <td>399019</td>\n",
       "    </tr>\n",
       "    <tr>\n",
       "      <th>7</th>\n",
       "      <td>70 to 79</td>\n",
       "      <td>166194</td>\n",
       "      <td>199326</td>\n",
       "    </tr>\n",
       "    <tr>\n",
       "      <th>8</th>\n",
       "      <td>80+</td>\n",
       "      <td>40772</td>\n",
       "      <td>55704</td>\n",
       "    </tr>\n",
       "    <tr>\n",
       "      <th>9</th>\n",
       "      <td>Total</td>\n",
       "      <td>8186432</td>\n",
       "      <td>8552261</td>\n",
       "    </tr>\n",
       "  </tbody>\n",
       "</table>\n",
       "</div>"
      ],
      "text/plain": [
       "        age     male   female\n",
       "0    0 to 9  2075391  2065096\n",
       "1  10 to 19  1711664  1711627\n",
       "2  20 to 29  1395091  1542876\n",
       "3  30 to 39  1073914  1140383\n",
       "4  40 to 49   810979   845260\n",
       "5  50 to 59   560534   592970\n",
       "6  60 to 69   351893   399019\n",
       "7  70 to 79   166194   199326\n",
       "8       80+    40772    55704\n",
       "9     Total  8186432  8552261"
      ]
     },
     "execution_count": 10,
     "metadata": {},
     "output_type": "execute_result"
    }
   ],
   "source": [
    "df.append({'age':'Total','male':df['male'].sum(),'female':df['female'].sum()}, ignore_index=True)"
   ]
  },
  {
   "cell_type": "code",
   "execution_count": 11,
   "id": "2f1cf584",
   "metadata": {},
   "outputs": [
    {
     "data": {
      "text/plain": [
       "9"
      ]
     },
     "execution_count": 11,
     "metadata": {},
     "output_type": "execute_result"
    }
   ],
   "source": [
    "len(df)"
   ]
  },
  {
   "cell_type": "code",
   "execution_count": 12,
   "id": "7632fddf",
   "metadata": {},
   "outputs": [],
   "source": [
    "new_row = pd.DataFrame({'age':'Total', 'male':df['male'].sum(), 'female':df['female'].sum()}, index=[len(df)])\n",
    "df = pd.concat([new_row,df.loc[:]]).sort_index()\n"
   ]
  },
  {
   "cell_type": "code",
   "execution_count": 13,
   "id": "cded92d5",
   "metadata": {},
   "outputs": [],
   "source": [
    "df['all'] = df['male']+df['female']"
   ]
  },
  {
   "cell_type": "code",
   "execution_count": 14,
   "id": "d23ee6d0",
   "metadata": {},
   "outputs": [
    {
     "data": {
      "text/html": [
       "<div>\n",
       "<style scoped>\n",
       "    .dataframe tbody tr th:only-of-type {\n",
       "        vertical-align: middle;\n",
       "    }\n",
       "\n",
       "    .dataframe tbody tr th {\n",
       "        vertical-align: top;\n",
       "    }\n",
       "\n",
       "    .dataframe thead th {\n",
       "        text-align: right;\n",
       "    }\n",
       "</style>\n",
       "<table border=\"1\" class=\"dataframe\">\n",
       "  <thead>\n",
       "    <tr style=\"text-align: right;\">\n",
       "      <th></th>\n",
       "      <th>age</th>\n",
       "      <th>male</th>\n",
       "      <th>female</th>\n",
       "      <th>all</th>\n",
       "    </tr>\n",
       "  </thead>\n",
       "  <tbody>\n",
       "    <tr>\n",
       "      <th>0</th>\n",
       "      <td>0 to 9</td>\n",
       "      <td>2075391</td>\n",
       "      <td>2065096</td>\n",
       "      <td>4140487</td>\n",
       "    </tr>\n",
       "    <tr>\n",
       "      <th>1</th>\n",
       "      <td>10 to 19</td>\n",
       "      <td>1711664</td>\n",
       "      <td>1711627</td>\n",
       "      <td>3423291</td>\n",
       "    </tr>\n",
       "    <tr>\n",
       "      <th>2</th>\n",
       "      <td>20 to 29</td>\n",
       "      <td>1395091</td>\n",
       "      <td>1542876</td>\n",
       "      <td>2937967</td>\n",
       "    </tr>\n",
       "    <tr>\n",
       "      <th>3</th>\n",
       "      <td>30 to 39</td>\n",
       "      <td>1073914</td>\n",
       "      <td>1140383</td>\n",
       "      <td>2214297</td>\n",
       "    </tr>\n",
       "    <tr>\n",
       "      <th>4</th>\n",
       "      <td>40 to 49</td>\n",
       "      <td>810979</td>\n",
       "      <td>845260</td>\n",
       "      <td>1656239</td>\n",
       "    </tr>\n",
       "    <tr>\n",
       "      <th>5</th>\n",
       "      <td>50 to 59</td>\n",
       "      <td>560534</td>\n",
       "      <td>592970</td>\n",
       "      <td>1153504</td>\n",
       "    </tr>\n",
       "    <tr>\n",
       "      <th>6</th>\n",
       "      <td>60 to 69</td>\n",
       "      <td>351893</td>\n",
       "      <td>399019</td>\n",
       "      <td>750912</td>\n",
       "    </tr>\n",
       "    <tr>\n",
       "      <th>7</th>\n",
       "      <td>70 to 79</td>\n",
       "      <td>166194</td>\n",
       "      <td>199326</td>\n",
       "      <td>365520</td>\n",
       "    </tr>\n",
       "    <tr>\n",
       "      <th>8</th>\n",
       "      <td>80+</td>\n",
       "      <td>40772</td>\n",
       "      <td>55704</td>\n",
       "      <td>96476</td>\n",
       "    </tr>\n",
       "    <tr>\n",
       "      <th>9</th>\n",
       "      <td>Total</td>\n",
       "      <td>8186432</td>\n",
       "      <td>8552261</td>\n",
       "      <td>16738693</td>\n",
       "    </tr>\n",
       "  </tbody>\n",
       "</table>\n",
       "</div>"
      ],
      "text/plain": [
       "        age     male   female       all\n",
       "0    0 to 9  2075391  2065096   4140487\n",
       "1  10 to 19  1711664  1711627   3423291\n",
       "2  20 to 29  1395091  1542876   2937967\n",
       "3  30 to 39  1073914  1140383   2214297\n",
       "4  40 to 49   810979   845260   1656239\n",
       "5  50 to 59   560534   592970   1153504\n",
       "6  60 to 69   351893   399019    750912\n",
       "7  70 to 79   166194   199326    365520\n",
       "8       80+    40772    55704     96476\n",
       "9     Total  8186432  8552261  16738693"
      ]
     },
     "execution_count": 14,
     "metadata": {},
     "output_type": "execute_result"
    }
   ],
   "source": [
    "df"
   ]
  },
  {
   "cell_type": "code",
   "execution_count": 16,
   "id": "43583b26",
   "metadata": {},
   "outputs": [],
   "source": [
    "df.to_csv('UKcensus1851_clean.csv')"
   ]
  },
  {
   "cell_type": "code",
   "execution_count": 105,
   "id": "24318659",
   "metadata": {},
   "outputs": [
    {
     "data": {
      "text/html": [
       "<div>\n",
       "<style scoped>\n",
       "    .dataframe tbody tr th:only-of-type {\n",
       "        vertical-align: middle;\n",
       "    }\n",
       "\n",
       "    .dataframe tbody tr th {\n",
       "        vertical-align: top;\n",
       "    }\n",
       "\n",
       "    .dataframe thead th {\n",
       "        text-align: right;\n",
       "    }\n",
       "</style>\n",
       "<table border=\"1\" class=\"dataframe\">\n",
       "  <thead>\n",
       "    <tr style=\"text-align: right;\">\n",
       "      <th></th>\n",
       "      <th>age</th>\n",
       "      <th>male</th>\n",
       "      <th>female</th>\n",
       "      <th>all</th>\n",
       "    </tr>\n",
       "  </thead>\n",
       "  <tbody>\n",
       "    <tr>\n",
       "      <th>0</th>\n",
       "      <td>0 to 9</td>\n",
       "      <td>2075391</td>\n",
       "      <td>2065096</td>\n",
       "      <td>4140487</td>\n",
       "    </tr>\n",
       "    <tr>\n",
       "      <th>1</th>\n",
       "      <td>10 to 19</td>\n",
       "      <td>1711664</td>\n",
       "      <td>1711627</td>\n",
       "      <td>3423291</td>\n",
       "    </tr>\n",
       "    <tr>\n",
       "      <th>2</th>\n",
       "      <td>20 to 29</td>\n",
       "      <td>1395091</td>\n",
       "      <td>1542876</td>\n",
       "      <td>2937967</td>\n",
       "    </tr>\n",
       "    <tr>\n",
       "      <th>3</th>\n",
       "      <td>30 to 39</td>\n",
       "      <td>1073914</td>\n",
       "      <td>1140383</td>\n",
       "      <td>2214297</td>\n",
       "    </tr>\n",
       "    <tr>\n",
       "      <th>4</th>\n",
       "      <td>40 to 49</td>\n",
       "      <td>810979</td>\n",
       "      <td>845260</td>\n",
       "      <td>1656239</td>\n",
       "    </tr>\n",
       "    <tr>\n",
       "      <th>5</th>\n",
       "      <td>50 to 59</td>\n",
       "      <td>560534</td>\n",
       "      <td>592970</td>\n",
       "      <td>1153504</td>\n",
       "    </tr>\n",
       "    <tr>\n",
       "      <th>6</th>\n",
       "      <td>60 to 69</td>\n",
       "      <td>351893</td>\n",
       "      <td>399019</td>\n",
       "      <td>750912</td>\n",
       "    </tr>\n",
       "    <tr>\n",
       "      <th>7</th>\n",
       "      <td>70 to 79</td>\n",
       "      <td>166194</td>\n",
       "      <td>199326</td>\n",
       "      <td>365520</td>\n",
       "    </tr>\n",
       "    <tr>\n",
       "      <th>8</th>\n",
       "      <td>80+</td>\n",
       "      <td>40772</td>\n",
       "      <td>55704</td>\n",
       "      <td>96476</td>\n",
       "    </tr>\n",
       "  </tbody>\n",
       "</table>\n",
       "</div>"
      ],
      "text/plain": [
       "        age     male   female      all\n",
       "0    0 to 9  2075391  2065096  4140487\n",
       "1  10 to 19  1711664  1711627  3423291\n",
       "2  20 to 29  1395091  1542876  2937967\n",
       "3  30 to 39  1073914  1140383  2214297\n",
       "4  40 to 49   810979   845260  1656239\n",
       "5  50 to 59   560534   592970  1153504\n",
       "6  60 to 69   351893   399019   750912\n",
       "7  70 to 79   166194   199326   365520\n",
       "8       80+    40772    55704    96476"
      ]
     },
     "execution_count": 105,
     "metadata": {},
     "output_type": "execute_result"
    }
   ],
   "source": [
    "df.drop(df.index[-1])"
   ]
  },
  {
   "cell_type": "code",
   "execution_count": 17,
   "id": "c91227b3",
   "metadata": {},
   "outputs": [
    {
     "data": {
      "text/html": [
       "<div>\n",
       "<style scoped>\n",
       "    .dataframe tbody tr th:only-of-type {\n",
       "        vertical-align: middle;\n",
       "    }\n",
       "\n",
       "    .dataframe tbody tr th {\n",
       "        vertical-align: top;\n",
       "    }\n",
       "\n",
       "    .dataframe thead th {\n",
       "        text-align: right;\n",
       "    }\n",
       "</style>\n",
       "<table border=\"1\" class=\"dataframe\">\n",
       "  <thead>\n",
       "    <tr style=\"text-align: right;\">\n",
       "      <th></th>\n",
       "      <th>age</th>\n",
       "      <th>male</th>\n",
       "      <th>female</th>\n",
       "      <th>all</th>\n",
       "    </tr>\n",
       "  </thead>\n",
       "  <tbody>\n",
       "    <tr>\n",
       "      <th>0</th>\n",
       "      <td>0 to 9</td>\n",
       "      <td>2075391</td>\n",
       "      <td>2065096</td>\n",
       "      <td>4140487</td>\n",
       "    </tr>\n",
       "    <tr>\n",
       "      <th>1</th>\n",
       "      <td>10 to 19</td>\n",
       "      <td>1711664</td>\n",
       "      <td>1711627</td>\n",
       "      <td>3423291</td>\n",
       "    </tr>\n",
       "    <tr>\n",
       "      <th>2</th>\n",
       "      <td>20 to 29</td>\n",
       "      <td>1395091</td>\n",
       "      <td>1542876</td>\n",
       "      <td>2937967</td>\n",
       "    </tr>\n",
       "    <tr>\n",
       "      <th>3</th>\n",
       "      <td>30 to 39</td>\n",
       "      <td>1073914</td>\n",
       "      <td>1140383</td>\n",
       "      <td>2214297</td>\n",
       "    </tr>\n",
       "    <tr>\n",
       "      <th>4</th>\n",
       "      <td>40 to 49</td>\n",
       "      <td>810979</td>\n",
       "      <td>845260</td>\n",
       "      <td>1656239</td>\n",
       "    </tr>\n",
       "    <tr>\n",
       "      <th>5</th>\n",
       "      <td>50 to 59</td>\n",
       "      <td>560534</td>\n",
       "      <td>592970</td>\n",
       "      <td>1153504</td>\n",
       "    </tr>\n",
       "    <tr>\n",
       "      <th>6</th>\n",
       "      <td>60 to 69</td>\n",
       "      <td>351893</td>\n",
       "      <td>399019</td>\n",
       "      <td>750912</td>\n",
       "    </tr>\n",
       "    <tr>\n",
       "      <th>7</th>\n",
       "      <td>70 to 79</td>\n",
       "      <td>166194</td>\n",
       "      <td>199326</td>\n",
       "      <td>365520</td>\n",
       "    </tr>\n",
       "    <tr>\n",
       "      <th>8</th>\n",
       "      <td>80+</td>\n",
       "      <td>40772</td>\n",
       "      <td>55704</td>\n",
       "      <td>96476</td>\n",
       "    </tr>\n",
       "    <tr>\n",
       "      <th>9</th>\n",
       "      <td>Total</td>\n",
       "      <td>8186432</td>\n",
       "      <td>8552261</td>\n",
       "      <td>16738693</td>\n",
       "    </tr>\n",
       "  </tbody>\n",
       "</table>\n",
       "</div>"
      ],
      "text/plain": [
       "        age     male   female       all\n",
       "0    0 to 9  2075391  2065096   4140487\n",
       "1  10 to 19  1711664  1711627   3423291\n",
       "2  20 to 29  1395091  1542876   2937967\n",
       "3  30 to 39  1073914  1140383   2214297\n",
       "4  40 to 49   810979   845260   1656239\n",
       "5  50 to 59   560534   592970   1153504\n",
       "6  60 to 69   351893   399019    750912\n",
       "7  70 to 79   166194   199326    365520\n",
       "8       80+    40772    55704     96476\n",
       "9     Total  8186432  8552261  16738693"
      ]
     },
     "execution_count": 17,
     "metadata": {},
     "output_type": "execute_result"
    }
   ],
   "source": [
    "# df.loc[:, \"male\"] = df[\"male\"].map('{:,d}'.format)\n",
    "# df.loc[:, \"female\"] = df[\"female\"].map('{:,d}'.format)\n",
    "# df.loc[:, \"all\"] = df[\"all\"].map('{:,d}'.format)\n",
    "df"
   ]
  },
  {
   "cell_type": "code",
   "execution_count": 18,
   "id": "8eeb099a",
   "metadata": {},
   "outputs": [],
   "source": [
    "cols = ['age','male','female','all']"
   ]
  },
  {
   "cell_type": "code",
   "execution_count": 32,
   "id": "c82f28d8",
   "metadata": {},
   "outputs": [
    {
     "data": {
      "text/plain": [
       "2075391"
      ]
     },
     "execution_count": 32,
     "metadata": {},
     "output_type": "execute_result"
    }
   ],
   "source": [
    "df[cols[1]][0]"
   ]
  },
  {
   "cell_type": "code",
   "execution_count": 112,
   "id": "73f80623",
   "metadata": {},
   "outputs": [
    {
     "data": {
      "text/plain": [
       "[array(['rgb(251.53880194875578, 186.5565032840559, 140.4921753880195)',\n",
       "        'rgb(251.6196301799589, 190.84039953782218, 147.7667161963018)',\n",
       "        'rgb(251.6899797433311, 194.56892639654737, 154.09817689979744)',\n",
       "        'rgb(251.76135241792804, 198.35167815018647, 160.52171761352417)',\n",
       "        'rgb(251.81978242442028, 201.44846849427427, 165.78041819782425)',\n",
       "        'rgb(251.87543687504854, 204.3981543775727, 170.78931875436876)',\n",
       "        'rgb(251.92180154686685, 206.85548198394244, 174.96213921801547)',\n",
       "        'rgb(251.96306799589644, 209.04260378251152, 178.67611963067995)',\n",
       "        'rgb(251.99093955454885, 210.51979639108848, 181.18455990939555)',\n",
       "        'rgb(250.18079268675476, 114.58201239800138, 18.27134180792686)'],\n",
       "       dtype='<U63')]"
      ]
     },
     "execution_count": 112,
     "metadata": {},
     "output_type": "execute_result"
    }
   ],
   "source": [
    "arr1 = [np.array(colors)[df['male'].to_numpy()]]\n",
    "arr1"
   ]
  },
  {
   "cell_type": "code",
   "execution_count": 117,
   "id": "0ff8cd2d",
   "metadata": {},
   "outputs": [
    {
     "data": {
      "text/plain": [
       "([array([2075391, 1711664, 1395091, 1073914,  810979,  560534,  351893,\n",
       "          166194,   40772, 8186432])],\n",
       " [array([2065096, 1711627, 1542876, 1140383,  845260,  592970,  399019,\n",
       "          199326,   55704, 8552261])])"
      ]
     },
     "execution_count": 117,
     "metadata": {},
     "output_type": "execute_result"
    }
   ],
   "source": [
    "[df['male'].to_numpy()], [df['female'].to_numpy()]"
   ]
  },
  {
   "cell_type": "code",
   "execution_count": 116,
   "id": "ff296b5e",
   "metadata": {},
   "outputs": [
    {
     "data": {
      "text/plain": [
       "array([2075391, 1711664, 1395091, 1073914,  810979,  560534,  351893,\n",
       "        166194,   40772, 8186432])"
      ]
     },
     "execution_count": 116,
     "metadata": {},
     "output_type": "execute_result"
    }
   ],
   "source": [
    "df['male'].to_numpy()"
   ]
  },
  {
   "cell_type": "code",
   "execution_count": 118,
   "id": "d5828e9c",
   "metadata": {},
   "outputs": [
    {
     "data": {
      "text/html": [
       "<div>\n",
       "<style scoped>\n",
       "    .dataframe tbody tr th:only-of-type {\n",
       "        vertical-align: middle;\n",
       "    }\n",
       "\n",
       "    .dataframe tbody tr th {\n",
       "        vertical-align: top;\n",
       "    }\n",
       "\n",
       "    .dataframe thead th {\n",
       "        text-align: right;\n",
       "    }\n",
       "</style>\n",
       "<table border=\"1\" class=\"dataframe\">\n",
       "  <thead>\n",
       "    <tr style=\"text-align: right;\">\n",
       "      <th></th>\n",
       "      <th>age</th>\n",
       "      <th>male</th>\n",
       "      <th>female</th>\n",
       "      <th>all</th>\n",
       "    </tr>\n",
       "  </thead>\n",
       "  <tbody>\n",
       "    <tr>\n",
       "      <th>0</th>\n",
       "      <td>0 to 9</td>\n",
       "      <td>2075391</td>\n",
       "      <td>2065096</td>\n",
       "      <td>4140487</td>\n",
       "    </tr>\n",
       "    <tr>\n",
       "      <th>1</th>\n",
       "      <td>10 to 19</td>\n",
       "      <td>1711664</td>\n",
       "      <td>1711627</td>\n",
       "      <td>3423291</td>\n",
       "    </tr>\n",
       "    <tr>\n",
       "      <th>2</th>\n",
       "      <td>20 to 29</td>\n",
       "      <td>1395091</td>\n",
       "      <td>1542876</td>\n",
       "      <td>2937967</td>\n",
       "    </tr>\n",
       "    <tr>\n",
       "      <th>3</th>\n",
       "      <td>30 to 39</td>\n",
       "      <td>1073914</td>\n",
       "      <td>1140383</td>\n",
       "      <td>2214297</td>\n",
       "    </tr>\n",
       "    <tr>\n",
       "      <th>4</th>\n",
       "      <td>40 to 49</td>\n",
       "      <td>810979</td>\n",
       "      <td>845260</td>\n",
       "      <td>1656239</td>\n",
       "    </tr>\n",
       "    <tr>\n",
       "      <th>5</th>\n",
       "      <td>50 to 59</td>\n",
       "      <td>560534</td>\n",
       "      <td>592970</td>\n",
       "      <td>1153504</td>\n",
       "    </tr>\n",
       "    <tr>\n",
       "      <th>6</th>\n",
       "      <td>60 to 69</td>\n",
       "      <td>351893</td>\n",
       "      <td>399019</td>\n",
       "      <td>750912</td>\n",
       "    </tr>\n",
       "    <tr>\n",
       "      <th>7</th>\n",
       "      <td>70 to 79</td>\n",
       "      <td>166194</td>\n",
       "      <td>199326</td>\n",
       "      <td>365520</td>\n",
       "    </tr>\n",
       "    <tr>\n",
       "      <th>8</th>\n",
       "      <td>80+</td>\n",
       "      <td>40772</td>\n",
       "      <td>55704</td>\n",
       "      <td>96476</td>\n",
       "    </tr>\n",
       "    <tr>\n",
       "      <th>9</th>\n",
       "      <td>Total</td>\n",
       "      <td>8186432</td>\n",
       "      <td>8552261</td>\n",
       "      <td>16738693</td>\n",
       "    </tr>\n",
       "  </tbody>\n",
       "</table>\n",
       "</div>"
      ],
      "text/plain": [
       "        age     male   female       all\n",
       "0    0 to 9  2075391  2065096   4140487\n",
       "1  10 to 19  1711664  1711627   3423291\n",
       "2  20 to 29  1395091  1542876   2937967\n",
       "3  30 to 39  1073914  1140383   2214297\n",
       "4  40 to 49   810979   845260   1656239\n",
       "5  50 to 59   560534   592970   1153504\n",
       "6  60 to 69   351893   399019    750912\n",
       "7  70 to 79   166194   199326    365520\n",
       "8       80+    40772    55704     96476\n",
       "9     Total  8186432  8552261  16738693"
      ]
     },
     "execution_count": 118,
     "metadata": {},
     "output_type": "execute_result"
    }
   ],
   "source": [
    "df\n"
   ]
  },
  {
   "cell_type": "code",
   "execution_count": 119,
   "id": "96dcf34e",
   "metadata": {},
   "outputs": [
    {
     "data": {
      "text/plain": [
       "[['0 to 9',\n",
       "  '10 to 19',\n",
       "  '20 to 29',\n",
       "  '30 to 39',\n",
       "  '40 to 49',\n",
       "  '50 to 59',\n",
       "  '60 to 69',\n",
       "  '70 to 79',\n",
       "  '80+',\n",
       "  'Total'],\n",
       " [2075391,\n",
       "  1711664,\n",
       "  1395091,\n",
       "  1073914,\n",
       "  810979,\n",
       "  560534,\n",
       "  351893,\n",
       "  166194,\n",
       "  40772,\n",
       "  8186432],\n",
       " [2065096,\n",
       "  1711627,\n",
       "  1542876,\n",
       "  1140383,\n",
       "  845260,\n",
       "  592970,\n",
       "  399019,\n",
       "  199326,\n",
       "  55704,\n",
       "  8552261],\n",
       " [4140487,\n",
       "  3423291,\n",
       "  2937967,\n",
       "  2214297,\n",
       "  1656239,\n",
       "  1153504,\n",
       "  750912,\n",
       "  365520,\n",
       "  96476,\n",
       "  16738693]]"
      ]
     },
     "execution_count": 119,
     "metadata": {},
     "output_type": "execute_result"
    }
   ],
   "source": [
    "[df[xy].tolist() for xy in df.columns[0:]]"
   ]
  },
  {
   "cell_type": "code",
   "execution_count": 123,
   "id": "b0e9e1b7",
   "metadata": {},
   "outputs": [],
   "source": [
    "fig = go.Figure(data=[\n",
    "    go.Table(\n",
    "        header=dict(\n",
    "            values=[\"Age\",\"Male\",\"Female\"],\n",
    "            font=dict(color='white',size=13),\n",
    "            fill_color='blue',\n",
    "            align=\"center\"\n",
    "        ),\n",
    "        cells=dict(\n",
    "            values=[df[xy].tolist() for xy in df.columns[0:]],\n",
    "            line_color=[np.array(colors)[df['male'].to_numpy()],np.array(colors)[df['female'].to_numpy()]],\n",
    "            fill_color=[np.array(colors)[df['male'].to_numpy()],np.array(colors)[df['female'].to_numpy()]], \n",
    "            align = 'center')\n",
    "        )\n",
    "])"
   ]
  },
  {
   "cell_type": "code",
   "execution_count": 125,
   "id": "f8d95f8e",
   "metadata": {},
   "outputs": [
    {
     "data": {
      "application/vnd.plotly.v1+json": {
       "config": {
        "plotlyServerURL": "https://plot.ly"
       },
       "data": [
        {
         "cells": {
          "align": "center",
          "fill": {
           "color": [
            [
             "rgb(251.53880194875578, 186.5565032840559, 140.4921753880195)",
             "rgb(251.6196301799589, 190.84039953782218, 147.7667161963018)",
             "rgb(251.6899797433311, 194.56892639654737, 154.09817689979744)",
             "rgb(251.76135241792804, 198.35167815018647, 160.52171761352417)",
             "rgb(251.81978242442028, 201.44846849427427, 165.78041819782425)",
             "rgb(251.87543687504854, 204.3981543775727, 170.78931875436876)",
             "rgb(251.92180154686685, 206.85548198394244, 174.96213921801547)",
             "rgb(251.96306799589644, 209.04260378251152, 178.67611963067995)",
             "rgb(251.99093955454885, 210.51979639108848, 181.18455990939555)",
             "rgb(250.18079268675476, 114.58201239800138, 18.27134180792686)"
            ],
            [
             "rgb(251.54108972678776, 186.6777555197506, 140.69807541089727)",
             "rgb(251.61963840218203, 190.84083531564838, 147.76745619638402)",
             "rgb(251.65713862857095, 192.8283473142608, 151.14247657138628)",
             "rgb(251.74658152739795, 197.56882095209122, 159.19233746581529)",
             "rgb(251.81216442357382, 201.0447144494127, 165.09479812164423)",
             "rgb(251.86822887424765, 204.01613033512558, 170.14059868228875)",
             "rgb(251.9113291012588, 206.30044236671583, 174.01961911329101)",
             "rgb(251.9557053284117, 208.65238240582028, 178.01347955705327)",
             "rgb(251.98762133195794, 210.34393059377007, 180.8859198762133)",
             "rgb(250.0994973443886, 110.27335925259547, 10.95476099497344)"
            ]
           ]
          },
          "line": {
           "color": [
            [
             "rgb(251.53880194875578, 186.5565032840559, 140.4921753880195)",
             "rgb(251.6196301799589, 190.84039953782218, 147.7667161963018)",
             "rgb(251.6899797433311, 194.56892639654737, 154.09817689979744)",
             "rgb(251.76135241792804, 198.35167815018647, 160.52171761352417)",
             "rgb(251.81978242442028, 201.44846849427427, 165.78041819782425)",
             "rgb(251.87543687504854, 204.3981543775727, 170.78931875436876)",
             "rgb(251.92180154686685, 206.85548198394244, 174.96213921801547)",
             "rgb(251.96306799589644, 209.04260378251152, 178.67611963067995)",
             "rgb(251.99093955454885, 210.51979639108848, 181.18455990939555)",
             "rgb(250.18079268675476, 114.58201239800138, 18.27134180792686)"
            ],
            [
             "rgb(251.54108972678776, 186.6777555197506, 140.69807541089727)",
             "rgb(251.61963840218203, 190.84083531564838, 147.76745619638402)",
             "rgb(251.65713862857095, 192.8283473142608, 151.14247657138628)",
             "rgb(251.74658152739795, 197.56882095209122, 159.19233746581529)",
             "rgb(251.81216442357382, 201.0447144494127, 165.09479812164423)",
             "rgb(251.86822887424765, 204.01613033512558, 170.14059868228875)",
             "rgb(251.9113291012588, 206.30044236671583, 174.01961911329101)",
             "rgb(251.9557053284117, 208.65238240582028, 178.01347955705327)",
             "rgb(251.98762133195794, 210.34393059377007, 180.8859198762133)",
             "rgb(250.0994973443886, 110.27335925259547, 10.95476099497344)"
            ]
           ]
          },
          "values": [
           [
            "0 to 9",
            "10 to 19",
            "20 to 29",
            "30 to 39",
            "40 to 49",
            "50 to 59",
            "60 to 69",
            "70 to 79",
            "80+",
            "Total"
           ],
           [
            2075391,
            1711664,
            1395091,
            1073914,
            810979,
            560534,
            351893,
            166194,
            40772,
            8186432
           ],
           [
            2065096,
            1711627,
            1542876,
            1140383,
            845260,
            592970,
            399019,
            199326,
            55704,
            8552261
           ],
           [
            4140487,
            3423291,
            2937967,
            2214297,
            1656239,
            1153504,
            750912,
            365520,
            96476,
            16738693
           ]
          ]
         },
         "header": {
          "align": "center",
          "fill": {
           "color": "blue"
          },
          "font": {
           "color": "white",
           "size": 13
          },
          "values": [
           "Age",
           "Male",
           "Female"
          ]
         },
         "type": "table"
        }
       ],
       "layout": {
        "template": {
         "data": {
          "bar": [
           {
            "error_x": {
             "color": "#2a3f5f"
            },
            "error_y": {
             "color": "#2a3f5f"
            },
            "marker": {
             "line": {
              "color": "#E5ECF6",
              "width": 0.5
             },
             "pattern": {
              "fillmode": "overlay",
              "size": 10,
              "solidity": 0.2
             }
            },
            "type": "bar"
           }
          ],
          "barpolar": [
           {
            "marker": {
             "line": {
              "color": "#E5ECF6",
              "width": 0.5
             },
             "pattern": {
              "fillmode": "overlay",
              "size": 10,
              "solidity": 0.2
             }
            },
            "type": "barpolar"
           }
          ],
          "carpet": [
           {
            "aaxis": {
             "endlinecolor": "#2a3f5f",
             "gridcolor": "white",
             "linecolor": "white",
             "minorgridcolor": "white",
             "startlinecolor": "#2a3f5f"
            },
            "baxis": {
             "endlinecolor": "#2a3f5f",
             "gridcolor": "white",
             "linecolor": "white",
             "minorgridcolor": "white",
             "startlinecolor": "#2a3f5f"
            },
            "type": "carpet"
           }
          ],
          "choropleth": [
           {
            "colorbar": {
             "outlinewidth": 0,
             "ticks": ""
            },
            "type": "choropleth"
           }
          ],
          "contour": [
           {
            "colorbar": {
             "outlinewidth": 0,
             "ticks": ""
            },
            "colorscale": [
             [
              0,
              "#0d0887"
             ],
             [
              0.1111111111111111,
              "#46039f"
             ],
             [
              0.2222222222222222,
              "#7201a8"
             ],
             [
              0.3333333333333333,
              "#9c179e"
             ],
             [
              0.4444444444444444,
              "#bd3786"
             ],
             [
              0.5555555555555556,
              "#d8576b"
             ],
             [
              0.6666666666666666,
              "#ed7953"
             ],
             [
              0.7777777777777778,
              "#fb9f3a"
             ],
             [
              0.8888888888888888,
              "#fdca26"
             ],
             [
              1,
              "#f0f921"
             ]
            ],
            "type": "contour"
           }
          ],
          "contourcarpet": [
           {
            "colorbar": {
             "outlinewidth": 0,
             "ticks": ""
            },
            "type": "contourcarpet"
           }
          ],
          "heatmap": [
           {
            "colorbar": {
             "outlinewidth": 0,
             "ticks": ""
            },
            "colorscale": [
             [
              0,
              "#0d0887"
             ],
             [
              0.1111111111111111,
              "#46039f"
             ],
             [
              0.2222222222222222,
              "#7201a8"
             ],
             [
              0.3333333333333333,
              "#9c179e"
             ],
             [
              0.4444444444444444,
              "#bd3786"
             ],
             [
              0.5555555555555556,
              "#d8576b"
             ],
             [
              0.6666666666666666,
              "#ed7953"
             ],
             [
              0.7777777777777778,
              "#fb9f3a"
             ],
             [
              0.8888888888888888,
              "#fdca26"
             ],
             [
              1,
              "#f0f921"
             ]
            ],
            "type": "heatmap"
           }
          ],
          "heatmapgl": [
           {
            "colorbar": {
             "outlinewidth": 0,
             "ticks": ""
            },
            "colorscale": [
             [
              0,
              "#0d0887"
             ],
             [
              0.1111111111111111,
              "#46039f"
             ],
             [
              0.2222222222222222,
              "#7201a8"
             ],
             [
              0.3333333333333333,
              "#9c179e"
             ],
             [
              0.4444444444444444,
              "#bd3786"
             ],
             [
              0.5555555555555556,
              "#d8576b"
             ],
             [
              0.6666666666666666,
              "#ed7953"
             ],
             [
              0.7777777777777778,
              "#fb9f3a"
             ],
             [
              0.8888888888888888,
              "#fdca26"
             ],
             [
              1,
              "#f0f921"
             ]
            ],
            "type": "heatmapgl"
           }
          ],
          "histogram": [
           {
            "marker": {
             "pattern": {
              "fillmode": "overlay",
              "size": 10,
              "solidity": 0.2
             }
            },
            "type": "histogram"
           }
          ],
          "histogram2d": [
           {
            "colorbar": {
             "outlinewidth": 0,
             "ticks": ""
            },
            "colorscale": [
             [
              0,
              "#0d0887"
             ],
             [
              0.1111111111111111,
              "#46039f"
             ],
             [
              0.2222222222222222,
              "#7201a8"
             ],
             [
              0.3333333333333333,
              "#9c179e"
             ],
             [
              0.4444444444444444,
              "#bd3786"
             ],
             [
              0.5555555555555556,
              "#d8576b"
             ],
             [
              0.6666666666666666,
              "#ed7953"
             ],
             [
              0.7777777777777778,
              "#fb9f3a"
             ],
             [
              0.8888888888888888,
              "#fdca26"
             ],
             [
              1,
              "#f0f921"
             ]
            ],
            "type": "histogram2d"
           }
          ],
          "histogram2dcontour": [
           {
            "colorbar": {
             "outlinewidth": 0,
             "ticks": ""
            },
            "colorscale": [
             [
              0,
              "#0d0887"
             ],
             [
              0.1111111111111111,
              "#46039f"
             ],
             [
              0.2222222222222222,
              "#7201a8"
             ],
             [
              0.3333333333333333,
              "#9c179e"
             ],
             [
              0.4444444444444444,
              "#bd3786"
             ],
             [
              0.5555555555555556,
              "#d8576b"
             ],
             [
              0.6666666666666666,
              "#ed7953"
             ],
             [
              0.7777777777777778,
              "#fb9f3a"
             ],
             [
              0.8888888888888888,
              "#fdca26"
             ],
             [
              1,
              "#f0f921"
             ]
            ],
            "type": "histogram2dcontour"
           }
          ],
          "mesh3d": [
           {
            "colorbar": {
             "outlinewidth": 0,
             "ticks": ""
            },
            "type": "mesh3d"
           }
          ],
          "parcoords": [
           {
            "line": {
             "colorbar": {
              "outlinewidth": 0,
              "ticks": ""
             }
            },
            "type": "parcoords"
           }
          ],
          "pie": [
           {
            "automargin": true,
            "type": "pie"
           }
          ],
          "scatter": [
           {
            "fillpattern": {
             "fillmode": "overlay",
             "size": 10,
             "solidity": 0.2
            },
            "type": "scatter"
           }
          ],
          "scatter3d": [
           {
            "line": {
             "colorbar": {
              "outlinewidth": 0,
              "ticks": ""
             }
            },
            "marker": {
             "colorbar": {
              "outlinewidth": 0,
              "ticks": ""
             }
            },
            "type": "scatter3d"
           }
          ],
          "scattercarpet": [
           {
            "marker": {
             "colorbar": {
              "outlinewidth": 0,
              "ticks": ""
             }
            },
            "type": "scattercarpet"
           }
          ],
          "scattergeo": [
           {
            "marker": {
             "colorbar": {
              "outlinewidth": 0,
              "ticks": ""
             }
            },
            "type": "scattergeo"
           }
          ],
          "scattergl": [
           {
            "marker": {
             "colorbar": {
              "outlinewidth": 0,
              "ticks": ""
             }
            },
            "type": "scattergl"
           }
          ],
          "scattermapbox": [
           {
            "marker": {
             "colorbar": {
              "outlinewidth": 0,
              "ticks": ""
             }
            },
            "type": "scattermapbox"
           }
          ],
          "scatterpolar": [
           {
            "marker": {
             "colorbar": {
              "outlinewidth": 0,
              "ticks": ""
             }
            },
            "type": "scatterpolar"
           }
          ],
          "scatterpolargl": [
           {
            "marker": {
             "colorbar": {
              "outlinewidth": 0,
              "ticks": ""
             }
            },
            "type": "scatterpolargl"
           }
          ],
          "scatterternary": [
           {
            "marker": {
             "colorbar": {
              "outlinewidth": 0,
              "ticks": ""
             }
            },
            "type": "scatterternary"
           }
          ],
          "surface": [
           {
            "colorbar": {
             "outlinewidth": 0,
             "ticks": ""
            },
            "colorscale": [
             [
              0,
              "#0d0887"
             ],
             [
              0.1111111111111111,
              "#46039f"
             ],
             [
              0.2222222222222222,
              "#7201a8"
             ],
             [
              0.3333333333333333,
              "#9c179e"
             ],
             [
              0.4444444444444444,
              "#bd3786"
             ],
             [
              0.5555555555555556,
              "#d8576b"
             ],
             [
              0.6666666666666666,
              "#ed7953"
             ],
             [
              0.7777777777777778,
              "#fb9f3a"
             ],
             [
              0.8888888888888888,
              "#fdca26"
             ],
             [
              1,
              "#f0f921"
             ]
            ],
            "type": "surface"
           }
          ],
          "table": [
           {
            "cells": {
             "fill": {
              "color": "#EBF0F8"
             },
             "line": {
              "color": "white"
             }
            },
            "header": {
             "fill": {
              "color": "#C8D4E3"
             },
             "line": {
              "color": "white"
             }
            },
            "type": "table"
           }
          ]
         },
         "layout": {
          "annotationdefaults": {
           "arrowcolor": "#2a3f5f",
           "arrowhead": 0,
           "arrowwidth": 1
          },
          "autotypenumbers": "strict",
          "coloraxis": {
           "colorbar": {
            "outlinewidth": 0,
            "ticks": ""
           }
          },
          "colorscale": {
           "diverging": [
            [
             0,
             "#8e0152"
            ],
            [
             0.1,
             "#c51b7d"
            ],
            [
             0.2,
             "#de77ae"
            ],
            [
             0.3,
             "#f1b6da"
            ],
            [
             0.4,
             "#fde0ef"
            ],
            [
             0.5,
             "#f7f7f7"
            ],
            [
             0.6,
             "#e6f5d0"
            ],
            [
             0.7,
             "#b8e186"
            ],
            [
             0.8,
             "#7fbc41"
            ],
            [
             0.9,
             "#4d9221"
            ],
            [
             1,
             "#276419"
            ]
           ],
           "sequential": [
            [
             0,
             "#0d0887"
            ],
            [
             0.1111111111111111,
             "#46039f"
            ],
            [
             0.2222222222222222,
             "#7201a8"
            ],
            [
             0.3333333333333333,
             "#9c179e"
            ],
            [
             0.4444444444444444,
             "#bd3786"
            ],
            [
             0.5555555555555556,
             "#d8576b"
            ],
            [
             0.6666666666666666,
             "#ed7953"
            ],
            [
             0.7777777777777778,
             "#fb9f3a"
            ],
            [
             0.8888888888888888,
             "#fdca26"
            ],
            [
             1,
             "#f0f921"
            ]
           ],
           "sequentialminus": [
            [
             0,
             "#0d0887"
            ],
            [
             0.1111111111111111,
             "#46039f"
            ],
            [
             0.2222222222222222,
             "#7201a8"
            ],
            [
             0.3333333333333333,
             "#9c179e"
            ],
            [
             0.4444444444444444,
             "#bd3786"
            ],
            [
             0.5555555555555556,
             "#d8576b"
            ],
            [
             0.6666666666666666,
             "#ed7953"
            ],
            [
             0.7777777777777778,
             "#fb9f3a"
            ],
            [
             0.8888888888888888,
             "#fdca26"
            ],
            [
             1,
             "#f0f921"
            ]
           ]
          },
          "colorway": [
           "#636efa",
           "#EF553B",
           "#00cc96",
           "#ab63fa",
           "#FFA15A",
           "#19d3f3",
           "#FF6692",
           "#B6E880",
           "#FF97FF",
           "#FECB52"
          ],
          "font": {
           "color": "#2a3f5f"
          },
          "geo": {
           "bgcolor": "white",
           "lakecolor": "white",
           "landcolor": "#E5ECF6",
           "showlakes": true,
           "showland": true,
           "subunitcolor": "white"
          },
          "hoverlabel": {
           "align": "left"
          },
          "hovermode": "closest",
          "mapbox": {
           "style": "light"
          },
          "paper_bgcolor": "white",
          "plot_bgcolor": "#E5ECF6",
          "polar": {
           "angularaxis": {
            "gridcolor": "white",
            "linecolor": "white",
            "ticks": ""
           },
           "bgcolor": "#E5ECF6",
           "radialaxis": {
            "gridcolor": "white",
            "linecolor": "white",
            "ticks": ""
           }
          },
          "scene": {
           "xaxis": {
            "backgroundcolor": "#E5ECF6",
            "gridcolor": "white",
            "gridwidth": 2,
            "linecolor": "white",
            "showbackground": true,
            "ticks": "",
            "zerolinecolor": "white"
           },
           "yaxis": {
            "backgroundcolor": "#E5ECF6",
            "gridcolor": "white",
            "gridwidth": 2,
            "linecolor": "white",
            "showbackground": true,
            "ticks": "",
            "zerolinecolor": "white"
           },
           "zaxis": {
            "backgroundcolor": "#E5ECF6",
            "gridcolor": "white",
            "gridwidth": 2,
            "linecolor": "white",
            "showbackground": true,
            "ticks": "",
            "zerolinecolor": "white"
           }
          },
          "shapedefaults": {
           "line": {
            "color": "#2a3f5f"
           }
          },
          "ternary": {
           "aaxis": {
            "gridcolor": "white",
            "linecolor": "white",
            "ticks": ""
           },
           "baxis": {
            "gridcolor": "white",
            "linecolor": "white",
            "ticks": ""
           },
           "bgcolor": "#E5ECF6",
           "caxis": {
            "gridcolor": "white",
            "linecolor": "white",
            "ticks": ""
           }
          },
          "title": {
           "x": 0.05
          },
          "xaxis": {
           "automargin": true,
           "gridcolor": "white",
           "linecolor": "white",
           "ticks": "",
           "title": {
            "standoff": 15
           },
           "zerolinecolor": "white",
           "zerolinewidth": 2
          },
          "yaxis": {
           "automargin": true,
           "gridcolor": "white",
           "linecolor": "white",
           "ticks": "",
           "title": {
            "standoff": 15
           },
           "zerolinecolor": "white",
           "zerolinewidth": 2
          }
         }
        }
       }
      },
      "text/html": [
       "<div>                            <div id=\"32f48f4f-e843-41f8-84c3-e3ec580259b5\" class=\"plotly-graph-div\" style=\"height:525px; width:100%;\"></div>            <script type=\"text/javascript\">                require([\"plotly\"], function(Plotly) {                    window.PLOTLYENV=window.PLOTLYENV || {};                                    if (document.getElementById(\"32f48f4f-e843-41f8-84c3-e3ec580259b5\")) {                    Plotly.newPlot(                        \"32f48f4f-e843-41f8-84c3-e3ec580259b5\",                        [{\"cells\":{\"align\":\"center\",\"fill\":{\"color\":[[\"rgb(251.53880194875578, 186.5565032840559, 140.4921753880195)\",\"rgb(251.6196301799589, 190.84039953782218, 147.7667161963018)\",\"rgb(251.6899797433311, 194.56892639654737, 154.09817689979744)\",\"rgb(251.76135241792804, 198.35167815018647, 160.52171761352417)\",\"rgb(251.81978242442028, 201.44846849427427, 165.78041819782425)\",\"rgb(251.87543687504854, 204.3981543775727, 170.78931875436876)\",\"rgb(251.92180154686685, 206.85548198394244, 174.96213921801547)\",\"rgb(251.96306799589644, 209.04260378251152, 178.67611963067995)\",\"rgb(251.99093955454885, 210.51979639108848, 181.18455990939555)\",\"rgb(250.18079268675476, 114.58201239800138, 18.27134180792686)\"],[\"rgb(251.54108972678776, 186.6777555197506, 140.69807541089727)\",\"rgb(251.61963840218203, 190.84083531564838, 147.76745619638402)\",\"rgb(251.65713862857095, 192.8283473142608, 151.14247657138628)\",\"rgb(251.74658152739795, 197.56882095209122, 159.19233746581529)\",\"rgb(251.81216442357382, 201.0447144494127, 165.09479812164423)\",\"rgb(251.86822887424765, 204.01613033512558, 170.14059868228875)\",\"rgb(251.9113291012588, 206.30044236671583, 174.01961911329101)\",\"rgb(251.9557053284117, 208.65238240582028, 178.01347955705327)\",\"rgb(251.98762133195794, 210.34393059377007, 180.8859198762133)\",\"rgb(250.0994973443886, 110.27335925259547, 10.95476099497344)\"]]},\"line\":{\"color\":[[\"rgb(251.53880194875578, 186.5565032840559, 140.4921753880195)\",\"rgb(251.6196301799589, 190.84039953782218, 147.7667161963018)\",\"rgb(251.6899797433311, 194.56892639654737, 154.09817689979744)\",\"rgb(251.76135241792804, 198.35167815018647, 160.52171761352417)\",\"rgb(251.81978242442028, 201.44846849427427, 165.78041819782425)\",\"rgb(251.87543687504854, 204.3981543775727, 170.78931875436876)\",\"rgb(251.92180154686685, 206.85548198394244, 174.96213921801547)\",\"rgb(251.96306799589644, 209.04260378251152, 178.67611963067995)\",\"rgb(251.99093955454885, 210.51979639108848, 181.18455990939555)\",\"rgb(250.18079268675476, 114.58201239800138, 18.27134180792686)\"],[\"rgb(251.54108972678776, 186.6777555197506, 140.69807541089727)\",\"rgb(251.61963840218203, 190.84083531564838, 147.76745619638402)\",\"rgb(251.65713862857095, 192.8283473142608, 151.14247657138628)\",\"rgb(251.74658152739795, 197.56882095209122, 159.19233746581529)\",\"rgb(251.81216442357382, 201.0447144494127, 165.09479812164423)\",\"rgb(251.86822887424765, 204.01613033512558, 170.14059868228875)\",\"rgb(251.9113291012588, 206.30044236671583, 174.01961911329101)\",\"rgb(251.9557053284117, 208.65238240582028, 178.01347955705327)\",\"rgb(251.98762133195794, 210.34393059377007, 180.8859198762133)\",\"rgb(250.0994973443886, 110.27335925259547, 10.95476099497344)\"]]},\"values\":[[\"0 to 9\",\"10 to 19\",\"20 to 29\",\"30 to 39\",\"40 to 49\",\"50 to 59\",\"60 to 69\",\"70 to 79\",\"80+\",\"Total\"],[2075391,1711664,1395091,1073914,810979,560534,351893,166194,40772,8186432],[2065096,1711627,1542876,1140383,845260,592970,399019,199326,55704,8552261],[4140487,3423291,2937967,2214297,1656239,1153504,750912,365520,96476,16738693]]},\"header\":{\"align\":\"center\",\"fill\":{\"color\":\"blue\"},\"font\":{\"color\":\"white\",\"size\":13},\"values\":[\"Age\",\"Male\",\"Female\"]},\"type\":\"table\"}],                        {\"template\":{\"data\":{\"histogram2dcontour\":[{\"type\":\"histogram2dcontour\",\"colorbar\":{\"outlinewidth\":0,\"ticks\":\"\"},\"colorscale\":[[0.0,\"#0d0887\"],[0.1111111111111111,\"#46039f\"],[0.2222222222222222,\"#7201a8\"],[0.3333333333333333,\"#9c179e\"],[0.4444444444444444,\"#bd3786\"],[0.5555555555555556,\"#d8576b\"],[0.6666666666666666,\"#ed7953\"],[0.7777777777777778,\"#fb9f3a\"],[0.8888888888888888,\"#fdca26\"],[1.0,\"#f0f921\"]]}],\"choropleth\":[{\"type\":\"choropleth\",\"colorbar\":{\"outlinewidth\":0,\"ticks\":\"\"}}],\"histogram2d\":[{\"type\":\"histogram2d\",\"colorbar\":{\"outlinewidth\":0,\"ticks\":\"\"},\"colorscale\":[[0.0,\"#0d0887\"],[0.1111111111111111,\"#46039f\"],[0.2222222222222222,\"#7201a8\"],[0.3333333333333333,\"#9c179e\"],[0.4444444444444444,\"#bd3786\"],[0.5555555555555556,\"#d8576b\"],[0.6666666666666666,\"#ed7953\"],[0.7777777777777778,\"#fb9f3a\"],[0.8888888888888888,\"#fdca26\"],[1.0,\"#f0f921\"]]}],\"heatmap\":[{\"type\":\"heatmap\",\"colorbar\":{\"outlinewidth\":0,\"ticks\":\"\"},\"colorscale\":[[0.0,\"#0d0887\"],[0.1111111111111111,\"#46039f\"],[0.2222222222222222,\"#7201a8\"],[0.3333333333333333,\"#9c179e\"],[0.4444444444444444,\"#bd3786\"],[0.5555555555555556,\"#d8576b\"],[0.6666666666666666,\"#ed7953\"],[0.7777777777777778,\"#fb9f3a\"],[0.8888888888888888,\"#fdca26\"],[1.0,\"#f0f921\"]]}],\"heatmapgl\":[{\"type\":\"heatmapgl\",\"colorbar\":{\"outlinewidth\":0,\"ticks\":\"\"},\"colorscale\":[[0.0,\"#0d0887\"],[0.1111111111111111,\"#46039f\"],[0.2222222222222222,\"#7201a8\"],[0.3333333333333333,\"#9c179e\"],[0.4444444444444444,\"#bd3786\"],[0.5555555555555556,\"#d8576b\"],[0.6666666666666666,\"#ed7953\"],[0.7777777777777778,\"#fb9f3a\"],[0.8888888888888888,\"#fdca26\"],[1.0,\"#f0f921\"]]}],\"contourcarpet\":[{\"type\":\"contourcarpet\",\"colorbar\":{\"outlinewidth\":0,\"ticks\":\"\"}}],\"contour\":[{\"type\":\"contour\",\"colorbar\":{\"outlinewidth\":0,\"ticks\":\"\"},\"colorscale\":[[0.0,\"#0d0887\"],[0.1111111111111111,\"#46039f\"],[0.2222222222222222,\"#7201a8\"],[0.3333333333333333,\"#9c179e\"],[0.4444444444444444,\"#bd3786\"],[0.5555555555555556,\"#d8576b\"],[0.6666666666666666,\"#ed7953\"],[0.7777777777777778,\"#fb9f3a\"],[0.8888888888888888,\"#fdca26\"],[1.0,\"#f0f921\"]]}],\"surface\":[{\"type\":\"surface\",\"colorbar\":{\"outlinewidth\":0,\"ticks\":\"\"},\"colorscale\":[[0.0,\"#0d0887\"],[0.1111111111111111,\"#46039f\"],[0.2222222222222222,\"#7201a8\"],[0.3333333333333333,\"#9c179e\"],[0.4444444444444444,\"#bd3786\"],[0.5555555555555556,\"#d8576b\"],[0.6666666666666666,\"#ed7953\"],[0.7777777777777778,\"#fb9f3a\"],[0.8888888888888888,\"#fdca26\"],[1.0,\"#f0f921\"]]}],\"mesh3d\":[{\"type\":\"mesh3d\",\"colorbar\":{\"outlinewidth\":0,\"ticks\":\"\"}}],\"scatter\":[{\"fillpattern\":{\"fillmode\":\"overlay\",\"size\":10,\"solidity\":0.2},\"type\":\"scatter\"}],\"parcoords\":[{\"type\":\"parcoords\",\"line\":{\"colorbar\":{\"outlinewidth\":0,\"ticks\":\"\"}}}],\"scatterpolargl\":[{\"type\":\"scatterpolargl\",\"marker\":{\"colorbar\":{\"outlinewidth\":0,\"ticks\":\"\"}}}],\"bar\":[{\"error_x\":{\"color\":\"#2a3f5f\"},\"error_y\":{\"color\":\"#2a3f5f\"},\"marker\":{\"line\":{\"color\":\"#E5ECF6\",\"width\":0.5},\"pattern\":{\"fillmode\":\"overlay\",\"size\":10,\"solidity\":0.2}},\"type\":\"bar\"}],\"scattergeo\":[{\"type\":\"scattergeo\",\"marker\":{\"colorbar\":{\"outlinewidth\":0,\"ticks\":\"\"}}}],\"scatterpolar\":[{\"type\":\"scatterpolar\",\"marker\":{\"colorbar\":{\"outlinewidth\":0,\"ticks\":\"\"}}}],\"histogram\":[{\"marker\":{\"pattern\":{\"fillmode\":\"overlay\",\"size\":10,\"solidity\":0.2}},\"type\":\"histogram\"}],\"scattergl\":[{\"type\":\"scattergl\",\"marker\":{\"colorbar\":{\"outlinewidth\":0,\"ticks\":\"\"}}}],\"scatter3d\":[{\"type\":\"scatter3d\",\"line\":{\"colorbar\":{\"outlinewidth\":0,\"ticks\":\"\"}},\"marker\":{\"colorbar\":{\"outlinewidth\":0,\"ticks\":\"\"}}}],\"scattermapbox\":[{\"type\":\"scattermapbox\",\"marker\":{\"colorbar\":{\"outlinewidth\":0,\"ticks\":\"\"}}}],\"scatterternary\":[{\"type\":\"scatterternary\",\"marker\":{\"colorbar\":{\"outlinewidth\":0,\"ticks\":\"\"}}}],\"scattercarpet\":[{\"type\":\"scattercarpet\",\"marker\":{\"colorbar\":{\"outlinewidth\":0,\"ticks\":\"\"}}}],\"carpet\":[{\"aaxis\":{\"endlinecolor\":\"#2a3f5f\",\"gridcolor\":\"white\",\"linecolor\":\"white\",\"minorgridcolor\":\"white\",\"startlinecolor\":\"#2a3f5f\"},\"baxis\":{\"endlinecolor\":\"#2a3f5f\",\"gridcolor\":\"white\",\"linecolor\":\"white\",\"minorgridcolor\":\"white\",\"startlinecolor\":\"#2a3f5f\"},\"type\":\"carpet\"}],\"table\":[{\"cells\":{\"fill\":{\"color\":\"#EBF0F8\"},\"line\":{\"color\":\"white\"}},\"header\":{\"fill\":{\"color\":\"#C8D4E3\"},\"line\":{\"color\":\"white\"}},\"type\":\"table\"}],\"barpolar\":[{\"marker\":{\"line\":{\"color\":\"#E5ECF6\",\"width\":0.5},\"pattern\":{\"fillmode\":\"overlay\",\"size\":10,\"solidity\":0.2}},\"type\":\"barpolar\"}],\"pie\":[{\"automargin\":true,\"type\":\"pie\"}]},\"layout\":{\"autotypenumbers\":\"strict\",\"colorway\":[\"#636efa\",\"#EF553B\",\"#00cc96\",\"#ab63fa\",\"#FFA15A\",\"#19d3f3\",\"#FF6692\",\"#B6E880\",\"#FF97FF\",\"#FECB52\"],\"font\":{\"color\":\"#2a3f5f\"},\"hovermode\":\"closest\",\"hoverlabel\":{\"align\":\"left\"},\"paper_bgcolor\":\"white\",\"plot_bgcolor\":\"#E5ECF6\",\"polar\":{\"bgcolor\":\"#E5ECF6\",\"angularaxis\":{\"gridcolor\":\"white\",\"linecolor\":\"white\",\"ticks\":\"\"},\"radialaxis\":{\"gridcolor\":\"white\",\"linecolor\":\"white\",\"ticks\":\"\"}},\"ternary\":{\"bgcolor\":\"#E5ECF6\",\"aaxis\":{\"gridcolor\":\"white\",\"linecolor\":\"white\",\"ticks\":\"\"},\"baxis\":{\"gridcolor\":\"white\",\"linecolor\":\"white\",\"ticks\":\"\"},\"caxis\":{\"gridcolor\":\"white\",\"linecolor\":\"white\",\"ticks\":\"\"}},\"coloraxis\":{\"colorbar\":{\"outlinewidth\":0,\"ticks\":\"\"}},\"colorscale\":{\"sequential\":[[0.0,\"#0d0887\"],[0.1111111111111111,\"#46039f\"],[0.2222222222222222,\"#7201a8\"],[0.3333333333333333,\"#9c179e\"],[0.4444444444444444,\"#bd3786\"],[0.5555555555555556,\"#d8576b\"],[0.6666666666666666,\"#ed7953\"],[0.7777777777777778,\"#fb9f3a\"],[0.8888888888888888,\"#fdca26\"],[1.0,\"#f0f921\"]],\"sequentialminus\":[[0.0,\"#0d0887\"],[0.1111111111111111,\"#46039f\"],[0.2222222222222222,\"#7201a8\"],[0.3333333333333333,\"#9c179e\"],[0.4444444444444444,\"#bd3786\"],[0.5555555555555556,\"#d8576b\"],[0.6666666666666666,\"#ed7953\"],[0.7777777777777778,\"#fb9f3a\"],[0.8888888888888888,\"#fdca26\"],[1.0,\"#f0f921\"]],\"diverging\":[[0,\"#8e0152\"],[0.1,\"#c51b7d\"],[0.2,\"#de77ae\"],[0.3,\"#f1b6da\"],[0.4,\"#fde0ef\"],[0.5,\"#f7f7f7\"],[0.6,\"#e6f5d0\"],[0.7,\"#b8e186\"],[0.8,\"#7fbc41\"],[0.9,\"#4d9221\"],[1,\"#276419\"]]},\"xaxis\":{\"gridcolor\":\"white\",\"linecolor\":\"white\",\"ticks\":\"\",\"title\":{\"standoff\":15},\"zerolinecolor\":\"white\",\"automargin\":true,\"zerolinewidth\":2},\"yaxis\":{\"gridcolor\":\"white\",\"linecolor\":\"white\",\"ticks\":\"\",\"title\":{\"standoff\":15},\"zerolinecolor\":\"white\",\"automargin\":true,\"zerolinewidth\":2},\"scene\":{\"xaxis\":{\"backgroundcolor\":\"#E5ECF6\",\"gridcolor\":\"white\",\"linecolor\":\"white\",\"showbackground\":true,\"ticks\":\"\",\"zerolinecolor\":\"white\",\"gridwidth\":2},\"yaxis\":{\"backgroundcolor\":\"#E5ECF6\",\"gridcolor\":\"white\",\"linecolor\":\"white\",\"showbackground\":true,\"ticks\":\"\",\"zerolinecolor\":\"white\",\"gridwidth\":2},\"zaxis\":{\"backgroundcolor\":\"#E5ECF6\",\"gridcolor\":\"white\",\"linecolor\":\"white\",\"showbackground\":true,\"ticks\":\"\",\"zerolinecolor\":\"white\",\"gridwidth\":2}},\"shapedefaults\":{\"line\":{\"color\":\"#2a3f5f\"}},\"annotationdefaults\":{\"arrowcolor\":\"#2a3f5f\",\"arrowhead\":0,\"arrowwidth\":1},\"geo\":{\"bgcolor\":\"white\",\"landcolor\":\"#E5ECF6\",\"subunitcolor\":\"white\",\"showland\":true,\"showlakes\":true,\"lakecolor\":\"white\"},\"title\":{\"x\":0.05},\"mapbox\":{\"style\":\"light\"}}}},                        {\"responsive\": true}                    ).then(function(){\n",
       "                            \n",
       "var gd = document.getElementById('32f48f4f-e843-41f8-84c3-e3ec580259b5');\n",
       "var x = new MutationObserver(function (mutations, observer) {{\n",
       "        var display = window.getComputedStyle(gd).display;\n",
       "        if (!display || display === 'none') {{\n",
       "            console.log([gd, 'removed!']);\n",
       "            Plotly.purge(gd);\n",
       "            observer.disconnect();\n",
       "        }}\n",
       "}});\n",
       "\n",
       "// Listen for the removal of the full notebook cells\n",
       "var notebookContainer = gd.closest('#notebook-container');\n",
       "if (notebookContainer) {{\n",
       "    x.observe(notebookContainer, {childList: true});\n",
       "}}\n",
       "\n",
       "// Listen for the clearing of the current output cell\n",
       "var outputEl = gd.closest('.output');\n",
       "if (outputEl) {{\n",
       "    x.observe(outputEl, {childList: true});\n",
       "}}\n",
       "\n",
       "                        })                };                });            </script>        </div>"
      ]
     },
     "metadata": {},
     "output_type": "display_data"
    }
   ],
   "source": [
    "fig.show()"
   ]
  },
  {
   "cell_type": "code",
   "execution_count": 135,
   "id": "0e37963f",
   "metadata": {},
   "outputs": [],
   "source": [
    "# df = df.drop(df.index[-1])\n",
    "fig = go.Figure(data=[\n",
    "    go.Pie(\n",
    "        values=df['male'],\n",
    "        labels=df['age'],\n",
    "        title=\"Population of Males by age range according to UK census\",\n",
    "        domain=dict(x=[0, 0.5])\n",
    "    )\n",
    "])"
   ]
  },
  {
   "cell_type": "code",
   "execution_count": 136,
   "id": "0ed589ef",
   "metadata": {},
   "outputs": [
    {
     "data": {
      "application/vnd.plotly.v1+json": {
       "config": {
        "plotlyServerURL": "https://plot.ly"
       },
       "data": [
        {
         "domain": {
          "x": [
           0,
           0.5
          ]
         },
         "labels": [
          "0 to 9",
          "10 to 19",
          "20 to 29",
          "30 to 39",
          "40 to 49",
          "50 to 59",
          "60 to 69",
          "70 to 79",
          "80+"
         ],
         "title": {
          "text": "Population of Males by age range according to UK census"
         },
         "type": "pie",
         "values": [
          2075391,
          1711664,
          1395091,
          1073914,
          810979,
          560534,
          351893,
          166194,
          40772
         ]
        }
       ],
       "layout": {
        "template": {
         "data": {
          "bar": [
           {
            "error_x": {
             "color": "#2a3f5f"
            },
            "error_y": {
             "color": "#2a3f5f"
            },
            "marker": {
             "line": {
              "color": "#E5ECF6",
              "width": 0.5
             },
             "pattern": {
              "fillmode": "overlay",
              "size": 10,
              "solidity": 0.2
             }
            },
            "type": "bar"
           }
          ],
          "barpolar": [
           {
            "marker": {
             "line": {
              "color": "#E5ECF6",
              "width": 0.5
             },
             "pattern": {
              "fillmode": "overlay",
              "size": 10,
              "solidity": 0.2
             }
            },
            "type": "barpolar"
           }
          ],
          "carpet": [
           {
            "aaxis": {
             "endlinecolor": "#2a3f5f",
             "gridcolor": "white",
             "linecolor": "white",
             "minorgridcolor": "white",
             "startlinecolor": "#2a3f5f"
            },
            "baxis": {
             "endlinecolor": "#2a3f5f",
             "gridcolor": "white",
             "linecolor": "white",
             "minorgridcolor": "white",
             "startlinecolor": "#2a3f5f"
            },
            "type": "carpet"
           }
          ],
          "choropleth": [
           {
            "colorbar": {
             "outlinewidth": 0,
             "ticks": ""
            },
            "type": "choropleth"
           }
          ],
          "contour": [
           {
            "colorbar": {
             "outlinewidth": 0,
             "ticks": ""
            },
            "colorscale": [
             [
              0,
              "#0d0887"
             ],
             [
              0.1111111111111111,
              "#46039f"
             ],
             [
              0.2222222222222222,
              "#7201a8"
             ],
             [
              0.3333333333333333,
              "#9c179e"
             ],
             [
              0.4444444444444444,
              "#bd3786"
             ],
             [
              0.5555555555555556,
              "#d8576b"
             ],
             [
              0.6666666666666666,
              "#ed7953"
             ],
             [
              0.7777777777777778,
              "#fb9f3a"
             ],
             [
              0.8888888888888888,
              "#fdca26"
             ],
             [
              1,
              "#f0f921"
             ]
            ],
            "type": "contour"
           }
          ],
          "contourcarpet": [
           {
            "colorbar": {
             "outlinewidth": 0,
             "ticks": ""
            },
            "type": "contourcarpet"
           }
          ],
          "heatmap": [
           {
            "colorbar": {
             "outlinewidth": 0,
             "ticks": ""
            },
            "colorscale": [
             [
              0,
              "#0d0887"
             ],
             [
              0.1111111111111111,
              "#46039f"
             ],
             [
              0.2222222222222222,
              "#7201a8"
             ],
             [
              0.3333333333333333,
              "#9c179e"
             ],
             [
              0.4444444444444444,
              "#bd3786"
             ],
             [
              0.5555555555555556,
              "#d8576b"
             ],
             [
              0.6666666666666666,
              "#ed7953"
             ],
             [
              0.7777777777777778,
              "#fb9f3a"
             ],
             [
              0.8888888888888888,
              "#fdca26"
             ],
             [
              1,
              "#f0f921"
             ]
            ],
            "type": "heatmap"
           }
          ],
          "heatmapgl": [
           {
            "colorbar": {
             "outlinewidth": 0,
             "ticks": ""
            },
            "colorscale": [
             [
              0,
              "#0d0887"
             ],
             [
              0.1111111111111111,
              "#46039f"
             ],
             [
              0.2222222222222222,
              "#7201a8"
             ],
             [
              0.3333333333333333,
              "#9c179e"
             ],
             [
              0.4444444444444444,
              "#bd3786"
             ],
             [
              0.5555555555555556,
              "#d8576b"
             ],
             [
              0.6666666666666666,
              "#ed7953"
             ],
             [
              0.7777777777777778,
              "#fb9f3a"
             ],
             [
              0.8888888888888888,
              "#fdca26"
             ],
             [
              1,
              "#f0f921"
             ]
            ],
            "type": "heatmapgl"
           }
          ],
          "histogram": [
           {
            "marker": {
             "pattern": {
              "fillmode": "overlay",
              "size": 10,
              "solidity": 0.2
             }
            },
            "type": "histogram"
           }
          ],
          "histogram2d": [
           {
            "colorbar": {
             "outlinewidth": 0,
             "ticks": ""
            },
            "colorscale": [
             [
              0,
              "#0d0887"
             ],
             [
              0.1111111111111111,
              "#46039f"
             ],
             [
              0.2222222222222222,
              "#7201a8"
             ],
             [
              0.3333333333333333,
              "#9c179e"
             ],
             [
              0.4444444444444444,
              "#bd3786"
             ],
             [
              0.5555555555555556,
              "#d8576b"
             ],
             [
              0.6666666666666666,
              "#ed7953"
             ],
             [
              0.7777777777777778,
              "#fb9f3a"
             ],
             [
              0.8888888888888888,
              "#fdca26"
             ],
             [
              1,
              "#f0f921"
             ]
            ],
            "type": "histogram2d"
           }
          ],
          "histogram2dcontour": [
           {
            "colorbar": {
             "outlinewidth": 0,
             "ticks": ""
            },
            "colorscale": [
             [
              0,
              "#0d0887"
             ],
             [
              0.1111111111111111,
              "#46039f"
             ],
             [
              0.2222222222222222,
              "#7201a8"
             ],
             [
              0.3333333333333333,
              "#9c179e"
             ],
             [
              0.4444444444444444,
              "#bd3786"
             ],
             [
              0.5555555555555556,
              "#d8576b"
             ],
             [
              0.6666666666666666,
              "#ed7953"
             ],
             [
              0.7777777777777778,
              "#fb9f3a"
             ],
             [
              0.8888888888888888,
              "#fdca26"
             ],
             [
              1,
              "#f0f921"
             ]
            ],
            "type": "histogram2dcontour"
           }
          ],
          "mesh3d": [
           {
            "colorbar": {
             "outlinewidth": 0,
             "ticks": ""
            },
            "type": "mesh3d"
           }
          ],
          "parcoords": [
           {
            "line": {
             "colorbar": {
              "outlinewidth": 0,
              "ticks": ""
             }
            },
            "type": "parcoords"
           }
          ],
          "pie": [
           {
            "automargin": true,
            "type": "pie"
           }
          ],
          "scatter": [
           {
            "fillpattern": {
             "fillmode": "overlay",
             "size": 10,
             "solidity": 0.2
            },
            "type": "scatter"
           }
          ],
          "scatter3d": [
           {
            "line": {
             "colorbar": {
              "outlinewidth": 0,
              "ticks": ""
             }
            },
            "marker": {
             "colorbar": {
              "outlinewidth": 0,
              "ticks": ""
             }
            },
            "type": "scatter3d"
           }
          ],
          "scattercarpet": [
           {
            "marker": {
             "colorbar": {
              "outlinewidth": 0,
              "ticks": ""
             }
            },
            "type": "scattercarpet"
           }
          ],
          "scattergeo": [
           {
            "marker": {
             "colorbar": {
              "outlinewidth": 0,
              "ticks": ""
             }
            },
            "type": "scattergeo"
           }
          ],
          "scattergl": [
           {
            "marker": {
             "colorbar": {
              "outlinewidth": 0,
              "ticks": ""
             }
            },
            "type": "scattergl"
           }
          ],
          "scattermapbox": [
           {
            "marker": {
             "colorbar": {
              "outlinewidth": 0,
              "ticks": ""
             }
            },
            "type": "scattermapbox"
           }
          ],
          "scatterpolar": [
           {
            "marker": {
             "colorbar": {
              "outlinewidth": 0,
              "ticks": ""
             }
            },
            "type": "scatterpolar"
           }
          ],
          "scatterpolargl": [
           {
            "marker": {
             "colorbar": {
              "outlinewidth": 0,
              "ticks": ""
             }
            },
            "type": "scatterpolargl"
           }
          ],
          "scatterternary": [
           {
            "marker": {
             "colorbar": {
              "outlinewidth": 0,
              "ticks": ""
             }
            },
            "type": "scatterternary"
           }
          ],
          "surface": [
           {
            "colorbar": {
             "outlinewidth": 0,
             "ticks": ""
            },
            "colorscale": [
             [
              0,
              "#0d0887"
             ],
             [
              0.1111111111111111,
              "#46039f"
             ],
             [
              0.2222222222222222,
              "#7201a8"
             ],
             [
              0.3333333333333333,
              "#9c179e"
             ],
             [
              0.4444444444444444,
              "#bd3786"
             ],
             [
              0.5555555555555556,
              "#d8576b"
             ],
             [
              0.6666666666666666,
              "#ed7953"
             ],
             [
              0.7777777777777778,
              "#fb9f3a"
             ],
             [
              0.8888888888888888,
              "#fdca26"
             ],
             [
              1,
              "#f0f921"
             ]
            ],
            "type": "surface"
           }
          ],
          "table": [
           {
            "cells": {
             "fill": {
              "color": "#EBF0F8"
             },
             "line": {
              "color": "white"
             }
            },
            "header": {
             "fill": {
              "color": "#C8D4E3"
             },
             "line": {
              "color": "white"
             }
            },
            "type": "table"
           }
          ]
         },
         "layout": {
          "annotationdefaults": {
           "arrowcolor": "#2a3f5f",
           "arrowhead": 0,
           "arrowwidth": 1
          },
          "autotypenumbers": "strict",
          "coloraxis": {
           "colorbar": {
            "outlinewidth": 0,
            "ticks": ""
           }
          },
          "colorscale": {
           "diverging": [
            [
             0,
             "#8e0152"
            ],
            [
             0.1,
             "#c51b7d"
            ],
            [
             0.2,
             "#de77ae"
            ],
            [
             0.3,
             "#f1b6da"
            ],
            [
             0.4,
             "#fde0ef"
            ],
            [
             0.5,
             "#f7f7f7"
            ],
            [
             0.6,
             "#e6f5d0"
            ],
            [
             0.7,
             "#b8e186"
            ],
            [
             0.8,
             "#7fbc41"
            ],
            [
             0.9,
             "#4d9221"
            ],
            [
             1,
             "#276419"
            ]
           ],
           "sequential": [
            [
             0,
             "#0d0887"
            ],
            [
             0.1111111111111111,
             "#46039f"
            ],
            [
             0.2222222222222222,
             "#7201a8"
            ],
            [
             0.3333333333333333,
             "#9c179e"
            ],
            [
             0.4444444444444444,
             "#bd3786"
            ],
            [
             0.5555555555555556,
             "#d8576b"
            ],
            [
             0.6666666666666666,
             "#ed7953"
            ],
            [
             0.7777777777777778,
             "#fb9f3a"
            ],
            [
             0.8888888888888888,
             "#fdca26"
            ],
            [
             1,
             "#f0f921"
            ]
           ],
           "sequentialminus": [
            [
             0,
             "#0d0887"
            ],
            [
             0.1111111111111111,
             "#46039f"
            ],
            [
             0.2222222222222222,
             "#7201a8"
            ],
            [
             0.3333333333333333,
             "#9c179e"
            ],
            [
             0.4444444444444444,
             "#bd3786"
            ],
            [
             0.5555555555555556,
             "#d8576b"
            ],
            [
             0.6666666666666666,
             "#ed7953"
            ],
            [
             0.7777777777777778,
             "#fb9f3a"
            ],
            [
             0.8888888888888888,
             "#fdca26"
            ],
            [
             1,
             "#f0f921"
            ]
           ]
          },
          "colorway": [
           "#636efa",
           "#EF553B",
           "#00cc96",
           "#ab63fa",
           "#FFA15A",
           "#19d3f3",
           "#FF6692",
           "#B6E880",
           "#FF97FF",
           "#FECB52"
          ],
          "font": {
           "color": "#2a3f5f"
          },
          "geo": {
           "bgcolor": "white",
           "lakecolor": "white",
           "landcolor": "#E5ECF6",
           "showlakes": true,
           "showland": true,
           "subunitcolor": "white"
          },
          "hoverlabel": {
           "align": "left"
          },
          "hovermode": "closest",
          "mapbox": {
           "style": "light"
          },
          "paper_bgcolor": "white",
          "plot_bgcolor": "#E5ECF6",
          "polar": {
           "angularaxis": {
            "gridcolor": "white",
            "linecolor": "white",
            "ticks": ""
           },
           "bgcolor": "#E5ECF6",
           "radialaxis": {
            "gridcolor": "white",
            "linecolor": "white",
            "ticks": ""
           }
          },
          "scene": {
           "xaxis": {
            "backgroundcolor": "#E5ECF6",
            "gridcolor": "white",
            "gridwidth": 2,
            "linecolor": "white",
            "showbackground": true,
            "ticks": "",
            "zerolinecolor": "white"
           },
           "yaxis": {
            "backgroundcolor": "#E5ECF6",
            "gridcolor": "white",
            "gridwidth": 2,
            "linecolor": "white",
            "showbackground": true,
            "ticks": "",
            "zerolinecolor": "white"
           },
           "zaxis": {
            "backgroundcolor": "#E5ECF6",
            "gridcolor": "white",
            "gridwidth": 2,
            "linecolor": "white",
            "showbackground": true,
            "ticks": "",
            "zerolinecolor": "white"
           }
          },
          "shapedefaults": {
           "line": {
            "color": "#2a3f5f"
           }
          },
          "ternary": {
           "aaxis": {
            "gridcolor": "white",
            "linecolor": "white",
            "ticks": ""
           },
           "baxis": {
            "gridcolor": "white",
            "linecolor": "white",
            "ticks": ""
           },
           "bgcolor": "#E5ECF6",
           "caxis": {
            "gridcolor": "white",
            "linecolor": "white",
            "ticks": ""
           }
          },
          "title": {
           "x": 0.05
          },
          "xaxis": {
           "automargin": true,
           "gridcolor": "white",
           "linecolor": "white",
           "ticks": "",
           "title": {
            "standoff": 15
           },
           "zerolinecolor": "white",
           "zerolinewidth": 2
          },
          "yaxis": {
           "automargin": true,
           "gridcolor": "white",
           "linecolor": "white",
           "ticks": "",
           "title": {
            "standoff": 15
           },
           "zerolinecolor": "white",
           "zerolinewidth": 2
          }
         }
        }
       }
      },
      "text/html": [
       "<div>                            <div id=\"2ff6f704-eac7-4f0b-9306-59703cf0e277\" class=\"plotly-graph-div\" style=\"height:525px; width:100%;\"></div>            <script type=\"text/javascript\">                require([\"plotly\"], function(Plotly) {                    window.PLOTLYENV=window.PLOTLYENV || {};                                    if (document.getElementById(\"2ff6f704-eac7-4f0b-9306-59703cf0e277\")) {                    Plotly.newPlot(                        \"2ff6f704-eac7-4f0b-9306-59703cf0e277\",                        [{\"domain\":{\"x\":[0,0.5]},\"labels\":[\"0 to 9\",\"10 to 19\",\"20 to 29\",\"30 to 39\",\"40 to 49\",\"50 to 59\",\"60 to 69\",\"70 to 79\",\"80+\"],\"title\":{\"text\":\"Population of Males by age range according to UK census\"},\"values\":[2075391,1711664,1395091,1073914,810979,560534,351893,166194,40772],\"type\":\"pie\"}],                        {\"template\":{\"data\":{\"histogram2dcontour\":[{\"type\":\"histogram2dcontour\",\"colorbar\":{\"outlinewidth\":0,\"ticks\":\"\"},\"colorscale\":[[0.0,\"#0d0887\"],[0.1111111111111111,\"#46039f\"],[0.2222222222222222,\"#7201a8\"],[0.3333333333333333,\"#9c179e\"],[0.4444444444444444,\"#bd3786\"],[0.5555555555555556,\"#d8576b\"],[0.6666666666666666,\"#ed7953\"],[0.7777777777777778,\"#fb9f3a\"],[0.8888888888888888,\"#fdca26\"],[1.0,\"#f0f921\"]]}],\"choropleth\":[{\"type\":\"choropleth\",\"colorbar\":{\"outlinewidth\":0,\"ticks\":\"\"}}],\"histogram2d\":[{\"type\":\"histogram2d\",\"colorbar\":{\"outlinewidth\":0,\"ticks\":\"\"},\"colorscale\":[[0.0,\"#0d0887\"],[0.1111111111111111,\"#46039f\"],[0.2222222222222222,\"#7201a8\"],[0.3333333333333333,\"#9c179e\"],[0.4444444444444444,\"#bd3786\"],[0.5555555555555556,\"#d8576b\"],[0.6666666666666666,\"#ed7953\"],[0.7777777777777778,\"#fb9f3a\"],[0.8888888888888888,\"#fdca26\"],[1.0,\"#f0f921\"]]}],\"heatmap\":[{\"type\":\"heatmap\",\"colorbar\":{\"outlinewidth\":0,\"ticks\":\"\"},\"colorscale\":[[0.0,\"#0d0887\"],[0.1111111111111111,\"#46039f\"],[0.2222222222222222,\"#7201a8\"],[0.3333333333333333,\"#9c179e\"],[0.4444444444444444,\"#bd3786\"],[0.5555555555555556,\"#d8576b\"],[0.6666666666666666,\"#ed7953\"],[0.7777777777777778,\"#fb9f3a\"],[0.8888888888888888,\"#fdca26\"],[1.0,\"#f0f921\"]]}],\"heatmapgl\":[{\"type\":\"heatmapgl\",\"colorbar\":{\"outlinewidth\":0,\"ticks\":\"\"},\"colorscale\":[[0.0,\"#0d0887\"],[0.1111111111111111,\"#46039f\"],[0.2222222222222222,\"#7201a8\"],[0.3333333333333333,\"#9c179e\"],[0.4444444444444444,\"#bd3786\"],[0.5555555555555556,\"#d8576b\"],[0.6666666666666666,\"#ed7953\"],[0.7777777777777778,\"#fb9f3a\"],[0.8888888888888888,\"#fdca26\"],[1.0,\"#f0f921\"]]}],\"contourcarpet\":[{\"type\":\"contourcarpet\",\"colorbar\":{\"outlinewidth\":0,\"ticks\":\"\"}}],\"contour\":[{\"type\":\"contour\",\"colorbar\":{\"outlinewidth\":0,\"ticks\":\"\"},\"colorscale\":[[0.0,\"#0d0887\"],[0.1111111111111111,\"#46039f\"],[0.2222222222222222,\"#7201a8\"],[0.3333333333333333,\"#9c179e\"],[0.4444444444444444,\"#bd3786\"],[0.5555555555555556,\"#d8576b\"],[0.6666666666666666,\"#ed7953\"],[0.7777777777777778,\"#fb9f3a\"],[0.8888888888888888,\"#fdca26\"],[1.0,\"#f0f921\"]]}],\"surface\":[{\"type\":\"surface\",\"colorbar\":{\"outlinewidth\":0,\"ticks\":\"\"},\"colorscale\":[[0.0,\"#0d0887\"],[0.1111111111111111,\"#46039f\"],[0.2222222222222222,\"#7201a8\"],[0.3333333333333333,\"#9c179e\"],[0.4444444444444444,\"#bd3786\"],[0.5555555555555556,\"#d8576b\"],[0.6666666666666666,\"#ed7953\"],[0.7777777777777778,\"#fb9f3a\"],[0.8888888888888888,\"#fdca26\"],[1.0,\"#f0f921\"]]}],\"mesh3d\":[{\"type\":\"mesh3d\",\"colorbar\":{\"outlinewidth\":0,\"ticks\":\"\"}}],\"scatter\":[{\"fillpattern\":{\"fillmode\":\"overlay\",\"size\":10,\"solidity\":0.2},\"type\":\"scatter\"}],\"parcoords\":[{\"type\":\"parcoords\",\"line\":{\"colorbar\":{\"outlinewidth\":0,\"ticks\":\"\"}}}],\"scatterpolargl\":[{\"type\":\"scatterpolargl\",\"marker\":{\"colorbar\":{\"outlinewidth\":0,\"ticks\":\"\"}}}],\"bar\":[{\"error_x\":{\"color\":\"#2a3f5f\"},\"error_y\":{\"color\":\"#2a3f5f\"},\"marker\":{\"line\":{\"color\":\"#E5ECF6\",\"width\":0.5},\"pattern\":{\"fillmode\":\"overlay\",\"size\":10,\"solidity\":0.2}},\"type\":\"bar\"}],\"scattergeo\":[{\"type\":\"scattergeo\",\"marker\":{\"colorbar\":{\"outlinewidth\":0,\"ticks\":\"\"}}}],\"scatterpolar\":[{\"type\":\"scatterpolar\",\"marker\":{\"colorbar\":{\"outlinewidth\":0,\"ticks\":\"\"}}}],\"histogram\":[{\"marker\":{\"pattern\":{\"fillmode\":\"overlay\",\"size\":10,\"solidity\":0.2}},\"type\":\"histogram\"}],\"scattergl\":[{\"type\":\"scattergl\",\"marker\":{\"colorbar\":{\"outlinewidth\":0,\"ticks\":\"\"}}}],\"scatter3d\":[{\"type\":\"scatter3d\",\"line\":{\"colorbar\":{\"outlinewidth\":0,\"ticks\":\"\"}},\"marker\":{\"colorbar\":{\"outlinewidth\":0,\"ticks\":\"\"}}}],\"scattermapbox\":[{\"type\":\"scattermapbox\",\"marker\":{\"colorbar\":{\"outlinewidth\":0,\"ticks\":\"\"}}}],\"scatterternary\":[{\"type\":\"scatterternary\",\"marker\":{\"colorbar\":{\"outlinewidth\":0,\"ticks\":\"\"}}}],\"scattercarpet\":[{\"type\":\"scattercarpet\",\"marker\":{\"colorbar\":{\"outlinewidth\":0,\"ticks\":\"\"}}}],\"carpet\":[{\"aaxis\":{\"endlinecolor\":\"#2a3f5f\",\"gridcolor\":\"white\",\"linecolor\":\"white\",\"minorgridcolor\":\"white\",\"startlinecolor\":\"#2a3f5f\"},\"baxis\":{\"endlinecolor\":\"#2a3f5f\",\"gridcolor\":\"white\",\"linecolor\":\"white\",\"minorgridcolor\":\"white\",\"startlinecolor\":\"#2a3f5f\"},\"type\":\"carpet\"}],\"table\":[{\"cells\":{\"fill\":{\"color\":\"#EBF0F8\"},\"line\":{\"color\":\"white\"}},\"header\":{\"fill\":{\"color\":\"#C8D4E3\"},\"line\":{\"color\":\"white\"}},\"type\":\"table\"}],\"barpolar\":[{\"marker\":{\"line\":{\"color\":\"#E5ECF6\",\"width\":0.5},\"pattern\":{\"fillmode\":\"overlay\",\"size\":10,\"solidity\":0.2}},\"type\":\"barpolar\"}],\"pie\":[{\"automargin\":true,\"type\":\"pie\"}]},\"layout\":{\"autotypenumbers\":\"strict\",\"colorway\":[\"#636efa\",\"#EF553B\",\"#00cc96\",\"#ab63fa\",\"#FFA15A\",\"#19d3f3\",\"#FF6692\",\"#B6E880\",\"#FF97FF\",\"#FECB52\"],\"font\":{\"color\":\"#2a3f5f\"},\"hovermode\":\"closest\",\"hoverlabel\":{\"align\":\"left\"},\"paper_bgcolor\":\"white\",\"plot_bgcolor\":\"#E5ECF6\",\"polar\":{\"bgcolor\":\"#E5ECF6\",\"angularaxis\":{\"gridcolor\":\"white\",\"linecolor\":\"white\",\"ticks\":\"\"},\"radialaxis\":{\"gridcolor\":\"white\",\"linecolor\":\"white\",\"ticks\":\"\"}},\"ternary\":{\"bgcolor\":\"#E5ECF6\",\"aaxis\":{\"gridcolor\":\"white\",\"linecolor\":\"white\",\"ticks\":\"\"},\"baxis\":{\"gridcolor\":\"white\",\"linecolor\":\"white\",\"ticks\":\"\"},\"caxis\":{\"gridcolor\":\"white\",\"linecolor\":\"white\",\"ticks\":\"\"}},\"coloraxis\":{\"colorbar\":{\"outlinewidth\":0,\"ticks\":\"\"}},\"colorscale\":{\"sequential\":[[0.0,\"#0d0887\"],[0.1111111111111111,\"#46039f\"],[0.2222222222222222,\"#7201a8\"],[0.3333333333333333,\"#9c179e\"],[0.4444444444444444,\"#bd3786\"],[0.5555555555555556,\"#d8576b\"],[0.6666666666666666,\"#ed7953\"],[0.7777777777777778,\"#fb9f3a\"],[0.8888888888888888,\"#fdca26\"],[1.0,\"#f0f921\"]],\"sequentialminus\":[[0.0,\"#0d0887\"],[0.1111111111111111,\"#46039f\"],[0.2222222222222222,\"#7201a8\"],[0.3333333333333333,\"#9c179e\"],[0.4444444444444444,\"#bd3786\"],[0.5555555555555556,\"#d8576b\"],[0.6666666666666666,\"#ed7953\"],[0.7777777777777778,\"#fb9f3a\"],[0.8888888888888888,\"#fdca26\"],[1.0,\"#f0f921\"]],\"diverging\":[[0,\"#8e0152\"],[0.1,\"#c51b7d\"],[0.2,\"#de77ae\"],[0.3,\"#f1b6da\"],[0.4,\"#fde0ef\"],[0.5,\"#f7f7f7\"],[0.6,\"#e6f5d0\"],[0.7,\"#b8e186\"],[0.8,\"#7fbc41\"],[0.9,\"#4d9221\"],[1,\"#276419\"]]},\"xaxis\":{\"gridcolor\":\"white\",\"linecolor\":\"white\",\"ticks\":\"\",\"title\":{\"standoff\":15},\"zerolinecolor\":\"white\",\"automargin\":true,\"zerolinewidth\":2},\"yaxis\":{\"gridcolor\":\"white\",\"linecolor\":\"white\",\"ticks\":\"\",\"title\":{\"standoff\":15},\"zerolinecolor\":\"white\",\"automargin\":true,\"zerolinewidth\":2},\"scene\":{\"xaxis\":{\"backgroundcolor\":\"#E5ECF6\",\"gridcolor\":\"white\",\"linecolor\":\"white\",\"showbackground\":true,\"ticks\":\"\",\"zerolinecolor\":\"white\",\"gridwidth\":2},\"yaxis\":{\"backgroundcolor\":\"#E5ECF6\",\"gridcolor\":\"white\",\"linecolor\":\"white\",\"showbackground\":true,\"ticks\":\"\",\"zerolinecolor\":\"white\",\"gridwidth\":2},\"zaxis\":{\"backgroundcolor\":\"#E5ECF6\",\"gridcolor\":\"white\",\"linecolor\":\"white\",\"showbackground\":true,\"ticks\":\"\",\"zerolinecolor\":\"white\",\"gridwidth\":2}},\"shapedefaults\":{\"line\":{\"color\":\"#2a3f5f\"}},\"annotationdefaults\":{\"arrowcolor\":\"#2a3f5f\",\"arrowhead\":0,\"arrowwidth\":1},\"geo\":{\"bgcolor\":\"white\",\"landcolor\":\"#E5ECF6\",\"subunitcolor\":\"white\",\"showland\":true,\"showlakes\":true,\"lakecolor\":\"white\"},\"title\":{\"x\":0.05},\"mapbox\":{\"style\":\"light\"}}}},                        {\"responsive\": true}                    ).then(function(){\n",
       "                            \n",
       "var gd = document.getElementById('2ff6f704-eac7-4f0b-9306-59703cf0e277');\n",
       "var x = new MutationObserver(function (mutations, observer) {{\n",
       "        var display = window.getComputedStyle(gd).display;\n",
       "        if (!display || display === 'none') {{\n",
       "            console.log([gd, 'removed!']);\n",
       "            Plotly.purge(gd);\n",
       "            observer.disconnect();\n",
       "        }}\n",
       "}});\n",
       "\n",
       "// Listen for the removal of the full notebook cells\n",
       "var notebookContainer = gd.closest('#notebook-container');\n",
       "if (notebookContainer) {{\n",
       "    x.observe(notebookContainer, {childList: true});\n",
       "}}\n",
       "\n",
       "// Listen for the clearing of the current output cell\n",
       "var outputEl = gd.closest('.output');\n",
       "if (outputEl) {{\n",
       "    x.observe(outputEl, {childList: true});\n",
       "}}\n",
       "\n",
       "                        })                };                });            </script>        </div>"
      ]
     },
     "metadata": {},
     "output_type": "display_data"
    }
   ],
   "source": [
    "fig.show()"
   ]
  },
  {
   "cell_type": "code",
   "execution_count": null,
   "id": "490fcf92",
   "metadata": {},
   "outputs": [],
   "source": [
    "fig = go.Figure(data=[\n",
    "    go.Pie(\n",
    "        values=df['female'],\n",
    "        labels=df['age'],\n",
    "        title=\"Population of females by age range according to UK census\",\n",
    "        domain=dict(x=[0, 0.5])\n",
    "    )\n",
    "])"
   ]
  },
  {
   "cell_type": "code",
   "execution_count": 146,
   "id": "db52aa6c",
   "metadata": {},
   "outputs": [
    {
     "data": {
      "application/vnd.plotly.v1+json": {
       "config": {
        "plotlyServerURL": "https://plot.ly"
       },
       "data": [
        {
         "domain": {
          "x": [
           0,
           0.5
          ]
         },
         "labels": [
          "0 to 9",
          "10 to 19",
          "20 to 29",
          "30 to 39",
          "40 to 49",
          "50 to 59",
          "60 to 69",
          "70 to 79",
          "80+"
         ],
         "title": {
          "text": "Population of Males by age range according to UK census"
         },
         "type": "pie",
         "values": [
          2075391,
          1711664,
          1395091,
          1073914,
          810979,
          560534,
          351893,
          166194,
          40772
         ]
        }
       ],
       "layout": {
        "template": {
         "data": {
          "bar": [
           {
            "error_x": {
             "color": "#2a3f5f"
            },
            "error_y": {
             "color": "#2a3f5f"
            },
            "marker": {
             "line": {
              "color": "#E5ECF6",
              "width": 0.5
             },
             "pattern": {
              "fillmode": "overlay",
              "size": 10,
              "solidity": 0.2
             }
            },
            "type": "bar"
           }
          ],
          "barpolar": [
           {
            "marker": {
             "line": {
              "color": "#E5ECF6",
              "width": 0.5
             },
             "pattern": {
              "fillmode": "overlay",
              "size": 10,
              "solidity": 0.2
             }
            },
            "type": "barpolar"
           }
          ],
          "carpet": [
           {
            "aaxis": {
             "endlinecolor": "#2a3f5f",
             "gridcolor": "white",
             "linecolor": "white",
             "minorgridcolor": "white",
             "startlinecolor": "#2a3f5f"
            },
            "baxis": {
             "endlinecolor": "#2a3f5f",
             "gridcolor": "white",
             "linecolor": "white",
             "minorgridcolor": "white",
             "startlinecolor": "#2a3f5f"
            },
            "type": "carpet"
           }
          ],
          "choropleth": [
           {
            "colorbar": {
             "outlinewidth": 0,
             "ticks": ""
            },
            "type": "choropleth"
           }
          ],
          "contour": [
           {
            "colorbar": {
             "outlinewidth": 0,
             "ticks": ""
            },
            "colorscale": [
             [
              0,
              "#0d0887"
             ],
             [
              0.1111111111111111,
              "#46039f"
             ],
             [
              0.2222222222222222,
              "#7201a8"
             ],
             [
              0.3333333333333333,
              "#9c179e"
             ],
             [
              0.4444444444444444,
              "#bd3786"
             ],
             [
              0.5555555555555556,
              "#d8576b"
             ],
             [
              0.6666666666666666,
              "#ed7953"
             ],
             [
              0.7777777777777778,
              "#fb9f3a"
             ],
             [
              0.8888888888888888,
              "#fdca26"
             ],
             [
              1,
              "#f0f921"
             ]
            ],
            "type": "contour"
           }
          ],
          "contourcarpet": [
           {
            "colorbar": {
             "outlinewidth": 0,
             "ticks": ""
            },
            "type": "contourcarpet"
           }
          ],
          "heatmap": [
           {
            "colorbar": {
             "outlinewidth": 0,
             "ticks": ""
            },
            "colorscale": [
             [
              0,
              "#0d0887"
             ],
             [
              0.1111111111111111,
              "#46039f"
             ],
             [
              0.2222222222222222,
              "#7201a8"
             ],
             [
              0.3333333333333333,
              "#9c179e"
             ],
             [
              0.4444444444444444,
              "#bd3786"
             ],
             [
              0.5555555555555556,
              "#d8576b"
             ],
             [
              0.6666666666666666,
              "#ed7953"
             ],
             [
              0.7777777777777778,
              "#fb9f3a"
             ],
             [
              0.8888888888888888,
              "#fdca26"
             ],
             [
              1,
              "#f0f921"
             ]
            ],
            "type": "heatmap"
           }
          ],
          "heatmapgl": [
           {
            "colorbar": {
             "outlinewidth": 0,
             "ticks": ""
            },
            "colorscale": [
             [
              0,
              "#0d0887"
             ],
             [
              0.1111111111111111,
              "#46039f"
             ],
             [
              0.2222222222222222,
              "#7201a8"
             ],
             [
              0.3333333333333333,
              "#9c179e"
             ],
             [
              0.4444444444444444,
              "#bd3786"
             ],
             [
              0.5555555555555556,
              "#d8576b"
             ],
             [
              0.6666666666666666,
              "#ed7953"
             ],
             [
              0.7777777777777778,
              "#fb9f3a"
             ],
             [
              0.8888888888888888,
              "#fdca26"
             ],
             [
              1,
              "#f0f921"
             ]
            ],
            "type": "heatmapgl"
           }
          ],
          "histogram": [
           {
            "marker": {
             "pattern": {
              "fillmode": "overlay",
              "size": 10,
              "solidity": 0.2
             }
            },
            "type": "histogram"
           }
          ],
          "histogram2d": [
           {
            "colorbar": {
             "outlinewidth": 0,
             "ticks": ""
            },
            "colorscale": [
             [
              0,
              "#0d0887"
             ],
             [
              0.1111111111111111,
              "#46039f"
             ],
             [
              0.2222222222222222,
              "#7201a8"
             ],
             [
              0.3333333333333333,
              "#9c179e"
             ],
             [
              0.4444444444444444,
              "#bd3786"
             ],
             [
              0.5555555555555556,
              "#d8576b"
             ],
             [
              0.6666666666666666,
              "#ed7953"
             ],
             [
              0.7777777777777778,
              "#fb9f3a"
             ],
             [
              0.8888888888888888,
              "#fdca26"
             ],
             [
              1,
              "#f0f921"
             ]
            ],
            "type": "histogram2d"
           }
          ],
          "histogram2dcontour": [
           {
            "colorbar": {
             "outlinewidth": 0,
             "ticks": ""
            },
            "colorscale": [
             [
              0,
              "#0d0887"
             ],
             [
              0.1111111111111111,
              "#46039f"
             ],
             [
              0.2222222222222222,
              "#7201a8"
             ],
             [
              0.3333333333333333,
              "#9c179e"
             ],
             [
              0.4444444444444444,
              "#bd3786"
             ],
             [
              0.5555555555555556,
              "#d8576b"
             ],
             [
              0.6666666666666666,
              "#ed7953"
             ],
             [
              0.7777777777777778,
              "#fb9f3a"
             ],
             [
              0.8888888888888888,
              "#fdca26"
             ],
             [
              1,
              "#f0f921"
             ]
            ],
            "type": "histogram2dcontour"
           }
          ],
          "mesh3d": [
           {
            "colorbar": {
             "outlinewidth": 0,
             "ticks": ""
            },
            "type": "mesh3d"
           }
          ],
          "parcoords": [
           {
            "line": {
             "colorbar": {
              "outlinewidth": 0,
              "ticks": ""
             }
            },
            "type": "parcoords"
           }
          ],
          "pie": [
           {
            "automargin": true,
            "type": "pie"
           }
          ],
          "scatter": [
           {
            "fillpattern": {
             "fillmode": "overlay",
             "size": 10,
             "solidity": 0.2
            },
            "type": "scatter"
           }
          ],
          "scatter3d": [
           {
            "line": {
             "colorbar": {
              "outlinewidth": 0,
              "ticks": ""
             }
            },
            "marker": {
             "colorbar": {
              "outlinewidth": 0,
              "ticks": ""
             }
            },
            "type": "scatter3d"
           }
          ],
          "scattercarpet": [
           {
            "marker": {
             "colorbar": {
              "outlinewidth": 0,
              "ticks": ""
             }
            },
            "type": "scattercarpet"
           }
          ],
          "scattergeo": [
           {
            "marker": {
             "colorbar": {
              "outlinewidth": 0,
              "ticks": ""
             }
            },
            "type": "scattergeo"
           }
          ],
          "scattergl": [
           {
            "marker": {
             "colorbar": {
              "outlinewidth": 0,
              "ticks": ""
             }
            },
            "type": "scattergl"
           }
          ],
          "scattermapbox": [
           {
            "marker": {
             "colorbar": {
              "outlinewidth": 0,
              "ticks": ""
             }
            },
            "type": "scattermapbox"
           }
          ],
          "scatterpolar": [
           {
            "marker": {
             "colorbar": {
              "outlinewidth": 0,
              "ticks": ""
             }
            },
            "type": "scatterpolar"
           }
          ],
          "scatterpolargl": [
           {
            "marker": {
             "colorbar": {
              "outlinewidth": 0,
              "ticks": ""
             }
            },
            "type": "scatterpolargl"
           }
          ],
          "scatterternary": [
           {
            "marker": {
             "colorbar": {
              "outlinewidth": 0,
              "ticks": ""
             }
            },
            "type": "scatterternary"
           }
          ],
          "surface": [
           {
            "colorbar": {
             "outlinewidth": 0,
             "ticks": ""
            },
            "colorscale": [
             [
              0,
              "#0d0887"
             ],
             [
              0.1111111111111111,
              "#46039f"
             ],
             [
              0.2222222222222222,
              "#7201a8"
             ],
             [
              0.3333333333333333,
              "#9c179e"
             ],
             [
              0.4444444444444444,
              "#bd3786"
             ],
             [
              0.5555555555555556,
              "#d8576b"
             ],
             [
              0.6666666666666666,
              "#ed7953"
             ],
             [
              0.7777777777777778,
              "#fb9f3a"
             ],
             [
              0.8888888888888888,
              "#fdca26"
             ],
             [
              1,
              "#f0f921"
             ]
            ],
            "type": "surface"
           }
          ],
          "table": [
           {
            "cells": {
             "fill": {
              "color": "#EBF0F8"
             },
             "line": {
              "color": "white"
             }
            },
            "header": {
             "fill": {
              "color": "#C8D4E3"
             },
             "line": {
              "color": "white"
             }
            },
            "type": "table"
           }
          ]
         },
         "layout": {
          "annotationdefaults": {
           "arrowcolor": "#2a3f5f",
           "arrowhead": 0,
           "arrowwidth": 1
          },
          "autotypenumbers": "strict",
          "coloraxis": {
           "colorbar": {
            "outlinewidth": 0,
            "ticks": ""
           }
          },
          "colorscale": {
           "diverging": [
            [
             0,
             "#8e0152"
            ],
            [
             0.1,
             "#c51b7d"
            ],
            [
             0.2,
             "#de77ae"
            ],
            [
             0.3,
             "#f1b6da"
            ],
            [
             0.4,
             "#fde0ef"
            ],
            [
             0.5,
             "#f7f7f7"
            ],
            [
             0.6,
             "#e6f5d0"
            ],
            [
             0.7,
             "#b8e186"
            ],
            [
             0.8,
             "#7fbc41"
            ],
            [
             0.9,
             "#4d9221"
            ],
            [
             1,
             "#276419"
            ]
           ],
           "sequential": [
            [
             0,
             "#0d0887"
            ],
            [
             0.1111111111111111,
             "#46039f"
            ],
            [
             0.2222222222222222,
             "#7201a8"
            ],
            [
             0.3333333333333333,
             "#9c179e"
            ],
            [
             0.4444444444444444,
             "#bd3786"
            ],
            [
             0.5555555555555556,
             "#d8576b"
            ],
            [
             0.6666666666666666,
             "#ed7953"
            ],
            [
             0.7777777777777778,
             "#fb9f3a"
            ],
            [
             0.8888888888888888,
             "#fdca26"
            ],
            [
             1,
             "#f0f921"
            ]
           ],
           "sequentialminus": [
            [
             0,
             "#0d0887"
            ],
            [
             0.1111111111111111,
             "#46039f"
            ],
            [
             0.2222222222222222,
             "#7201a8"
            ],
            [
             0.3333333333333333,
             "#9c179e"
            ],
            [
             0.4444444444444444,
             "#bd3786"
            ],
            [
             0.5555555555555556,
             "#d8576b"
            ],
            [
             0.6666666666666666,
             "#ed7953"
            ],
            [
             0.7777777777777778,
             "#fb9f3a"
            ],
            [
             0.8888888888888888,
             "#fdca26"
            ],
            [
             1,
             "#f0f921"
            ]
           ]
          },
          "colorway": [
           "#636efa",
           "#EF553B",
           "#00cc96",
           "#ab63fa",
           "#FFA15A",
           "#19d3f3",
           "#FF6692",
           "#B6E880",
           "#FF97FF",
           "#FECB52"
          ],
          "font": {
           "color": "#2a3f5f"
          },
          "geo": {
           "bgcolor": "white",
           "lakecolor": "white",
           "landcolor": "#E5ECF6",
           "showlakes": true,
           "showland": true,
           "subunitcolor": "white"
          },
          "hoverlabel": {
           "align": "left"
          },
          "hovermode": "closest",
          "mapbox": {
           "style": "light"
          },
          "paper_bgcolor": "white",
          "plot_bgcolor": "#E5ECF6",
          "polar": {
           "angularaxis": {
            "gridcolor": "white",
            "linecolor": "white",
            "ticks": ""
           },
           "bgcolor": "#E5ECF6",
           "radialaxis": {
            "gridcolor": "white",
            "linecolor": "white",
            "ticks": ""
           }
          },
          "scene": {
           "xaxis": {
            "backgroundcolor": "#E5ECF6",
            "gridcolor": "white",
            "gridwidth": 2,
            "linecolor": "white",
            "showbackground": true,
            "ticks": "",
            "zerolinecolor": "white"
           },
           "yaxis": {
            "backgroundcolor": "#E5ECF6",
            "gridcolor": "white",
            "gridwidth": 2,
            "linecolor": "white",
            "showbackground": true,
            "ticks": "",
            "zerolinecolor": "white"
           },
           "zaxis": {
            "backgroundcolor": "#E5ECF6",
            "gridcolor": "white",
            "gridwidth": 2,
            "linecolor": "white",
            "showbackground": true,
            "ticks": "",
            "zerolinecolor": "white"
           }
          },
          "shapedefaults": {
           "line": {
            "color": "#2a3f5f"
           }
          },
          "ternary": {
           "aaxis": {
            "gridcolor": "white",
            "linecolor": "white",
            "ticks": ""
           },
           "baxis": {
            "gridcolor": "white",
            "linecolor": "white",
            "ticks": ""
           },
           "bgcolor": "#E5ECF6",
           "caxis": {
            "gridcolor": "white",
            "linecolor": "white",
            "ticks": ""
           }
          },
          "title": {
           "x": 0.05
          },
          "xaxis": {
           "automargin": true,
           "gridcolor": "white",
           "linecolor": "white",
           "ticks": "",
           "title": {
            "standoff": 15
           },
           "zerolinecolor": "white",
           "zerolinewidth": 2
          },
          "yaxis": {
           "automargin": true,
           "gridcolor": "white",
           "linecolor": "white",
           "ticks": "",
           "title": {
            "standoff": 15
           },
           "zerolinecolor": "white",
           "zerolinewidth": 2
          }
         }
        }
       }
      },
      "text/html": [
       "<div>                            <div id=\"cb2f9c4b-7772-4dca-b054-874b689c6cda\" class=\"plotly-graph-div\" style=\"height:525px; width:100%;\"></div>            <script type=\"text/javascript\">                require([\"plotly\"], function(Plotly) {                    window.PLOTLYENV=window.PLOTLYENV || {};                                    if (document.getElementById(\"cb2f9c4b-7772-4dca-b054-874b689c6cda\")) {                    Plotly.newPlot(                        \"cb2f9c4b-7772-4dca-b054-874b689c6cda\",                        [{\"domain\":{\"x\":[0,0.5]},\"labels\":[\"0 to 9\",\"10 to 19\",\"20 to 29\",\"30 to 39\",\"40 to 49\",\"50 to 59\",\"60 to 69\",\"70 to 79\",\"80+\"],\"title\":{\"text\":\"Population of Males by age range according to UK census\"},\"values\":[2075391,1711664,1395091,1073914,810979,560534,351893,166194,40772],\"type\":\"pie\"}],                        {\"template\":{\"data\":{\"histogram2dcontour\":[{\"type\":\"histogram2dcontour\",\"colorbar\":{\"outlinewidth\":0,\"ticks\":\"\"},\"colorscale\":[[0.0,\"#0d0887\"],[0.1111111111111111,\"#46039f\"],[0.2222222222222222,\"#7201a8\"],[0.3333333333333333,\"#9c179e\"],[0.4444444444444444,\"#bd3786\"],[0.5555555555555556,\"#d8576b\"],[0.6666666666666666,\"#ed7953\"],[0.7777777777777778,\"#fb9f3a\"],[0.8888888888888888,\"#fdca26\"],[1.0,\"#f0f921\"]]}],\"choropleth\":[{\"type\":\"choropleth\",\"colorbar\":{\"outlinewidth\":0,\"ticks\":\"\"}}],\"histogram2d\":[{\"type\":\"histogram2d\",\"colorbar\":{\"outlinewidth\":0,\"ticks\":\"\"},\"colorscale\":[[0.0,\"#0d0887\"],[0.1111111111111111,\"#46039f\"],[0.2222222222222222,\"#7201a8\"],[0.3333333333333333,\"#9c179e\"],[0.4444444444444444,\"#bd3786\"],[0.5555555555555556,\"#d8576b\"],[0.6666666666666666,\"#ed7953\"],[0.7777777777777778,\"#fb9f3a\"],[0.8888888888888888,\"#fdca26\"],[1.0,\"#f0f921\"]]}],\"heatmap\":[{\"type\":\"heatmap\",\"colorbar\":{\"outlinewidth\":0,\"ticks\":\"\"},\"colorscale\":[[0.0,\"#0d0887\"],[0.1111111111111111,\"#46039f\"],[0.2222222222222222,\"#7201a8\"],[0.3333333333333333,\"#9c179e\"],[0.4444444444444444,\"#bd3786\"],[0.5555555555555556,\"#d8576b\"],[0.6666666666666666,\"#ed7953\"],[0.7777777777777778,\"#fb9f3a\"],[0.8888888888888888,\"#fdca26\"],[1.0,\"#f0f921\"]]}],\"heatmapgl\":[{\"type\":\"heatmapgl\",\"colorbar\":{\"outlinewidth\":0,\"ticks\":\"\"},\"colorscale\":[[0.0,\"#0d0887\"],[0.1111111111111111,\"#46039f\"],[0.2222222222222222,\"#7201a8\"],[0.3333333333333333,\"#9c179e\"],[0.4444444444444444,\"#bd3786\"],[0.5555555555555556,\"#d8576b\"],[0.6666666666666666,\"#ed7953\"],[0.7777777777777778,\"#fb9f3a\"],[0.8888888888888888,\"#fdca26\"],[1.0,\"#f0f921\"]]}],\"contourcarpet\":[{\"type\":\"contourcarpet\",\"colorbar\":{\"outlinewidth\":0,\"ticks\":\"\"}}],\"contour\":[{\"type\":\"contour\",\"colorbar\":{\"outlinewidth\":0,\"ticks\":\"\"},\"colorscale\":[[0.0,\"#0d0887\"],[0.1111111111111111,\"#46039f\"],[0.2222222222222222,\"#7201a8\"],[0.3333333333333333,\"#9c179e\"],[0.4444444444444444,\"#bd3786\"],[0.5555555555555556,\"#d8576b\"],[0.6666666666666666,\"#ed7953\"],[0.7777777777777778,\"#fb9f3a\"],[0.8888888888888888,\"#fdca26\"],[1.0,\"#f0f921\"]]}],\"surface\":[{\"type\":\"surface\",\"colorbar\":{\"outlinewidth\":0,\"ticks\":\"\"},\"colorscale\":[[0.0,\"#0d0887\"],[0.1111111111111111,\"#46039f\"],[0.2222222222222222,\"#7201a8\"],[0.3333333333333333,\"#9c179e\"],[0.4444444444444444,\"#bd3786\"],[0.5555555555555556,\"#d8576b\"],[0.6666666666666666,\"#ed7953\"],[0.7777777777777778,\"#fb9f3a\"],[0.8888888888888888,\"#fdca26\"],[1.0,\"#f0f921\"]]}],\"mesh3d\":[{\"type\":\"mesh3d\",\"colorbar\":{\"outlinewidth\":0,\"ticks\":\"\"}}],\"scatter\":[{\"fillpattern\":{\"fillmode\":\"overlay\",\"size\":10,\"solidity\":0.2},\"type\":\"scatter\"}],\"parcoords\":[{\"type\":\"parcoords\",\"line\":{\"colorbar\":{\"outlinewidth\":0,\"ticks\":\"\"}}}],\"scatterpolargl\":[{\"type\":\"scatterpolargl\",\"marker\":{\"colorbar\":{\"outlinewidth\":0,\"ticks\":\"\"}}}],\"bar\":[{\"error_x\":{\"color\":\"#2a3f5f\"},\"error_y\":{\"color\":\"#2a3f5f\"},\"marker\":{\"line\":{\"color\":\"#E5ECF6\",\"width\":0.5},\"pattern\":{\"fillmode\":\"overlay\",\"size\":10,\"solidity\":0.2}},\"type\":\"bar\"}],\"scattergeo\":[{\"type\":\"scattergeo\",\"marker\":{\"colorbar\":{\"outlinewidth\":0,\"ticks\":\"\"}}}],\"scatterpolar\":[{\"type\":\"scatterpolar\",\"marker\":{\"colorbar\":{\"outlinewidth\":0,\"ticks\":\"\"}}}],\"histogram\":[{\"marker\":{\"pattern\":{\"fillmode\":\"overlay\",\"size\":10,\"solidity\":0.2}},\"type\":\"histogram\"}],\"scattergl\":[{\"type\":\"scattergl\",\"marker\":{\"colorbar\":{\"outlinewidth\":0,\"ticks\":\"\"}}}],\"scatter3d\":[{\"type\":\"scatter3d\",\"line\":{\"colorbar\":{\"outlinewidth\":0,\"ticks\":\"\"}},\"marker\":{\"colorbar\":{\"outlinewidth\":0,\"ticks\":\"\"}}}],\"scattermapbox\":[{\"type\":\"scattermapbox\",\"marker\":{\"colorbar\":{\"outlinewidth\":0,\"ticks\":\"\"}}}],\"scatterternary\":[{\"type\":\"scatterternary\",\"marker\":{\"colorbar\":{\"outlinewidth\":0,\"ticks\":\"\"}}}],\"scattercarpet\":[{\"type\":\"scattercarpet\",\"marker\":{\"colorbar\":{\"outlinewidth\":0,\"ticks\":\"\"}}}],\"carpet\":[{\"aaxis\":{\"endlinecolor\":\"#2a3f5f\",\"gridcolor\":\"white\",\"linecolor\":\"white\",\"minorgridcolor\":\"white\",\"startlinecolor\":\"#2a3f5f\"},\"baxis\":{\"endlinecolor\":\"#2a3f5f\",\"gridcolor\":\"white\",\"linecolor\":\"white\",\"minorgridcolor\":\"white\",\"startlinecolor\":\"#2a3f5f\"},\"type\":\"carpet\"}],\"table\":[{\"cells\":{\"fill\":{\"color\":\"#EBF0F8\"},\"line\":{\"color\":\"white\"}},\"header\":{\"fill\":{\"color\":\"#C8D4E3\"},\"line\":{\"color\":\"white\"}},\"type\":\"table\"}],\"barpolar\":[{\"marker\":{\"line\":{\"color\":\"#E5ECF6\",\"width\":0.5},\"pattern\":{\"fillmode\":\"overlay\",\"size\":10,\"solidity\":0.2}},\"type\":\"barpolar\"}],\"pie\":[{\"automargin\":true,\"type\":\"pie\"}]},\"layout\":{\"autotypenumbers\":\"strict\",\"colorway\":[\"#636efa\",\"#EF553B\",\"#00cc96\",\"#ab63fa\",\"#FFA15A\",\"#19d3f3\",\"#FF6692\",\"#B6E880\",\"#FF97FF\",\"#FECB52\"],\"font\":{\"color\":\"#2a3f5f\"},\"hovermode\":\"closest\",\"hoverlabel\":{\"align\":\"left\"},\"paper_bgcolor\":\"white\",\"plot_bgcolor\":\"#E5ECF6\",\"polar\":{\"bgcolor\":\"#E5ECF6\",\"angularaxis\":{\"gridcolor\":\"white\",\"linecolor\":\"white\",\"ticks\":\"\"},\"radialaxis\":{\"gridcolor\":\"white\",\"linecolor\":\"white\",\"ticks\":\"\"}},\"ternary\":{\"bgcolor\":\"#E5ECF6\",\"aaxis\":{\"gridcolor\":\"white\",\"linecolor\":\"white\",\"ticks\":\"\"},\"baxis\":{\"gridcolor\":\"white\",\"linecolor\":\"white\",\"ticks\":\"\"},\"caxis\":{\"gridcolor\":\"white\",\"linecolor\":\"white\",\"ticks\":\"\"}},\"coloraxis\":{\"colorbar\":{\"outlinewidth\":0,\"ticks\":\"\"}},\"colorscale\":{\"sequential\":[[0.0,\"#0d0887\"],[0.1111111111111111,\"#46039f\"],[0.2222222222222222,\"#7201a8\"],[0.3333333333333333,\"#9c179e\"],[0.4444444444444444,\"#bd3786\"],[0.5555555555555556,\"#d8576b\"],[0.6666666666666666,\"#ed7953\"],[0.7777777777777778,\"#fb9f3a\"],[0.8888888888888888,\"#fdca26\"],[1.0,\"#f0f921\"]],\"sequentialminus\":[[0.0,\"#0d0887\"],[0.1111111111111111,\"#46039f\"],[0.2222222222222222,\"#7201a8\"],[0.3333333333333333,\"#9c179e\"],[0.4444444444444444,\"#bd3786\"],[0.5555555555555556,\"#d8576b\"],[0.6666666666666666,\"#ed7953\"],[0.7777777777777778,\"#fb9f3a\"],[0.8888888888888888,\"#fdca26\"],[1.0,\"#f0f921\"]],\"diverging\":[[0,\"#8e0152\"],[0.1,\"#c51b7d\"],[0.2,\"#de77ae\"],[0.3,\"#f1b6da\"],[0.4,\"#fde0ef\"],[0.5,\"#f7f7f7\"],[0.6,\"#e6f5d0\"],[0.7,\"#b8e186\"],[0.8,\"#7fbc41\"],[0.9,\"#4d9221\"],[1,\"#276419\"]]},\"xaxis\":{\"gridcolor\":\"white\",\"linecolor\":\"white\",\"ticks\":\"\",\"title\":{\"standoff\":15},\"zerolinecolor\":\"white\",\"automargin\":true,\"zerolinewidth\":2},\"yaxis\":{\"gridcolor\":\"white\",\"linecolor\":\"white\",\"ticks\":\"\",\"title\":{\"standoff\":15},\"zerolinecolor\":\"white\",\"automargin\":true,\"zerolinewidth\":2},\"scene\":{\"xaxis\":{\"backgroundcolor\":\"#E5ECF6\",\"gridcolor\":\"white\",\"linecolor\":\"white\",\"showbackground\":true,\"ticks\":\"\",\"zerolinecolor\":\"white\",\"gridwidth\":2},\"yaxis\":{\"backgroundcolor\":\"#E5ECF6\",\"gridcolor\":\"white\",\"linecolor\":\"white\",\"showbackground\":true,\"ticks\":\"\",\"zerolinecolor\":\"white\",\"gridwidth\":2},\"zaxis\":{\"backgroundcolor\":\"#E5ECF6\",\"gridcolor\":\"white\",\"linecolor\":\"white\",\"showbackground\":true,\"ticks\":\"\",\"zerolinecolor\":\"white\",\"gridwidth\":2}},\"shapedefaults\":{\"line\":{\"color\":\"#2a3f5f\"}},\"annotationdefaults\":{\"arrowcolor\":\"#2a3f5f\",\"arrowhead\":0,\"arrowwidth\":1},\"geo\":{\"bgcolor\":\"white\",\"landcolor\":\"#E5ECF6\",\"subunitcolor\":\"white\",\"showland\":true,\"showlakes\":true,\"lakecolor\":\"white\"},\"title\":{\"x\":0.05},\"mapbox\":{\"style\":\"light\"}}}},                        {\"responsive\": true}                    ).then(function(){\n",
       "                            \n",
       "var gd = document.getElementById('cb2f9c4b-7772-4dca-b054-874b689c6cda');\n",
       "var x = new MutationObserver(function (mutations, observer) {{\n",
       "        var display = window.getComputedStyle(gd).display;\n",
       "        if (!display || display === 'none') {{\n",
       "            console.log([gd, 'removed!']);\n",
       "            Plotly.purge(gd);\n",
       "            observer.disconnect();\n",
       "        }}\n",
       "}});\n",
       "\n",
       "// Listen for the removal of the full notebook cells\n",
       "var notebookContainer = gd.closest('#notebook-container');\n",
       "if (notebookContainer) {{\n",
       "    x.observe(notebookContainer, {childList: true});\n",
       "}}\n",
       "\n",
       "// Listen for the clearing of the current output cell\n",
       "var outputEl = gd.closest('.output');\n",
       "if (outputEl) {{\n",
       "    x.observe(outputEl, {childList: true});\n",
       "}}\n",
       "\n",
       "                        })                };                });            </script>        </div>"
      ]
     },
     "metadata": {},
     "output_type": "display_data"
    }
   ],
   "source": [
    "fig.show()"
   ]
  },
  {
   "cell_type": "code",
   "execution_count": 142,
   "id": "f06eda65",
   "metadata": {},
   "outputs": [
    {
     "data": {
      "text/html": [
       "<div>\n",
       "<style scoped>\n",
       "    .dataframe tbody tr th:only-of-type {\n",
       "        vertical-align: middle;\n",
       "    }\n",
       "\n",
       "    .dataframe tbody tr th {\n",
       "        vertical-align: top;\n",
       "    }\n",
       "\n",
       "    .dataframe thead th {\n",
       "        text-align: right;\n",
       "    }\n",
       "</style>\n",
       "<table border=\"1\" class=\"dataframe\">\n",
       "  <thead>\n",
       "    <tr style=\"text-align: right;\">\n",
       "      <th></th>\n",
       "      <th>age</th>\n",
       "      <th>male</th>\n",
       "      <th>female</th>\n",
       "      <th>all</th>\n",
       "    </tr>\n",
       "  </thead>\n",
       "  <tbody>\n",
       "    <tr>\n",
       "      <th>0</th>\n",
       "      <td>0 to 9</td>\n",
       "      <td>2075391</td>\n",
       "      <td>2065096</td>\n",
       "      <td>4140487.0</td>\n",
       "    </tr>\n",
       "    <tr>\n",
       "      <th>1</th>\n",
       "      <td>10 to 19</td>\n",
       "      <td>1711664</td>\n",
       "      <td>1711627</td>\n",
       "      <td>3423291.0</td>\n",
       "    </tr>\n",
       "    <tr>\n",
       "      <th>2</th>\n",
       "      <td>20 to 29</td>\n",
       "      <td>1395091</td>\n",
       "      <td>1542876</td>\n",
       "      <td>2937967.0</td>\n",
       "    </tr>\n",
       "    <tr>\n",
       "      <th>3</th>\n",
       "      <td>30 to 39</td>\n",
       "      <td>1073914</td>\n",
       "      <td>1140383</td>\n",
       "      <td>2214297.0</td>\n",
       "    </tr>\n",
       "    <tr>\n",
       "      <th>4</th>\n",
       "      <td>40 to 49</td>\n",
       "      <td>810979</td>\n",
       "      <td>845260</td>\n",
       "      <td>1656239.0</td>\n",
       "    </tr>\n",
       "    <tr>\n",
       "      <th>5</th>\n",
       "      <td>50 to 59</td>\n",
       "      <td>560534</td>\n",
       "      <td>592970</td>\n",
       "      <td>1153504.0</td>\n",
       "    </tr>\n",
       "    <tr>\n",
       "      <th>6</th>\n",
       "      <td>60 to 69</td>\n",
       "      <td>351893</td>\n",
       "      <td>399019</td>\n",
       "      <td>750912.0</td>\n",
       "    </tr>\n",
       "    <tr>\n",
       "      <th>7</th>\n",
       "      <td>70 to 79</td>\n",
       "      <td>166194</td>\n",
       "      <td>199326</td>\n",
       "      <td>365520.0</td>\n",
       "    </tr>\n",
       "    <tr>\n",
       "      <th>8</th>\n",
       "      <td>80+</td>\n",
       "      <td>40772</td>\n",
       "      <td>55704</td>\n",
       "      <td>96476.0</td>\n",
       "    </tr>\n",
       "    <tr>\n",
       "      <th>9</th>\n",
       "      <td>Total</td>\n",
       "      <td>8186432</td>\n",
       "      <td>8552261</td>\n",
       "      <td>NaN</td>\n",
       "    </tr>\n",
       "    <tr>\n",
       "      <th>10</th>\n",
       "      <td>Total</td>\n",
       "      <td>16372864</td>\n",
       "      <td>17104522</td>\n",
       "      <td>NaN</td>\n",
       "    </tr>\n",
       "  </tbody>\n",
       "</table>\n",
       "</div>"
      ],
      "text/plain": [
       "         age      male    female        all\n",
       "0     0 to 9   2075391   2065096  4140487.0\n",
       "1   10 to 19   1711664   1711627  3423291.0\n",
       "2   20 to 29   1395091   1542876  2937967.0\n",
       "3   30 to 39   1073914   1140383  2214297.0\n",
       "4   40 to 49    810979    845260  1656239.0\n",
       "5   50 to 59    560534    592970  1153504.0\n",
       "6   60 to 69    351893    399019   750912.0\n",
       "7   70 to 79    166194    199326   365520.0\n",
       "8        80+     40772     55704    96476.0\n",
       "9      Total   8186432   8552261        NaN\n",
       "10     Total  16372864  17104522        NaN"
      ]
     },
     "execution_count": 142,
     "metadata": {},
     "output_type": "execute_result"
    }
   ],
   "source": [
    "new_row = pd.DataFrame({'age':'Total', 'male':df['male'].sum(), 'female':df['female'].sum()}, index=[len(df)])\n",
    "df = pd.concat([new_row,df.loc[:]]).sort_index()\n",
    "df"
   ]
  },
  {
   "cell_type": "code",
   "execution_count": 145,
   "id": "332ab970",
   "metadata": {},
   "outputs": [
    {
     "data": {
      "text/html": [
       "<div>\n",
       "<style scoped>\n",
       "    .dataframe tbody tr th:only-of-type {\n",
       "        vertical-align: middle;\n",
       "    }\n",
       "\n",
       "    .dataframe tbody tr th {\n",
       "        vertical-align: top;\n",
       "    }\n",
       "\n",
       "    .dataframe thead th {\n",
       "        text-align: right;\n",
       "    }\n",
       "</style>\n",
       "<table border=\"1\" class=\"dataframe\">\n",
       "  <thead>\n",
       "    <tr style=\"text-align: right;\">\n",
       "      <th></th>\n",
       "      <th>age</th>\n",
       "      <th>male</th>\n",
       "      <th>female</th>\n",
       "      <th>all</th>\n",
       "    </tr>\n",
       "  </thead>\n",
       "  <tbody>\n",
       "    <tr>\n",
       "      <th>0</th>\n",
       "      <td>0 to 9</td>\n",
       "      <td>2075391</td>\n",
       "      <td>2065096</td>\n",
       "      <td>4140487</td>\n",
       "    </tr>\n",
       "    <tr>\n",
       "      <th>1</th>\n",
       "      <td>10 to 19</td>\n",
       "      <td>1711664</td>\n",
       "      <td>1711627</td>\n",
       "      <td>3423291</td>\n",
       "    </tr>\n",
       "    <tr>\n",
       "      <th>2</th>\n",
       "      <td>20 to 29</td>\n",
       "      <td>1395091</td>\n",
       "      <td>1542876</td>\n",
       "      <td>2937967</td>\n",
       "    </tr>\n",
       "    <tr>\n",
       "      <th>3</th>\n",
       "      <td>30 to 39</td>\n",
       "      <td>1073914</td>\n",
       "      <td>1140383</td>\n",
       "      <td>2214297</td>\n",
       "    </tr>\n",
       "    <tr>\n",
       "      <th>4</th>\n",
       "      <td>40 to 49</td>\n",
       "      <td>810979</td>\n",
       "      <td>845260</td>\n",
       "      <td>1656239</td>\n",
       "    </tr>\n",
       "    <tr>\n",
       "      <th>5</th>\n",
       "      <td>50 to 59</td>\n",
       "      <td>560534</td>\n",
       "      <td>592970</td>\n",
       "      <td>1153504</td>\n",
       "    </tr>\n",
       "    <tr>\n",
       "      <th>6</th>\n",
       "      <td>60 to 69</td>\n",
       "      <td>351893</td>\n",
       "      <td>399019</td>\n",
       "      <td>750912</td>\n",
       "    </tr>\n",
       "    <tr>\n",
       "      <th>7</th>\n",
       "      <td>70 to 79</td>\n",
       "      <td>166194</td>\n",
       "      <td>199326</td>\n",
       "      <td>365520</td>\n",
       "    </tr>\n",
       "    <tr>\n",
       "      <th>8</th>\n",
       "      <td>80+</td>\n",
       "      <td>40772</td>\n",
       "      <td>55704</td>\n",
       "      <td>96476</td>\n",
       "    </tr>\n",
       "    <tr>\n",
       "      <th>9</th>\n",
       "      <td>Total</td>\n",
       "      <td>8186432</td>\n",
       "      <td>8552261</td>\n",
       "      <td>16738693</td>\n",
       "    </tr>\n",
       "  </tbody>\n",
       "</table>\n",
       "</div>"
      ],
      "text/plain": [
       "        age     male   female       all\n",
       "0    0 to 9  2075391  2065096   4140487\n",
       "1  10 to 19  1711664  1711627   3423291\n",
       "2  20 to 29  1395091  1542876   2937967\n",
       "3  30 to 39  1073914  1140383   2214297\n",
       "4  40 to 49   810979   845260   1656239\n",
       "5  50 to 59   560534   592970   1153504\n",
       "6  60 to 69   351893   399019    750912\n",
       "7  70 to 79   166194   199326    365520\n",
       "8       80+    40772    55704     96476\n",
       "9     Total  8186432  8552261  16738693"
      ]
     },
     "execution_count": 145,
     "metadata": {},
     "output_type": "execute_result"
    }
   ],
   "source": [
    "# df = df.drop(df.index[-1])\n",
    "df['all'] = df['male']+df['female']\n",
    "df"
   ]
  },
  {
   "cell_type": "code",
   "execution_count": 164,
   "id": "a111a710",
   "metadata": {},
   "outputs": [
    {
     "data": {
      "text/plain": [
       "10"
      ]
     },
     "execution_count": 164,
     "metadata": {},
     "output_type": "execute_result"
    }
   ],
   "source": [
    "len(df)"
   ]
  },
  {
   "cell_type": "code",
   "execution_count": 165,
   "id": "bf083397",
   "metadata": {},
   "outputs": [
    {
     "data": {
      "text/plain": [
       "8186432"
      ]
     },
     "execution_count": 165,
     "metadata": {},
     "output_type": "execute_result"
    }
   ],
   "source": [
    "df.loc[len(df)-1,'male']"
   ]
  },
  {
   "cell_type": "code",
   "execution_count": 166,
   "id": "bc7f0a6d",
   "metadata": {},
   "outputs": [
    {
     "data": {
      "text/plain": [
       "8552261"
      ]
     },
     "execution_count": 166,
     "metadata": {},
     "output_type": "execute_result"
    }
   ],
   "source": [
    "df.loc[len(df)-1,'female']"
   ]
  },
  {
   "cell_type": "code",
   "execution_count": 167,
   "id": "6c2496d7",
   "metadata": {},
   "outputs": [
    {
     "data": {
      "text/plain": [
       "'Total'"
      ]
     },
     "execution_count": 167,
     "metadata": {},
     "output_type": "execute_result"
    }
   ],
   "source": [
    "df.loc[len(df)-1,'age']"
   ]
  },
  {
   "cell_type": "code",
   "execution_count": 168,
   "id": "41bd974d",
   "metadata": {},
   "outputs": [],
   "source": [
    "fig = go.Figure(data=[\n",
    "    go.Pie(\n",
    "        values=[df.loc[len(df)-1,'male'],df.loc[len(df)-1,'female']],\n",
    "        labels=[\"male\",\"female\"],\n",
    "        title=\"Population according to UK census\",\n",
    "        domain=dict(x=[0.5, 1.0])\n",
    "    )\n",
    "])"
   ]
  },
  {
   "cell_type": "code",
   "execution_count": 169,
   "id": "de9326a6",
   "metadata": {},
   "outputs": [
    {
     "data": {
      "application/vnd.plotly.v1+json": {
       "config": {
        "plotlyServerURL": "https://plot.ly"
       },
       "data": [
        {
         "domain": {
          "x": [
           0.5,
           1
          ]
         },
         "labels": [
          "male",
          "female"
         ],
         "title": {
          "text": "Population according to UK census"
         },
         "type": "pie",
         "values": [
          8186432,
          8552261
         ]
        }
       ],
       "layout": {
        "template": {
         "data": {
          "bar": [
           {
            "error_x": {
             "color": "#2a3f5f"
            },
            "error_y": {
             "color": "#2a3f5f"
            },
            "marker": {
             "line": {
              "color": "#E5ECF6",
              "width": 0.5
             },
             "pattern": {
              "fillmode": "overlay",
              "size": 10,
              "solidity": 0.2
             }
            },
            "type": "bar"
           }
          ],
          "barpolar": [
           {
            "marker": {
             "line": {
              "color": "#E5ECF6",
              "width": 0.5
             },
             "pattern": {
              "fillmode": "overlay",
              "size": 10,
              "solidity": 0.2
             }
            },
            "type": "barpolar"
           }
          ],
          "carpet": [
           {
            "aaxis": {
             "endlinecolor": "#2a3f5f",
             "gridcolor": "white",
             "linecolor": "white",
             "minorgridcolor": "white",
             "startlinecolor": "#2a3f5f"
            },
            "baxis": {
             "endlinecolor": "#2a3f5f",
             "gridcolor": "white",
             "linecolor": "white",
             "minorgridcolor": "white",
             "startlinecolor": "#2a3f5f"
            },
            "type": "carpet"
           }
          ],
          "choropleth": [
           {
            "colorbar": {
             "outlinewidth": 0,
             "ticks": ""
            },
            "type": "choropleth"
           }
          ],
          "contour": [
           {
            "colorbar": {
             "outlinewidth": 0,
             "ticks": ""
            },
            "colorscale": [
             [
              0,
              "#0d0887"
             ],
             [
              0.1111111111111111,
              "#46039f"
             ],
             [
              0.2222222222222222,
              "#7201a8"
             ],
             [
              0.3333333333333333,
              "#9c179e"
             ],
             [
              0.4444444444444444,
              "#bd3786"
             ],
             [
              0.5555555555555556,
              "#d8576b"
             ],
             [
              0.6666666666666666,
              "#ed7953"
             ],
             [
              0.7777777777777778,
              "#fb9f3a"
             ],
             [
              0.8888888888888888,
              "#fdca26"
             ],
             [
              1,
              "#f0f921"
             ]
            ],
            "type": "contour"
           }
          ],
          "contourcarpet": [
           {
            "colorbar": {
             "outlinewidth": 0,
             "ticks": ""
            },
            "type": "contourcarpet"
           }
          ],
          "heatmap": [
           {
            "colorbar": {
             "outlinewidth": 0,
             "ticks": ""
            },
            "colorscale": [
             [
              0,
              "#0d0887"
             ],
             [
              0.1111111111111111,
              "#46039f"
             ],
             [
              0.2222222222222222,
              "#7201a8"
             ],
             [
              0.3333333333333333,
              "#9c179e"
             ],
             [
              0.4444444444444444,
              "#bd3786"
             ],
             [
              0.5555555555555556,
              "#d8576b"
             ],
             [
              0.6666666666666666,
              "#ed7953"
             ],
             [
              0.7777777777777778,
              "#fb9f3a"
             ],
             [
              0.8888888888888888,
              "#fdca26"
             ],
             [
              1,
              "#f0f921"
             ]
            ],
            "type": "heatmap"
           }
          ],
          "heatmapgl": [
           {
            "colorbar": {
             "outlinewidth": 0,
             "ticks": ""
            },
            "colorscale": [
             [
              0,
              "#0d0887"
             ],
             [
              0.1111111111111111,
              "#46039f"
             ],
             [
              0.2222222222222222,
              "#7201a8"
             ],
             [
              0.3333333333333333,
              "#9c179e"
             ],
             [
              0.4444444444444444,
              "#bd3786"
             ],
             [
              0.5555555555555556,
              "#d8576b"
             ],
             [
              0.6666666666666666,
              "#ed7953"
             ],
             [
              0.7777777777777778,
              "#fb9f3a"
             ],
             [
              0.8888888888888888,
              "#fdca26"
             ],
             [
              1,
              "#f0f921"
             ]
            ],
            "type": "heatmapgl"
           }
          ],
          "histogram": [
           {
            "marker": {
             "pattern": {
              "fillmode": "overlay",
              "size": 10,
              "solidity": 0.2
             }
            },
            "type": "histogram"
           }
          ],
          "histogram2d": [
           {
            "colorbar": {
             "outlinewidth": 0,
             "ticks": ""
            },
            "colorscale": [
             [
              0,
              "#0d0887"
             ],
             [
              0.1111111111111111,
              "#46039f"
             ],
             [
              0.2222222222222222,
              "#7201a8"
             ],
             [
              0.3333333333333333,
              "#9c179e"
             ],
             [
              0.4444444444444444,
              "#bd3786"
             ],
             [
              0.5555555555555556,
              "#d8576b"
             ],
             [
              0.6666666666666666,
              "#ed7953"
             ],
             [
              0.7777777777777778,
              "#fb9f3a"
             ],
             [
              0.8888888888888888,
              "#fdca26"
             ],
             [
              1,
              "#f0f921"
             ]
            ],
            "type": "histogram2d"
           }
          ],
          "histogram2dcontour": [
           {
            "colorbar": {
             "outlinewidth": 0,
             "ticks": ""
            },
            "colorscale": [
             [
              0,
              "#0d0887"
             ],
             [
              0.1111111111111111,
              "#46039f"
             ],
             [
              0.2222222222222222,
              "#7201a8"
             ],
             [
              0.3333333333333333,
              "#9c179e"
             ],
             [
              0.4444444444444444,
              "#bd3786"
             ],
             [
              0.5555555555555556,
              "#d8576b"
             ],
             [
              0.6666666666666666,
              "#ed7953"
             ],
             [
              0.7777777777777778,
              "#fb9f3a"
             ],
             [
              0.8888888888888888,
              "#fdca26"
             ],
             [
              1,
              "#f0f921"
             ]
            ],
            "type": "histogram2dcontour"
           }
          ],
          "mesh3d": [
           {
            "colorbar": {
             "outlinewidth": 0,
             "ticks": ""
            },
            "type": "mesh3d"
           }
          ],
          "parcoords": [
           {
            "line": {
             "colorbar": {
              "outlinewidth": 0,
              "ticks": ""
             }
            },
            "type": "parcoords"
           }
          ],
          "pie": [
           {
            "automargin": true,
            "type": "pie"
           }
          ],
          "scatter": [
           {
            "fillpattern": {
             "fillmode": "overlay",
             "size": 10,
             "solidity": 0.2
            },
            "type": "scatter"
           }
          ],
          "scatter3d": [
           {
            "line": {
             "colorbar": {
              "outlinewidth": 0,
              "ticks": ""
             }
            },
            "marker": {
             "colorbar": {
              "outlinewidth": 0,
              "ticks": ""
             }
            },
            "type": "scatter3d"
           }
          ],
          "scattercarpet": [
           {
            "marker": {
             "colorbar": {
              "outlinewidth": 0,
              "ticks": ""
             }
            },
            "type": "scattercarpet"
           }
          ],
          "scattergeo": [
           {
            "marker": {
             "colorbar": {
              "outlinewidth": 0,
              "ticks": ""
             }
            },
            "type": "scattergeo"
           }
          ],
          "scattergl": [
           {
            "marker": {
             "colorbar": {
              "outlinewidth": 0,
              "ticks": ""
             }
            },
            "type": "scattergl"
           }
          ],
          "scattermapbox": [
           {
            "marker": {
             "colorbar": {
              "outlinewidth": 0,
              "ticks": ""
             }
            },
            "type": "scattermapbox"
           }
          ],
          "scatterpolar": [
           {
            "marker": {
             "colorbar": {
              "outlinewidth": 0,
              "ticks": ""
             }
            },
            "type": "scatterpolar"
           }
          ],
          "scatterpolargl": [
           {
            "marker": {
             "colorbar": {
              "outlinewidth": 0,
              "ticks": ""
             }
            },
            "type": "scatterpolargl"
           }
          ],
          "scatterternary": [
           {
            "marker": {
             "colorbar": {
              "outlinewidth": 0,
              "ticks": ""
             }
            },
            "type": "scatterternary"
           }
          ],
          "surface": [
           {
            "colorbar": {
             "outlinewidth": 0,
             "ticks": ""
            },
            "colorscale": [
             [
              0,
              "#0d0887"
             ],
             [
              0.1111111111111111,
              "#46039f"
             ],
             [
              0.2222222222222222,
              "#7201a8"
             ],
             [
              0.3333333333333333,
              "#9c179e"
             ],
             [
              0.4444444444444444,
              "#bd3786"
             ],
             [
              0.5555555555555556,
              "#d8576b"
             ],
             [
              0.6666666666666666,
              "#ed7953"
             ],
             [
              0.7777777777777778,
              "#fb9f3a"
             ],
             [
              0.8888888888888888,
              "#fdca26"
             ],
             [
              1,
              "#f0f921"
             ]
            ],
            "type": "surface"
           }
          ],
          "table": [
           {
            "cells": {
             "fill": {
              "color": "#EBF0F8"
             },
             "line": {
              "color": "white"
             }
            },
            "header": {
             "fill": {
              "color": "#C8D4E3"
             },
             "line": {
              "color": "white"
             }
            },
            "type": "table"
           }
          ]
         },
         "layout": {
          "annotationdefaults": {
           "arrowcolor": "#2a3f5f",
           "arrowhead": 0,
           "arrowwidth": 1
          },
          "autotypenumbers": "strict",
          "coloraxis": {
           "colorbar": {
            "outlinewidth": 0,
            "ticks": ""
           }
          },
          "colorscale": {
           "diverging": [
            [
             0,
             "#8e0152"
            ],
            [
             0.1,
             "#c51b7d"
            ],
            [
             0.2,
             "#de77ae"
            ],
            [
             0.3,
             "#f1b6da"
            ],
            [
             0.4,
             "#fde0ef"
            ],
            [
             0.5,
             "#f7f7f7"
            ],
            [
             0.6,
             "#e6f5d0"
            ],
            [
             0.7,
             "#b8e186"
            ],
            [
             0.8,
             "#7fbc41"
            ],
            [
             0.9,
             "#4d9221"
            ],
            [
             1,
             "#276419"
            ]
           ],
           "sequential": [
            [
             0,
             "#0d0887"
            ],
            [
             0.1111111111111111,
             "#46039f"
            ],
            [
             0.2222222222222222,
             "#7201a8"
            ],
            [
             0.3333333333333333,
             "#9c179e"
            ],
            [
             0.4444444444444444,
             "#bd3786"
            ],
            [
             0.5555555555555556,
             "#d8576b"
            ],
            [
             0.6666666666666666,
             "#ed7953"
            ],
            [
             0.7777777777777778,
             "#fb9f3a"
            ],
            [
             0.8888888888888888,
             "#fdca26"
            ],
            [
             1,
             "#f0f921"
            ]
           ],
           "sequentialminus": [
            [
             0,
             "#0d0887"
            ],
            [
             0.1111111111111111,
             "#46039f"
            ],
            [
             0.2222222222222222,
             "#7201a8"
            ],
            [
             0.3333333333333333,
             "#9c179e"
            ],
            [
             0.4444444444444444,
             "#bd3786"
            ],
            [
             0.5555555555555556,
             "#d8576b"
            ],
            [
             0.6666666666666666,
             "#ed7953"
            ],
            [
             0.7777777777777778,
             "#fb9f3a"
            ],
            [
             0.8888888888888888,
             "#fdca26"
            ],
            [
             1,
             "#f0f921"
            ]
           ]
          },
          "colorway": [
           "#636efa",
           "#EF553B",
           "#00cc96",
           "#ab63fa",
           "#FFA15A",
           "#19d3f3",
           "#FF6692",
           "#B6E880",
           "#FF97FF",
           "#FECB52"
          ],
          "font": {
           "color": "#2a3f5f"
          },
          "geo": {
           "bgcolor": "white",
           "lakecolor": "white",
           "landcolor": "#E5ECF6",
           "showlakes": true,
           "showland": true,
           "subunitcolor": "white"
          },
          "hoverlabel": {
           "align": "left"
          },
          "hovermode": "closest",
          "mapbox": {
           "style": "light"
          },
          "paper_bgcolor": "white",
          "plot_bgcolor": "#E5ECF6",
          "polar": {
           "angularaxis": {
            "gridcolor": "white",
            "linecolor": "white",
            "ticks": ""
           },
           "bgcolor": "#E5ECF6",
           "radialaxis": {
            "gridcolor": "white",
            "linecolor": "white",
            "ticks": ""
           }
          },
          "scene": {
           "xaxis": {
            "backgroundcolor": "#E5ECF6",
            "gridcolor": "white",
            "gridwidth": 2,
            "linecolor": "white",
            "showbackground": true,
            "ticks": "",
            "zerolinecolor": "white"
           },
           "yaxis": {
            "backgroundcolor": "#E5ECF6",
            "gridcolor": "white",
            "gridwidth": 2,
            "linecolor": "white",
            "showbackground": true,
            "ticks": "",
            "zerolinecolor": "white"
           },
           "zaxis": {
            "backgroundcolor": "#E5ECF6",
            "gridcolor": "white",
            "gridwidth": 2,
            "linecolor": "white",
            "showbackground": true,
            "ticks": "",
            "zerolinecolor": "white"
           }
          },
          "shapedefaults": {
           "line": {
            "color": "#2a3f5f"
           }
          },
          "ternary": {
           "aaxis": {
            "gridcolor": "white",
            "linecolor": "white",
            "ticks": ""
           },
           "baxis": {
            "gridcolor": "white",
            "linecolor": "white",
            "ticks": ""
           },
           "bgcolor": "#E5ECF6",
           "caxis": {
            "gridcolor": "white",
            "linecolor": "white",
            "ticks": ""
           }
          },
          "title": {
           "x": 0.05
          },
          "xaxis": {
           "automargin": true,
           "gridcolor": "white",
           "linecolor": "white",
           "ticks": "",
           "title": {
            "standoff": 15
           },
           "zerolinecolor": "white",
           "zerolinewidth": 2
          },
          "yaxis": {
           "automargin": true,
           "gridcolor": "white",
           "linecolor": "white",
           "ticks": "",
           "title": {
            "standoff": 15
           },
           "zerolinecolor": "white",
           "zerolinewidth": 2
          }
         }
        }
       }
      },
      "text/html": [
       "<div>                            <div id=\"88757cd4-b8eb-40cc-a18f-40d1a1c28873\" class=\"plotly-graph-div\" style=\"height:525px; width:100%;\"></div>            <script type=\"text/javascript\">                require([\"plotly\"], function(Plotly) {                    window.PLOTLYENV=window.PLOTLYENV || {};                                    if (document.getElementById(\"88757cd4-b8eb-40cc-a18f-40d1a1c28873\")) {                    Plotly.newPlot(                        \"88757cd4-b8eb-40cc-a18f-40d1a1c28873\",                        [{\"domain\":{\"x\":[0.5,1.0]},\"labels\":[\"male\",\"female\"],\"title\":{\"text\":\"Population according to UK census\"},\"values\":[8186432,8552261],\"type\":\"pie\"}],                        {\"template\":{\"data\":{\"histogram2dcontour\":[{\"type\":\"histogram2dcontour\",\"colorbar\":{\"outlinewidth\":0,\"ticks\":\"\"},\"colorscale\":[[0.0,\"#0d0887\"],[0.1111111111111111,\"#46039f\"],[0.2222222222222222,\"#7201a8\"],[0.3333333333333333,\"#9c179e\"],[0.4444444444444444,\"#bd3786\"],[0.5555555555555556,\"#d8576b\"],[0.6666666666666666,\"#ed7953\"],[0.7777777777777778,\"#fb9f3a\"],[0.8888888888888888,\"#fdca26\"],[1.0,\"#f0f921\"]]}],\"choropleth\":[{\"type\":\"choropleth\",\"colorbar\":{\"outlinewidth\":0,\"ticks\":\"\"}}],\"histogram2d\":[{\"type\":\"histogram2d\",\"colorbar\":{\"outlinewidth\":0,\"ticks\":\"\"},\"colorscale\":[[0.0,\"#0d0887\"],[0.1111111111111111,\"#46039f\"],[0.2222222222222222,\"#7201a8\"],[0.3333333333333333,\"#9c179e\"],[0.4444444444444444,\"#bd3786\"],[0.5555555555555556,\"#d8576b\"],[0.6666666666666666,\"#ed7953\"],[0.7777777777777778,\"#fb9f3a\"],[0.8888888888888888,\"#fdca26\"],[1.0,\"#f0f921\"]]}],\"heatmap\":[{\"type\":\"heatmap\",\"colorbar\":{\"outlinewidth\":0,\"ticks\":\"\"},\"colorscale\":[[0.0,\"#0d0887\"],[0.1111111111111111,\"#46039f\"],[0.2222222222222222,\"#7201a8\"],[0.3333333333333333,\"#9c179e\"],[0.4444444444444444,\"#bd3786\"],[0.5555555555555556,\"#d8576b\"],[0.6666666666666666,\"#ed7953\"],[0.7777777777777778,\"#fb9f3a\"],[0.8888888888888888,\"#fdca26\"],[1.0,\"#f0f921\"]]}],\"heatmapgl\":[{\"type\":\"heatmapgl\",\"colorbar\":{\"outlinewidth\":0,\"ticks\":\"\"},\"colorscale\":[[0.0,\"#0d0887\"],[0.1111111111111111,\"#46039f\"],[0.2222222222222222,\"#7201a8\"],[0.3333333333333333,\"#9c179e\"],[0.4444444444444444,\"#bd3786\"],[0.5555555555555556,\"#d8576b\"],[0.6666666666666666,\"#ed7953\"],[0.7777777777777778,\"#fb9f3a\"],[0.8888888888888888,\"#fdca26\"],[1.0,\"#f0f921\"]]}],\"contourcarpet\":[{\"type\":\"contourcarpet\",\"colorbar\":{\"outlinewidth\":0,\"ticks\":\"\"}}],\"contour\":[{\"type\":\"contour\",\"colorbar\":{\"outlinewidth\":0,\"ticks\":\"\"},\"colorscale\":[[0.0,\"#0d0887\"],[0.1111111111111111,\"#46039f\"],[0.2222222222222222,\"#7201a8\"],[0.3333333333333333,\"#9c179e\"],[0.4444444444444444,\"#bd3786\"],[0.5555555555555556,\"#d8576b\"],[0.6666666666666666,\"#ed7953\"],[0.7777777777777778,\"#fb9f3a\"],[0.8888888888888888,\"#fdca26\"],[1.0,\"#f0f921\"]]}],\"surface\":[{\"type\":\"surface\",\"colorbar\":{\"outlinewidth\":0,\"ticks\":\"\"},\"colorscale\":[[0.0,\"#0d0887\"],[0.1111111111111111,\"#46039f\"],[0.2222222222222222,\"#7201a8\"],[0.3333333333333333,\"#9c179e\"],[0.4444444444444444,\"#bd3786\"],[0.5555555555555556,\"#d8576b\"],[0.6666666666666666,\"#ed7953\"],[0.7777777777777778,\"#fb9f3a\"],[0.8888888888888888,\"#fdca26\"],[1.0,\"#f0f921\"]]}],\"mesh3d\":[{\"type\":\"mesh3d\",\"colorbar\":{\"outlinewidth\":0,\"ticks\":\"\"}}],\"scatter\":[{\"fillpattern\":{\"fillmode\":\"overlay\",\"size\":10,\"solidity\":0.2},\"type\":\"scatter\"}],\"parcoords\":[{\"type\":\"parcoords\",\"line\":{\"colorbar\":{\"outlinewidth\":0,\"ticks\":\"\"}}}],\"scatterpolargl\":[{\"type\":\"scatterpolargl\",\"marker\":{\"colorbar\":{\"outlinewidth\":0,\"ticks\":\"\"}}}],\"bar\":[{\"error_x\":{\"color\":\"#2a3f5f\"},\"error_y\":{\"color\":\"#2a3f5f\"},\"marker\":{\"line\":{\"color\":\"#E5ECF6\",\"width\":0.5},\"pattern\":{\"fillmode\":\"overlay\",\"size\":10,\"solidity\":0.2}},\"type\":\"bar\"}],\"scattergeo\":[{\"type\":\"scattergeo\",\"marker\":{\"colorbar\":{\"outlinewidth\":0,\"ticks\":\"\"}}}],\"scatterpolar\":[{\"type\":\"scatterpolar\",\"marker\":{\"colorbar\":{\"outlinewidth\":0,\"ticks\":\"\"}}}],\"histogram\":[{\"marker\":{\"pattern\":{\"fillmode\":\"overlay\",\"size\":10,\"solidity\":0.2}},\"type\":\"histogram\"}],\"scattergl\":[{\"type\":\"scattergl\",\"marker\":{\"colorbar\":{\"outlinewidth\":0,\"ticks\":\"\"}}}],\"scatter3d\":[{\"type\":\"scatter3d\",\"line\":{\"colorbar\":{\"outlinewidth\":0,\"ticks\":\"\"}},\"marker\":{\"colorbar\":{\"outlinewidth\":0,\"ticks\":\"\"}}}],\"scattermapbox\":[{\"type\":\"scattermapbox\",\"marker\":{\"colorbar\":{\"outlinewidth\":0,\"ticks\":\"\"}}}],\"scatterternary\":[{\"type\":\"scatterternary\",\"marker\":{\"colorbar\":{\"outlinewidth\":0,\"ticks\":\"\"}}}],\"scattercarpet\":[{\"type\":\"scattercarpet\",\"marker\":{\"colorbar\":{\"outlinewidth\":0,\"ticks\":\"\"}}}],\"carpet\":[{\"aaxis\":{\"endlinecolor\":\"#2a3f5f\",\"gridcolor\":\"white\",\"linecolor\":\"white\",\"minorgridcolor\":\"white\",\"startlinecolor\":\"#2a3f5f\"},\"baxis\":{\"endlinecolor\":\"#2a3f5f\",\"gridcolor\":\"white\",\"linecolor\":\"white\",\"minorgridcolor\":\"white\",\"startlinecolor\":\"#2a3f5f\"},\"type\":\"carpet\"}],\"table\":[{\"cells\":{\"fill\":{\"color\":\"#EBF0F8\"},\"line\":{\"color\":\"white\"}},\"header\":{\"fill\":{\"color\":\"#C8D4E3\"},\"line\":{\"color\":\"white\"}},\"type\":\"table\"}],\"barpolar\":[{\"marker\":{\"line\":{\"color\":\"#E5ECF6\",\"width\":0.5},\"pattern\":{\"fillmode\":\"overlay\",\"size\":10,\"solidity\":0.2}},\"type\":\"barpolar\"}],\"pie\":[{\"automargin\":true,\"type\":\"pie\"}]},\"layout\":{\"autotypenumbers\":\"strict\",\"colorway\":[\"#636efa\",\"#EF553B\",\"#00cc96\",\"#ab63fa\",\"#FFA15A\",\"#19d3f3\",\"#FF6692\",\"#B6E880\",\"#FF97FF\",\"#FECB52\"],\"font\":{\"color\":\"#2a3f5f\"},\"hovermode\":\"closest\",\"hoverlabel\":{\"align\":\"left\"},\"paper_bgcolor\":\"white\",\"plot_bgcolor\":\"#E5ECF6\",\"polar\":{\"bgcolor\":\"#E5ECF6\",\"angularaxis\":{\"gridcolor\":\"white\",\"linecolor\":\"white\",\"ticks\":\"\"},\"radialaxis\":{\"gridcolor\":\"white\",\"linecolor\":\"white\",\"ticks\":\"\"}},\"ternary\":{\"bgcolor\":\"#E5ECF6\",\"aaxis\":{\"gridcolor\":\"white\",\"linecolor\":\"white\",\"ticks\":\"\"},\"baxis\":{\"gridcolor\":\"white\",\"linecolor\":\"white\",\"ticks\":\"\"},\"caxis\":{\"gridcolor\":\"white\",\"linecolor\":\"white\",\"ticks\":\"\"}},\"coloraxis\":{\"colorbar\":{\"outlinewidth\":0,\"ticks\":\"\"}},\"colorscale\":{\"sequential\":[[0.0,\"#0d0887\"],[0.1111111111111111,\"#46039f\"],[0.2222222222222222,\"#7201a8\"],[0.3333333333333333,\"#9c179e\"],[0.4444444444444444,\"#bd3786\"],[0.5555555555555556,\"#d8576b\"],[0.6666666666666666,\"#ed7953\"],[0.7777777777777778,\"#fb9f3a\"],[0.8888888888888888,\"#fdca26\"],[1.0,\"#f0f921\"]],\"sequentialminus\":[[0.0,\"#0d0887\"],[0.1111111111111111,\"#46039f\"],[0.2222222222222222,\"#7201a8\"],[0.3333333333333333,\"#9c179e\"],[0.4444444444444444,\"#bd3786\"],[0.5555555555555556,\"#d8576b\"],[0.6666666666666666,\"#ed7953\"],[0.7777777777777778,\"#fb9f3a\"],[0.8888888888888888,\"#fdca26\"],[1.0,\"#f0f921\"]],\"diverging\":[[0,\"#8e0152\"],[0.1,\"#c51b7d\"],[0.2,\"#de77ae\"],[0.3,\"#f1b6da\"],[0.4,\"#fde0ef\"],[0.5,\"#f7f7f7\"],[0.6,\"#e6f5d0\"],[0.7,\"#b8e186\"],[0.8,\"#7fbc41\"],[0.9,\"#4d9221\"],[1,\"#276419\"]]},\"xaxis\":{\"gridcolor\":\"white\",\"linecolor\":\"white\",\"ticks\":\"\",\"title\":{\"standoff\":15},\"zerolinecolor\":\"white\",\"automargin\":true,\"zerolinewidth\":2},\"yaxis\":{\"gridcolor\":\"white\",\"linecolor\":\"white\",\"ticks\":\"\",\"title\":{\"standoff\":15},\"zerolinecolor\":\"white\",\"automargin\":true,\"zerolinewidth\":2},\"scene\":{\"xaxis\":{\"backgroundcolor\":\"#E5ECF6\",\"gridcolor\":\"white\",\"linecolor\":\"white\",\"showbackground\":true,\"ticks\":\"\",\"zerolinecolor\":\"white\",\"gridwidth\":2},\"yaxis\":{\"backgroundcolor\":\"#E5ECF6\",\"gridcolor\":\"white\",\"linecolor\":\"white\",\"showbackground\":true,\"ticks\":\"\",\"zerolinecolor\":\"white\",\"gridwidth\":2},\"zaxis\":{\"backgroundcolor\":\"#E5ECF6\",\"gridcolor\":\"white\",\"linecolor\":\"white\",\"showbackground\":true,\"ticks\":\"\",\"zerolinecolor\":\"white\",\"gridwidth\":2}},\"shapedefaults\":{\"line\":{\"color\":\"#2a3f5f\"}},\"annotationdefaults\":{\"arrowcolor\":\"#2a3f5f\",\"arrowhead\":0,\"arrowwidth\":1},\"geo\":{\"bgcolor\":\"white\",\"landcolor\":\"#E5ECF6\",\"subunitcolor\":\"white\",\"showland\":true,\"showlakes\":true,\"lakecolor\":\"white\"},\"title\":{\"x\":0.05},\"mapbox\":{\"style\":\"light\"}}}},                        {\"responsive\": true}                    ).then(function(){\n",
       "                            \n",
       "var gd = document.getElementById('88757cd4-b8eb-40cc-a18f-40d1a1c28873');\n",
       "var x = new MutationObserver(function (mutations, observer) {{\n",
       "        var display = window.getComputedStyle(gd).display;\n",
       "        if (!display || display === 'none') {{\n",
       "            console.log([gd, 'removed!']);\n",
       "            Plotly.purge(gd);\n",
       "            observer.disconnect();\n",
       "        }}\n",
       "}});\n",
       "\n",
       "// Listen for the removal of the full notebook cells\n",
       "var notebookContainer = gd.closest('#notebook-container');\n",
       "if (notebookContainer) {{\n",
       "    x.observe(notebookContainer, {childList: true});\n",
       "}}\n",
       "\n",
       "// Listen for the clearing of the current output cell\n",
       "var outputEl = gd.closest('.output');\n",
       "if (outputEl) {{\n",
       "    x.observe(outputEl, {childList: true});\n",
       "}}\n",
       "\n",
       "                        })                };                });            </script>        </div>"
      ]
     },
     "metadata": {},
     "output_type": "display_data"
    }
   ],
   "source": [
    "fig.show()"
   ]
  },
  {
   "cell_type": "code",
   "execution_count": 174,
   "id": "920bd7b7",
   "metadata": {},
   "outputs": [],
   "source": [
    "df = pd.read_csv('choleraDeathLocations.csv')"
   ]
  },
  {
   "cell_type": "code",
   "execution_count": 176,
   "id": "7e84bf54",
   "metadata": {},
   "outputs": [
    {
     "data": {
      "text/plain": [
       "0      51.513418\n",
       "1      51.513361\n",
       "2      51.513317\n",
       "3      51.513262\n",
       "4      51.513204\n",
       "         ...    \n",
       "245    51.514526\n",
       "246    51.514706\n",
       "247    51.512311\n",
       "248    51.511998\n",
       "249    51.511856\n",
       "Name: Lat, Length: 250, dtype: float64"
      ]
     },
     "execution_count": 176,
     "metadata": {},
     "output_type": "execute_result"
    }
   ],
   "source": [
    "df['Lat']"
   ]
  },
  {
   "cell_type": "code",
   "execution_count": 231,
   "id": "accd04de",
   "metadata": {},
   "outputs": [],
   "source": [
    "import plotly.express as px"
   ]
  },
  {
   "cell_type": "code",
   "execution_count": 251,
   "id": "c19b8b66",
   "metadata": {},
   "outputs": [],
   "source": [
    "fig = px.scatter_mapbox(df,\n",
    "                       lat = df['Lat'],\n",
    "                       lon = df['Lon'],\n",
    "                       zoom = 18,\n",
    "                       color = df['Deaths'],\n",
    "                       size = df['Deaths'], \n",
    "                       width = 800,\n",
    "                       height = 600,\n",
    "                       title = 'Cholera Death Locations')\n"
   ]
  },
  {
   "cell_type": "code",
   "execution_count": 252,
   "id": "c5198b2d",
   "metadata": {},
   "outputs": [
    {
     "data": {
      "application/vnd.plotly.v1+json": {
       "config": {
        "plotlyServerURL": "https://plot.ly"
       },
       "data": [
        {
         "hovertemplate": "Deaths=%{marker.color}<br>Lat=%{lat}<br>Lon=%{lon}<extra></extra>",
         "lat": [
          51.513418,
          51.513361,
          51.513317,
          51.513262,
          51.513204,
          51.513184,
          51.513359,
          51.513328,
          51.513323,
          51.513427,
          51.513381,
          51.513462,
          51.513216,
          51.513169,
          51.513116,
          51.51324,
          51.513164,
          51.513178,
          51.513111,
          51.513055,
          51.513441,
          51.513592,
          51.513402,
          51.51338,
          51.513411,
          51.513641,
          51.513693,
          51.513745,
          51.513676,
          51.51359,
          51.513663,
          51.513502,
          51.513583,
          51.513541,
          51.513298,
          51.513291,
          51.513013,
          51.512965,
          51.512893,
          51.512964,
          51.513025,
          51.513027,
          51.512831,
          51.512885,
          51.512526,
          51.512465,
          51.512428,
          51.512415,
          51.51251,
          51.512378,
          51.512447,
          51.512491,
          51.512374,
          51.512339,
          51.512364,
          51.512319,
          51.51254,
          51.512649,
          51.512692,
          51.512957,
          51.512765,
          51.51278,
          51.512726,
          51.512681,
          51.512914,
          51.513046,
          51.513074,
          51.513087,
          51.513122,
          51.513187,
          51.513214,
          51.513249,
          51.513271,
          51.5133,
          51.51316,
          51.513016,
          51.512921,
          51.51289,
          51.512859,
          51.51283,
          51.512782,
          51.512729,
          51.512868,
          51.512723,
          51.512654,
          51.512713,
          51.512615,
          51.512491,
          51.512449,
          51.512465,
          51.512413,
          51.512358,
          51.512271,
          51.512355,
          51.511991,
          51.512083,
          51.512031,
          51.51197,
          51.511882,
          51.51205,
          51.51225,
          51.512162,
          51.512212,
          51.512573,
          51.512575,
          51.512672,
          51.512727,
          51.512794,
          51.512846,
          51.512879,
          51.512939,
          51.512765,
          51.512844,
          51.512532,
          51.512198,
          51.512215,
          51.513154,
          51.513056,
          51.513165,
          51.513098,
          51.513238,
          51.513293,
          51.513379,
          51.513431,
          51.513475,
          51.513422,
          51.513528,
          51.513481,
          51.513594,
          51.513227,
          51.51318,
          51.513132,
          51.513048,
          51.513006,
          51.512883,
          51.51327,
          51.513459,
          51.513431,
          51.513402,
          51.512593,
          51.512585,
          51.512555,
          51.512521,
          51.513137,
          51.513228,
          51.513152,
          51.513258,
          51.513544,
          51.513626,
          51.513637,
          51.513524,
          51.51382,
          51.513724,
          51.513704,
          51.513831,
          51.513915,
          51.513597,
          51.514032,
          51.513891,
          51.513758,
          51.514065,
          51.514146,
          51.514201,
          51.51423,
          51.514319,
          51.514377,
          51.514357,
          51.514382,
          51.514402,
          51.514522,
          51.514497,
          51.514472,
          51.514504,
          51.514546,
          51.514561,
          51.514594,
          51.514581,
          51.514606,
          51.515834,
          51.515195,
          51.515149,
          51.514818,
          51.514843,
          51.514914,
          51.514496,
          51.514743,
          51.514467,
          51.514453,
          51.514845,
          51.514389,
          51.514399,
          51.514335,
          51.514224,
          51.51422,
          51.514145,
          51.514108,
          51.514359,
          51.514326,
          51.514544,
          51.514569,
          51.514586,
          51.514612,
          51.514575,
          51.514507,
          51.514274,
          51.514293,
          51.514058,
          51.514148,
          51.513961,
          51.514027,
          51.514076,
          51.514096,
          51.514134,
          51.514033,
          51.513996,
          51.51396,
          51.513945,
          51.513821,
          51.513999,
          51.513795,
          51.513766,
          51.513726,
          51.513692,
          51.513672,
          51.513603,
          51.513482,
          51.513458,
          51.513429,
          51.513404,
          51.513359,
          51.513378,
          51.513855,
          51.513875,
          51.513565,
          51.513616,
          51.513742,
          51.513918,
          51.513772,
          51.513502,
          51.513712,
          51.513644,
          51.513711,
          51.514061,
          51.514748,
          51.514794,
          51.514526,
          51.514706,
          51.512311,
          51.511998,
          51.511856
         ],
         "legendgroup": "",
         "lon": [
          -0.13793,
          -0.137883,
          -0.137853,
          -0.137812,
          -0.137767,
          -0.137537,
          -0.1382,
          -0.138045,
          -0.138276,
          -0.138223,
          -0.138337,
          -0.138563,
          -0.138426,
          -0.138378,
          -0.138337,
          -0.138645,
          -0.138698,
          -0.137924,
          -0.137865,
          -0.137811,
          -0.138762,
          -0.138799,
          -0.139045,
          -0.13897,
          -0.138863,
          -0.138752,
          -0.138808,
          -0.138856,
          -0.138887,
          -0.139239,
          -0.139321,
          -0.139316,
          -0.139616,
          -0.139719,
          -0.140074,
          -0.139094,
          -0.139697,
          -0.139327,
          -0.139317,
          -0.139187,
          -0.139036,
          -0.139209,
          -0.138427,
          -0.138624,
          -0.138096,
          -0.138035,
          -0.137984,
          -0.138065,
          -0.138194,
          -0.137818,
          -0.137656,
          -0.137584,
          -0.13765,
          -0.13745,
          -0.137376,
          -0.137327,
          -0.13698,
          -0.13718,
          -0.137052,
          -0.137695,
          -0.137533,
          -0.137419,
          -0.137368,
          -0.137325,
          -0.137531,
          -0.137562,
          -0.137466,
          -0.137386,
          -0.137306,
          -0.137089,
          -0.136996,
          -0.136859,
          -0.136778,
          -0.136705,
          -0.136493,
          -0.13633,
          -0.136424,
          -0.136523,
          -0.136599,
          -0.136699,
          -0.136819,
          -0.136973,
          -0.136358,
          -0.13663,
          -0.136584,
          -0.136423,
          -0.136345,
          -0.136437,
          -0.136377,
          -0.136197,
          -0.136142,
          -0.136102,
          -0.13603,
          -0.13631,
          -0.13594,
          -0.135858,
          -0.1358,
          -0.135717,
          -0.135119,
          -0.135144,
          -0.135394,
          -0.135409,
          -0.135472,
          -0.135765,
          -0.135871,
          -0.135976,
          -0.136033,
          -0.136115,
          -0.13618,
          -0.136083,
          -0.136139,
          -0.135329,
          -0.135122,
          -0.134645,
          -0.134522,
          -0.134967,
          -0.135098,
          -0.134394,
          -0.134505,
          -0.134437,
          -0.134594,
          -0.13464,
          -0.134709,
          -0.134756,
          -0.135244,
          -0.134897,
          -0.135158,
          -0.135344,
          -0.135063,
          -0.135801,
          -0.135762,
          -0.13574,
          -0.135645,
          -0.135602,
          -0.135501,
          -0.135832,
          -0.136049,
          -0.13614,
          -0.136228,
          -0.134999,
          -0.134793,
          -0.134896,
          -0.135,
          -0.133483,
          -0.133265,
          -0.133296,
          -0.132933,
          -0.133998,
          -0.134042,
          -0.134156,
          -0.134091,
          -0.134272,
          -0.13422,
          -0.134704,
          -0.134782,
          -0.13501,
          -0.134923,
          -0.134885,
          -0.134212,
          -0.134135,
          -0.134364,
          -0.134447,
          -0.134479,
          -0.134658,
          -0.134367,
          -0.134179,
          -0.13416,
          -0.134069,
          -0.134085,
          -0.133821,
          -0.133922,
          -0.13385,
          -0.133725,
          -0.133745,
          -0.133676,
          -0.133563,
          -0.133467,
          -0.133393,
          -0.134474,
          -0.135259,
          -0.135395,
          -0.136022,
          -0.136804,
          -0.136583,
          -0.135653,
          -0.135578,
          -0.13486,
          -0.13469,
          -0.134818,
          -0.135704,
          -0.135561,
          -0.135649,
          -0.135415,
          -0.135576,
          -0.135357,
          -0.135475,
          -0.136226,
          -0.136328,
          -0.136222,
          -0.136117,
          -0.13603,
          -0.136266,
          -0.136421,
          -0.136935,
          -0.136931,
          -0.136799,
          -0.13678,
          -0.136696,
          -0.136712,
          -0.136123,
          -0.135958,
          -0.135883,
          -0.135788,
          -0.135849,
          -0.136008,
          -0.136099,
          -0.13617,
          -0.135485,
          -0.135374,
          -0.135582,
          -0.135679,
          -0.135814,
          -0.135905,
          -0.135992,
          -0.136217,
          -0.136579,
          -0.136675,
          -0.136764,
          -0.136877,
          -0.136953,
          -0.13723,
          -0.136651,
          -0.136503,
          -0.137367,
          -0.137422,
          -0.137472,
          -0.1383,
          -0.137363,
          -0.137995,
          -0.138139,
          -0.138239,
          -0.138272,
          -0.138083,
          -0.137912,
          -0.137707,
          -0.137108,
          -0.137065,
          -0.138474,
          -0.138123,
          -0.137762
         ],
         "marker": {
          "color": [
           3,
           2,
           1,
           1,
           4,
           2,
           2,
           2,
           3,
           2,
           2,
           1,
           3,
           1,
           4,
           1,
           1,
           1,
           4,
           3,
           2,
           1,
           2,
           2,
           2,
           1,
           1,
           3,
           1,
           1,
           1,
           1,
           2,
           2,
           1,
           1,
           1,
           1,
           2,
           8,
           2,
           1,
           1,
           1,
           1,
           1,
           4,
           1,
           1,
           1,
           1,
           4,
           1,
           1,
           1,
           1,
           1,
           2,
           1,
           1,
           1,
           2,
           1,
           1,
           2,
           2,
           1,
           2,
           3,
           1,
           4,
           15,
           3,
           4,
           5,
           2,
           1,
           2,
           1,
           1,
           1,
           1,
           1,
           1,
           1,
           1,
           1,
           1,
           1,
           1,
           1,
           2,
           1,
           1,
           4,
           2,
           1,
           4,
           4,
           1,
           4,
           1,
           1,
           2,
           1,
           2,
           3,
           1,
           4,
           1,
           1,
           7,
           3,
           8,
           1,
           1,
           5,
           8,
           2,
           1,
           1,
           2,
           1,
           2,
           2,
           3,
           1,
           2,
           2,
           3,
           1,
           2,
           1,
           1,
           1,
           1,
           3,
           3,
           3,
           3,
           1,
           2,
           1,
           1,
           1,
           2,
           1,
           1,
           1,
           2,
           2,
           1,
           1,
           1,
           1,
           1,
           1,
           1,
           5,
           1,
           1,
           2,
           2,
           1,
           1,
           1,
           1,
           2,
           2,
           5,
           1,
           1,
           1,
           1,
           4,
           1,
           2,
           1,
           1,
           1,
           1,
           1,
           3,
           1,
           1,
           2,
           1,
           1,
           1,
           1,
           1,
           2,
           1,
           1,
           2,
           3,
           2,
           1,
           1,
           1,
           1,
           1,
           2,
           3,
           3,
           1,
           1,
           3,
           1,
           1,
           1,
           1,
           2,
           2,
           4,
           5,
           2,
           5,
           5,
           3,
           3,
           1,
           5,
           4,
           4,
           1,
           4,
           1,
           3,
           2,
           1,
           2,
           1,
           1,
           2,
           3,
           1,
           1,
           4,
           2,
           2,
           1,
           5,
           3,
           2,
           3,
           2,
           1,
           1,
           1
          ],
          "coloraxis": "coloraxis",
          "size": [
           3,
           2,
           1,
           1,
           4,
           2,
           2,
           2,
           3,
           2,
           2,
           1,
           3,
           1,
           4,
           1,
           1,
           1,
           4,
           3,
           2,
           1,
           2,
           2,
           2,
           1,
           1,
           3,
           1,
           1,
           1,
           1,
           2,
           2,
           1,
           1,
           1,
           1,
           2,
           8,
           2,
           1,
           1,
           1,
           1,
           1,
           4,
           1,
           1,
           1,
           1,
           4,
           1,
           1,
           1,
           1,
           1,
           2,
           1,
           1,
           1,
           2,
           1,
           1,
           2,
           2,
           1,
           2,
           3,
           1,
           4,
           15,
           3,
           4,
           5,
           2,
           1,
           2,
           1,
           1,
           1,
           1,
           1,
           1,
           1,
           1,
           1,
           1,
           1,
           1,
           1,
           2,
           1,
           1,
           4,
           2,
           1,
           4,
           4,
           1,
           4,
           1,
           1,
           2,
           1,
           2,
           3,
           1,
           4,
           1,
           1,
           7,
           3,
           8,
           1,
           1,
           5,
           8,
           2,
           1,
           1,
           2,
           1,
           2,
           2,
           3,
           1,
           2,
           2,
           3,
           1,
           2,
           1,
           1,
           1,
           1,
           3,
           3,
           3,
           3,
           1,
           2,
           1,
           1,
           1,
           2,
           1,
           1,
           1,
           2,
           2,
           1,
           1,
           1,
           1,
           1,
           1,
           1,
           5,
           1,
           1,
           2,
           2,
           1,
           1,
           1,
           1,
           2,
           2,
           5,
           1,
           1,
           1,
           1,
           4,
           1,
           2,
           1,
           1,
           1,
           1,
           1,
           3,
           1,
           1,
           2,
           1,
           1,
           1,
           1,
           1,
           2,
           1,
           1,
           2,
           3,
           2,
           1,
           1,
           1,
           1,
           1,
           2,
           3,
           3,
           1,
           1,
           3,
           1,
           1,
           1,
           1,
           2,
           2,
           4,
           5,
           2,
           5,
           5,
           3,
           3,
           1,
           5,
           4,
           4,
           1,
           4,
           1,
           3,
           2,
           1,
           2,
           1,
           1,
           2,
           3,
           1,
           1,
           4,
           2,
           2,
           1,
           5,
           3,
           2,
           3,
           2,
           1,
           1,
           1
          ],
          "sizemode": "area",
          "sizeref": 0.0375
         },
         "mode": "markers",
         "name": "",
         "showlegend": false,
         "subplot": "mapbox",
         "type": "scattermapbox"
        }
       ],
       "layout": {
        "coloraxis": {
         "colorbar": {
          "title": {
           "text": "Deaths"
          }
         },
         "colorscale": [
          [
           0,
           "#0d0887"
          ],
          [
           0.1111111111111111,
           "#46039f"
          ],
          [
           0.2222222222222222,
           "#7201a8"
          ],
          [
           0.3333333333333333,
           "#9c179e"
          ],
          [
           0.4444444444444444,
           "#bd3786"
          ],
          [
           0.5555555555555556,
           "#d8576b"
          ],
          [
           0.6666666666666666,
           "#ed7953"
          ],
          [
           0.7777777777777778,
           "#fb9f3a"
          ],
          [
           0.8888888888888888,
           "#fdca26"
          ],
          [
           1,
           "#f0f921"
          ]
         ]
        },
        "height": 600,
        "legend": {
         "itemsizing": "constant",
         "tracegroupgap": 0
        },
        "mapbox": {
         "center": {
          "lat": 51.51341554799999,
          "lon": -0.13641526400000006
         },
         "domain": {
          "x": [
           0,
           1
          ],
          "y": [
           0,
           1
          ]
         },
         "style": "open-street-map",
         "zoom": 18
        },
        "margin": {
         "b": 10,
         "l": 0,
         "r": 0,
         "t": 50
        },
        "template": {
         "data": {
          "bar": [
           {
            "error_x": {
             "color": "#2a3f5f"
            },
            "error_y": {
             "color": "#2a3f5f"
            },
            "marker": {
             "line": {
              "color": "#E5ECF6",
              "width": 0.5
             },
             "pattern": {
              "fillmode": "overlay",
              "size": 10,
              "solidity": 0.2
             }
            },
            "type": "bar"
           }
          ],
          "barpolar": [
           {
            "marker": {
             "line": {
              "color": "#E5ECF6",
              "width": 0.5
             },
             "pattern": {
              "fillmode": "overlay",
              "size": 10,
              "solidity": 0.2
             }
            },
            "type": "barpolar"
           }
          ],
          "carpet": [
           {
            "aaxis": {
             "endlinecolor": "#2a3f5f",
             "gridcolor": "white",
             "linecolor": "white",
             "minorgridcolor": "white",
             "startlinecolor": "#2a3f5f"
            },
            "baxis": {
             "endlinecolor": "#2a3f5f",
             "gridcolor": "white",
             "linecolor": "white",
             "minorgridcolor": "white",
             "startlinecolor": "#2a3f5f"
            },
            "type": "carpet"
           }
          ],
          "choropleth": [
           {
            "colorbar": {
             "outlinewidth": 0,
             "ticks": ""
            },
            "type": "choropleth"
           }
          ],
          "contour": [
           {
            "colorbar": {
             "outlinewidth": 0,
             "ticks": ""
            },
            "colorscale": [
             [
              0,
              "#0d0887"
             ],
             [
              0.1111111111111111,
              "#46039f"
             ],
             [
              0.2222222222222222,
              "#7201a8"
             ],
             [
              0.3333333333333333,
              "#9c179e"
             ],
             [
              0.4444444444444444,
              "#bd3786"
             ],
             [
              0.5555555555555556,
              "#d8576b"
             ],
             [
              0.6666666666666666,
              "#ed7953"
             ],
             [
              0.7777777777777778,
              "#fb9f3a"
             ],
             [
              0.8888888888888888,
              "#fdca26"
             ],
             [
              1,
              "#f0f921"
             ]
            ],
            "type": "contour"
           }
          ],
          "contourcarpet": [
           {
            "colorbar": {
             "outlinewidth": 0,
             "ticks": ""
            },
            "type": "contourcarpet"
           }
          ],
          "heatmap": [
           {
            "colorbar": {
             "outlinewidth": 0,
             "ticks": ""
            },
            "colorscale": [
             [
              0,
              "#0d0887"
             ],
             [
              0.1111111111111111,
              "#46039f"
             ],
             [
              0.2222222222222222,
              "#7201a8"
             ],
             [
              0.3333333333333333,
              "#9c179e"
             ],
             [
              0.4444444444444444,
              "#bd3786"
             ],
             [
              0.5555555555555556,
              "#d8576b"
             ],
             [
              0.6666666666666666,
              "#ed7953"
             ],
             [
              0.7777777777777778,
              "#fb9f3a"
             ],
             [
              0.8888888888888888,
              "#fdca26"
             ],
             [
              1,
              "#f0f921"
             ]
            ],
            "type": "heatmap"
           }
          ],
          "heatmapgl": [
           {
            "colorbar": {
             "outlinewidth": 0,
             "ticks": ""
            },
            "colorscale": [
             [
              0,
              "#0d0887"
             ],
             [
              0.1111111111111111,
              "#46039f"
             ],
             [
              0.2222222222222222,
              "#7201a8"
             ],
             [
              0.3333333333333333,
              "#9c179e"
             ],
             [
              0.4444444444444444,
              "#bd3786"
             ],
             [
              0.5555555555555556,
              "#d8576b"
             ],
             [
              0.6666666666666666,
              "#ed7953"
             ],
             [
              0.7777777777777778,
              "#fb9f3a"
             ],
             [
              0.8888888888888888,
              "#fdca26"
             ],
             [
              1,
              "#f0f921"
             ]
            ],
            "type": "heatmapgl"
           }
          ],
          "histogram": [
           {
            "marker": {
             "pattern": {
              "fillmode": "overlay",
              "size": 10,
              "solidity": 0.2
             }
            },
            "type": "histogram"
           }
          ],
          "histogram2d": [
           {
            "colorbar": {
             "outlinewidth": 0,
             "ticks": ""
            },
            "colorscale": [
             [
              0,
              "#0d0887"
             ],
             [
              0.1111111111111111,
              "#46039f"
             ],
             [
              0.2222222222222222,
              "#7201a8"
             ],
             [
              0.3333333333333333,
              "#9c179e"
             ],
             [
              0.4444444444444444,
              "#bd3786"
             ],
             [
              0.5555555555555556,
              "#d8576b"
             ],
             [
              0.6666666666666666,
              "#ed7953"
             ],
             [
              0.7777777777777778,
              "#fb9f3a"
             ],
             [
              0.8888888888888888,
              "#fdca26"
             ],
             [
              1,
              "#f0f921"
             ]
            ],
            "type": "histogram2d"
           }
          ],
          "histogram2dcontour": [
           {
            "colorbar": {
             "outlinewidth": 0,
             "ticks": ""
            },
            "colorscale": [
             [
              0,
              "#0d0887"
             ],
             [
              0.1111111111111111,
              "#46039f"
             ],
             [
              0.2222222222222222,
              "#7201a8"
             ],
             [
              0.3333333333333333,
              "#9c179e"
             ],
             [
              0.4444444444444444,
              "#bd3786"
             ],
             [
              0.5555555555555556,
              "#d8576b"
             ],
             [
              0.6666666666666666,
              "#ed7953"
             ],
             [
              0.7777777777777778,
              "#fb9f3a"
             ],
             [
              0.8888888888888888,
              "#fdca26"
             ],
             [
              1,
              "#f0f921"
             ]
            ],
            "type": "histogram2dcontour"
           }
          ],
          "mesh3d": [
           {
            "colorbar": {
             "outlinewidth": 0,
             "ticks": ""
            },
            "type": "mesh3d"
           }
          ],
          "parcoords": [
           {
            "line": {
             "colorbar": {
              "outlinewidth": 0,
              "ticks": ""
             }
            },
            "type": "parcoords"
           }
          ],
          "pie": [
           {
            "automargin": true,
            "type": "pie"
           }
          ],
          "scatter": [
           {
            "fillpattern": {
             "fillmode": "overlay",
             "size": 10,
             "solidity": 0.2
            },
            "type": "scatter"
           }
          ],
          "scatter3d": [
           {
            "line": {
             "colorbar": {
              "outlinewidth": 0,
              "ticks": ""
             }
            },
            "marker": {
             "colorbar": {
              "outlinewidth": 0,
              "ticks": ""
             }
            },
            "type": "scatter3d"
           }
          ],
          "scattercarpet": [
           {
            "marker": {
             "colorbar": {
              "outlinewidth": 0,
              "ticks": ""
             }
            },
            "type": "scattercarpet"
           }
          ],
          "scattergeo": [
           {
            "marker": {
             "colorbar": {
              "outlinewidth": 0,
              "ticks": ""
             }
            },
            "type": "scattergeo"
           }
          ],
          "scattergl": [
           {
            "marker": {
             "colorbar": {
              "outlinewidth": 0,
              "ticks": ""
             }
            },
            "type": "scattergl"
           }
          ],
          "scattermapbox": [
           {
            "marker": {
             "colorbar": {
              "outlinewidth": 0,
              "ticks": ""
             }
            },
            "type": "scattermapbox"
           }
          ],
          "scatterpolar": [
           {
            "marker": {
             "colorbar": {
              "outlinewidth": 0,
              "ticks": ""
             }
            },
            "type": "scatterpolar"
           }
          ],
          "scatterpolargl": [
           {
            "marker": {
             "colorbar": {
              "outlinewidth": 0,
              "ticks": ""
             }
            },
            "type": "scatterpolargl"
           }
          ],
          "scatterternary": [
           {
            "marker": {
             "colorbar": {
              "outlinewidth": 0,
              "ticks": ""
             }
            },
            "type": "scatterternary"
           }
          ],
          "surface": [
           {
            "colorbar": {
             "outlinewidth": 0,
             "ticks": ""
            },
            "colorscale": [
             [
              0,
              "#0d0887"
             ],
             [
              0.1111111111111111,
              "#46039f"
             ],
             [
              0.2222222222222222,
              "#7201a8"
             ],
             [
              0.3333333333333333,
              "#9c179e"
             ],
             [
              0.4444444444444444,
              "#bd3786"
             ],
             [
              0.5555555555555556,
              "#d8576b"
             ],
             [
              0.6666666666666666,
              "#ed7953"
             ],
             [
              0.7777777777777778,
              "#fb9f3a"
             ],
             [
              0.8888888888888888,
              "#fdca26"
             ],
             [
              1,
              "#f0f921"
             ]
            ],
            "type": "surface"
           }
          ],
          "table": [
           {
            "cells": {
             "fill": {
              "color": "#EBF0F8"
             },
             "line": {
              "color": "white"
             }
            },
            "header": {
             "fill": {
              "color": "#C8D4E3"
             },
             "line": {
              "color": "white"
             }
            },
            "type": "table"
           }
          ]
         },
         "layout": {
          "annotationdefaults": {
           "arrowcolor": "#2a3f5f",
           "arrowhead": 0,
           "arrowwidth": 1
          },
          "autotypenumbers": "strict",
          "coloraxis": {
           "colorbar": {
            "outlinewidth": 0,
            "ticks": ""
           }
          },
          "colorscale": {
           "diverging": [
            [
             0,
             "#8e0152"
            ],
            [
             0.1,
             "#c51b7d"
            ],
            [
             0.2,
             "#de77ae"
            ],
            [
             0.3,
             "#f1b6da"
            ],
            [
             0.4,
             "#fde0ef"
            ],
            [
             0.5,
             "#f7f7f7"
            ],
            [
             0.6,
             "#e6f5d0"
            ],
            [
             0.7,
             "#b8e186"
            ],
            [
             0.8,
             "#7fbc41"
            ],
            [
             0.9,
             "#4d9221"
            ],
            [
             1,
             "#276419"
            ]
           ],
           "sequential": [
            [
             0,
             "#0d0887"
            ],
            [
             0.1111111111111111,
             "#46039f"
            ],
            [
             0.2222222222222222,
             "#7201a8"
            ],
            [
             0.3333333333333333,
             "#9c179e"
            ],
            [
             0.4444444444444444,
             "#bd3786"
            ],
            [
             0.5555555555555556,
             "#d8576b"
            ],
            [
             0.6666666666666666,
             "#ed7953"
            ],
            [
             0.7777777777777778,
             "#fb9f3a"
            ],
            [
             0.8888888888888888,
             "#fdca26"
            ],
            [
             1,
             "#f0f921"
            ]
           ],
           "sequentialminus": [
            [
             0,
             "#0d0887"
            ],
            [
             0.1111111111111111,
             "#46039f"
            ],
            [
             0.2222222222222222,
             "#7201a8"
            ],
            [
             0.3333333333333333,
             "#9c179e"
            ],
            [
             0.4444444444444444,
             "#bd3786"
            ],
            [
             0.5555555555555556,
             "#d8576b"
            ],
            [
             0.6666666666666666,
             "#ed7953"
            ],
            [
             0.7777777777777778,
             "#fb9f3a"
            ],
            [
             0.8888888888888888,
             "#fdca26"
            ],
            [
             1,
             "#f0f921"
            ]
           ]
          },
          "colorway": [
           "#636efa",
           "#EF553B",
           "#00cc96",
           "#ab63fa",
           "#FFA15A",
           "#19d3f3",
           "#FF6692",
           "#B6E880",
           "#FF97FF",
           "#FECB52"
          ],
          "font": {
           "color": "#2a3f5f"
          },
          "geo": {
           "bgcolor": "white",
           "lakecolor": "white",
           "landcolor": "#E5ECF6",
           "showlakes": true,
           "showland": true,
           "subunitcolor": "white"
          },
          "hoverlabel": {
           "align": "left"
          },
          "hovermode": "closest",
          "mapbox": {
           "style": "light"
          },
          "paper_bgcolor": "white",
          "plot_bgcolor": "#E5ECF6",
          "polar": {
           "angularaxis": {
            "gridcolor": "white",
            "linecolor": "white",
            "ticks": ""
           },
           "bgcolor": "#E5ECF6",
           "radialaxis": {
            "gridcolor": "white",
            "linecolor": "white",
            "ticks": ""
           }
          },
          "scene": {
           "xaxis": {
            "backgroundcolor": "#E5ECF6",
            "gridcolor": "white",
            "gridwidth": 2,
            "linecolor": "white",
            "showbackground": true,
            "ticks": "",
            "zerolinecolor": "white"
           },
           "yaxis": {
            "backgroundcolor": "#E5ECF6",
            "gridcolor": "white",
            "gridwidth": 2,
            "linecolor": "white",
            "showbackground": true,
            "ticks": "",
            "zerolinecolor": "white"
           },
           "zaxis": {
            "backgroundcolor": "#E5ECF6",
            "gridcolor": "white",
            "gridwidth": 2,
            "linecolor": "white",
            "showbackground": true,
            "ticks": "",
            "zerolinecolor": "white"
           }
          },
          "shapedefaults": {
           "line": {
            "color": "#2a3f5f"
           }
          },
          "ternary": {
           "aaxis": {
            "gridcolor": "white",
            "linecolor": "white",
            "ticks": ""
           },
           "baxis": {
            "gridcolor": "white",
            "linecolor": "white",
            "ticks": ""
           },
           "bgcolor": "#E5ECF6",
           "caxis": {
            "gridcolor": "white",
            "linecolor": "white",
            "ticks": ""
           }
          },
          "title": {
           "x": 0.05
          },
          "xaxis": {
           "automargin": true,
           "gridcolor": "white",
           "linecolor": "white",
           "ticks": "",
           "title": {
            "standoff": 15
           },
           "zerolinecolor": "white",
           "zerolinewidth": 2
          },
          "yaxis": {
           "automargin": true,
           "gridcolor": "white",
           "linecolor": "white",
           "ticks": "",
           "title": {
            "standoff": 15
           },
           "zerolinecolor": "white",
           "zerolinewidth": 2
          }
         }
        },
        "title": {
         "text": "Cholera Death Locations"
        },
        "width": 800
       }
      },
      "text/html": [
       "<div>                            <div id=\"7b322c9d-ad78-43a7-9741-ea1ab04a5ba2\" class=\"plotly-graph-div\" style=\"height:600px; width:800px;\"></div>            <script type=\"text/javascript\">                require([\"plotly\"], function(Plotly) {                    window.PLOTLYENV=window.PLOTLYENV || {};                                    if (document.getElementById(\"7b322c9d-ad78-43a7-9741-ea1ab04a5ba2\")) {                    Plotly.newPlot(                        \"7b322c9d-ad78-43a7-9741-ea1ab04a5ba2\",                        [{\"hovertemplate\":\"Deaths=%{marker.color}<br>Lat=%{lat}<br>Lon=%{lon}<extra></extra>\",\"lat\":[51.513418,51.513361,51.513317,51.513262,51.513204,51.513184,51.513359,51.513328,51.513323,51.513427,51.513381,51.513462,51.513216,51.513169,51.513116,51.51324,51.513164,51.513178,51.513111,51.513055,51.513441,51.513592,51.513402,51.51338,51.513411,51.513641,51.513693,51.513745,51.513676,51.51359,51.513663,51.513502,51.513583,51.513541,51.513298,51.513291,51.513013,51.512965,51.512893,51.512964,51.513025,51.513027,51.512831,51.512885,51.512526,51.512465,51.512428,51.512415,51.51251,51.512378,51.512447,51.512491,51.512374,51.512339,51.512364,51.512319,51.51254,51.512649,51.512692,51.512957,51.512765,51.51278,51.512726,51.512681,51.512914,51.513046,51.513074,51.513087,51.513122,51.513187,51.513214,51.513249,51.513271,51.5133,51.51316,51.513016,51.512921,51.51289,51.512859,51.51283,51.512782,51.512729,51.512868,51.512723,51.512654,51.512713,51.512615,51.512491,51.512449,51.512465,51.512413,51.512358,51.512271,51.512355,51.511991,51.512083,51.512031,51.51197,51.511882,51.51205,51.51225,51.512162,51.512212,51.512573,51.512575,51.512672,51.512727,51.512794,51.512846,51.512879,51.512939,51.512765,51.512844,51.512532,51.512198,51.512215,51.513154,51.513056,51.513165,51.513098,51.513238,51.513293,51.513379,51.513431,51.513475,51.513422,51.513528,51.513481,51.513594,51.513227,51.51318,51.513132,51.513048,51.513006,51.512883,51.51327,51.513459,51.513431,51.513402,51.512593,51.512585,51.512555,51.512521,51.513137,51.513228,51.513152,51.513258,51.513544,51.513626,51.513637,51.513524,51.51382,51.513724,51.513704,51.513831,51.513915,51.513597,51.514032,51.513891,51.513758,51.514065,51.514146,51.514201,51.51423,51.514319,51.514377,51.514357,51.514382,51.514402,51.514522,51.514497,51.514472,51.514504,51.514546,51.514561,51.514594,51.514581,51.514606,51.515834,51.515195,51.515149,51.514818,51.514843,51.514914,51.514496,51.514743,51.514467,51.514453,51.514845,51.514389,51.514399,51.514335,51.514224,51.51422,51.514145,51.514108,51.514359,51.514326,51.514544,51.514569,51.514586,51.514612,51.514575,51.514507,51.514274,51.514293,51.514058,51.514148,51.513961,51.514027,51.514076,51.514096,51.514134,51.514033,51.513996,51.51396,51.513945,51.513821,51.513999,51.513795,51.513766,51.513726,51.513692,51.513672,51.513603,51.513482,51.513458,51.513429,51.513404,51.513359,51.513378,51.513855,51.513875,51.513565,51.513616,51.513742,51.513918,51.513772,51.513502,51.513712,51.513644,51.513711,51.514061,51.514748,51.514794,51.514526,51.514706,51.512311,51.511998,51.511856],\"legendgroup\":\"\",\"lon\":[-0.13793,-0.137883,-0.137853,-0.137812,-0.137767,-0.137537,-0.1382,-0.138045,-0.138276,-0.138223,-0.138337,-0.138563,-0.138426,-0.138378,-0.138337,-0.138645,-0.138698,-0.137924,-0.137865,-0.137811,-0.138762,-0.138799,-0.139045,-0.13897,-0.138863,-0.138752,-0.138808,-0.138856,-0.138887,-0.139239,-0.139321,-0.139316,-0.139616,-0.139719,-0.140074,-0.139094,-0.139697,-0.139327,-0.139317,-0.139187,-0.139036,-0.139209,-0.138427,-0.138624,-0.138096,-0.138035,-0.137984,-0.138065,-0.138194,-0.137818,-0.137656,-0.137584,-0.13765,-0.13745,-0.137376,-0.137327,-0.13698,-0.13718,-0.137052,-0.137695,-0.137533,-0.137419,-0.137368,-0.137325,-0.137531,-0.137562,-0.137466,-0.137386,-0.137306,-0.137089,-0.136996,-0.136859,-0.136778,-0.136705,-0.136493,-0.13633,-0.136424,-0.136523,-0.136599,-0.136699,-0.136819,-0.136973,-0.136358,-0.13663,-0.136584,-0.136423,-0.136345,-0.136437,-0.136377,-0.136197,-0.136142,-0.136102,-0.13603,-0.13631,-0.13594,-0.135858,-0.1358,-0.135717,-0.135119,-0.135144,-0.135394,-0.135409,-0.135472,-0.135765,-0.135871,-0.135976,-0.136033,-0.136115,-0.13618,-0.136083,-0.136139,-0.135329,-0.135122,-0.134645,-0.134522,-0.134967,-0.135098,-0.134394,-0.134505,-0.134437,-0.134594,-0.13464,-0.134709,-0.134756,-0.135244,-0.134897,-0.135158,-0.135344,-0.135063,-0.135801,-0.135762,-0.13574,-0.135645,-0.135602,-0.135501,-0.135832,-0.136049,-0.13614,-0.136228,-0.134999,-0.134793,-0.134896,-0.135,-0.133483,-0.133265,-0.133296,-0.132933,-0.133998,-0.134042,-0.134156,-0.134091,-0.134272,-0.13422,-0.134704,-0.134782,-0.13501,-0.134923,-0.134885,-0.134212,-0.134135,-0.134364,-0.134447,-0.134479,-0.134658,-0.134367,-0.134179,-0.13416,-0.134069,-0.134085,-0.133821,-0.133922,-0.13385,-0.133725,-0.133745,-0.133676,-0.133563,-0.133467,-0.133393,-0.134474,-0.135259,-0.135395,-0.136022,-0.136804,-0.136583,-0.135653,-0.135578,-0.13486,-0.13469,-0.134818,-0.135704,-0.135561,-0.135649,-0.135415,-0.135576,-0.135357,-0.135475,-0.136226,-0.136328,-0.136222,-0.136117,-0.13603,-0.136266,-0.136421,-0.136935,-0.136931,-0.136799,-0.13678,-0.136696,-0.136712,-0.136123,-0.135958,-0.135883,-0.135788,-0.135849,-0.136008,-0.136099,-0.13617,-0.135485,-0.135374,-0.135582,-0.135679,-0.135814,-0.135905,-0.135992,-0.136217,-0.136579,-0.136675,-0.136764,-0.136877,-0.136953,-0.13723,-0.136651,-0.136503,-0.137367,-0.137422,-0.137472,-0.1383,-0.137363,-0.137995,-0.138139,-0.138239,-0.138272,-0.138083,-0.137912,-0.137707,-0.137108,-0.137065,-0.138474,-0.138123,-0.137762],\"marker\":{\"color\":[3,2,1,1,4,2,2,2,3,2,2,1,3,1,4,1,1,1,4,3,2,1,2,2,2,1,1,3,1,1,1,1,2,2,1,1,1,1,2,8,2,1,1,1,1,1,4,1,1,1,1,4,1,1,1,1,1,2,1,1,1,2,1,1,2,2,1,2,3,1,4,15,3,4,5,2,1,2,1,1,1,1,1,1,1,1,1,1,1,1,1,2,1,1,4,2,1,4,4,1,4,1,1,2,1,2,3,1,4,1,1,7,3,8,1,1,5,8,2,1,1,2,1,2,2,3,1,2,2,3,1,2,1,1,1,1,3,3,3,3,1,2,1,1,1,2,1,1,1,2,2,1,1,1,1,1,1,1,5,1,1,2,2,1,1,1,1,2,2,5,1,1,1,1,4,1,2,1,1,1,1,1,3,1,1,2,1,1,1,1,1,2,1,1,2,3,2,1,1,1,1,1,2,3,3,1,1,3,1,1,1,1,2,2,4,5,2,5,5,3,3,1,5,4,4,1,4,1,3,2,1,2,1,1,2,3,1,1,4,2,2,1,5,3,2,3,2,1,1,1],\"coloraxis\":\"coloraxis\",\"size\":[3,2,1,1,4,2,2,2,3,2,2,1,3,1,4,1,1,1,4,3,2,1,2,2,2,1,1,3,1,1,1,1,2,2,1,1,1,1,2,8,2,1,1,1,1,1,4,1,1,1,1,4,1,1,1,1,1,2,1,1,1,2,1,1,2,2,1,2,3,1,4,15,3,4,5,2,1,2,1,1,1,1,1,1,1,1,1,1,1,1,1,2,1,1,4,2,1,4,4,1,4,1,1,2,1,2,3,1,4,1,1,7,3,8,1,1,5,8,2,1,1,2,1,2,2,3,1,2,2,3,1,2,1,1,1,1,3,3,3,3,1,2,1,1,1,2,1,1,1,2,2,1,1,1,1,1,1,1,5,1,1,2,2,1,1,1,1,2,2,5,1,1,1,1,4,1,2,1,1,1,1,1,3,1,1,2,1,1,1,1,1,2,1,1,2,3,2,1,1,1,1,1,2,3,3,1,1,3,1,1,1,1,2,2,4,5,2,5,5,3,3,1,5,4,4,1,4,1,3,2,1,2,1,1,2,3,1,1,4,2,2,1,5,3,2,3,2,1,1,1],\"sizemode\":\"area\",\"sizeref\":0.0375},\"mode\":\"markers\",\"name\":\"\",\"showlegend\":false,\"subplot\":\"mapbox\",\"type\":\"scattermapbox\"}],                        {\"template\":{\"data\":{\"histogram2dcontour\":[{\"type\":\"histogram2dcontour\",\"colorbar\":{\"outlinewidth\":0,\"ticks\":\"\"},\"colorscale\":[[0.0,\"#0d0887\"],[0.1111111111111111,\"#46039f\"],[0.2222222222222222,\"#7201a8\"],[0.3333333333333333,\"#9c179e\"],[0.4444444444444444,\"#bd3786\"],[0.5555555555555556,\"#d8576b\"],[0.6666666666666666,\"#ed7953\"],[0.7777777777777778,\"#fb9f3a\"],[0.8888888888888888,\"#fdca26\"],[1.0,\"#f0f921\"]]}],\"choropleth\":[{\"type\":\"choropleth\",\"colorbar\":{\"outlinewidth\":0,\"ticks\":\"\"}}],\"histogram2d\":[{\"type\":\"histogram2d\",\"colorbar\":{\"outlinewidth\":0,\"ticks\":\"\"},\"colorscale\":[[0.0,\"#0d0887\"],[0.1111111111111111,\"#46039f\"],[0.2222222222222222,\"#7201a8\"],[0.3333333333333333,\"#9c179e\"],[0.4444444444444444,\"#bd3786\"],[0.5555555555555556,\"#d8576b\"],[0.6666666666666666,\"#ed7953\"],[0.7777777777777778,\"#fb9f3a\"],[0.8888888888888888,\"#fdca26\"],[1.0,\"#f0f921\"]]}],\"heatmap\":[{\"type\":\"heatmap\",\"colorbar\":{\"outlinewidth\":0,\"ticks\":\"\"},\"colorscale\":[[0.0,\"#0d0887\"],[0.1111111111111111,\"#46039f\"],[0.2222222222222222,\"#7201a8\"],[0.3333333333333333,\"#9c179e\"],[0.4444444444444444,\"#bd3786\"],[0.5555555555555556,\"#d8576b\"],[0.6666666666666666,\"#ed7953\"],[0.7777777777777778,\"#fb9f3a\"],[0.8888888888888888,\"#fdca26\"],[1.0,\"#f0f921\"]]}],\"heatmapgl\":[{\"type\":\"heatmapgl\",\"colorbar\":{\"outlinewidth\":0,\"ticks\":\"\"},\"colorscale\":[[0.0,\"#0d0887\"],[0.1111111111111111,\"#46039f\"],[0.2222222222222222,\"#7201a8\"],[0.3333333333333333,\"#9c179e\"],[0.4444444444444444,\"#bd3786\"],[0.5555555555555556,\"#d8576b\"],[0.6666666666666666,\"#ed7953\"],[0.7777777777777778,\"#fb9f3a\"],[0.8888888888888888,\"#fdca26\"],[1.0,\"#f0f921\"]]}],\"contourcarpet\":[{\"type\":\"contourcarpet\",\"colorbar\":{\"outlinewidth\":0,\"ticks\":\"\"}}],\"contour\":[{\"type\":\"contour\",\"colorbar\":{\"outlinewidth\":0,\"ticks\":\"\"},\"colorscale\":[[0.0,\"#0d0887\"],[0.1111111111111111,\"#46039f\"],[0.2222222222222222,\"#7201a8\"],[0.3333333333333333,\"#9c179e\"],[0.4444444444444444,\"#bd3786\"],[0.5555555555555556,\"#d8576b\"],[0.6666666666666666,\"#ed7953\"],[0.7777777777777778,\"#fb9f3a\"],[0.8888888888888888,\"#fdca26\"],[1.0,\"#f0f921\"]]}],\"surface\":[{\"type\":\"surface\",\"colorbar\":{\"outlinewidth\":0,\"ticks\":\"\"},\"colorscale\":[[0.0,\"#0d0887\"],[0.1111111111111111,\"#46039f\"],[0.2222222222222222,\"#7201a8\"],[0.3333333333333333,\"#9c179e\"],[0.4444444444444444,\"#bd3786\"],[0.5555555555555556,\"#d8576b\"],[0.6666666666666666,\"#ed7953\"],[0.7777777777777778,\"#fb9f3a\"],[0.8888888888888888,\"#fdca26\"],[1.0,\"#f0f921\"]]}],\"mesh3d\":[{\"type\":\"mesh3d\",\"colorbar\":{\"outlinewidth\":0,\"ticks\":\"\"}}],\"scatter\":[{\"fillpattern\":{\"fillmode\":\"overlay\",\"size\":10,\"solidity\":0.2},\"type\":\"scatter\"}],\"parcoords\":[{\"type\":\"parcoords\",\"line\":{\"colorbar\":{\"outlinewidth\":0,\"ticks\":\"\"}}}],\"scatterpolargl\":[{\"type\":\"scatterpolargl\",\"marker\":{\"colorbar\":{\"outlinewidth\":0,\"ticks\":\"\"}}}],\"bar\":[{\"error_x\":{\"color\":\"#2a3f5f\"},\"error_y\":{\"color\":\"#2a3f5f\"},\"marker\":{\"line\":{\"color\":\"#E5ECF6\",\"width\":0.5},\"pattern\":{\"fillmode\":\"overlay\",\"size\":10,\"solidity\":0.2}},\"type\":\"bar\"}],\"scattergeo\":[{\"type\":\"scattergeo\",\"marker\":{\"colorbar\":{\"outlinewidth\":0,\"ticks\":\"\"}}}],\"scatterpolar\":[{\"type\":\"scatterpolar\",\"marker\":{\"colorbar\":{\"outlinewidth\":0,\"ticks\":\"\"}}}],\"histogram\":[{\"marker\":{\"pattern\":{\"fillmode\":\"overlay\",\"size\":10,\"solidity\":0.2}},\"type\":\"histogram\"}],\"scattergl\":[{\"type\":\"scattergl\",\"marker\":{\"colorbar\":{\"outlinewidth\":0,\"ticks\":\"\"}}}],\"scatter3d\":[{\"type\":\"scatter3d\",\"line\":{\"colorbar\":{\"outlinewidth\":0,\"ticks\":\"\"}},\"marker\":{\"colorbar\":{\"outlinewidth\":0,\"ticks\":\"\"}}}],\"scattermapbox\":[{\"type\":\"scattermapbox\",\"marker\":{\"colorbar\":{\"outlinewidth\":0,\"ticks\":\"\"}}}],\"scatterternary\":[{\"type\":\"scatterternary\",\"marker\":{\"colorbar\":{\"outlinewidth\":0,\"ticks\":\"\"}}}],\"scattercarpet\":[{\"type\":\"scattercarpet\",\"marker\":{\"colorbar\":{\"outlinewidth\":0,\"ticks\":\"\"}}}],\"carpet\":[{\"aaxis\":{\"endlinecolor\":\"#2a3f5f\",\"gridcolor\":\"white\",\"linecolor\":\"white\",\"minorgridcolor\":\"white\",\"startlinecolor\":\"#2a3f5f\"},\"baxis\":{\"endlinecolor\":\"#2a3f5f\",\"gridcolor\":\"white\",\"linecolor\":\"white\",\"minorgridcolor\":\"white\",\"startlinecolor\":\"#2a3f5f\"},\"type\":\"carpet\"}],\"table\":[{\"cells\":{\"fill\":{\"color\":\"#EBF0F8\"},\"line\":{\"color\":\"white\"}},\"header\":{\"fill\":{\"color\":\"#C8D4E3\"},\"line\":{\"color\":\"white\"}},\"type\":\"table\"}],\"barpolar\":[{\"marker\":{\"line\":{\"color\":\"#E5ECF6\",\"width\":0.5},\"pattern\":{\"fillmode\":\"overlay\",\"size\":10,\"solidity\":0.2}},\"type\":\"barpolar\"}],\"pie\":[{\"automargin\":true,\"type\":\"pie\"}]},\"layout\":{\"autotypenumbers\":\"strict\",\"colorway\":[\"#636efa\",\"#EF553B\",\"#00cc96\",\"#ab63fa\",\"#FFA15A\",\"#19d3f3\",\"#FF6692\",\"#B6E880\",\"#FF97FF\",\"#FECB52\"],\"font\":{\"color\":\"#2a3f5f\"},\"hovermode\":\"closest\",\"hoverlabel\":{\"align\":\"left\"},\"paper_bgcolor\":\"white\",\"plot_bgcolor\":\"#E5ECF6\",\"polar\":{\"bgcolor\":\"#E5ECF6\",\"angularaxis\":{\"gridcolor\":\"white\",\"linecolor\":\"white\",\"ticks\":\"\"},\"radialaxis\":{\"gridcolor\":\"white\",\"linecolor\":\"white\",\"ticks\":\"\"}},\"ternary\":{\"bgcolor\":\"#E5ECF6\",\"aaxis\":{\"gridcolor\":\"white\",\"linecolor\":\"white\",\"ticks\":\"\"},\"baxis\":{\"gridcolor\":\"white\",\"linecolor\":\"white\",\"ticks\":\"\"},\"caxis\":{\"gridcolor\":\"white\",\"linecolor\":\"white\",\"ticks\":\"\"}},\"coloraxis\":{\"colorbar\":{\"outlinewidth\":0,\"ticks\":\"\"}},\"colorscale\":{\"sequential\":[[0.0,\"#0d0887\"],[0.1111111111111111,\"#46039f\"],[0.2222222222222222,\"#7201a8\"],[0.3333333333333333,\"#9c179e\"],[0.4444444444444444,\"#bd3786\"],[0.5555555555555556,\"#d8576b\"],[0.6666666666666666,\"#ed7953\"],[0.7777777777777778,\"#fb9f3a\"],[0.8888888888888888,\"#fdca26\"],[1.0,\"#f0f921\"]],\"sequentialminus\":[[0.0,\"#0d0887\"],[0.1111111111111111,\"#46039f\"],[0.2222222222222222,\"#7201a8\"],[0.3333333333333333,\"#9c179e\"],[0.4444444444444444,\"#bd3786\"],[0.5555555555555556,\"#d8576b\"],[0.6666666666666666,\"#ed7953\"],[0.7777777777777778,\"#fb9f3a\"],[0.8888888888888888,\"#fdca26\"],[1.0,\"#f0f921\"]],\"diverging\":[[0,\"#8e0152\"],[0.1,\"#c51b7d\"],[0.2,\"#de77ae\"],[0.3,\"#f1b6da\"],[0.4,\"#fde0ef\"],[0.5,\"#f7f7f7\"],[0.6,\"#e6f5d0\"],[0.7,\"#b8e186\"],[0.8,\"#7fbc41\"],[0.9,\"#4d9221\"],[1,\"#276419\"]]},\"xaxis\":{\"gridcolor\":\"white\",\"linecolor\":\"white\",\"ticks\":\"\",\"title\":{\"standoff\":15},\"zerolinecolor\":\"white\",\"automargin\":true,\"zerolinewidth\":2},\"yaxis\":{\"gridcolor\":\"white\",\"linecolor\":\"white\",\"ticks\":\"\",\"title\":{\"standoff\":15},\"zerolinecolor\":\"white\",\"automargin\":true,\"zerolinewidth\":2},\"scene\":{\"xaxis\":{\"backgroundcolor\":\"#E5ECF6\",\"gridcolor\":\"white\",\"linecolor\":\"white\",\"showbackground\":true,\"ticks\":\"\",\"zerolinecolor\":\"white\",\"gridwidth\":2},\"yaxis\":{\"backgroundcolor\":\"#E5ECF6\",\"gridcolor\":\"white\",\"linecolor\":\"white\",\"showbackground\":true,\"ticks\":\"\",\"zerolinecolor\":\"white\",\"gridwidth\":2},\"zaxis\":{\"backgroundcolor\":\"#E5ECF6\",\"gridcolor\":\"white\",\"linecolor\":\"white\",\"showbackground\":true,\"ticks\":\"\",\"zerolinecolor\":\"white\",\"gridwidth\":2}},\"shapedefaults\":{\"line\":{\"color\":\"#2a3f5f\"}},\"annotationdefaults\":{\"arrowcolor\":\"#2a3f5f\",\"arrowhead\":0,\"arrowwidth\":1},\"geo\":{\"bgcolor\":\"white\",\"landcolor\":\"#E5ECF6\",\"subunitcolor\":\"white\",\"showland\":true,\"showlakes\":true,\"lakecolor\":\"white\"},\"title\":{\"x\":0.05},\"mapbox\":{\"style\":\"light\"}}},\"mapbox\":{\"domain\":{\"x\":[0.0,1.0],\"y\":[0.0,1.0]},\"center\":{\"lat\":51.51341554799999,\"lon\":-0.13641526400000006},\"zoom\":18,\"style\":\"open-street-map\"},\"coloraxis\":{\"colorbar\":{\"title\":{\"text\":\"Deaths\"}},\"colorscale\":[[0.0,\"#0d0887\"],[0.1111111111111111,\"#46039f\"],[0.2222222222222222,\"#7201a8\"],[0.3333333333333333,\"#9c179e\"],[0.4444444444444444,\"#bd3786\"],[0.5555555555555556,\"#d8576b\"],[0.6666666666666666,\"#ed7953\"],[0.7777777777777778,\"#fb9f3a\"],[0.8888888888888888,\"#fdca26\"],[1.0,\"#f0f921\"]]},\"legend\":{\"tracegroupgap\":0,\"itemsizing\":\"constant\"},\"title\":{\"text\":\"Cholera Death Locations\"},\"height\":600,\"width\":800,\"margin\":{\"r\":0,\"t\":50,\"l\":0,\"b\":10}},                        {\"responsive\": true}                    ).then(function(){\n",
       "                            \n",
       "var gd = document.getElementById('7b322c9d-ad78-43a7-9741-ea1ab04a5ba2');\n",
       "var x = new MutationObserver(function (mutations, observer) {{\n",
       "        var display = window.getComputedStyle(gd).display;\n",
       "        if (!display || display === 'none') {{\n",
       "            console.log([gd, 'removed!']);\n",
       "            Plotly.purge(gd);\n",
       "            observer.disconnect();\n",
       "        }}\n",
       "}});\n",
       "\n",
       "// Listen for the removal of the full notebook cells\n",
       "var notebookContainer = gd.closest('#notebook-container');\n",
       "if (notebookContainer) {{\n",
       "    x.observe(notebookContainer, {childList: true});\n",
       "}}\n",
       "\n",
       "// Listen for the clearing of the current output cell\n",
       "var outputEl = gd.closest('.output');\n",
       "if (outputEl) {{\n",
       "    x.observe(outputEl, {childList: true});\n",
       "}}\n",
       "\n",
       "                        })                };                });            </script>        </div>"
      ]
     },
     "metadata": {},
     "output_type": "display_data"
    }
   ],
   "source": [
    "fig.update_layout(\n",
    "    mapbox_style=\"open-street-map\")\n",
    "fig.update_layout(margin={\"r\":0,\"t\":50,\"l\":0,\"b\":10})\n",
    "\n",
    "fig.show()"
   ]
  },
  {
   "cell_type": "code",
   "execution_count": 186,
   "id": "5f9d7971",
   "metadata": {},
   "outputs": [],
   "source": [
    "df = pd.read_table('choleraDeaths.tsv')"
   ]
  },
  {
   "cell_type": "code",
   "execution_count": 187,
   "id": "4c4a22ce",
   "metadata": {},
   "outputs": [],
   "source": [
    "cols = [\"Today's Attacks\",'Total Attacks',\"Today's Deaths\",'Total Deaths']"
   ]
  },
  {
   "cell_type": "code",
   "execution_count": 188,
   "id": "f1c6c82e",
   "metadata": {},
   "outputs": [],
   "source": [
    "data = []"
   ]
  },
  {
   "cell_type": "code",
   "execution_count": 189,
   "id": "3951e811",
   "metadata": {},
   "outputs": [],
   "source": [
    "for col in cols:\n",
    "    trace = go.Scatter(\n",
    "        x = df['Date'],\n",
    "        y = df[col],\n",
    "        mode = 'lines',\n",
    "        name = col\n",
    "    )\n",
    "    data.append(trace)"
   ]
  },
  {
   "cell_type": "code",
   "execution_count": 190,
   "id": "f61e8f6d",
   "metadata": {},
   "outputs": [
    {
     "data": {
      "text/plain": [
       "42"
      ]
     },
     "execution_count": 190,
     "metadata": {},
     "output_type": "execute_result"
    }
   ],
   "source": [
    "len(df[cols[0]])"
   ]
  },
  {
   "cell_type": "code",
   "execution_count": 191,
   "id": "2f515835",
   "metadata": {},
   "outputs": [],
   "source": [
    "frames = [dict(data= [dict(type='scatter',\n",
    "                          x= df.Date[:k+1],\n",
    "                          y= df[cols[0]][:k+1]),\n",
    "                       dict(type='scatter',\n",
    "                                  x=df.Date[:k+1],\n",
    "                                  y=df[cols[1]][:k+1])],\n",
    "            traces=[0,1],\n",
    "               )for k in range(1, len(df[cols[0]]-1))]"
   ]
  },
  {
   "cell_type": "code",
   "execution_count": null,
   "id": "808938b3",
   "metadata": {},
   "outputs": [],
   "source": []
  },
  {
   "cell_type": "code",
   "execution_count": 192,
   "id": "d8e18663",
   "metadata": {},
   "outputs": [],
   "source": [
    "import plotly.express as px"
   ]
  },
  {
   "cell_type": "code",
   "execution_count": 193,
   "id": "389ad46d",
   "metadata": {},
   "outputs": [
    {
     "data": {
      "text/plain": [
       "Date               object\n",
       "Today's Attacks     int64\n",
       "Total Attacks       int64\n",
       "Today's Deaths      int64\n",
       "Total Deaths        int64\n",
       "dtype: object"
      ]
     },
     "execution_count": 193,
     "metadata": {},
     "output_type": "execute_result"
    }
   ],
   "source": [
    "df.dtypes"
   ]
  },
  {
   "cell_type": "code",
   "execution_count": 194,
   "id": "16bad1b8",
   "metadata": {},
   "outputs": [],
   "source": [
    "# df['Date'] = pd.to_datetime(df['Date'])"
   ]
  },
  {
   "cell_type": "code",
   "execution_count": 195,
   "id": "54110182",
   "metadata": {},
   "outputs": [],
   "source": [
    "# df['Date'] = df['Date'].dt.date"
   ]
  },
  {
   "cell_type": "code",
   "execution_count": 196,
   "id": "b0168552",
   "metadata": {},
   "outputs": [
    {
     "data": {
      "text/plain": [
       "Date               object\n",
       "Today's Attacks     int64\n",
       "Total Attacks       int64\n",
       "Today's Deaths      int64\n",
       "Total Deaths        int64\n",
       "dtype: object"
      ]
     },
     "execution_count": 196,
     "metadata": {},
     "output_type": "execute_result"
    }
   ],
   "source": [
    "df.dtypes"
   ]
  },
  {
   "cell_type": "code",
   "execution_count": 197,
   "id": "100ed24d",
   "metadata": {},
   "outputs": [],
   "source": [
    "# df['Date']"
   ]
  },
  {
   "cell_type": "code",
   "execution_count": 198,
   "id": "d22db191",
   "metadata": {},
   "outputs": [],
   "source": [
    "df['Date'] = pd.to_datetime(df['Date'])"
   ]
  },
  {
   "cell_type": "code",
   "execution_count": 199,
   "id": "88d18b53",
   "metadata": {},
   "outputs": [
    {
     "data": {
      "text/plain": [
       "Date               datetime64[ns]\n",
       "Today's Attacks             int64\n",
       "Total Attacks               int64\n",
       "Today's Deaths              int64\n",
       "Total Deaths                int64\n",
       "dtype: object"
      ]
     },
     "execution_count": 199,
     "metadata": {},
     "output_type": "execute_result"
    }
   ],
   "source": [
    "df.dtypes"
   ]
  },
  {
   "cell_type": "code",
   "execution_count": null,
   "id": "590116fb",
   "metadata": {},
   "outputs": [],
   "source": []
  },
  {
   "cell_type": "code",
   "execution_count": 217,
   "id": "72ec12de",
   "metadata": {},
   "outputs": [],
   "source": [
    "# px.line( data_frame=df, x=df[\"Date\"].dt.date, y=df.columns[1:5], color='variable', animation_frame=df[\"Date\"].dt.strftime(\"%b-%Y\"))\n",
    "\n",
    "# fig = px.line(df, x = df[\"date\"].dt.day, y=df.columns[1:6], animation_frame=df[\"date\"].dt.strftime(\"%b-%Y\"))\n",
    "# fig.update_layout(yaxis={\"range\":[0,df.iloc[:,1:6].max().max()]})"
   ]
  },
  {
   "cell_type": "code",
   "execution_count": 389,
   "id": "08d2657b",
   "metadata": {},
   "outputs": [],
   "source": [
    "import dateutil"
   ]
  },
  {
   "cell_type": "code",
   "execution_count": 417,
   "id": "19e9068b",
   "metadata": {},
   "outputs": [
    {
     "data": {
      "text/plain": [
       "Index(['Date', 'Today's Attacks', 'Total Attacks', 'Today's Deaths',\n",
       "       'Total Deaths'],\n",
       "      dtype='object')"
      ]
     },
     "execution_count": 417,
     "metadata": {},
     "output_type": "execute_result"
    }
   ],
   "source": [
    "df.columns"
   ]
  },
  {
   "cell_type": "code",
   "execution_count": 418,
   "id": "f2edb077",
   "metadata": {},
   "outputs": [],
   "source": [
    "# df[\"Today's Attacks\"]\n",
    "one = df[\"Today's Attacks\"].tolist()\n",
    "two = df[\"Total Attacks\"].tolist()\n",
    "three = df[\"Today's Deaths\"].tolist()\n",
    "four = df[\"Total Deaths\"].tolist()"
   ]
  },
  {
   "cell_type": "code",
   "execution_count": 424,
   "id": "eeb3e908",
   "metadata": {},
   "outputs": [
    {
     "data": {
      "text/plain": [
       "0    1854-08-19\n",
       "1    1854-08-20\n",
       "Name: Date, dtype: object"
      ]
     },
     "execution_count": 424,
     "metadata": {},
     "output_type": "execute_result"
    }
   ],
   "source": [
    "df.Date[:2]"
   ]
  },
  {
   "cell_type": "code",
   "execution_count": 430,
   "id": "167b7f43",
   "metadata": {},
   "outputs": [],
   "source": [
    "df = pd.read_table('choleraDeaths.tsv')\n",
    "cols = [\"Today's Attacks\",'Total Attacks',\"Today's Deaths\",'Total Deaths']\n",
    "\n",
    "df['Date'] = pd.to_datetime(df['Date'])\n",
    "df['Date'] = df['Date'].dt.date\n",
    "\n",
    "data = []\n",
    "\n",
    "for col in cols:\n",
    "    trace = go.Scatter(\n",
    "        x = df.Date[:2],\n",
    "        y = df[col][:2],\n",
    "        mode = 'lines',\n",
    "        name = col,\n",
    "    )\n",
    "    data.append(trace)\n",
    "\n",
    "# trace1 = go.Scatter(\n",
    "#         x = df.Date[:2],\n",
    "#         y = one[:2],\n",
    "#         mode = 'lines',\n",
    "#         name = df.columns[1],\n",
    "#     )\n",
    "# trace2 = go.Scatter(\n",
    "#         x = df.Date[:2],\n",
    "#         y = two[:2],\n",
    "#         mode = 'lines',\n",
    "#         name = df.columns[2],\n",
    "#     )\n",
    "# trace3 = go.Scatter(\n",
    "#         x = df.Date[:2],\n",
    "#         y = three[:2],\n",
    "#         mode = 'lines',\n",
    "#         name = df.columns[3],\n",
    "#     )\n",
    "# trace4 = go.Scatter(\n",
    "#         x = df.Date[:2],\n",
    "#         y = four[:2],\n",
    "#         mode = 'lines',\n",
    "#         name = df.columns[4],\n",
    "#     )\n"
   ]
  },
  {
   "cell_type": "code",
   "execution_count": 431,
   "id": "8b9e3d23",
   "metadata": {},
   "outputs": [],
   "source": [
    "# data[0]"
   ]
  },
  {
   "cell_type": "code",
   "execution_count": 432,
   "id": "a3291dcc",
   "metadata": {},
   "outputs": [],
   "source": [
    "# Define the layout\n",
    "layout = go.Layout(\n",
    "                   showlegend=False,\n",
    "                   hovermode='x unified',\n",
    "                   updatemenus=[dict(type='buttons', showactive=False,\n",
    "                                     \n",
    "                                     y=1.05,\n",
    "                                     x=1.15,\n",
    "                                     xanchor='right',\n",
    "                                     yanchor='top',\n",
    "                                     pad=dict(t=0, r=10),\n",
    "                                     buttons=[dict(label=\"Play\",\n",
    "                                                   method='animate',\n",
    "                                                   args=[None,\n",
    "                                                         dict(frame=dict(duration=80,\n",
    "                                                                         redraw=False),\n",
    "                                                              transition=dict(duration=0),\n",
    "                                                              fromcurrent=True,\n",
    "                                                              mode='immediate')])])])\n",
    "\n",
    "layout.update(xaxis = (dict(range=[df.Date[0],df.Date[len(df)-1]], \n",
    "                            autorange=False,\n",
    "                            nticks=18,\n",
    "                            tickangle=45)), \n",
    "             yaxis = dict(range=[min(df['Total Attacks']-5), max(df['Total Deaths']+50)], \n",
    "                        autorange=False,),\n",
    "             hoverlabel= dict(namelength=-1));\n"
   ]
  },
  {
   "cell_type": "code",
   "execution_count": 433,
   "id": "e1412a6b",
   "metadata": {},
   "outputs": [],
   "source": [
    "# Create the frames\n",
    "frames = [dict(data= [dict(type='scatter',\n",
    "                            x= df.Date[:k+1],\n",
    "                            y= df[cols[0]][:k+1]),\n",
    "                        dict(type='scatter',\n",
    "                            x=df.Date[:k+1],\n",
    "                            y=df[cols[1]][:k+1]),\n",
    "                        dict(type='scatter',\n",
    "                            x= df.Date[:k+1],\n",
    "                            y= df[cols[2]][:k+1]),\n",
    "                        dict(type='scatter',\n",
    "                            x= df.Date[:k+1],\n",
    "                            y= df[cols[3]][:k+1])],\n",
    "               )for k in range(1, len(df[cols[0]]-1))]"
   ]
  },
  {
   "cell_type": "code",
   "execution_count": 434,
   "id": "b5c17b62",
   "metadata": {},
   "outputs": [
    {
     "data": {
      "application/vnd.plotly.v1+json": {
       "config": {
        "plotlyServerURL": "https://plot.ly"
       },
       "data": [
        {
         "mode": "lines",
         "name": "Today's Attacks",
         "type": "scatter",
         "x": [
          "1854-08-19",
          "1854-08-20"
         ],
         "y": [
          1,
          1
         ]
        },
        {
         "mode": "lines",
         "name": "Total Attacks",
         "type": "scatter",
         "x": [
          "1854-08-19",
          "1854-08-20"
         ],
         "y": [
          1,
          2
         ]
        },
        {
         "mode": "lines",
         "name": "Today's Deaths",
         "type": "scatter",
         "x": [
          "1854-08-19",
          "1854-08-20"
         ],
         "y": [
          1,
          0
         ]
        },
        {
         "mode": "lines",
         "name": "Total Deaths",
         "type": "scatter",
         "x": [
          "1854-08-19",
          "1854-08-20"
         ],
         "y": [
          1,
          1
         ]
        }
       ],
       "frames": [
        {
         "data": [
          {
           "type": "scatter",
           "x": [
            "1854-08-19",
            "1854-08-20"
           ],
           "y": [
            1,
            1
           ]
          },
          {
           "type": "scatter",
           "x": [
            "1854-08-19",
            "1854-08-20"
           ],
           "y": [
            1,
            2
           ]
          },
          {
           "type": "scatter",
           "x": [
            "1854-08-19",
            "1854-08-20"
           ],
           "y": [
            1,
            0
           ]
          },
          {
           "type": "scatter",
           "x": [
            "1854-08-19",
            "1854-08-20"
           ],
           "y": [
            1,
            1
           ]
          }
         ]
        },
        {
         "data": [
          {
           "type": "scatter",
           "x": [
            "1854-08-19",
            "1854-08-20",
            "1854-08-21"
           ],
           "y": [
            1,
            1,
            1
           ]
          },
          {
           "type": "scatter",
           "x": [
            "1854-08-19",
            "1854-08-20",
            "1854-08-21"
           ],
           "y": [
            1,
            2,
            3
           ]
          },
          {
           "type": "scatter",
           "x": [
            "1854-08-19",
            "1854-08-20",
            "1854-08-21"
           ],
           "y": [
            1,
            0,
            2
           ]
          },
          {
           "type": "scatter",
           "x": [
            "1854-08-19",
            "1854-08-20",
            "1854-08-21"
           ],
           "y": [
            1,
            1,
            3
           ]
          }
         ]
        },
        {
         "data": [
          {
           "type": "scatter",
           "x": [
            "1854-08-19",
            "1854-08-20",
            "1854-08-21",
            "1854-08-22"
           ],
           "y": [
            1,
            1,
            1,
            0
           ]
          },
          {
           "type": "scatter",
           "x": [
            "1854-08-19",
            "1854-08-20",
            "1854-08-21",
            "1854-08-22"
           ],
           "y": [
            1,
            2,
            3,
            3
           ]
          },
          {
           "type": "scatter",
           "x": [
            "1854-08-19",
            "1854-08-20",
            "1854-08-21",
            "1854-08-22"
           ],
           "y": [
            1,
            0,
            2,
            0
           ]
          },
          {
           "type": "scatter",
           "x": [
            "1854-08-19",
            "1854-08-20",
            "1854-08-21",
            "1854-08-22"
           ],
           "y": [
            1,
            1,
            3,
            3
           ]
          }
         ]
        },
        {
         "data": [
          {
           "type": "scatter",
           "x": [
            "1854-08-19",
            "1854-08-20",
            "1854-08-21",
            "1854-08-22",
            "1854-08-23"
           ],
           "y": [
            1,
            1,
            1,
            0,
            1
           ]
          },
          {
           "type": "scatter",
           "x": [
            "1854-08-19",
            "1854-08-20",
            "1854-08-21",
            "1854-08-22",
            "1854-08-23"
           ],
           "y": [
            1,
            2,
            3,
            3,
            4
           ]
          },
          {
           "type": "scatter",
           "x": [
            "1854-08-19",
            "1854-08-20",
            "1854-08-21",
            "1854-08-22",
            "1854-08-23"
           ],
           "y": [
            1,
            0,
            2,
            0,
            0
           ]
          },
          {
           "type": "scatter",
           "x": [
            "1854-08-19",
            "1854-08-20",
            "1854-08-21",
            "1854-08-22",
            "1854-08-23"
           ],
           "y": [
            1,
            1,
            3,
            3,
            3
           ]
          }
         ]
        },
        {
         "data": [
          {
           "type": "scatter",
           "x": [
            "1854-08-19",
            "1854-08-20",
            "1854-08-21",
            "1854-08-22",
            "1854-08-23",
            "1854-08-24"
           ],
           "y": [
            1,
            1,
            1,
            0,
            1,
            1
           ]
          },
          {
           "type": "scatter",
           "x": [
            "1854-08-19",
            "1854-08-20",
            "1854-08-21",
            "1854-08-22",
            "1854-08-23",
            "1854-08-24"
           ],
           "y": [
            1,
            2,
            3,
            3,
            4,
            5
           ]
          },
          {
           "type": "scatter",
           "x": [
            "1854-08-19",
            "1854-08-20",
            "1854-08-21",
            "1854-08-22",
            "1854-08-23",
            "1854-08-24"
           ],
           "y": [
            1,
            0,
            2,
            0,
            0,
            2
           ]
          },
          {
           "type": "scatter",
           "x": [
            "1854-08-19",
            "1854-08-20",
            "1854-08-21",
            "1854-08-22",
            "1854-08-23",
            "1854-08-24"
           ],
           "y": [
            1,
            1,
            3,
            3,
            3,
            5
           ]
          }
         ]
        },
        {
         "data": [
          {
           "type": "scatter",
           "x": [
            "1854-08-19",
            "1854-08-20",
            "1854-08-21",
            "1854-08-22",
            "1854-08-23",
            "1854-08-24",
            "1854-08-25"
           ],
           "y": [
            1,
            1,
            1,
            0,
            1,
            1,
            0
           ]
          },
          {
           "type": "scatter",
           "x": [
            "1854-08-19",
            "1854-08-20",
            "1854-08-21",
            "1854-08-22",
            "1854-08-23",
            "1854-08-24",
            "1854-08-25"
           ],
           "y": [
            1,
            2,
            3,
            3,
            4,
            5,
            5
           ]
          },
          {
           "type": "scatter",
           "x": [
            "1854-08-19",
            "1854-08-20",
            "1854-08-21",
            "1854-08-22",
            "1854-08-23",
            "1854-08-24",
            "1854-08-25"
           ],
           "y": [
            1,
            0,
            2,
            0,
            0,
            2,
            0
           ]
          },
          {
           "type": "scatter",
           "x": [
            "1854-08-19",
            "1854-08-20",
            "1854-08-21",
            "1854-08-22",
            "1854-08-23",
            "1854-08-24",
            "1854-08-25"
           ],
           "y": [
            1,
            1,
            3,
            3,
            3,
            5,
            5
           ]
          }
         ]
        },
        {
         "data": [
          {
           "type": "scatter",
           "x": [
            "1854-08-19",
            "1854-08-20",
            "1854-08-21",
            "1854-08-22",
            "1854-08-23",
            "1854-08-24",
            "1854-08-25",
            "1854-08-26"
           ],
           "y": [
            1,
            1,
            1,
            0,
            1,
            1,
            0,
            1
           ]
          },
          {
           "type": "scatter",
           "x": [
            "1854-08-19",
            "1854-08-20",
            "1854-08-21",
            "1854-08-22",
            "1854-08-23",
            "1854-08-24",
            "1854-08-25",
            "1854-08-26"
           ],
           "y": [
            1,
            2,
            3,
            3,
            4,
            5,
            5,
            6
           ]
          },
          {
           "type": "scatter",
           "x": [
            "1854-08-19",
            "1854-08-20",
            "1854-08-21",
            "1854-08-22",
            "1854-08-23",
            "1854-08-24",
            "1854-08-25",
            "1854-08-26"
           ],
           "y": [
            1,
            0,
            2,
            0,
            0,
            2,
            0,
            0
           ]
          },
          {
           "type": "scatter",
           "x": [
            "1854-08-19",
            "1854-08-20",
            "1854-08-21",
            "1854-08-22",
            "1854-08-23",
            "1854-08-24",
            "1854-08-25",
            "1854-08-26"
           ],
           "y": [
            1,
            1,
            3,
            3,
            3,
            5,
            5,
            5
           ]
          }
         ]
        },
        {
         "data": [
          {
           "type": "scatter",
           "x": [
            "1854-08-19",
            "1854-08-20",
            "1854-08-21",
            "1854-08-22",
            "1854-08-23",
            "1854-08-24",
            "1854-08-25",
            "1854-08-26",
            "1854-08-27"
           ],
           "y": [
            1,
            1,
            1,
            0,
            1,
            1,
            0,
            1,
            1
           ]
          },
          {
           "type": "scatter",
           "x": [
            "1854-08-19",
            "1854-08-20",
            "1854-08-21",
            "1854-08-22",
            "1854-08-23",
            "1854-08-24",
            "1854-08-25",
            "1854-08-26",
            "1854-08-27"
           ],
           "y": [
            1,
            2,
            3,
            3,
            4,
            5,
            5,
            6,
            7
           ]
          },
          {
           "type": "scatter",
           "x": [
            "1854-08-19",
            "1854-08-20",
            "1854-08-21",
            "1854-08-22",
            "1854-08-23",
            "1854-08-24",
            "1854-08-25",
            "1854-08-26",
            "1854-08-27"
           ],
           "y": [
            1,
            0,
            2,
            0,
            0,
            2,
            0,
            0,
            1
           ]
          },
          {
           "type": "scatter",
           "x": [
            "1854-08-19",
            "1854-08-20",
            "1854-08-21",
            "1854-08-22",
            "1854-08-23",
            "1854-08-24",
            "1854-08-25",
            "1854-08-26",
            "1854-08-27"
           ],
           "y": [
            1,
            1,
            3,
            3,
            3,
            5,
            5,
            5,
            6
           ]
          }
         ]
        },
        {
         "data": [
          {
           "type": "scatter",
           "x": [
            "1854-08-19",
            "1854-08-20",
            "1854-08-21",
            "1854-08-22",
            "1854-08-23",
            "1854-08-24",
            "1854-08-25",
            "1854-08-26",
            "1854-08-27",
            "1854-08-28"
           ],
           "y": [
            1,
            1,
            1,
            0,
            1,
            1,
            0,
            1,
            1,
            1
           ]
          },
          {
           "type": "scatter",
           "x": [
            "1854-08-19",
            "1854-08-20",
            "1854-08-21",
            "1854-08-22",
            "1854-08-23",
            "1854-08-24",
            "1854-08-25",
            "1854-08-26",
            "1854-08-27",
            "1854-08-28"
           ],
           "y": [
            1,
            2,
            3,
            3,
            4,
            5,
            5,
            6,
            7,
            8
           ]
          },
          {
           "type": "scatter",
           "x": [
            "1854-08-19",
            "1854-08-20",
            "1854-08-21",
            "1854-08-22",
            "1854-08-23",
            "1854-08-24",
            "1854-08-25",
            "1854-08-26",
            "1854-08-27",
            "1854-08-28"
           ],
           "y": [
            1,
            0,
            2,
            0,
            0,
            2,
            0,
            0,
            1,
            0
           ]
          },
          {
           "type": "scatter",
           "x": [
            "1854-08-19",
            "1854-08-20",
            "1854-08-21",
            "1854-08-22",
            "1854-08-23",
            "1854-08-24",
            "1854-08-25",
            "1854-08-26",
            "1854-08-27",
            "1854-08-28"
           ],
           "y": [
            1,
            1,
            3,
            3,
            3,
            5,
            5,
            5,
            6,
            6
           ]
          }
         ]
        },
        {
         "data": [
          {
           "type": "scatter",
           "x": [
            "1854-08-19",
            "1854-08-20",
            "1854-08-21",
            "1854-08-22",
            "1854-08-23",
            "1854-08-24",
            "1854-08-25",
            "1854-08-26",
            "1854-08-27",
            "1854-08-28",
            "1854-08-29"
           ],
           "y": [
            1,
            1,
            1,
            0,
            1,
            1,
            0,
            1,
            1,
            1,
            1
           ]
          },
          {
           "type": "scatter",
           "x": [
            "1854-08-19",
            "1854-08-20",
            "1854-08-21",
            "1854-08-22",
            "1854-08-23",
            "1854-08-24",
            "1854-08-25",
            "1854-08-26",
            "1854-08-27",
            "1854-08-28",
            "1854-08-29"
           ],
           "y": [
            1,
            2,
            3,
            3,
            4,
            5,
            5,
            6,
            7,
            8,
            9
           ]
          },
          {
           "type": "scatter",
           "x": [
            "1854-08-19",
            "1854-08-20",
            "1854-08-21",
            "1854-08-22",
            "1854-08-23",
            "1854-08-24",
            "1854-08-25",
            "1854-08-26",
            "1854-08-27",
            "1854-08-28",
            "1854-08-29"
           ],
           "y": [
            1,
            0,
            2,
            0,
            0,
            2,
            0,
            0,
            1,
            0,
            1
           ]
          },
          {
           "type": "scatter",
           "x": [
            "1854-08-19",
            "1854-08-20",
            "1854-08-21",
            "1854-08-22",
            "1854-08-23",
            "1854-08-24",
            "1854-08-25",
            "1854-08-26",
            "1854-08-27",
            "1854-08-28",
            "1854-08-29"
           ],
           "y": [
            1,
            1,
            3,
            3,
            3,
            5,
            5,
            5,
            6,
            6,
            7
           ]
          }
         ]
        },
        {
         "data": [
          {
           "type": "scatter",
           "x": [
            "1854-08-19",
            "1854-08-20",
            "1854-08-21",
            "1854-08-22",
            "1854-08-23",
            "1854-08-24",
            "1854-08-25",
            "1854-08-26",
            "1854-08-27",
            "1854-08-28",
            "1854-08-29",
            "1854-08-30"
           ],
           "y": [
            1,
            1,
            1,
            0,
            1,
            1,
            0,
            1,
            1,
            1,
            1,
            8
           ]
          },
          {
           "type": "scatter",
           "x": [
            "1854-08-19",
            "1854-08-20",
            "1854-08-21",
            "1854-08-22",
            "1854-08-23",
            "1854-08-24",
            "1854-08-25",
            "1854-08-26",
            "1854-08-27",
            "1854-08-28",
            "1854-08-29",
            "1854-08-30"
           ],
           "y": [
            1,
            2,
            3,
            3,
            4,
            5,
            5,
            6,
            7,
            8,
            9,
            17
           ]
          },
          {
           "type": "scatter",
           "x": [
            "1854-08-19",
            "1854-08-20",
            "1854-08-21",
            "1854-08-22",
            "1854-08-23",
            "1854-08-24",
            "1854-08-25",
            "1854-08-26",
            "1854-08-27",
            "1854-08-28",
            "1854-08-29",
            "1854-08-30"
           ],
           "y": [
            1,
            0,
            2,
            0,
            0,
            2,
            0,
            0,
            1,
            0,
            1,
            2
           ]
          },
          {
           "type": "scatter",
           "x": [
            "1854-08-19",
            "1854-08-20",
            "1854-08-21",
            "1854-08-22",
            "1854-08-23",
            "1854-08-24",
            "1854-08-25",
            "1854-08-26",
            "1854-08-27",
            "1854-08-28",
            "1854-08-29",
            "1854-08-30"
           ],
           "y": [
            1,
            1,
            3,
            3,
            3,
            5,
            5,
            5,
            6,
            6,
            7,
            9
           ]
          }
         ]
        },
        {
         "data": [
          {
           "type": "scatter",
           "x": [
            "1854-08-19",
            "1854-08-20",
            "1854-08-21",
            "1854-08-22",
            "1854-08-23",
            "1854-08-24",
            "1854-08-25",
            "1854-08-26",
            "1854-08-27",
            "1854-08-28",
            "1854-08-29",
            "1854-08-30",
            "1854-08-31"
           ],
           "y": [
            1,
            1,
            1,
            0,
            1,
            1,
            0,
            1,
            1,
            1,
            1,
            8,
            56
           ]
          },
          {
           "type": "scatter",
           "x": [
            "1854-08-19",
            "1854-08-20",
            "1854-08-21",
            "1854-08-22",
            "1854-08-23",
            "1854-08-24",
            "1854-08-25",
            "1854-08-26",
            "1854-08-27",
            "1854-08-28",
            "1854-08-29",
            "1854-08-30",
            "1854-08-31"
           ],
           "y": [
            1,
            2,
            3,
            3,
            4,
            5,
            5,
            6,
            7,
            8,
            9,
            17,
            73
           ]
          },
          {
           "type": "scatter",
           "x": [
            "1854-08-19",
            "1854-08-20",
            "1854-08-21",
            "1854-08-22",
            "1854-08-23",
            "1854-08-24",
            "1854-08-25",
            "1854-08-26",
            "1854-08-27",
            "1854-08-28",
            "1854-08-29",
            "1854-08-30",
            "1854-08-31"
           ],
           "y": [
            1,
            0,
            2,
            0,
            0,
            2,
            0,
            0,
            1,
            0,
            1,
            2,
            3
           ]
          },
          {
           "type": "scatter",
           "x": [
            "1854-08-19",
            "1854-08-20",
            "1854-08-21",
            "1854-08-22",
            "1854-08-23",
            "1854-08-24",
            "1854-08-25",
            "1854-08-26",
            "1854-08-27",
            "1854-08-28",
            "1854-08-29",
            "1854-08-30",
            "1854-08-31"
           ],
           "y": [
            1,
            1,
            3,
            3,
            3,
            5,
            5,
            5,
            6,
            6,
            7,
            9,
            12
           ]
          }
         ]
        },
        {
         "data": [
          {
           "type": "scatter",
           "x": [
            "1854-08-19",
            "1854-08-20",
            "1854-08-21",
            "1854-08-22",
            "1854-08-23",
            "1854-08-24",
            "1854-08-25",
            "1854-08-26",
            "1854-08-27",
            "1854-08-28",
            "1854-08-29",
            "1854-08-30",
            "1854-08-31",
            "1854-09-01"
           ],
           "y": [
            1,
            1,
            1,
            0,
            1,
            1,
            0,
            1,
            1,
            1,
            1,
            8,
            56,
            143
           ]
          },
          {
           "type": "scatter",
           "x": [
            "1854-08-19",
            "1854-08-20",
            "1854-08-21",
            "1854-08-22",
            "1854-08-23",
            "1854-08-24",
            "1854-08-25",
            "1854-08-26",
            "1854-08-27",
            "1854-08-28",
            "1854-08-29",
            "1854-08-30",
            "1854-08-31",
            "1854-09-01"
           ],
           "y": [
            1,
            2,
            3,
            3,
            4,
            5,
            5,
            6,
            7,
            8,
            9,
            17,
            73,
            216
           ]
          },
          {
           "type": "scatter",
           "x": [
            "1854-08-19",
            "1854-08-20",
            "1854-08-21",
            "1854-08-22",
            "1854-08-23",
            "1854-08-24",
            "1854-08-25",
            "1854-08-26",
            "1854-08-27",
            "1854-08-28",
            "1854-08-29",
            "1854-08-30",
            "1854-08-31",
            "1854-09-01"
           ],
           "y": [
            1,
            0,
            2,
            0,
            0,
            2,
            0,
            0,
            1,
            0,
            1,
            2,
            3,
            70
           ]
          },
          {
           "type": "scatter",
           "x": [
            "1854-08-19",
            "1854-08-20",
            "1854-08-21",
            "1854-08-22",
            "1854-08-23",
            "1854-08-24",
            "1854-08-25",
            "1854-08-26",
            "1854-08-27",
            "1854-08-28",
            "1854-08-29",
            "1854-08-30",
            "1854-08-31",
            "1854-09-01"
           ],
           "y": [
            1,
            1,
            3,
            3,
            3,
            5,
            5,
            5,
            6,
            6,
            7,
            9,
            12,
            82
           ]
          }
         ]
        },
        {
         "data": [
          {
           "type": "scatter",
           "x": [
            "1854-08-19",
            "1854-08-20",
            "1854-08-21",
            "1854-08-22",
            "1854-08-23",
            "1854-08-24",
            "1854-08-25",
            "1854-08-26",
            "1854-08-27",
            "1854-08-28",
            "1854-08-29",
            "1854-08-30",
            "1854-08-31",
            "1854-09-01",
            "1854-09-02"
           ],
           "y": [
            1,
            1,
            1,
            0,
            1,
            1,
            0,
            1,
            1,
            1,
            1,
            8,
            56,
            143,
            116
           ]
          },
          {
           "type": "scatter",
           "x": [
            "1854-08-19",
            "1854-08-20",
            "1854-08-21",
            "1854-08-22",
            "1854-08-23",
            "1854-08-24",
            "1854-08-25",
            "1854-08-26",
            "1854-08-27",
            "1854-08-28",
            "1854-08-29",
            "1854-08-30",
            "1854-08-31",
            "1854-09-01",
            "1854-09-02"
           ],
           "y": [
            1,
            2,
            3,
            3,
            4,
            5,
            5,
            6,
            7,
            8,
            9,
            17,
            73,
            216,
            332
           ]
          },
          {
           "type": "scatter",
           "x": [
            "1854-08-19",
            "1854-08-20",
            "1854-08-21",
            "1854-08-22",
            "1854-08-23",
            "1854-08-24",
            "1854-08-25",
            "1854-08-26",
            "1854-08-27",
            "1854-08-28",
            "1854-08-29",
            "1854-08-30",
            "1854-08-31",
            "1854-09-01",
            "1854-09-02"
           ],
           "y": [
            1,
            0,
            2,
            0,
            0,
            2,
            0,
            0,
            1,
            0,
            1,
            2,
            3,
            70,
            127
           ]
          },
          {
           "type": "scatter",
           "x": [
            "1854-08-19",
            "1854-08-20",
            "1854-08-21",
            "1854-08-22",
            "1854-08-23",
            "1854-08-24",
            "1854-08-25",
            "1854-08-26",
            "1854-08-27",
            "1854-08-28",
            "1854-08-29",
            "1854-08-30",
            "1854-08-31",
            "1854-09-01",
            "1854-09-02"
           ],
           "y": [
            1,
            1,
            3,
            3,
            3,
            5,
            5,
            5,
            6,
            6,
            7,
            9,
            12,
            82,
            209
           ]
          }
         ]
        },
        {
         "data": [
          {
           "type": "scatter",
           "x": [
            "1854-08-19",
            "1854-08-20",
            "1854-08-21",
            "1854-08-22",
            "1854-08-23",
            "1854-08-24",
            "1854-08-25",
            "1854-08-26",
            "1854-08-27",
            "1854-08-28",
            "1854-08-29",
            "1854-08-30",
            "1854-08-31",
            "1854-09-01",
            "1854-09-02",
            "1854-09-03"
           ],
           "y": [
            1,
            1,
            1,
            0,
            1,
            1,
            0,
            1,
            1,
            1,
            1,
            8,
            56,
            143,
            116,
            54
           ]
          },
          {
           "type": "scatter",
           "x": [
            "1854-08-19",
            "1854-08-20",
            "1854-08-21",
            "1854-08-22",
            "1854-08-23",
            "1854-08-24",
            "1854-08-25",
            "1854-08-26",
            "1854-08-27",
            "1854-08-28",
            "1854-08-29",
            "1854-08-30",
            "1854-08-31",
            "1854-09-01",
            "1854-09-02",
            "1854-09-03"
           ],
           "y": [
            1,
            2,
            3,
            3,
            4,
            5,
            5,
            6,
            7,
            8,
            9,
            17,
            73,
            216,
            332,
            386
           ]
          },
          {
           "type": "scatter",
           "x": [
            "1854-08-19",
            "1854-08-20",
            "1854-08-21",
            "1854-08-22",
            "1854-08-23",
            "1854-08-24",
            "1854-08-25",
            "1854-08-26",
            "1854-08-27",
            "1854-08-28",
            "1854-08-29",
            "1854-08-30",
            "1854-08-31",
            "1854-09-01",
            "1854-09-02",
            "1854-09-03"
           ],
           "y": [
            1,
            0,
            2,
            0,
            0,
            2,
            0,
            0,
            1,
            0,
            1,
            2,
            3,
            70,
            127,
            76
           ]
          },
          {
           "type": "scatter",
           "x": [
            "1854-08-19",
            "1854-08-20",
            "1854-08-21",
            "1854-08-22",
            "1854-08-23",
            "1854-08-24",
            "1854-08-25",
            "1854-08-26",
            "1854-08-27",
            "1854-08-28",
            "1854-08-29",
            "1854-08-30",
            "1854-08-31",
            "1854-09-01",
            "1854-09-02",
            "1854-09-03"
           ],
           "y": [
            1,
            1,
            3,
            3,
            3,
            5,
            5,
            5,
            6,
            6,
            7,
            9,
            12,
            82,
            209,
            285
           ]
          }
         ]
        },
        {
         "data": [
          {
           "type": "scatter",
           "x": [
            "1854-08-19",
            "1854-08-20",
            "1854-08-21",
            "1854-08-22",
            "1854-08-23",
            "1854-08-24",
            "1854-08-25",
            "1854-08-26",
            "1854-08-27",
            "1854-08-28",
            "1854-08-29",
            "1854-08-30",
            "1854-08-31",
            "1854-09-01",
            "1854-09-02",
            "1854-09-03",
            "1854-09-04"
           ],
           "y": [
            1,
            1,
            1,
            0,
            1,
            1,
            0,
            1,
            1,
            1,
            1,
            8,
            56,
            143,
            116,
            54,
            46
           ]
          },
          {
           "type": "scatter",
           "x": [
            "1854-08-19",
            "1854-08-20",
            "1854-08-21",
            "1854-08-22",
            "1854-08-23",
            "1854-08-24",
            "1854-08-25",
            "1854-08-26",
            "1854-08-27",
            "1854-08-28",
            "1854-08-29",
            "1854-08-30",
            "1854-08-31",
            "1854-09-01",
            "1854-09-02",
            "1854-09-03",
            "1854-09-04"
           ],
           "y": [
            1,
            2,
            3,
            3,
            4,
            5,
            5,
            6,
            7,
            8,
            9,
            17,
            73,
            216,
            332,
            386,
            432
           ]
          },
          {
           "type": "scatter",
           "x": [
            "1854-08-19",
            "1854-08-20",
            "1854-08-21",
            "1854-08-22",
            "1854-08-23",
            "1854-08-24",
            "1854-08-25",
            "1854-08-26",
            "1854-08-27",
            "1854-08-28",
            "1854-08-29",
            "1854-08-30",
            "1854-08-31",
            "1854-09-01",
            "1854-09-02",
            "1854-09-03",
            "1854-09-04"
           ],
           "y": [
            1,
            0,
            2,
            0,
            0,
            2,
            0,
            0,
            1,
            0,
            1,
            2,
            3,
            70,
            127,
            76,
            71
           ]
          },
          {
           "type": "scatter",
           "x": [
            "1854-08-19",
            "1854-08-20",
            "1854-08-21",
            "1854-08-22",
            "1854-08-23",
            "1854-08-24",
            "1854-08-25",
            "1854-08-26",
            "1854-08-27",
            "1854-08-28",
            "1854-08-29",
            "1854-08-30",
            "1854-08-31",
            "1854-09-01",
            "1854-09-02",
            "1854-09-03",
            "1854-09-04"
           ],
           "y": [
            1,
            1,
            3,
            3,
            3,
            5,
            5,
            5,
            6,
            6,
            7,
            9,
            12,
            82,
            209,
            285,
            356
           ]
          }
         ]
        },
        {
         "data": [
          {
           "type": "scatter",
           "x": [
            "1854-08-19",
            "1854-08-20",
            "1854-08-21",
            "1854-08-22",
            "1854-08-23",
            "1854-08-24",
            "1854-08-25",
            "1854-08-26",
            "1854-08-27",
            "1854-08-28",
            "1854-08-29",
            "1854-08-30",
            "1854-08-31",
            "1854-09-01",
            "1854-09-02",
            "1854-09-03",
            "1854-09-04",
            "1854-09-05"
           ],
           "y": [
            1,
            1,
            1,
            0,
            1,
            1,
            0,
            1,
            1,
            1,
            1,
            8,
            56,
            143,
            116,
            54,
            46,
            36
           ]
          },
          {
           "type": "scatter",
           "x": [
            "1854-08-19",
            "1854-08-20",
            "1854-08-21",
            "1854-08-22",
            "1854-08-23",
            "1854-08-24",
            "1854-08-25",
            "1854-08-26",
            "1854-08-27",
            "1854-08-28",
            "1854-08-29",
            "1854-08-30",
            "1854-08-31",
            "1854-09-01",
            "1854-09-02",
            "1854-09-03",
            "1854-09-04",
            "1854-09-05"
           ],
           "y": [
            1,
            2,
            3,
            3,
            4,
            5,
            5,
            6,
            7,
            8,
            9,
            17,
            73,
            216,
            332,
            386,
            432,
            468
           ]
          },
          {
           "type": "scatter",
           "x": [
            "1854-08-19",
            "1854-08-20",
            "1854-08-21",
            "1854-08-22",
            "1854-08-23",
            "1854-08-24",
            "1854-08-25",
            "1854-08-26",
            "1854-08-27",
            "1854-08-28",
            "1854-08-29",
            "1854-08-30",
            "1854-08-31",
            "1854-09-01",
            "1854-09-02",
            "1854-09-03",
            "1854-09-04",
            "1854-09-05"
           ],
           "y": [
            1,
            0,
            2,
            0,
            0,
            2,
            0,
            0,
            1,
            0,
            1,
            2,
            3,
            70,
            127,
            76,
            71,
            45
           ]
          },
          {
           "type": "scatter",
           "x": [
            "1854-08-19",
            "1854-08-20",
            "1854-08-21",
            "1854-08-22",
            "1854-08-23",
            "1854-08-24",
            "1854-08-25",
            "1854-08-26",
            "1854-08-27",
            "1854-08-28",
            "1854-08-29",
            "1854-08-30",
            "1854-08-31",
            "1854-09-01",
            "1854-09-02",
            "1854-09-03",
            "1854-09-04",
            "1854-09-05"
           ],
           "y": [
            1,
            1,
            3,
            3,
            3,
            5,
            5,
            5,
            6,
            6,
            7,
            9,
            12,
            82,
            209,
            285,
            356,
            401
           ]
          }
         ]
        },
        {
         "data": [
          {
           "type": "scatter",
           "x": [
            "1854-08-19",
            "1854-08-20",
            "1854-08-21",
            "1854-08-22",
            "1854-08-23",
            "1854-08-24",
            "1854-08-25",
            "1854-08-26",
            "1854-08-27",
            "1854-08-28",
            "1854-08-29",
            "1854-08-30",
            "1854-08-31",
            "1854-09-01",
            "1854-09-02",
            "1854-09-03",
            "1854-09-04",
            "1854-09-05",
            "1854-09-06"
           ],
           "y": [
            1,
            1,
            1,
            0,
            1,
            1,
            0,
            1,
            1,
            1,
            1,
            8,
            56,
            143,
            116,
            54,
            46,
            36,
            20
           ]
          },
          {
           "type": "scatter",
           "x": [
            "1854-08-19",
            "1854-08-20",
            "1854-08-21",
            "1854-08-22",
            "1854-08-23",
            "1854-08-24",
            "1854-08-25",
            "1854-08-26",
            "1854-08-27",
            "1854-08-28",
            "1854-08-29",
            "1854-08-30",
            "1854-08-31",
            "1854-09-01",
            "1854-09-02",
            "1854-09-03",
            "1854-09-04",
            "1854-09-05",
            "1854-09-06"
           ],
           "y": [
            1,
            2,
            3,
            3,
            4,
            5,
            5,
            6,
            7,
            8,
            9,
            17,
            73,
            216,
            332,
            386,
            432,
            468,
            488
           ]
          },
          {
           "type": "scatter",
           "x": [
            "1854-08-19",
            "1854-08-20",
            "1854-08-21",
            "1854-08-22",
            "1854-08-23",
            "1854-08-24",
            "1854-08-25",
            "1854-08-26",
            "1854-08-27",
            "1854-08-28",
            "1854-08-29",
            "1854-08-30",
            "1854-08-31",
            "1854-09-01",
            "1854-09-02",
            "1854-09-03",
            "1854-09-04",
            "1854-09-05",
            "1854-09-06"
           ],
           "y": [
            1,
            0,
            2,
            0,
            0,
            2,
            0,
            0,
            1,
            0,
            1,
            2,
            3,
            70,
            127,
            76,
            71,
            45,
            37
           ]
          },
          {
           "type": "scatter",
           "x": [
            "1854-08-19",
            "1854-08-20",
            "1854-08-21",
            "1854-08-22",
            "1854-08-23",
            "1854-08-24",
            "1854-08-25",
            "1854-08-26",
            "1854-08-27",
            "1854-08-28",
            "1854-08-29",
            "1854-08-30",
            "1854-08-31",
            "1854-09-01",
            "1854-09-02",
            "1854-09-03",
            "1854-09-04",
            "1854-09-05",
            "1854-09-06"
           ],
           "y": [
            1,
            1,
            3,
            3,
            3,
            5,
            5,
            5,
            6,
            6,
            7,
            9,
            12,
            82,
            209,
            285,
            356,
            401,
            438
           ]
          }
         ]
        },
        {
         "data": [
          {
           "type": "scatter",
           "x": [
            "1854-08-19",
            "1854-08-20",
            "1854-08-21",
            "1854-08-22",
            "1854-08-23",
            "1854-08-24",
            "1854-08-25",
            "1854-08-26",
            "1854-08-27",
            "1854-08-28",
            "1854-08-29",
            "1854-08-30",
            "1854-08-31",
            "1854-09-01",
            "1854-09-02",
            "1854-09-03",
            "1854-09-04",
            "1854-09-05",
            "1854-09-06",
            "1854-09-07"
           ],
           "y": [
            1,
            1,
            1,
            0,
            1,
            1,
            0,
            1,
            1,
            1,
            1,
            8,
            56,
            143,
            116,
            54,
            46,
            36,
            20,
            28
           ]
          },
          {
           "type": "scatter",
           "x": [
            "1854-08-19",
            "1854-08-20",
            "1854-08-21",
            "1854-08-22",
            "1854-08-23",
            "1854-08-24",
            "1854-08-25",
            "1854-08-26",
            "1854-08-27",
            "1854-08-28",
            "1854-08-29",
            "1854-08-30",
            "1854-08-31",
            "1854-09-01",
            "1854-09-02",
            "1854-09-03",
            "1854-09-04",
            "1854-09-05",
            "1854-09-06",
            "1854-09-07"
           ],
           "y": [
            1,
            2,
            3,
            3,
            4,
            5,
            5,
            6,
            7,
            8,
            9,
            17,
            73,
            216,
            332,
            386,
            432,
            468,
            488,
            516
           ]
          },
          {
           "type": "scatter",
           "x": [
            "1854-08-19",
            "1854-08-20",
            "1854-08-21",
            "1854-08-22",
            "1854-08-23",
            "1854-08-24",
            "1854-08-25",
            "1854-08-26",
            "1854-08-27",
            "1854-08-28",
            "1854-08-29",
            "1854-08-30",
            "1854-08-31",
            "1854-09-01",
            "1854-09-02",
            "1854-09-03",
            "1854-09-04",
            "1854-09-05",
            "1854-09-06",
            "1854-09-07"
           ],
           "y": [
            1,
            0,
            2,
            0,
            0,
            2,
            0,
            0,
            1,
            0,
            1,
            2,
            3,
            70,
            127,
            76,
            71,
            45,
            37,
            32
           ]
          },
          {
           "type": "scatter",
           "x": [
            "1854-08-19",
            "1854-08-20",
            "1854-08-21",
            "1854-08-22",
            "1854-08-23",
            "1854-08-24",
            "1854-08-25",
            "1854-08-26",
            "1854-08-27",
            "1854-08-28",
            "1854-08-29",
            "1854-08-30",
            "1854-08-31",
            "1854-09-01",
            "1854-09-02",
            "1854-09-03",
            "1854-09-04",
            "1854-09-05",
            "1854-09-06",
            "1854-09-07"
           ],
           "y": [
            1,
            1,
            3,
            3,
            3,
            5,
            5,
            5,
            6,
            6,
            7,
            9,
            12,
            82,
            209,
            285,
            356,
            401,
            438,
            470
           ]
          }
         ]
        },
        {
         "data": [
          {
           "type": "scatter",
           "x": [
            "1854-08-19",
            "1854-08-20",
            "1854-08-21",
            "1854-08-22",
            "1854-08-23",
            "1854-08-24",
            "1854-08-25",
            "1854-08-26",
            "1854-08-27",
            "1854-08-28",
            "1854-08-29",
            "1854-08-30",
            "1854-08-31",
            "1854-09-01",
            "1854-09-02",
            "1854-09-03",
            "1854-09-04",
            "1854-09-05",
            "1854-09-06",
            "1854-09-07",
            "1854-09-08"
           ],
           "y": [
            1,
            1,
            1,
            0,
            1,
            1,
            0,
            1,
            1,
            1,
            1,
            8,
            56,
            143,
            116,
            54,
            46,
            36,
            20,
            28,
            12
           ]
          },
          {
           "type": "scatter",
           "x": [
            "1854-08-19",
            "1854-08-20",
            "1854-08-21",
            "1854-08-22",
            "1854-08-23",
            "1854-08-24",
            "1854-08-25",
            "1854-08-26",
            "1854-08-27",
            "1854-08-28",
            "1854-08-29",
            "1854-08-30",
            "1854-08-31",
            "1854-09-01",
            "1854-09-02",
            "1854-09-03",
            "1854-09-04",
            "1854-09-05",
            "1854-09-06",
            "1854-09-07",
            "1854-09-08"
           ],
           "y": [
            1,
            2,
            3,
            3,
            4,
            5,
            5,
            6,
            7,
            8,
            9,
            17,
            73,
            216,
            332,
            386,
            432,
            468,
            488,
            516,
            528
           ]
          },
          {
           "type": "scatter",
           "x": [
            "1854-08-19",
            "1854-08-20",
            "1854-08-21",
            "1854-08-22",
            "1854-08-23",
            "1854-08-24",
            "1854-08-25",
            "1854-08-26",
            "1854-08-27",
            "1854-08-28",
            "1854-08-29",
            "1854-08-30",
            "1854-08-31",
            "1854-09-01",
            "1854-09-02",
            "1854-09-03",
            "1854-09-04",
            "1854-09-05",
            "1854-09-06",
            "1854-09-07",
            "1854-09-08"
           ],
           "y": [
            1,
            0,
            2,
            0,
            0,
            2,
            0,
            0,
            1,
            0,
            1,
            2,
            3,
            70,
            127,
            76,
            71,
            45,
            37,
            32,
            30
           ]
          },
          {
           "type": "scatter",
           "x": [
            "1854-08-19",
            "1854-08-20",
            "1854-08-21",
            "1854-08-22",
            "1854-08-23",
            "1854-08-24",
            "1854-08-25",
            "1854-08-26",
            "1854-08-27",
            "1854-08-28",
            "1854-08-29",
            "1854-08-30",
            "1854-08-31",
            "1854-09-01",
            "1854-09-02",
            "1854-09-03",
            "1854-09-04",
            "1854-09-05",
            "1854-09-06",
            "1854-09-07",
            "1854-09-08"
           ],
           "y": [
            1,
            1,
            3,
            3,
            3,
            5,
            5,
            5,
            6,
            6,
            7,
            9,
            12,
            82,
            209,
            285,
            356,
            401,
            438,
            470,
            500
           ]
          }
         ]
        },
        {
         "data": [
          {
           "type": "scatter",
           "x": [
            "1854-08-19",
            "1854-08-20",
            "1854-08-21",
            "1854-08-22",
            "1854-08-23",
            "1854-08-24",
            "1854-08-25",
            "1854-08-26",
            "1854-08-27",
            "1854-08-28",
            "1854-08-29",
            "1854-08-30",
            "1854-08-31",
            "1854-09-01",
            "1854-09-02",
            "1854-09-03",
            "1854-09-04",
            "1854-09-05",
            "1854-09-06",
            "1854-09-07",
            "1854-09-08",
            "1854-09-09"
           ],
           "y": [
            1,
            1,
            1,
            0,
            1,
            1,
            0,
            1,
            1,
            1,
            1,
            8,
            56,
            143,
            116,
            54,
            46,
            36,
            20,
            28,
            12,
            11
           ]
          },
          {
           "type": "scatter",
           "x": [
            "1854-08-19",
            "1854-08-20",
            "1854-08-21",
            "1854-08-22",
            "1854-08-23",
            "1854-08-24",
            "1854-08-25",
            "1854-08-26",
            "1854-08-27",
            "1854-08-28",
            "1854-08-29",
            "1854-08-30",
            "1854-08-31",
            "1854-09-01",
            "1854-09-02",
            "1854-09-03",
            "1854-09-04",
            "1854-09-05",
            "1854-09-06",
            "1854-09-07",
            "1854-09-08",
            "1854-09-09"
           ],
           "y": [
            1,
            2,
            3,
            3,
            4,
            5,
            5,
            6,
            7,
            8,
            9,
            17,
            73,
            216,
            332,
            386,
            432,
            468,
            488,
            516,
            528,
            539
           ]
          },
          {
           "type": "scatter",
           "x": [
            "1854-08-19",
            "1854-08-20",
            "1854-08-21",
            "1854-08-22",
            "1854-08-23",
            "1854-08-24",
            "1854-08-25",
            "1854-08-26",
            "1854-08-27",
            "1854-08-28",
            "1854-08-29",
            "1854-08-30",
            "1854-08-31",
            "1854-09-01",
            "1854-09-02",
            "1854-09-03",
            "1854-09-04",
            "1854-09-05",
            "1854-09-06",
            "1854-09-07",
            "1854-09-08",
            "1854-09-09"
           ],
           "y": [
            1,
            0,
            2,
            0,
            0,
            2,
            0,
            0,
            1,
            0,
            1,
            2,
            3,
            70,
            127,
            76,
            71,
            45,
            37,
            32,
            30,
            24
           ]
          },
          {
           "type": "scatter",
           "x": [
            "1854-08-19",
            "1854-08-20",
            "1854-08-21",
            "1854-08-22",
            "1854-08-23",
            "1854-08-24",
            "1854-08-25",
            "1854-08-26",
            "1854-08-27",
            "1854-08-28",
            "1854-08-29",
            "1854-08-30",
            "1854-08-31",
            "1854-09-01",
            "1854-09-02",
            "1854-09-03",
            "1854-09-04",
            "1854-09-05",
            "1854-09-06",
            "1854-09-07",
            "1854-09-08",
            "1854-09-09"
           ],
           "y": [
            1,
            1,
            3,
            3,
            3,
            5,
            5,
            5,
            6,
            6,
            7,
            9,
            12,
            82,
            209,
            285,
            356,
            401,
            438,
            470,
            500,
            524
           ]
          }
         ]
        },
        {
         "data": [
          {
           "type": "scatter",
           "x": [
            "1854-08-19",
            "1854-08-20",
            "1854-08-21",
            "1854-08-22",
            "1854-08-23",
            "1854-08-24",
            "1854-08-25",
            "1854-08-26",
            "1854-08-27",
            "1854-08-28",
            "1854-08-29",
            "1854-08-30",
            "1854-08-31",
            "1854-09-01",
            "1854-09-02",
            "1854-09-03",
            "1854-09-04",
            "1854-09-05",
            "1854-09-06",
            "1854-09-07",
            "1854-09-08",
            "1854-09-09",
            "1854-09-10"
           ],
           "y": [
            1,
            1,
            1,
            0,
            1,
            1,
            0,
            1,
            1,
            1,
            1,
            8,
            56,
            143,
            116,
            54,
            46,
            36,
            20,
            28,
            12,
            11,
            5
           ]
          },
          {
           "type": "scatter",
           "x": [
            "1854-08-19",
            "1854-08-20",
            "1854-08-21",
            "1854-08-22",
            "1854-08-23",
            "1854-08-24",
            "1854-08-25",
            "1854-08-26",
            "1854-08-27",
            "1854-08-28",
            "1854-08-29",
            "1854-08-30",
            "1854-08-31",
            "1854-09-01",
            "1854-09-02",
            "1854-09-03",
            "1854-09-04",
            "1854-09-05",
            "1854-09-06",
            "1854-09-07",
            "1854-09-08",
            "1854-09-09",
            "1854-09-10"
           ],
           "y": [
            1,
            2,
            3,
            3,
            4,
            5,
            5,
            6,
            7,
            8,
            9,
            17,
            73,
            216,
            332,
            386,
            432,
            468,
            488,
            516,
            528,
            539,
            544
           ]
          },
          {
           "type": "scatter",
           "x": [
            "1854-08-19",
            "1854-08-20",
            "1854-08-21",
            "1854-08-22",
            "1854-08-23",
            "1854-08-24",
            "1854-08-25",
            "1854-08-26",
            "1854-08-27",
            "1854-08-28",
            "1854-08-29",
            "1854-08-30",
            "1854-08-31",
            "1854-09-01",
            "1854-09-02",
            "1854-09-03",
            "1854-09-04",
            "1854-09-05",
            "1854-09-06",
            "1854-09-07",
            "1854-09-08",
            "1854-09-09",
            "1854-09-10"
           ],
           "y": [
            1,
            0,
            2,
            0,
            0,
            2,
            0,
            0,
            1,
            0,
            1,
            2,
            3,
            70,
            127,
            76,
            71,
            45,
            37,
            32,
            30,
            24,
            18
           ]
          },
          {
           "type": "scatter",
           "x": [
            "1854-08-19",
            "1854-08-20",
            "1854-08-21",
            "1854-08-22",
            "1854-08-23",
            "1854-08-24",
            "1854-08-25",
            "1854-08-26",
            "1854-08-27",
            "1854-08-28",
            "1854-08-29",
            "1854-08-30",
            "1854-08-31",
            "1854-09-01",
            "1854-09-02",
            "1854-09-03",
            "1854-09-04",
            "1854-09-05",
            "1854-09-06",
            "1854-09-07",
            "1854-09-08",
            "1854-09-09",
            "1854-09-10"
           ],
           "y": [
            1,
            1,
            3,
            3,
            3,
            5,
            5,
            5,
            6,
            6,
            7,
            9,
            12,
            82,
            209,
            285,
            356,
            401,
            438,
            470,
            500,
            524,
            542
           ]
          }
         ]
        },
        {
         "data": [
          {
           "type": "scatter",
           "x": [
            "1854-08-19",
            "1854-08-20",
            "1854-08-21",
            "1854-08-22",
            "1854-08-23",
            "1854-08-24",
            "1854-08-25",
            "1854-08-26",
            "1854-08-27",
            "1854-08-28",
            "1854-08-29",
            "1854-08-30",
            "1854-08-31",
            "1854-09-01",
            "1854-09-02",
            "1854-09-03",
            "1854-09-04",
            "1854-09-05",
            "1854-09-06",
            "1854-09-07",
            "1854-09-08",
            "1854-09-09",
            "1854-09-10",
            "1854-09-11"
           ],
           "y": [
            1,
            1,
            1,
            0,
            1,
            1,
            0,
            1,
            1,
            1,
            1,
            8,
            56,
            143,
            116,
            54,
            46,
            36,
            20,
            28,
            12,
            11,
            5,
            5
           ]
          },
          {
           "type": "scatter",
           "x": [
            "1854-08-19",
            "1854-08-20",
            "1854-08-21",
            "1854-08-22",
            "1854-08-23",
            "1854-08-24",
            "1854-08-25",
            "1854-08-26",
            "1854-08-27",
            "1854-08-28",
            "1854-08-29",
            "1854-08-30",
            "1854-08-31",
            "1854-09-01",
            "1854-09-02",
            "1854-09-03",
            "1854-09-04",
            "1854-09-05",
            "1854-09-06",
            "1854-09-07",
            "1854-09-08",
            "1854-09-09",
            "1854-09-10",
            "1854-09-11"
           ],
           "y": [
            1,
            2,
            3,
            3,
            4,
            5,
            5,
            6,
            7,
            8,
            9,
            17,
            73,
            216,
            332,
            386,
            432,
            468,
            488,
            516,
            528,
            539,
            544,
            549
           ]
          },
          {
           "type": "scatter",
           "x": [
            "1854-08-19",
            "1854-08-20",
            "1854-08-21",
            "1854-08-22",
            "1854-08-23",
            "1854-08-24",
            "1854-08-25",
            "1854-08-26",
            "1854-08-27",
            "1854-08-28",
            "1854-08-29",
            "1854-08-30",
            "1854-08-31",
            "1854-09-01",
            "1854-09-02",
            "1854-09-03",
            "1854-09-04",
            "1854-09-05",
            "1854-09-06",
            "1854-09-07",
            "1854-09-08",
            "1854-09-09",
            "1854-09-10",
            "1854-09-11"
           ],
           "y": [
            1,
            0,
            2,
            0,
            0,
            2,
            0,
            0,
            1,
            0,
            1,
            2,
            3,
            70,
            127,
            76,
            71,
            45,
            37,
            32,
            30,
            24,
            18,
            15
           ]
          },
          {
           "type": "scatter",
           "x": [
            "1854-08-19",
            "1854-08-20",
            "1854-08-21",
            "1854-08-22",
            "1854-08-23",
            "1854-08-24",
            "1854-08-25",
            "1854-08-26",
            "1854-08-27",
            "1854-08-28",
            "1854-08-29",
            "1854-08-30",
            "1854-08-31",
            "1854-09-01",
            "1854-09-02",
            "1854-09-03",
            "1854-09-04",
            "1854-09-05",
            "1854-09-06",
            "1854-09-07",
            "1854-09-08",
            "1854-09-09",
            "1854-09-10",
            "1854-09-11"
           ],
           "y": [
            1,
            1,
            3,
            3,
            3,
            5,
            5,
            5,
            6,
            6,
            7,
            9,
            12,
            82,
            209,
            285,
            356,
            401,
            438,
            470,
            500,
            524,
            542,
            557
           ]
          }
         ]
        },
        {
         "data": [
          {
           "type": "scatter",
           "x": [
            "1854-08-19",
            "1854-08-20",
            "1854-08-21",
            "1854-08-22",
            "1854-08-23",
            "1854-08-24",
            "1854-08-25",
            "1854-08-26",
            "1854-08-27",
            "1854-08-28",
            "1854-08-29",
            "1854-08-30",
            "1854-08-31",
            "1854-09-01",
            "1854-09-02",
            "1854-09-03",
            "1854-09-04",
            "1854-09-05",
            "1854-09-06",
            "1854-09-07",
            "1854-09-08",
            "1854-09-09",
            "1854-09-10",
            "1854-09-11",
            "1854-09-12"
           ],
           "y": [
            1,
            1,
            1,
            0,
            1,
            1,
            0,
            1,
            1,
            1,
            1,
            8,
            56,
            143,
            116,
            54,
            46,
            36,
            20,
            28,
            12,
            11,
            5,
            5,
            1
           ]
          },
          {
           "type": "scatter",
           "x": [
            "1854-08-19",
            "1854-08-20",
            "1854-08-21",
            "1854-08-22",
            "1854-08-23",
            "1854-08-24",
            "1854-08-25",
            "1854-08-26",
            "1854-08-27",
            "1854-08-28",
            "1854-08-29",
            "1854-08-30",
            "1854-08-31",
            "1854-09-01",
            "1854-09-02",
            "1854-09-03",
            "1854-09-04",
            "1854-09-05",
            "1854-09-06",
            "1854-09-07",
            "1854-09-08",
            "1854-09-09",
            "1854-09-10",
            "1854-09-11",
            "1854-09-12"
           ],
           "y": [
            1,
            2,
            3,
            3,
            4,
            5,
            5,
            6,
            7,
            8,
            9,
            17,
            73,
            216,
            332,
            386,
            432,
            468,
            488,
            516,
            528,
            539,
            544,
            549,
            550
           ]
          },
          {
           "type": "scatter",
           "x": [
            "1854-08-19",
            "1854-08-20",
            "1854-08-21",
            "1854-08-22",
            "1854-08-23",
            "1854-08-24",
            "1854-08-25",
            "1854-08-26",
            "1854-08-27",
            "1854-08-28",
            "1854-08-29",
            "1854-08-30",
            "1854-08-31",
            "1854-09-01",
            "1854-09-02",
            "1854-09-03",
            "1854-09-04",
            "1854-09-05",
            "1854-09-06",
            "1854-09-07",
            "1854-09-08",
            "1854-09-09",
            "1854-09-10",
            "1854-09-11",
            "1854-09-12"
           ],
           "y": [
            1,
            0,
            2,
            0,
            0,
            2,
            0,
            0,
            1,
            0,
            1,
            2,
            3,
            70,
            127,
            76,
            71,
            45,
            37,
            32,
            30,
            24,
            18,
            15,
            6
           ]
          },
          {
           "type": "scatter",
           "x": [
            "1854-08-19",
            "1854-08-20",
            "1854-08-21",
            "1854-08-22",
            "1854-08-23",
            "1854-08-24",
            "1854-08-25",
            "1854-08-26",
            "1854-08-27",
            "1854-08-28",
            "1854-08-29",
            "1854-08-30",
            "1854-08-31",
            "1854-09-01",
            "1854-09-02",
            "1854-09-03",
            "1854-09-04",
            "1854-09-05",
            "1854-09-06",
            "1854-09-07",
            "1854-09-08",
            "1854-09-09",
            "1854-09-10",
            "1854-09-11",
            "1854-09-12"
           ],
           "y": [
            1,
            1,
            3,
            3,
            3,
            5,
            5,
            5,
            6,
            6,
            7,
            9,
            12,
            82,
            209,
            285,
            356,
            401,
            438,
            470,
            500,
            524,
            542,
            557,
            563
           ]
          }
         ]
        },
        {
         "data": [
          {
           "type": "scatter",
           "x": [
            "1854-08-19",
            "1854-08-20",
            "1854-08-21",
            "1854-08-22",
            "1854-08-23",
            "1854-08-24",
            "1854-08-25",
            "1854-08-26",
            "1854-08-27",
            "1854-08-28",
            "1854-08-29",
            "1854-08-30",
            "1854-08-31",
            "1854-09-01",
            "1854-09-02",
            "1854-09-03",
            "1854-09-04",
            "1854-09-05",
            "1854-09-06",
            "1854-09-07",
            "1854-09-08",
            "1854-09-09",
            "1854-09-10",
            "1854-09-11",
            "1854-09-12",
            "1854-09-13"
           ],
           "y": [
            1,
            1,
            1,
            0,
            1,
            1,
            0,
            1,
            1,
            1,
            1,
            8,
            56,
            143,
            116,
            54,
            46,
            36,
            20,
            28,
            12,
            11,
            5,
            5,
            1,
            3
           ]
          },
          {
           "type": "scatter",
           "x": [
            "1854-08-19",
            "1854-08-20",
            "1854-08-21",
            "1854-08-22",
            "1854-08-23",
            "1854-08-24",
            "1854-08-25",
            "1854-08-26",
            "1854-08-27",
            "1854-08-28",
            "1854-08-29",
            "1854-08-30",
            "1854-08-31",
            "1854-09-01",
            "1854-09-02",
            "1854-09-03",
            "1854-09-04",
            "1854-09-05",
            "1854-09-06",
            "1854-09-07",
            "1854-09-08",
            "1854-09-09",
            "1854-09-10",
            "1854-09-11",
            "1854-09-12",
            "1854-09-13"
           ],
           "y": [
            1,
            2,
            3,
            3,
            4,
            5,
            5,
            6,
            7,
            8,
            9,
            17,
            73,
            216,
            332,
            386,
            432,
            468,
            488,
            516,
            528,
            539,
            544,
            549,
            550,
            553
           ]
          },
          {
           "type": "scatter",
           "x": [
            "1854-08-19",
            "1854-08-20",
            "1854-08-21",
            "1854-08-22",
            "1854-08-23",
            "1854-08-24",
            "1854-08-25",
            "1854-08-26",
            "1854-08-27",
            "1854-08-28",
            "1854-08-29",
            "1854-08-30",
            "1854-08-31",
            "1854-09-01",
            "1854-09-02",
            "1854-09-03",
            "1854-09-04",
            "1854-09-05",
            "1854-09-06",
            "1854-09-07",
            "1854-09-08",
            "1854-09-09",
            "1854-09-10",
            "1854-09-11",
            "1854-09-12",
            "1854-09-13"
           ],
           "y": [
            1,
            0,
            2,
            0,
            0,
            2,
            0,
            0,
            1,
            0,
            1,
            2,
            3,
            70,
            127,
            76,
            71,
            45,
            37,
            32,
            30,
            24,
            18,
            15,
            6,
            13
           ]
          },
          {
           "type": "scatter",
           "x": [
            "1854-08-19",
            "1854-08-20",
            "1854-08-21",
            "1854-08-22",
            "1854-08-23",
            "1854-08-24",
            "1854-08-25",
            "1854-08-26",
            "1854-08-27",
            "1854-08-28",
            "1854-08-29",
            "1854-08-30",
            "1854-08-31",
            "1854-09-01",
            "1854-09-02",
            "1854-09-03",
            "1854-09-04",
            "1854-09-05",
            "1854-09-06",
            "1854-09-07",
            "1854-09-08",
            "1854-09-09",
            "1854-09-10",
            "1854-09-11",
            "1854-09-12",
            "1854-09-13"
           ],
           "y": [
            1,
            1,
            3,
            3,
            3,
            5,
            5,
            5,
            6,
            6,
            7,
            9,
            12,
            82,
            209,
            285,
            356,
            401,
            438,
            470,
            500,
            524,
            542,
            557,
            563,
            576
           ]
          }
         ]
        },
        {
         "data": [
          {
           "type": "scatter",
           "x": [
            "1854-08-19",
            "1854-08-20",
            "1854-08-21",
            "1854-08-22",
            "1854-08-23",
            "1854-08-24",
            "1854-08-25",
            "1854-08-26",
            "1854-08-27",
            "1854-08-28",
            "1854-08-29",
            "1854-08-30",
            "1854-08-31",
            "1854-09-01",
            "1854-09-02",
            "1854-09-03",
            "1854-09-04",
            "1854-09-05",
            "1854-09-06",
            "1854-09-07",
            "1854-09-08",
            "1854-09-09",
            "1854-09-10",
            "1854-09-11",
            "1854-09-12",
            "1854-09-13",
            "1854-09-14"
           ],
           "y": [
            1,
            1,
            1,
            0,
            1,
            1,
            0,
            1,
            1,
            1,
            1,
            8,
            56,
            143,
            116,
            54,
            46,
            36,
            20,
            28,
            12,
            11,
            5,
            5,
            1,
            3,
            0
           ]
          },
          {
           "type": "scatter",
           "x": [
            "1854-08-19",
            "1854-08-20",
            "1854-08-21",
            "1854-08-22",
            "1854-08-23",
            "1854-08-24",
            "1854-08-25",
            "1854-08-26",
            "1854-08-27",
            "1854-08-28",
            "1854-08-29",
            "1854-08-30",
            "1854-08-31",
            "1854-09-01",
            "1854-09-02",
            "1854-09-03",
            "1854-09-04",
            "1854-09-05",
            "1854-09-06",
            "1854-09-07",
            "1854-09-08",
            "1854-09-09",
            "1854-09-10",
            "1854-09-11",
            "1854-09-12",
            "1854-09-13",
            "1854-09-14"
           ],
           "y": [
            1,
            2,
            3,
            3,
            4,
            5,
            5,
            6,
            7,
            8,
            9,
            17,
            73,
            216,
            332,
            386,
            432,
            468,
            488,
            516,
            528,
            539,
            544,
            549,
            550,
            553,
            553
           ]
          },
          {
           "type": "scatter",
           "x": [
            "1854-08-19",
            "1854-08-20",
            "1854-08-21",
            "1854-08-22",
            "1854-08-23",
            "1854-08-24",
            "1854-08-25",
            "1854-08-26",
            "1854-08-27",
            "1854-08-28",
            "1854-08-29",
            "1854-08-30",
            "1854-08-31",
            "1854-09-01",
            "1854-09-02",
            "1854-09-03",
            "1854-09-04",
            "1854-09-05",
            "1854-09-06",
            "1854-09-07",
            "1854-09-08",
            "1854-09-09",
            "1854-09-10",
            "1854-09-11",
            "1854-09-12",
            "1854-09-13",
            "1854-09-14"
           ],
           "y": [
            1,
            0,
            2,
            0,
            0,
            2,
            0,
            0,
            1,
            0,
            1,
            2,
            3,
            70,
            127,
            76,
            71,
            45,
            37,
            32,
            30,
            24,
            18,
            15,
            6,
            13,
            6
           ]
          },
          {
           "type": "scatter",
           "x": [
            "1854-08-19",
            "1854-08-20",
            "1854-08-21",
            "1854-08-22",
            "1854-08-23",
            "1854-08-24",
            "1854-08-25",
            "1854-08-26",
            "1854-08-27",
            "1854-08-28",
            "1854-08-29",
            "1854-08-30",
            "1854-08-31",
            "1854-09-01",
            "1854-09-02",
            "1854-09-03",
            "1854-09-04",
            "1854-09-05",
            "1854-09-06",
            "1854-09-07",
            "1854-09-08",
            "1854-09-09",
            "1854-09-10",
            "1854-09-11",
            "1854-09-12",
            "1854-09-13",
            "1854-09-14"
           ],
           "y": [
            1,
            1,
            3,
            3,
            3,
            5,
            5,
            5,
            6,
            6,
            7,
            9,
            12,
            82,
            209,
            285,
            356,
            401,
            438,
            470,
            500,
            524,
            542,
            557,
            563,
            576,
            582
           ]
          }
         ]
        },
        {
         "data": [
          {
           "type": "scatter",
           "x": [
            "1854-08-19",
            "1854-08-20",
            "1854-08-21",
            "1854-08-22",
            "1854-08-23",
            "1854-08-24",
            "1854-08-25",
            "1854-08-26",
            "1854-08-27",
            "1854-08-28",
            "1854-08-29",
            "1854-08-30",
            "1854-08-31",
            "1854-09-01",
            "1854-09-02",
            "1854-09-03",
            "1854-09-04",
            "1854-09-05",
            "1854-09-06",
            "1854-09-07",
            "1854-09-08",
            "1854-09-09",
            "1854-09-10",
            "1854-09-11",
            "1854-09-12",
            "1854-09-13",
            "1854-09-14",
            "1854-09-15"
           ],
           "y": [
            1,
            1,
            1,
            0,
            1,
            1,
            0,
            1,
            1,
            1,
            1,
            8,
            56,
            143,
            116,
            54,
            46,
            36,
            20,
            28,
            12,
            11,
            5,
            5,
            1,
            3,
            0,
            1
           ]
          },
          {
           "type": "scatter",
           "x": [
            "1854-08-19",
            "1854-08-20",
            "1854-08-21",
            "1854-08-22",
            "1854-08-23",
            "1854-08-24",
            "1854-08-25",
            "1854-08-26",
            "1854-08-27",
            "1854-08-28",
            "1854-08-29",
            "1854-08-30",
            "1854-08-31",
            "1854-09-01",
            "1854-09-02",
            "1854-09-03",
            "1854-09-04",
            "1854-09-05",
            "1854-09-06",
            "1854-09-07",
            "1854-09-08",
            "1854-09-09",
            "1854-09-10",
            "1854-09-11",
            "1854-09-12",
            "1854-09-13",
            "1854-09-14",
            "1854-09-15"
           ],
           "y": [
            1,
            2,
            3,
            3,
            4,
            5,
            5,
            6,
            7,
            8,
            9,
            17,
            73,
            216,
            332,
            386,
            432,
            468,
            488,
            516,
            528,
            539,
            544,
            549,
            550,
            553,
            553,
            554
           ]
          },
          {
           "type": "scatter",
           "x": [
            "1854-08-19",
            "1854-08-20",
            "1854-08-21",
            "1854-08-22",
            "1854-08-23",
            "1854-08-24",
            "1854-08-25",
            "1854-08-26",
            "1854-08-27",
            "1854-08-28",
            "1854-08-29",
            "1854-08-30",
            "1854-08-31",
            "1854-09-01",
            "1854-09-02",
            "1854-09-03",
            "1854-09-04",
            "1854-09-05",
            "1854-09-06",
            "1854-09-07",
            "1854-09-08",
            "1854-09-09",
            "1854-09-10",
            "1854-09-11",
            "1854-09-12",
            "1854-09-13",
            "1854-09-14",
            "1854-09-15"
           ],
           "y": [
            1,
            0,
            2,
            0,
            0,
            2,
            0,
            0,
            1,
            0,
            1,
            2,
            3,
            70,
            127,
            76,
            71,
            45,
            37,
            32,
            30,
            24,
            18,
            15,
            6,
            13,
            6,
            8
           ]
          },
          {
           "type": "scatter",
           "x": [
            "1854-08-19",
            "1854-08-20",
            "1854-08-21",
            "1854-08-22",
            "1854-08-23",
            "1854-08-24",
            "1854-08-25",
            "1854-08-26",
            "1854-08-27",
            "1854-08-28",
            "1854-08-29",
            "1854-08-30",
            "1854-08-31",
            "1854-09-01",
            "1854-09-02",
            "1854-09-03",
            "1854-09-04",
            "1854-09-05",
            "1854-09-06",
            "1854-09-07",
            "1854-09-08",
            "1854-09-09",
            "1854-09-10",
            "1854-09-11",
            "1854-09-12",
            "1854-09-13",
            "1854-09-14",
            "1854-09-15"
           ],
           "y": [
            1,
            1,
            3,
            3,
            3,
            5,
            5,
            5,
            6,
            6,
            7,
            9,
            12,
            82,
            209,
            285,
            356,
            401,
            438,
            470,
            500,
            524,
            542,
            557,
            563,
            576,
            582,
            590
           ]
          }
         ]
        },
        {
         "data": [
          {
           "type": "scatter",
           "x": [
            "1854-08-19",
            "1854-08-20",
            "1854-08-21",
            "1854-08-22",
            "1854-08-23",
            "1854-08-24",
            "1854-08-25",
            "1854-08-26",
            "1854-08-27",
            "1854-08-28",
            "1854-08-29",
            "1854-08-30",
            "1854-08-31",
            "1854-09-01",
            "1854-09-02",
            "1854-09-03",
            "1854-09-04",
            "1854-09-05",
            "1854-09-06",
            "1854-09-07",
            "1854-09-08",
            "1854-09-09",
            "1854-09-10",
            "1854-09-11",
            "1854-09-12",
            "1854-09-13",
            "1854-09-14",
            "1854-09-15",
            "1854-09-16"
           ],
           "y": [
            1,
            1,
            1,
            0,
            1,
            1,
            0,
            1,
            1,
            1,
            1,
            8,
            56,
            143,
            116,
            54,
            46,
            36,
            20,
            28,
            12,
            11,
            5,
            5,
            1,
            3,
            0,
            1,
            4
           ]
          },
          {
           "type": "scatter",
           "x": [
            "1854-08-19",
            "1854-08-20",
            "1854-08-21",
            "1854-08-22",
            "1854-08-23",
            "1854-08-24",
            "1854-08-25",
            "1854-08-26",
            "1854-08-27",
            "1854-08-28",
            "1854-08-29",
            "1854-08-30",
            "1854-08-31",
            "1854-09-01",
            "1854-09-02",
            "1854-09-03",
            "1854-09-04",
            "1854-09-05",
            "1854-09-06",
            "1854-09-07",
            "1854-09-08",
            "1854-09-09",
            "1854-09-10",
            "1854-09-11",
            "1854-09-12",
            "1854-09-13",
            "1854-09-14",
            "1854-09-15",
            "1854-09-16"
           ],
           "y": [
            1,
            2,
            3,
            3,
            4,
            5,
            5,
            6,
            7,
            8,
            9,
            17,
            73,
            216,
            332,
            386,
            432,
            468,
            488,
            516,
            528,
            539,
            544,
            549,
            550,
            553,
            553,
            554,
            558
           ]
          },
          {
           "type": "scatter",
           "x": [
            "1854-08-19",
            "1854-08-20",
            "1854-08-21",
            "1854-08-22",
            "1854-08-23",
            "1854-08-24",
            "1854-08-25",
            "1854-08-26",
            "1854-08-27",
            "1854-08-28",
            "1854-08-29",
            "1854-08-30",
            "1854-08-31",
            "1854-09-01",
            "1854-09-02",
            "1854-09-03",
            "1854-09-04",
            "1854-09-05",
            "1854-09-06",
            "1854-09-07",
            "1854-09-08",
            "1854-09-09",
            "1854-09-10",
            "1854-09-11",
            "1854-09-12",
            "1854-09-13",
            "1854-09-14",
            "1854-09-15",
            "1854-09-16"
           ],
           "y": [
            1,
            0,
            2,
            0,
            0,
            2,
            0,
            0,
            1,
            0,
            1,
            2,
            3,
            70,
            127,
            76,
            71,
            45,
            37,
            32,
            30,
            24,
            18,
            15,
            6,
            13,
            6,
            8,
            6
           ]
          },
          {
           "type": "scatter",
           "x": [
            "1854-08-19",
            "1854-08-20",
            "1854-08-21",
            "1854-08-22",
            "1854-08-23",
            "1854-08-24",
            "1854-08-25",
            "1854-08-26",
            "1854-08-27",
            "1854-08-28",
            "1854-08-29",
            "1854-08-30",
            "1854-08-31",
            "1854-09-01",
            "1854-09-02",
            "1854-09-03",
            "1854-09-04",
            "1854-09-05",
            "1854-09-06",
            "1854-09-07",
            "1854-09-08",
            "1854-09-09",
            "1854-09-10",
            "1854-09-11",
            "1854-09-12",
            "1854-09-13",
            "1854-09-14",
            "1854-09-15",
            "1854-09-16"
           ],
           "y": [
            1,
            1,
            3,
            3,
            3,
            5,
            5,
            5,
            6,
            6,
            7,
            9,
            12,
            82,
            209,
            285,
            356,
            401,
            438,
            470,
            500,
            524,
            542,
            557,
            563,
            576,
            582,
            590,
            596
           ]
          }
         ]
        },
        {
         "data": [
          {
           "type": "scatter",
           "x": [
            "1854-08-19",
            "1854-08-20",
            "1854-08-21",
            "1854-08-22",
            "1854-08-23",
            "1854-08-24",
            "1854-08-25",
            "1854-08-26",
            "1854-08-27",
            "1854-08-28",
            "1854-08-29",
            "1854-08-30",
            "1854-08-31",
            "1854-09-01",
            "1854-09-02",
            "1854-09-03",
            "1854-09-04",
            "1854-09-05",
            "1854-09-06",
            "1854-09-07",
            "1854-09-08",
            "1854-09-09",
            "1854-09-10",
            "1854-09-11",
            "1854-09-12",
            "1854-09-13",
            "1854-09-14",
            "1854-09-15",
            "1854-09-16",
            "1854-09-17"
           ],
           "y": [
            1,
            1,
            1,
            0,
            1,
            1,
            0,
            1,
            1,
            1,
            1,
            8,
            56,
            143,
            116,
            54,
            46,
            36,
            20,
            28,
            12,
            11,
            5,
            5,
            1,
            3,
            0,
            1,
            4,
            2
           ]
          },
          {
           "type": "scatter",
           "x": [
            "1854-08-19",
            "1854-08-20",
            "1854-08-21",
            "1854-08-22",
            "1854-08-23",
            "1854-08-24",
            "1854-08-25",
            "1854-08-26",
            "1854-08-27",
            "1854-08-28",
            "1854-08-29",
            "1854-08-30",
            "1854-08-31",
            "1854-09-01",
            "1854-09-02",
            "1854-09-03",
            "1854-09-04",
            "1854-09-05",
            "1854-09-06",
            "1854-09-07",
            "1854-09-08",
            "1854-09-09",
            "1854-09-10",
            "1854-09-11",
            "1854-09-12",
            "1854-09-13",
            "1854-09-14",
            "1854-09-15",
            "1854-09-16",
            "1854-09-17"
           ],
           "y": [
            1,
            2,
            3,
            3,
            4,
            5,
            5,
            6,
            7,
            8,
            9,
            17,
            73,
            216,
            332,
            386,
            432,
            468,
            488,
            516,
            528,
            539,
            544,
            549,
            550,
            553,
            553,
            554,
            558,
            560
           ]
          },
          {
           "type": "scatter",
           "x": [
            "1854-08-19",
            "1854-08-20",
            "1854-08-21",
            "1854-08-22",
            "1854-08-23",
            "1854-08-24",
            "1854-08-25",
            "1854-08-26",
            "1854-08-27",
            "1854-08-28",
            "1854-08-29",
            "1854-08-30",
            "1854-08-31",
            "1854-09-01",
            "1854-09-02",
            "1854-09-03",
            "1854-09-04",
            "1854-09-05",
            "1854-09-06",
            "1854-09-07",
            "1854-09-08",
            "1854-09-09",
            "1854-09-10",
            "1854-09-11",
            "1854-09-12",
            "1854-09-13",
            "1854-09-14",
            "1854-09-15",
            "1854-09-16",
            "1854-09-17"
           ],
           "y": [
            1,
            0,
            2,
            0,
            0,
            2,
            0,
            0,
            1,
            0,
            1,
            2,
            3,
            70,
            127,
            76,
            71,
            45,
            37,
            32,
            30,
            24,
            18,
            15,
            6,
            13,
            6,
            8,
            6,
            5
           ]
          },
          {
           "type": "scatter",
           "x": [
            "1854-08-19",
            "1854-08-20",
            "1854-08-21",
            "1854-08-22",
            "1854-08-23",
            "1854-08-24",
            "1854-08-25",
            "1854-08-26",
            "1854-08-27",
            "1854-08-28",
            "1854-08-29",
            "1854-08-30",
            "1854-08-31",
            "1854-09-01",
            "1854-09-02",
            "1854-09-03",
            "1854-09-04",
            "1854-09-05",
            "1854-09-06",
            "1854-09-07",
            "1854-09-08",
            "1854-09-09",
            "1854-09-10",
            "1854-09-11",
            "1854-09-12",
            "1854-09-13",
            "1854-09-14",
            "1854-09-15",
            "1854-09-16",
            "1854-09-17"
           ],
           "y": [
            1,
            1,
            3,
            3,
            3,
            5,
            5,
            5,
            6,
            6,
            7,
            9,
            12,
            82,
            209,
            285,
            356,
            401,
            438,
            470,
            500,
            524,
            542,
            557,
            563,
            576,
            582,
            590,
            596,
            601
           ]
          }
         ]
        },
        {
         "data": [
          {
           "type": "scatter",
           "x": [
            "1854-08-19",
            "1854-08-20",
            "1854-08-21",
            "1854-08-22",
            "1854-08-23",
            "1854-08-24",
            "1854-08-25",
            "1854-08-26",
            "1854-08-27",
            "1854-08-28",
            "1854-08-29",
            "1854-08-30",
            "1854-08-31",
            "1854-09-01",
            "1854-09-02",
            "1854-09-03",
            "1854-09-04",
            "1854-09-05",
            "1854-09-06",
            "1854-09-07",
            "1854-09-08",
            "1854-09-09",
            "1854-09-10",
            "1854-09-11",
            "1854-09-12",
            "1854-09-13",
            "1854-09-14",
            "1854-09-15",
            "1854-09-16",
            "1854-09-17",
            "1854-09-18"
           ],
           "y": [
            1,
            1,
            1,
            0,
            1,
            1,
            0,
            1,
            1,
            1,
            1,
            8,
            56,
            143,
            116,
            54,
            46,
            36,
            20,
            28,
            12,
            11,
            5,
            5,
            1,
            3,
            0,
            1,
            4,
            2,
            3
           ]
          },
          {
           "type": "scatter",
           "x": [
            "1854-08-19",
            "1854-08-20",
            "1854-08-21",
            "1854-08-22",
            "1854-08-23",
            "1854-08-24",
            "1854-08-25",
            "1854-08-26",
            "1854-08-27",
            "1854-08-28",
            "1854-08-29",
            "1854-08-30",
            "1854-08-31",
            "1854-09-01",
            "1854-09-02",
            "1854-09-03",
            "1854-09-04",
            "1854-09-05",
            "1854-09-06",
            "1854-09-07",
            "1854-09-08",
            "1854-09-09",
            "1854-09-10",
            "1854-09-11",
            "1854-09-12",
            "1854-09-13",
            "1854-09-14",
            "1854-09-15",
            "1854-09-16",
            "1854-09-17",
            "1854-09-18"
           ],
           "y": [
            1,
            2,
            3,
            3,
            4,
            5,
            5,
            6,
            7,
            8,
            9,
            17,
            73,
            216,
            332,
            386,
            432,
            468,
            488,
            516,
            528,
            539,
            544,
            549,
            550,
            553,
            553,
            554,
            558,
            560,
            563
           ]
          },
          {
           "type": "scatter",
           "x": [
            "1854-08-19",
            "1854-08-20",
            "1854-08-21",
            "1854-08-22",
            "1854-08-23",
            "1854-08-24",
            "1854-08-25",
            "1854-08-26",
            "1854-08-27",
            "1854-08-28",
            "1854-08-29",
            "1854-08-30",
            "1854-08-31",
            "1854-09-01",
            "1854-09-02",
            "1854-09-03",
            "1854-09-04",
            "1854-09-05",
            "1854-09-06",
            "1854-09-07",
            "1854-09-08",
            "1854-09-09",
            "1854-09-10",
            "1854-09-11",
            "1854-09-12",
            "1854-09-13",
            "1854-09-14",
            "1854-09-15",
            "1854-09-16",
            "1854-09-17",
            "1854-09-18"
           ],
           "y": [
            1,
            0,
            2,
            0,
            0,
            2,
            0,
            0,
            1,
            0,
            1,
            2,
            3,
            70,
            127,
            76,
            71,
            45,
            37,
            32,
            30,
            24,
            18,
            15,
            6,
            13,
            6,
            8,
            6,
            5,
            2
           ]
          },
          {
           "type": "scatter",
           "x": [
            "1854-08-19",
            "1854-08-20",
            "1854-08-21",
            "1854-08-22",
            "1854-08-23",
            "1854-08-24",
            "1854-08-25",
            "1854-08-26",
            "1854-08-27",
            "1854-08-28",
            "1854-08-29",
            "1854-08-30",
            "1854-08-31",
            "1854-09-01",
            "1854-09-02",
            "1854-09-03",
            "1854-09-04",
            "1854-09-05",
            "1854-09-06",
            "1854-09-07",
            "1854-09-08",
            "1854-09-09",
            "1854-09-10",
            "1854-09-11",
            "1854-09-12",
            "1854-09-13",
            "1854-09-14",
            "1854-09-15",
            "1854-09-16",
            "1854-09-17",
            "1854-09-18"
           ],
           "y": [
            1,
            1,
            3,
            3,
            3,
            5,
            5,
            5,
            6,
            6,
            7,
            9,
            12,
            82,
            209,
            285,
            356,
            401,
            438,
            470,
            500,
            524,
            542,
            557,
            563,
            576,
            582,
            590,
            596,
            601,
            603
           ]
          }
         ]
        },
        {
         "data": [
          {
           "type": "scatter",
           "x": [
            "1854-08-19",
            "1854-08-20",
            "1854-08-21",
            "1854-08-22",
            "1854-08-23",
            "1854-08-24",
            "1854-08-25",
            "1854-08-26",
            "1854-08-27",
            "1854-08-28",
            "1854-08-29",
            "1854-08-30",
            "1854-08-31",
            "1854-09-01",
            "1854-09-02",
            "1854-09-03",
            "1854-09-04",
            "1854-09-05",
            "1854-09-06",
            "1854-09-07",
            "1854-09-08",
            "1854-09-09",
            "1854-09-10",
            "1854-09-11",
            "1854-09-12",
            "1854-09-13",
            "1854-09-14",
            "1854-09-15",
            "1854-09-16",
            "1854-09-17",
            "1854-09-18",
            "1854-09-19"
           ],
           "y": [
            1,
            1,
            1,
            0,
            1,
            1,
            0,
            1,
            1,
            1,
            1,
            8,
            56,
            143,
            116,
            54,
            46,
            36,
            20,
            28,
            12,
            11,
            5,
            5,
            1,
            3,
            0,
            1,
            4,
            2,
            3,
            0
           ]
          },
          {
           "type": "scatter",
           "x": [
            "1854-08-19",
            "1854-08-20",
            "1854-08-21",
            "1854-08-22",
            "1854-08-23",
            "1854-08-24",
            "1854-08-25",
            "1854-08-26",
            "1854-08-27",
            "1854-08-28",
            "1854-08-29",
            "1854-08-30",
            "1854-08-31",
            "1854-09-01",
            "1854-09-02",
            "1854-09-03",
            "1854-09-04",
            "1854-09-05",
            "1854-09-06",
            "1854-09-07",
            "1854-09-08",
            "1854-09-09",
            "1854-09-10",
            "1854-09-11",
            "1854-09-12",
            "1854-09-13",
            "1854-09-14",
            "1854-09-15",
            "1854-09-16",
            "1854-09-17",
            "1854-09-18",
            "1854-09-19"
           ],
           "y": [
            1,
            2,
            3,
            3,
            4,
            5,
            5,
            6,
            7,
            8,
            9,
            17,
            73,
            216,
            332,
            386,
            432,
            468,
            488,
            516,
            528,
            539,
            544,
            549,
            550,
            553,
            553,
            554,
            558,
            560,
            563,
            563
           ]
          },
          {
           "type": "scatter",
           "x": [
            "1854-08-19",
            "1854-08-20",
            "1854-08-21",
            "1854-08-22",
            "1854-08-23",
            "1854-08-24",
            "1854-08-25",
            "1854-08-26",
            "1854-08-27",
            "1854-08-28",
            "1854-08-29",
            "1854-08-30",
            "1854-08-31",
            "1854-09-01",
            "1854-09-02",
            "1854-09-03",
            "1854-09-04",
            "1854-09-05",
            "1854-09-06",
            "1854-09-07",
            "1854-09-08",
            "1854-09-09",
            "1854-09-10",
            "1854-09-11",
            "1854-09-12",
            "1854-09-13",
            "1854-09-14",
            "1854-09-15",
            "1854-09-16",
            "1854-09-17",
            "1854-09-18",
            "1854-09-19"
           ],
           "y": [
            1,
            0,
            2,
            0,
            0,
            2,
            0,
            0,
            1,
            0,
            1,
            2,
            3,
            70,
            127,
            76,
            71,
            45,
            37,
            32,
            30,
            24,
            18,
            15,
            6,
            13,
            6,
            8,
            6,
            5,
            2,
            3
           ]
          },
          {
           "type": "scatter",
           "x": [
            "1854-08-19",
            "1854-08-20",
            "1854-08-21",
            "1854-08-22",
            "1854-08-23",
            "1854-08-24",
            "1854-08-25",
            "1854-08-26",
            "1854-08-27",
            "1854-08-28",
            "1854-08-29",
            "1854-08-30",
            "1854-08-31",
            "1854-09-01",
            "1854-09-02",
            "1854-09-03",
            "1854-09-04",
            "1854-09-05",
            "1854-09-06",
            "1854-09-07",
            "1854-09-08",
            "1854-09-09",
            "1854-09-10",
            "1854-09-11",
            "1854-09-12",
            "1854-09-13",
            "1854-09-14",
            "1854-09-15",
            "1854-09-16",
            "1854-09-17",
            "1854-09-18",
            "1854-09-19"
           ],
           "y": [
            1,
            1,
            3,
            3,
            3,
            5,
            5,
            5,
            6,
            6,
            7,
            9,
            12,
            82,
            209,
            285,
            356,
            401,
            438,
            470,
            500,
            524,
            542,
            557,
            563,
            576,
            582,
            590,
            596,
            601,
            603,
            606
           ]
          }
         ]
        },
        {
         "data": [
          {
           "type": "scatter",
           "x": [
            "1854-08-19",
            "1854-08-20",
            "1854-08-21",
            "1854-08-22",
            "1854-08-23",
            "1854-08-24",
            "1854-08-25",
            "1854-08-26",
            "1854-08-27",
            "1854-08-28",
            "1854-08-29",
            "1854-08-30",
            "1854-08-31",
            "1854-09-01",
            "1854-09-02",
            "1854-09-03",
            "1854-09-04",
            "1854-09-05",
            "1854-09-06",
            "1854-09-07",
            "1854-09-08",
            "1854-09-09",
            "1854-09-10",
            "1854-09-11",
            "1854-09-12",
            "1854-09-13",
            "1854-09-14",
            "1854-09-15",
            "1854-09-16",
            "1854-09-17",
            "1854-09-18",
            "1854-09-19",
            "1854-09-20"
           ],
           "y": [
            1,
            1,
            1,
            0,
            1,
            1,
            0,
            1,
            1,
            1,
            1,
            8,
            56,
            143,
            116,
            54,
            46,
            36,
            20,
            28,
            12,
            11,
            5,
            5,
            1,
            3,
            0,
            1,
            4,
            2,
            3,
            0,
            0
           ]
          },
          {
           "type": "scatter",
           "x": [
            "1854-08-19",
            "1854-08-20",
            "1854-08-21",
            "1854-08-22",
            "1854-08-23",
            "1854-08-24",
            "1854-08-25",
            "1854-08-26",
            "1854-08-27",
            "1854-08-28",
            "1854-08-29",
            "1854-08-30",
            "1854-08-31",
            "1854-09-01",
            "1854-09-02",
            "1854-09-03",
            "1854-09-04",
            "1854-09-05",
            "1854-09-06",
            "1854-09-07",
            "1854-09-08",
            "1854-09-09",
            "1854-09-10",
            "1854-09-11",
            "1854-09-12",
            "1854-09-13",
            "1854-09-14",
            "1854-09-15",
            "1854-09-16",
            "1854-09-17",
            "1854-09-18",
            "1854-09-19",
            "1854-09-20"
           ],
           "y": [
            1,
            2,
            3,
            3,
            4,
            5,
            5,
            6,
            7,
            8,
            9,
            17,
            73,
            216,
            332,
            386,
            432,
            468,
            488,
            516,
            528,
            539,
            544,
            549,
            550,
            553,
            553,
            554,
            558,
            560,
            563,
            563,
            563
           ]
          },
          {
           "type": "scatter",
           "x": [
            "1854-08-19",
            "1854-08-20",
            "1854-08-21",
            "1854-08-22",
            "1854-08-23",
            "1854-08-24",
            "1854-08-25",
            "1854-08-26",
            "1854-08-27",
            "1854-08-28",
            "1854-08-29",
            "1854-08-30",
            "1854-08-31",
            "1854-09-01",
            "1854-09-02",
            "1854-09-03",
            "1854-09-04",
            "1854-09-05",
            "1854-09-06",
            "1854-09-07",
            "1854-09-08",
            "1854-09-09",
            "1854-09-10",
            "1854-09-11",
            "1854-09-12",
            "1854-09-13",
            "1854-09-14",
            "1854-09-15",
            "1854-09-16",
            "1854-09-17",
            "1854-09-18",
            "1854-09-19",
            "1854-09-20"
           ],
           "y": [
            1,
            0,
            2,
            0,
            0,
            2,
            0,
            0,
            1,
            0,
            1,
            2,
            3,
            70,
            127,
            76,
            71,
            45,
            37,
            32,
            30,
            24,
            18,
            15,
            6,
            13,
            6,
            8,
            6,
            5,
            2,
            3,
            0
           ]
          },
          {
           "type": "scatter",
           "x": [
            "1854-08-19",
            "1854-08-20",
            "1854-08-21",
            "1854-08-22",
            "1854-08-23",
            "1854-08-24",
            "1854-08-25",
            "1854-08-26",
            "1854-08-27",
            "1854-08-28",
            "1854-08-29",
            "1854-08-30",
            "1854-08-31",
            "1854-09-01",
            "1854-09-02",
            "1854-09-03",
            "1854-09-04",
            "1854-09-05",
            "1854-09-06",
            "1854-09-07",
            "1854-09-08",
            "1854-09-09",
            "1854-09-10",
            "1854-09-11",
            "1854-09-12",
            "1854-09-13",
            "1854-09-14",
            "1854-09-15",
            "1854-09-16",
            "1854-09-17",
            "1854-09-18",
            "1854-09-19",
            "1854-09-20"
           ],
           "y": [
            1,
            1,
            3,
            3,
            3,
            5,
            5,
            5,
            6,
            6,
            7,
            9,
            12,
            82,
            209,
            285,
            356,
            401,
            438,
            470,
            500,
            524,
            542,
            557,
            563,
            576,
            582,
            590,
            596,
            601,
            603,
            606,
            606
           ]
          }
         ]
        },
        {
         "data": [
          {
           "type": "scatter",
           "x": [
            "1854-08-19",
            "1854-08-20",
            "1854-08-21",
            "1854-08-22",
            "1854-08-23",
            "1854-08-24",
            "1854-08-25",
            "1854-08-26",
            "1854-08-27",
            "1854-08-28",
            "1854-08-29",
            "1854-08-30",
            "1854-08-31",
            "1854-09-01",
            "1854-09-02",
            "1854-09-03",
            "1854-09-04",
            "1854-09-05",
            "1854-09-06",
            "1854-09-07",
            "1854-09-08",
            "1854-09-09",
            "1854-09-10",
            "1854-09-11",
            "1854-09-12",
            "1854-09-13",
            "1854-09-14",
            "1854-09-15",
            "1854-09-16",
            "1854-09-17",
            "1854-09-18",
            "1854-09-19",
            "1854-09-20",
            "1854-09-21"
           ],
           "y": [
            1,
            1,
            1,
            0,
            1,
            1,
            0,
            1,
            1,
            1,
            1,
            8,
            56,
            143,
            116,
            54,
            46,
            36,
            20,
            28,
            12,
            11,
            5,
            5,
            1,
            3,
            0,
            1,
            4,
            2,
            3,
            0,
            0,
            2
           ]
          },
          {
           "type": "scatter",
           "x": [
            "1854-08-19",
            "1854-08-20",
            "1854-08-21",
            "1854-08-22",
            "1854-08-23",
            "1854-08-24",
            "1854-08-25",
            "1854-08-26",
            "1854-08-27",
            "1854-08-28",
            "1854-08-29",
            "1854-08-30",
            "1854-08-31",
            "1854-09-01",
            "1854-09-02",
            "1854-09-03",
            "1854-09-04",
            "1854-09-05",
            "1854-09-06",
            "1854-09-07",
            "1854-09-08",
            "1854-09-09",
            "1854-09-10",
            "1854-09-11",
            "1854-09-12",
            "1854-09-13",
            "1854-09-14",
            "1854-09-15",
            "1854-09-16",
            "1854-09-17",
            "1854-09-18",
            "1854-09-19",
            "1854-09-20",
            "1854-09-21"
           ],
           "y": [
            1,
            2,
            3,
            3,
            4,
            5,
            5,
            6,
            7,
            8,
            9,
            17,
            73,
            216,
            332,
            386,
            432,
            468,
            488,
            516,
            528,
            539,
            544,
            549,
            550,
            553,
            553,
            554,
            558,
            560,
            563,
            563,
            563,
            565
           ]
          },
          {
           "type": "scatter",
           "x": [
            "1854-08-19",
            "1854-08-20",
            "1854-08-21",
            "1854-08-22",
            "1854-08-23",
            "1854-08-24",
            "1854-08-25",
            "1854-08-26",
            "1854-08-27",
            "1854-08-28",
            "1854-08-29",
            "1854-08-30",
            "1854-08-31",
            "1854-09-01",
            "1854-09-02",
            "1854-09-03",
            "1854-09-04",
            "1854-09-05",
            "1854-09-06",
            "1854-09-07",
            "1854-09-08",
            "1854-09-09",
            "1854-09-10",
            "1854-09-11",
            "1854-09-12",
            "1854-09-13",
            "1854-09-14",
            "1854-09-15",
            "1854-09-16",
            "1854-09-17",
            "1854-09-18",
            "1854-09-19",
            "1854-09-20",
            "1854-09-21"
           ],
           "y": [
            1,
            0,
            2,
            0,
            0,
            2,
            0,
            0,
            1,
            0,
            1,
            2,
            3,
            70,
            127,
            76,
            71,
            45,
            37,
            32,
            30,
            24,
            18,
            15,
            6,
            13,
            6,
            8,
            6,
            5,
            2,
            3,
            0,
            0
           ]
          },
          {
           "type": "scatter",
           "x": [
            "1854-08-19",
            "1854-08-20",
            "1854-08-21",
            "1854-08-22",
            "1854-08-23",
            "1854-08-24",
            "1854-08-25",
            "1854-08-26",
            "1854-08-27",
            "1854-08-28",
            "1854-08-29",
            "1854-08-30",
            "1854-08-31",
            "1854-09-01",
            "1854-09-02",
            "1854-09-03",
            "1854-09-04",
            "1854-09-05",
            "1854-09-06",
            "1854-09-07",
            "1854-09-08",
            "1854-09-09",
            "1854-09-10",
            "1854-09-11",
            "1854-09-12",
            "1854-09-13",
            "1854-09-14",
            "1854-09-15",
            "1854-09-16",
            "1854-09-17",
            "1854-09-18",
            "1854-09-19",
            "1854-09-20",
            "1854-09-21"
           ],
           "y": [
            1,
            1,
            3,
            3,
            3,
            5,
            5,
            5,
            6,
            6,
            7,
            9,
            12,
            82,
            209,
            285,
            356,
            401,
            438,
            470,
            500,
            524,
            542,
            557,
            563,
            576,
            582,
            590,
            596,
            601,
            603,
            606,
            606,
            606
           ]
          }
         ]
        },
        {
         "data": [
          {
           "type": "scatter",
           "x": [
            "1854-08-19",
            "1854-08-20",
            "1854-08-21",
            "1854-08-22",
            "1854-08-23",
            "1854-08-24",
            "1854-08-25",
            "1854-08-26",
            "1854-08-27",
            "1854-08-28",
            "1854-08-29",
            "1854-08-30",
            "1854-08-31",
            "1854-09-01",
            "1854-09-02",
            "1854-09-03",
            "1854-09-04",
            "1854-09-05",
            "1854-09-06",
            "1854-09-07",
            "1854-09-08",
            "1854-09-09",
            "1854-09-10",
            "1854-09-11",
            "1854-09-12",
            "1854-09-13",
            "1854-09-14",
            "1854-09-15",
            "1854-09-16",
            "1854-09-17",
            "1854-09-18",
            "1854-09-19",
            "1854-09-20",
            "1854-09-21",
            "1854-09-22"
           ],
           "y": [
            1,
            1,
            1,
            0,
            1,
            1,
            0,
            1,
            1,
            1,
            1,
            8,
            56,
            143,
            116,
            54,
            46,
            36,
            20,
            28,
            12,
            11,
            5,
            5,
            1,
            3,
            0,
            1,
            4,
            2,
            3,
            0,
            0,
            2,
            1
           ]
          },
          {
           "type": "scatter",
           "x": [
            "1854-08-19",
            "1854-08-20",
            "1854-08-21",
            "1854-08-22",
            "1854-08-23",
            "1854-08-24",
            "1854-08-25",
            "1854-08-26",
            "1854-08-27",
            "1854-08-28",
            "1854-08-29",
            "1854-08-30",
            "1854-08-31",
            "1854-09-01",
            "1854-09-02",
            "1854-09-03",
            "1854-09-04",
            "1854-09-05",
            "1854-09-06",
            "1854-09-07",
            "1854-09-08",
            "1854-09-09",
            "1854-09-10",
            "1854-09-11",
            "1854-09-12",
            "1854-09-13",
            "1854-09-14",
            "1854-09-15",
            "1854-09-16",
            "1854-09-17",
            "1854-09-18",
            "1854-09-19",
            "1854-09-20",
            "1854-09-21",
            "1854-09-22"
           ],
           "y": [
            1,
            2,
            3,
            3,
            4,
            5,
            5,
            6,
            7,
            8,
            9,
            17,
            73,
            216,
            332,
            386,
            432,
            468,
            488,
            516,
            528,
            539,
            544,
            549,
            550,
            553,
            553,
            554,
            558,
            560,
            563,
            563,
            563,
            565,
            566
           ]
          },
          {
           "type": "scatter",
           "x": [
            "1854-08-19",
            "1854-08-20",
            "1854-08-21",
            "1854-08-22",
            "1854-08-23",
            "1854-08-24",
            "1854-08-25",
            "1854-08-26",
            "1854-08-27",
            "1854-08-28",
            "1854-08-29",
            "1854-08-30",
            "1854-08-31",
            "1854-09-01",
            "1854-09-02",
            "1854-09-03",
            "1854-09-04",
            "1854-09-05",
            "1854-09-06",
            "1854-09-07",
            "1854-09-08",
            "1854-09-09",
            "1854-09-10",
            "1854-09-11",
            "1854-09-12",
            "1854-09-13",
            "1854-09-14",
            "1854-09-15",
            "1854-09-16",
            "1854-09-17",
            "1854-09-18",
            "1854-09-19",
            "1854-09-20",
            "1854-09-21",
            "1854-09-22"
           ],
           "y": [
            1,
            0,
            2,
            0,
            0,
            2,
            0,
            0,
            1,
            0,
            1,
            2,
            3,
            70,
            127,
            76,
            71,
            45,
            37,
            32,
            30,
            24,
            18,
            15,
            6,
            13,
            6,
            8,
            6,
            5,
            2,
            3,
            0,
            0,
            2
           ]
          },
          {
           "type": "scatter",
           "x": [
            "1854-08-19",
            "1854-08-20",
            "1854-08-21",
            "1854-08-22",
            "1854-08-23",
            "1854-08-24",
            "1854-08-25",
            "1854-08-26",
            "1854-08-27",
            "1854-08-28",
            "1854-08-29",
            "1854-08-30",
            "1854-08-31",
            "1854-09-01",
            "1854-09-02",
            "1854-09-03",
            "1854-09-04",
            "1854-09-05",
            "1854-09-06",
            "1854-09-07",
            "1854-09-08",
            "1854-09-09",
            "1854-09-10",
            "1854-09-11",
            "1854-09-12",
            "1854-09-13",
            "1854-09-14",
            "1854-09-15",
            "1854-09-16",
            "1854-09-17",
            "1854-09-18",
            "1854-09-19",
            "1854-09-20",
            "1854-09-21",
            "1854-09-22"
           ],
           "y": [
            1,
            1,
            3,
            3,
            3,
            5,
            5,
            5,
            6,
            6,
            7,
            9,
            12,
            82,
            209,
            285,
            356,
            401,
            438,
            470,
            500,
            524,
            542,
            557,
            563,
            576,
            582,
            590,
            596,
            601,
            603,
            606,
            606,
            606,
            608
           ]
          }
         ]
        },
        {
         "data": [
          {
           "type": "scatter",
           "x": [
            "1854-08-19",
            "1854-08-20",
            "1854-08-21",
            "1854-08-22",
            "1854-08-23",
            "1854-08-24",
            "1854-08-25",
            "1854-08-26",
            "1854-08-27",
            "1854-08-28",
            "1854-08-29",
            "1854-08-30",
            "1854-08-31",
            "1854-09-01",
            "1854-09-02",
            "1854-09-03",
            "1854-09-04",
            "1854-09-05",
            "1854-09-06",
            "1854-09-07",
            "1854-09-08",
            "1854-09-09",
            "1854-09-10",
            "1854-09-11",
            "1854-09-12",
            "1854-09-13",
            "1854-09-14",
            "1854-09-15",
            "1854-09-16",
            "1854-09-17",
            "1854-09-18",
            "1854-09-19",
            "1854-09-20",
            "1854-09-21",
            "1854-09-22",
            "1854-09-23"
           ],
           "y": [
            1,
            1,
            1,
            0,
            1,
            1,
            0,
            1,
            1,
            1,
            1,
            8,
            56,
            143,
            116,
            54,
            46,
            36,
            20,
            28,
            12,
            11,
            5,
            5,
            1,
            3,
            0,
            1,
            4,
            2,
            3,
            0,
            0,
            2,
            1,
            1
           ]
          },
          {
           "type": "scatter",
           "x": [
            "1854-08-19",
            "1854-08-20",
            "1854-08-21",
            "1854-08-22",
            "1854-08-23",
            "1854-08-24",
            "1854-08-25",
            "1854-08-26",
            "1854-08-27",
            "1854-08-28",
            "1854-08-29",
            "1854-08-30",
            "1854-08-31",
            "1854-09-01",
            "1854-09-02",
            "1854-09-03",
            "1854-09-04",
            "1854-09-05",
            "1854-09-06",
            "1854-09-07",
            "1854-09-08",
            "1854-09-09",
            "1854-09-10",
            "1854-09-11",
            "1854-09-12",
            "1854-09-13",
            "1854-09-14",
            "1854-09-15",
            "1854-09-16",
            "1854-09-17",
            "1854-09-18",
            "1854-09-19",
            "1854-09-20",
            "1854-09-21",
            "1854-09-22",
            "1854-09-23"
           ],
           "y": [
            1,
            2,
            3,
            3,
            4,
            5,
            5,
            6,
            7,
            8,
            9,
            17,
            73,
            216,
            332,
            386,
            432,
            468,
            488,
            516,
            528,
            539,
            544,
            549,
            550,
            553,
            553,
            554,
            558,
            560,
            563,
            563,
            563,
            565,
            566,
            567
           ]
          },
          {
           "type": "scatter",
           "x": [
            "1854-08-19",
            "1854-08-20",
            "1854-08-21",
            "1854-08-22",
            "1854-08-23",
            "1854-08-24",
            "1854-08-25",
            "1854-08-26",
            "1854-08-27",
            "1854-08-28",
            "1854-08-29",
            "1854-08-30",
            "1854-08-31",
            "1854-09-01",
            "1854-09-02",
            "1854-09-03",
            "1854-09-04",
            "1854-09-05",
            "1854-09-06",
            "1854-09-07",
            "1854-09-08",
            "1854-09-09",
            "1854-09-10",
            "1854-09-11",
            "1854-09-12",
            "1854-09-13",
            "1854-09-14",
            "1854-09-15",
            "1854-09-16",
            "1854-09-17",
            "1854-09-18",
            "1854-09-19",
            "1854-09-20",
            "1854-09-21",
            "1854-09-22",
            "1854-09-23"
           ],
           "y": [
            1,
            0,
            2,
            0,
            0,
            2,
            0,
            0,
            1,
            0,
            1,
            2,
            3,
            70,
            127,
            76,
            71,
            45,
            37,
            32,
            30,
            24,
            18,
            15,
            6,
            13,
            6,
            8,
            6,
            5,
            2,
            3,
            0,
            0,
            2,
            3
           ]
          },
          {
           "type": "scatter",
           "x": [
            "1854-08-19",
            "1854-08-20",
            "1854-08-21",
            "1854-08-22",
            "1854-08-23",
            "1854-08-24",
            "1854-08-25",
            "1854-08-26",
            "1854-08-27",
            "1854-08-28",
            "1854-08-29",
            "1854-08-30",
            "1854-08-31",
            "1854-09-01",
            "1854-09-02",
            "1854-09-03",
            "1854-09-04",
            "1854-09-05",
            "1854-09-06",
            "1854-09-07",
            "1854-09-08",
            "1854-09-09",
            "1854-09-10",
            "1854-09-11",
            "1854-09-12",
            "1854-09-13",
            "1854-09-14",
            "1854-09-15",
            "1854-09-16",
            "1854-09-17",
            "1854-09-18",
            "1854-09-19",
            "1854-09-20",
            "1854-09-21",
            "1854-09-22",
            "1854-09-23"
           ],
           "y": [
            1,
            1,
            3,
            3,
            3,
            5,
            5,
            5,
            6,
            6,
            7,
            9,
            12,
            82,
            209,
            285,
            356,
            401,
            438,
            470,
            500,
            524,
            542,
            557,
            563,
            576,
            582,
            590,
            596,
            601,
            603,
            606,
            606,
            606,
            608,
            611
           ]
          }
         ]
        },
        {
         "data": [
          {
           "type": "scatter",
           "x": [
            "1854-08-19",
            "1854-08-20",
            "1854-08-21",
            "1854-08-22",
            "1854-08-23",
            "1854-08-24",
            "1854-08-25",
            "1854-08-26",
            "1854-08-27",
            "1854-08-28",
            "1854-08-29",
            "1854-08-30",
            "1854-08-31",
            "1854-09-01",
            "1854-09-02",
            "1854-09-03",
            "1854-09-04",
            "1854-09-05",
            "1854-09-06",
            "1854-09-07",
            "1854-09-08",
            "1854-09-09",
            "1854-09-10",
            "1854-09-11",
            "1854-09-12",
            "1854-09-13",
            "1854-09-14",
            "1854-09-15",
            "1854-09-16",
            "1854-09-17",
            "1854-09-18",
            "1854-09-19",
            "1854-09-20",
            "1854-09-21",
            "1854-09-22",
            "1854-09-23",
            "1854-09-24"
           ],
           "y": [
            1,
            1,
            1,
            0,
            1,
            1,
            0,
            1,
            1,
            1,
            1,
            8,
            56,
            143,
            116,
            54,
            46,
            36,
            20,
            28,
            12,
            11,
            5,
            5,
            1,
            3,
            0,
            1,
            4,
            2,
            3,
            0,
            0,
            2,
            1,
            1,
            1
           ]
          },
          {
           "type": "scatter",
           "x": [
            "1854-08-19",
            "1854-08-20",
            "1854-08-21",
            "1854-08-22",
            "1854-08-23",
            "1854-08-24",
            "1854-08-25",
            "1854-08-26",
            "1854-08-27",
            "1854-08-28",
            "1854-08-29",
            "1854-08-30",
            "1854-08-31",
            "1854-09-01",
            "1854-09-02",
            "1854-09-03",
            "1854-09-04",
            "1854-09-05",
            "1854-09-06",
            "1854-09-07",
            "1854-09-08",
            "1854-09-09",
            "1854-09-10",
            "1854-09-11",
            "1854-09-12",
            "1854-09-13",
            "1854-09-14",
            "1854-09-15",
            "1854-09-16",
            "1854-09-17",
            "1854-09-18",
            "1854-09-19",
            "1854-09-20",
            "1854-09-21",
            "1854-09-22",
            "1854-09-23",
            "1854-09-24"
           ],
           "y": [
            1,
            2,
            3,
            3,
            4,
            5,
            5,
            6,
            7,
            8,
            9,
            17,
            73,
            216,
            332,
            386,
            432,
            468,
            488,
            516,
            528,
            539,
            544,
            549,
            550,
            553,
            553,
            554,
            558,
            560,
            563,
            563,
            563,
            565,
            566,
            567,
            568
           ]
          },
          {
           "type": "scatter",
           "x": [
            "1854-08-19",
            "1854-08-20",
            "1854-08-21",
            "1854-08-22",
            "1854-08-23",
            "1854-08-24",
            "1854-08-25",
            "1854-08-26",
            "1854-08-27",
            "1854-08-28",
            "1854-08-29",
            "1854-08-30",
            "1854-08-31",
            "1854-09-01",
            "1854-09-02",
            "1854-09-03",
            "1854-09-04",
            "1854-09-05",
            "1854-09-06",
            "1854-09-07",
            "1854-09-08",
            "1854-09-09",
            "1854-09-10",
            "1854-09-11",
            "1854-09-12",
            "1854-09-13",
            "1854-09-14",
            "1854-09-15",
            "1854-09-16",
            "1854-09-17",
            "1854-09-18",
            "1854-09-19",
            "1854-09-20",
            "1854-09-21",
            "1854-09-22",
            "1854-09-23",
            "1854-09-24"
           ],
           "y": [
            1,
            0,
            2,
            0,
            0,
            2,
            0,
            0,
            1,
            0,
            1,
            2,
            3,
            70,
            127,
            76,
            71,
            45,
            37,
            32,
            30,
            24,
            18,
            15,
            6,
            13,
            6,
            8,
            6,
            5,
            2,
            3,
            0,
            0,
            2,
            3,
            0
           ]
          },
          {
           "type": "scatter",
           "x": [
            "1854-08-19",
            "1854-08-20",
            "1854-08-21",
            "1854-08-22",
            "1854-08-23",
            "1854-08-24",
            "1854-08-25",
            "1854-08-26",
            "1854-08-27",
            "1854-08-28",
            "1854-08-29",
            "1854-08-30",
            "1854-08-31",
            "1854-09-01",
            "1854-09-02",
            "1854-09-03",
            "1854-09-04",
            "1854-09-05",
            "1854-09-06",
            "1854-09-07",
            "1854-09-08",
            "1854-09-09",
            "1854-09-10",
            "1854-09-11",
            "1854-09-12",
            "1854-09-13",
            "1854-09-14",
            "1854-09-15",
            "1854-09-16",
            "1854-09-17",
            "1854-09-18",
            "1854-09-19",
            "1854-09-20",
            "1854-09-21",
            "1854-09-22",
            "1854-09-23",
            "1854-09-24"
           ],
           "y": [
            1,
            1,
            3,
            3,
            3,
            5,
            5,
            5,
            6,
            6,
            7,
            9,
            12,
            82,
            209,
            285,
            356,
            401,
            438,
            470,
            500,
            524,
            542,
            557,
            563,
            576,
            582,
            590,
            596,
            601,
            603,
            606,
            606,
            606,
            608,
            611,
            611
           ]
          }
         ]
        },
        {
         "data": [
          {
           "type": "scatter",
           "x": [
            "1854-08-19",
            "1854-08-20",
            "1854-08-21",
            "1854-08-22",
            "1854-08-23",
            "1854-08-24",
            "1854-08-25",
            "1854-08-26",
            "1854-08-27",
            "1854-08-28",
            "1854-08-29",
            "1854-08-30",
            "1854-08-31",
            "1854-09-01",
            "1854-09-02",
            "1854-09-03",
            "1854-09-04",
            "1854-09-05",
            "1854-09-06",
            "1854-09-07",
            "1854-09-08",
            "1854-09-09",
            "1854-09-10",
            "1854-09-11",
            "1854-09-12",
            "1854-09-13",
            "1854-09-14",
            "1854-09-15",
            "1854-09-16",
            "1854-09-17",
            "1854-09-18",
            "1854-09-19",
            "1854-09-20",
            "1854-09-21",
            "1854-09-22",
            "1854-09-23",
            "1854-09-24",
            "1854-09-25"
           ],
           "y": [
            1,
            1,
            1,
            0,
            1,
            1,
            0,
            1,
            1,
            1,
            1,
            8,
            56,
            143,
            116,
            54,
            46,
            36,
            20,
            28,
            12,
            11,
            5,
            5,
            1,
            3,
            0,
            1,
            4,
            2,
            3,
            0,
            0,
            2,
            1,
            1,
            1,
            1
           ]
          },
          {
           "type": "scatter",
           "x": [
            "1854-08-19",
            "1854-08-20",
            "1854-08-21",
            "1854-08-22",
            "1854-08-23",
            "1854-08-24",
            "1854-08-25",
            "1854-08-26",
            "1854-08-27",
            "1854-08-28",
            "1854-08-29",
            "1854-08-30",
            "1854-08-31",
            "1854-09-01",
            "1854-09-02",
            "1854-09-03",
            "1854-09-04",
            "1854-09-05",
            "1854-09-06",
            "1854-09-07",
            "1854-09-08",
            "1854-09-09",
            "1854-09-10",
            "1854-09-11",
            "1854-09-12",
            "1854-09-13",
            "1854-09-14",
            "1854-09-15",
            "1854-09-16",
            "1854-09-17",
            "1854-09-18",
            "1854-09-19",
            "1854-09-20",
            "1854-09-21",
            "1854-09-22",
            "1854-09-23",
            "1854-09-24",
            "1854-09-25"
           ],
           "y": [
            1,
            2,
            3,
            3,
            4,
            5,
            5,
            6,
            7,
            8,
            9,
            17,
            73,
            216,
            332,
            386,
            432,
            468,
            488,
            516,
            528,
            539,
            544,
            549,
            550,
            553,
            553,
            554,
            558,
            560,
            563,
            563,
            563,
            565,
            566,
            567,
            568,
            569
           ]
          },
          {
           "type": "scatter",
           "x": [
            "1854-08-19",
            "1854-08-20",
            "1854-08-21",
            "1854-08-22",
            "1854-08-23",
            "1854-08-24",
            "1854-08-25",
            "1854-08-26",
            "1854-08-27",
            "1854-08-28",
            "1854-08-29",
            "1854-08-30",
            "1854-08-31",
            "1854-09-01",
            "1854-09-02",
            "1854-09-03",
            "1854-09-04",
            "1854-09-05",
            "1854-09-06",
            "1854-09-07",
            "1854-09-08",
            "1854-09-09",
            "1854-09-10",
            "1854-09-11",
            "1854-09-12",
            "1854-09-13",
            "1854-09-14",
            "1854-09-15",
            "1854-09-16",
            "1854-09-17",
            "1854-09-18",
            "1854-09-19",
            "1854-09-20",
            "1854-09-21",
            "1854-09-22",
            "1854-09-23",
            "1854-09-24",
            "1854-09-25"
           ],
           "y": [
            1,
            0,
            2,
            0,
            0,
            2,
            0,
            0,
            1,
            0,
            1,
            2,
            3,
            70,
            127,
            76,
            71,
            45,
            37,
            32,
            30,
            24,
            18,
            15,
            6,
            13,
            6,
            8,
            6,
            5,
            2,
            3,
            0,
            0,
            2,
            3,
            0,
            0
           ]
          },
          {
           "type": "scatter",
           "x": [
            "1854-08-19",
            "1854-08-20",
            "1854-08-21",
            "1854-08-22",
            "1854-08-23",
            "1854-08-24",
            "1854-08-25",
            "1854-08-26",
            "1854-08-27",
            "1854-08-28",
            "1854-08-29",
            "1854-08-30",
            "1854-08-31",
            "1854-09-01",
            "1854-09-02",
            "1854-09-03",
            "1854-09-04",
            "1854-09-05",
            "1854-09-06",
            "1854-09-07",
            "1854-09-08",
            "1854-09-09",
            "1854-09-10",
            "1854-09-11",
            "1854-09-12",
            "1854-09-13",
            "1854-09-14",
            "1854-09-15",
            "1854-09-16",
            "1854-09-17",
            "1854-09-18",
            "1854-09-19",
            "1854-09-20",
            "1854-09-21",
            "1854-09-22",
            "1854-09-23",
            "1854-09-24",
            "1854-09-25"
           ],
           "y": [
            1,
            1,
            3,
            3,
            3,
            5,
            5,
            5,
            6,
            6,
            7,
            9,
            12,
            82,
            209,
            285,
            356,
            401,
            438,
            470,
            500,
            524,
            542,
            557,
            563,
            576,
            582,
            590,
            596,
            601,
            603,
            606,
            606,
            606,
            608,
            611,
            611,
            611
           ]
          }
         ]
        },
        {
         "data": [
          {
           "type": "scatter",
           "x": [
            "1854-08-19",
            "1854-08-20",
            "1854-08-21",
            "1854-08-22",
            "1854-08-23",
            "1854-08-24",
            "1854-08-25",
            "1854-08-26",
            "1854-08-27",
            "1854-08-28",
            "1854-08-29",
            "1854-08-30",
            "1854-08-31",
            "1854-09-01",
            "1854-09-02",
            "1854-09-03",
            "1854-09-04",
            "1854-09-05",
            "1854-09-06",
            "1854-09-07",
            "1854-09-08",
            "1854-09-09",
            "1854-09-10",
            "1854-09-11",
            "1854-09-12",
            "1854-09-13",
            "1854-09-14",
            "1854-09-15",
            "1854-09-16",
            "1854-09-17",
            "1854-09-18",
            "1854-09-19",
            "1854-09-20",
            "1854-09-21",
            "1854-09-22",
            "1854-09-23",
            "1854-09-24",
            "1854-09-25",
            "1854-09-26"
           ],
           "y": [
            1,
            1,
            1,
            0,
            1,
            1,
            0,
            1,
            1,
            1,
            1,
            8,
            56,
            143,
            116,
            54,
            46,
            36,
            20,
            28,
            12,
            11,
            5,
            5,
            1,
            3,
            0,
            1,
            4,
            2,
            3,
            0,
            0,
            2,
            1,
            1,
            1,
            1,
            1
           ]
          },
          {
           "type": "scatter",
           "x": [
            "1854-08-19",
            "1854-08-20",
            "1854-08-21",
            "1854-08-22",
            "1854-08-23",
            "1854-08-24",
            "1854-08-25",
            "1854-08-26",
            "1854-08-27",
            "1854-08-28",
            "1854-08-29",
            "1854-08-30",
            "1854-08-31",
            "1854-09-01",
            "1854-09-02",
            "1854-09-03",
            "1854-09-04",
            "1854-09-05",
            "1854-09-06",
            "1854-09-07",
            "1854-09-08",
            "1854-09-09",
            "1854-09-10",
            "1854-09-11",
            "1854-09-12",
            "1854-09-13",
            "1854-09-14",
            "1854-09-15",
            "1854-09-16",
            "1854-09-17",
            "1854-09-18",
            "1854-09-19",
            "1854-09-20",
            "1854-09-21",
            "1854-09-22",
            "1854-09-23",
            "1854-09-24",
            "1854-09-25",
            "1854-09-26"
           ],
           "y": [
            1,
            2,
            3,
            3,
            4,
            5,
            5,
            6,
            7,
            8,
            9,
            17,
            73,
            216,
            332,
            386,
            432,
            468,
            488,
            516,
            528,
            539,
            544,
            549,
            550,
            553,
            553,
            554,
            558,
            560,
            563,
            563,
            563,
            565,
            566,
            567,
            568,
            569,
            570
           ]
          },
          {
           "type": "scatter",
           "x": [
            "1854-08-19",
            "1854-08-20",
            "1854-08-21",
            "1854-08-22",
            "1854-08-23",
            "1854-08-24",
            "1854-08-25",
            "1854-08-26",
            "1854-08-27",
            "1854-08-28",
            "1854-08-29",
            "1854-08-30",
            "1854-08-31",
            "1854-09-01",
            "1854-09-02",
            "1854-09-03",
            "1854-09-04",
            "1854-09-05",
            "1854-09-06",
            "1854-09-07",
            "1854-09-08",
            "1854-09-09",
            "1854-09-10",
            "1854-09-11",
            "1854-09-12",
            "1854-09-13",
            "1854-09-14",
            "1854-09-15",
            "1854-09-16",
            "1854-09-17",
            "1854-09-18",
            "1854-09-19",
            "1854-09-20",
            "1854-09-21",
            "1854-09-22",
            "1854-09-23",
            "1854-09-24",
            "1854-09-25",
            "1854-09-26"
           ],
           "y": [
            1,
            0,
            2,
            0,
            0,
            2,
            0,
            0,
            1,
            0,
            1,
            2,
            3,
            70,
            127,
            76,
            71,
            45,
            37,
            32,
            30,
            24,
            18,
            15,
            6,
            13,
            6,
            8,
            6,
            5,
            2,
            3,
            0,
            0,
            2,
            3,
            0,
            0,
            2
           ]
          },
          {
           "type": "scatter",
           "x": [
            "1854-08-19",
            "1854-08-20",
            "1854-08-21",
            "1854-08-22",
            "1854-08-23",
            "1854-08-24",
            "1854-08-25",
            "1854-08-26",
            "1854-08-27",
            "1854-08-28",
            "1854-08-29",
            "1854-08-30",
            "1854-08-31",
            "1854-09-01",
            "1854-09-02",
            "1854-09-03",
            "1854-09-04",
            "1854-09-05",
            "1854-09-06",
            "1854-09-07",
            "1854-09-08",
            "1854-09-09",
            "1854-09-10",
            "1854-09-11",
            "1854-09-12",
            "1854-09-13",
            "1854-09-14",
            "1854-09-15",
            "1854-09-16",
            "1854-09-17",
            "1854-09-18",
            "1854-09-19",
            "1854-09-20",
            "1854-09-21",
            "1854-09-22",
            "1854-09-23",
            "1854-09-24",
            "1854-09-25",
            "1854-09-26"
           ],
           "y": [
            1,
            1,
            3,
            3,
            3,
            5,
            5,
            5,
            6,
            6,
            7,
            9,
            12,
            82,
            209,
            285,
            356,
            401,
            438,
            470,
            500,
            524,
            542,
            557,
            563,
            576,
            582,
            590,
            596,
            601,
            603,
            606,
            606,
            606,
            608,
            611,
            611,
            611,
            613
           ]
          }
         ]
        },
        {
         "data": [
          {
           "type": "scatter",
           "x": [
            "1854-08-19",
            "1854-08-20",
            "1854-08-21",
            "1854-08-22",
            "1854-08-23",
            "1854-08-24",
            "1854-08-25",
            "1854-08-26",
            "1854-08-27",
            "1854-08-28",
            "1854-08-29",
            "1854-08-30",
            "1854-08-31",
            "1854-09-01",
            "1854-09-02",
            "1854-09-03",
            "1854-09-04",
            "1854-09-05",
            "1854-09-06",
            "1854-09-07",
            "1854-09-08",
            "1854-09-09",
            "1854-09-10",
            "1854-09-11",
            "1854-09-12",
            "1854-09-13",
            "1854-09-14",
            "1854-09-15",
            "1854-09-16",
            "1854-09-17",
            "1854-09-18",
            "1854-09-19",
            "1854-09-20",
            "1854-09-21",
            "1854-09-22",
            "1854-09-23",
            "1854-09-24",
            "1854-09-25",
            "1854-09-26",
            "1854-09-27"
           ],
           "y": [
            1,
            1,
            1,
            0,
            1,
            1,
            0,
            1,
            1,
            1,
            1,
            8,
            56,
            143,
            116,
            54,
            46,
            36,
            20,
            28,
            12,
            11,
            5,
            5,
            1,
            3,
            0,
            1,
            4,
            2,
            3,
            0,
            0,
            2,
            1,
            1,
            1,
            1,
            1,
            1
           ]
          },
          {
           "type": "scatter",
           "x": [
            "1854-08-19",
            "1854-08-20",
            "1854-08-21",
            "1854-08-22",
            "1854-08-23",
            "1854-08-24",
            "1854-08-25",
            "1854-08-26",
            "1854-08-27",
            "1854-08-28",
            "1854-08-29",
            "1854-08-30",
            "1854-08-31",
            "1854-09-01",
            "1854-09-02",
            "1854-09-03",
            "1854-09-04",
            "1854-09-05",
            "1854-09-06",
            "1854-09-07",
            "1854-09-08",
            "1854-09-09",
            "1854-09-10",
            "1854-09-11",
            "1854-09-12",
            "1854-09-13",
            "1854-09-14",
            "1854-09-15",
            "1854-09-16",
            "1854-09-17",
            "1854-09-18",
            "1854-09-19",
            "1854-09-20",
            "1854-09-21",
            "1854-09-22",
            "1854-09-23",
            "1854-09-24",
            "1854-09-25",
            "1854-09-26",
            "1854-09-27"
           ],
           "y": [
            1,
            2,
            3,
            3,
            4,
            5,
            5,
            6,
            7,
            8,
            9,
            17,
            73,
            216,
            332,
            386,
            432,
            468,
            488,
            516,
            528,
            539,
            544,
            549,
            550,
            553,
            553,
            554,
            558,
            560,
            563,
            563,
            563,
            565,
            566,
            567,
            568,
            569,
            570,
            571
           ]
          },
          {
           "type": "scatter",
           "x": [
            "1854-08-19",
            "1854-08-20",
            "1854-08-21",
            "1854-08-22",
            "1854-08-23",
            "1854-08-24",
            "1854-08-25",
            "1854-08-26",
            "1854-08-27",
            "1854-08-28",
            "1854-08-29",
            "1854-08-30",
            "1854-08-31",
            "1854-09-01",
            "1854-09-02",
            "1854-09-03",
            "1854-09-04",
            "1854-09-05",
            "1854-09-06",
            "1854-09-07",
            "1854-09-08",
            "1854-09-09",
            "1854-09-10",
            "1854-09-11",
            "1854-09-12",
            "1854-09-13",
            "1854-09-14",
            "1854-09-15",
            "1854-09-16",
            "1854-09-17",
            "1854-09-18",
            "1854-09-19",
            "1854-09-20",
            "1854-09-21",
            "1854-09-22",
            "1854-09-23",
            "1854-09-24",
            "1854-09-25",
            "1854-09-26",
            "1854-09-27"
           ],
           "y": [
            1,
            0,
            2,
            0,
            0,
            2,
            0,
            0,
            1,
            0,
            1,
            2,
            3,
            70,
            127,
            76,
            71,
            45,
            37,
            32,
            30,
            24,
            18,
            15,
            6,
            13,
            6,
            8,
            6,
            5,
            2,
            3,
            0,
            0,
            2,
            3,
            0,
            0,
            2,
            0
           ]
          },
          {
           "type": "scatter",
           "x": [
            "1854-08-19",
            "1854-08-20",
            "1854-08-21",
            "1854-08-22",
            "1854-08-23",
            "1854-08-24",
            "1854-08-25",
            "1854-08-26",
            "1854-08-27",
            "1854-08-28",
            "1854-08-29",
            "1854-08-30",
            "1854-08-31",
            "1854-09-01",
            "1854-09-02",
            "1854-09-03",
            "1854-09-04",
            "1854-09-05",
            "1854-09-06",
            "1854-09-07",
            "1854-09-08",
            "1854-09-09",
            "1854-09-10",
            "1854-09-11",
            "1854-09-12",
            "1854-09-13",
            "1854-09-14",
            "1854-09-15",
            "1854-09-16",
            "1854-09-17",
            "1854-09-18",
            "1854-09-19",
            "1854-09-20",
            "1854-09-21",
            "1854-09-22",
            "1854-09-23",
            "1854-09-24",
            "1854-09-25",
            "1854-09-26",
            "1854-09-27"
           ],
           "y": [
            1,
            1,
            3,
            3,
            3,
            5,
            5,
            5,
            6,
            6,
            7,
            9,
            12,
            82,
            209,
            285,
            356,
            401,
            438,
            470,
            500,
            524,
            542,
            557,
            563,
            576,
            582,
            590,
            596,
            601,
            603,
            606,
            606,
            606,
            608,
            611,
            611,
            611,
            613,
            613
           ]
          }
         ]
        },
        {
         "data": [
          {
           "type": "scatter",
           "x": [
            "1854-08-19",
            "1854-08-20",
            "1854-08-21",
            "1854-08-22",
            "1854-08-23",
            "1854-08-24",
            "1854-08-25",
            "1854-08-26",
            "1854-08-27",
            "1854-08-28",
            "1854-08-29",
            "1854-08-30",
            "1854-08-31",
            "1854-09-01",
            "1854-09-02",
            "1854-09-03",
            "1854-09-04",
            "1854-09-05",
            "1854-09-06",
            "1854-09-07",
            "1854-09-08",
            "1854-09-09",
            "1854-09-10",
            "1854-09-11",
            "1854-09-12",
            "1854-09-13",
            "1854-09-14",
            "1854-09-15",
            "1854-09-16",
            "1854-09-17",
            "1854-09-18",
            "1854-09-19",
            "1854-09-20",
            "1854-09-21",
            "1854-09-22",
            "1854-09-23",
            "1854-09-24",
            "1854-09-25",
            "1854-09-26",
            "1854-09-27",
            "1854-09-28"
           ],
           "y": [
            1,
            1,
            1,
            0,
            1,
            1,
            0,
            1,
            1,
            1,
            1,
            8,
            56,
            143,
            116,
            54,
            46,
            36,
            20,
            28,
            12,
            11,
            5,
            5,
            1,
            3,
            0,
            1,
            4,
            2,
            3,
            0,
            0,
            2,
            1,
            1,
            1,
            1,
            1,
            1,
            0
           ]
          },
          {
           "type": "scatter",
           "x": [
            "1854-08-19",
            "1854-08-20",
            "1854-08-21",
            "1854-08-22",
            "1854-08-23",
            "1854-08-24",
            "1854-08-25",
            "1854-08-26",
            "1854-08-27",
            "1854-08-28",
            "1854-08-29",
            "1854-08-30",
            "1854-08-31",
            "1854-09-01",
            "1854-09-02",
            "1854-09-03",
            "1854-09-04",
            "1854-09-05",
            "1854-09-06",
            "1854-09-07",
            "1854-09-08",
            "1854-09-09",
            "1854-09-10",
            "1854-09-11",
            "1854-09-12",
            "1854-09-13",
            "1854-09-14",
            "1854-09-15",
            "1854-09-16",
            "1854-09-17",
            "1854-09-18",
            "1854-09-19",
            "1854-09-20",
            "1854-09-21",
            "1854-09-22",
            "1854-09-23",
            "1854-09-24",
            "1854-09-25",
            "1854-09-26",
            "1854-09-27",
            "1854-09-28"
           ],
           "y": [
            1,
            2,
            3,
            3,
            4,
            5,
            5,
            6,
            7,
            8,
            9,
            17,
            73,
            216,
            332,
            386,
            432,
            468,
            488,
            516,
            528,
            539,
            544,
            549,
            550,
            553,
            553,
            554,
            558,
            560,
            563,
            563,
            563,
            565,
            566,
            567,
            568,
            569,
            570,
            571,
            571
           ]
          },
          {
           "type": "scatter",
           "x": [
            "1854-08-19",
            "1854-08-20",
            "1854-08-21",
            "1854-08-22",
            "1854-08-23",
            "1854-08-24",
            "1854-08-25",
            "1854-08-26",
            "1854-08-27",
            "1854-08-28",
            "1854-08-29",
            "1854-08-30",
            "1854-08-31",
            "1854-09-01",
            "1854-09-02",
            "1854-09-03",
            "1854-09-04",
            "1854-09-05",
            "1854-09-06",
            "1854-09-07",
            "1854-09-08",
            "1854-09-09",
            "1854-09-10",
            "1854-09-11",
            "1854-09-12",
            "1854-09-13",
            "1854-09-14",
            "1854-09-15",
            "1854-09-16",
            "1854-09-17",
            "1854-09-18",
            "1854-09-19",
            "1854-09-20",
            "1854-09-21",
            "1854-09-22",
            "1854-09-23",
            "1854-09-24",
            "1854-09-25",
            "1854-09-26",
            "1854-09-27",
            "1854-09-28"
           ],
           "y": [
            1,
            0,
            2,
            0,
            0,
            2,
            0,
            0,
            1,
            0,
            1,
            2,
            3,
            70,
            127,
            76,
            71,
            45,
            37,
            32,
            30,
            24,
            18,
            15,
            6,
            13,
            6,
            8,
            6,
            5,
            2,
            3,
            0,
            0,
            2,
            3,
            0,
            0,
            2,
            0,
            2
           ]
          },
          {
           "type": "scatter",
           "x": [
            "1854-08-19",
            "1854-08-20",
            "1854-08-21",
            "1854-08-22",
            "1854-08-23",
            "1854-08-24",
            "1854-08-25",
            "1854-08-26",
            "1854-08-27",
            "1854-08-28",
            "1854-08-29",
            "1854-08-30",
            "1854-08-31",
            "1854-09-01",
            "1854-09-02",
            "1854-09-03",
            "1854-09-04",
            "1854-09-05",
            "1854-09-06",
            "1854-09-07",
            "1854-09-08",
            "1854-09-09",
            "1854-09-10",
            "1854-09-11",
            "1854-09-12",
            "1854-09-13",
            "1854-09-14",
            "1854-09-15",
            "1854-09-16",
            "1854-09-17",
            "1854-09-18",
            "1854-09-19",
            "1854-09-20",
            "1854-09-21",
            "1854-09-22",
            "1854-09-23",
            "1854-09-24",
            "1854-09-25",
            "1854-09-26",
            "1854-09-27",
            "1854-09-28"
           ],
           "y": [
            1,
            1,
            3,
            3,
            3,
            5,
            5,
            5,
            6,
            6,
            7,
            9,
            12,
            82,
            209,
            285,
            356,
            401,
            438,
            470,
            500,
            524,
            542,
            557,
            563,
            576,
            582,
            590,
            596,
            601,
            603,
            606,
            606,
            606,
            608,
            611,
            611,
            611,
            613,
            613,
            615
           ]
          }
         ]
        },
        {
         "data": [
          {
           "type": "scatter",
           "x": [
            "1854-08-19",
            "1854-08-20",
            "1854-08-21",
            "1854-08-22",
            "1854-08-23",
            "1854-08-24",
            "1854-08-25",
            "1854-08-26",
            "1854-08-27",
            "1854-08-28",
            "1854-08-29",
            "1854-08-30",
            "1854-08-31",
            "1854-09-01",
            "1854-09-02",
            "1854-09-03",
            "1854-09-04",
            "1854-09-05",
            "1854-09-06",
            "1854-09-07",
            "1854-09-08",
            "1854-09-09",
            "1854-09-10",
            "1854-09-11",
            "1854-09-12",
            "1854-09-13",
            "1854-09-14",
            "1854-09-15",
            "1854-09-16",
            "1854-09-17",
            "1854-09-18",
            "1854-09-19",
            "1854-09-20",
            "1854-09-21",
            "1854-09-22",
            "1854-09-23",
            "1854-09-24",
            "1854-09-25",
            "1854-09-26",
            "1854-09-27",
            "1854-09-28",
            "1854-09-29"
           ],
           "y": [
            1,
            1,
            1,
            0,
            1,
            1,
            0,
            1,
            1,
            1,
            1,
            8,
            56,
            143,
            116,
            54,
            46,
            36,
            20,
            28,
            12,
            11,
            5,
            5,
            1,
            3,
            0,
            1,
            4,
            2,
            3,
            0,
            0,
            2,
            1,
            1,
            1,
            1,
            1,
            1,
            0,
            0
           ]
          },
          {
           "type": "scatter",
           "x": [
            "1854-08-19",
            "1854-08-20",
            "1854-08-21",
            "1854-08-22",
            "1854-08-23",
            "1854-08-24",
            "1854-08-25",
            "1854-08-26",
            "1854-08-27",
            "1854-08-28",
            "1854-08-29",
            "1854-08-30",
            "1854-08-31",
            "1854-09-01",
            "1854-09-02",
            "1854-09-03",
            "1854-09-04",
            "1854-09-05",
            "1854-09-06",
            "1854-09-07",
            "1854-09-08",
            "1854-09-09",
            "1854-09-10",
            "1854-09-11",
            "1854-09-12",
            "1854-09-13",
            "1854-09-14",
            "1854-09-15",
            "1854-09-16",
            "1854-09-17",
            "1854-09-18",
            "1854-09-19",
            "1854-09-20",
            "1854-09-21",
            "1854-09-22",
            "1854-09-23",
            "1854-09-24",
            "1854-09-25",
            "1854-09-26",
            "1854-09-27",
            "1854-09-28",
            "1854-09-29"
           ],
           "y": [
            1,
            2,
            3,
            3,
            4,
            5,
            5,
            6,
            7,
            8,
            9,
            17,
            73,
            216,
            332,
            386,
            432,
            468,
            488,
            516,
            528,
            539,
            544,
            549,
            550,
            553,
            553,
            554,
            558,
            560,
            563,
            563,
            563,
            565,
            566,
            567,
            568,
            569,
            570,
            571,
            571,
            571
           ]
          },
          {
           "type": "scatter",
           "x": [
            "1854-08-19",
            "1854-08-20",
            "1854-08-21",
            "1854-08-22",
            "1854-08-23",
            "1854-08-24",
            "1854-08-25",
            "1854-08-26",
            "1854-08-27",
            "1854-08-28",
            "1854-08-29",
            "1854-08-30",
            "1854-08-31",
            "1854-09-01",
            "1854-09-02",
            "1854-09-03",
            "1854-09-04",
            "1854-09-05",
            "1854-09-06",
            "1854-09-07",
            "1854-09-08",
            "1854-09-09",
            "1854-09-10",
            "1854-09-11",
            "1854-09-12",
            "1854-09-13",
            "1854-09-14",
            "1854-09-15",
            "1854-09-16",
            "1854-09-17",
            "1854-09-18",
            "1854-09-19",
            "1854-09-20",
            "1854-09-21",
            "1854-09-22",
            "1854-09-23",
            "1854-09-24",
            "1854-09-25",
            "1854-09-26",
            "1854-09-27",
            "1854-09-28",
            "1854-09-29"
           ],
           "y": [
            1,
            0,
            2,
            0,
            0,
            2,
            0,
            0,
            1,
            0,
            1,
            2,
            3,
            70,
            127,
            76,
            71,
            45,
            37,
            32,
            30,
            24,
            18,
            15,
            6,
            13,
            6,
            8,
            6,
            5,
            2,
            3,
            0,
            0,
            2,
            3,
            0,
            0,
            2,
            0,
            2,
            1
           ]
          },
          {
           "type": "scatter",
           "x": [
            "1854-08-19",
            "1854-08-20",
            "1854-08-21",
            "1854-08-22",
            "1854-08-23",
            "1854-08-24",
            "1854-08-25",
            "1854-08-26",
            "1854-08-27",
            "1854-08-28",
            "1854-08-29",
            "1854-08-30",
            "1854-08-31",
            "1854-09-01",
            "1854-09-02",
            "1854-09-03",
            "1854-09-04",
            "1854-09-05",
            "1854-09-06",
            "1854-09-07",
            "1854-09-08",
            "1854-09-09",
            "1854-09-10",
            "1854-09-11",
            "1854-09-12",
            "1854-09-13",
            "1854-09-14",
            "1854-09-15",
            "1854-09-16",
            "1854-09-17",
            "1854-09-18",
            "1854-09-19",
            "1854-09-20",
            "1854-09-21",
            "1854-09-22",
            "1854-09-23",
            "1854-09-24",
            "1854-09-25",
            "1854-09-26",
            "1854-09-27",
            "1854-09-28",
            "1854-09-29"
           ],
           "y": [
            1,
            1,
            3,
            3,
            3,
            5,
            5,
            5,
            6,
            6,
            7,
            9,
            12,
            82,
            209,
            285,
            356,
            401,
            438,
            470,
            500,
            524,
            542,
            557,
            563,
            576,
            582,
            590,
            596,
            601,
            603,
            606,
            606,
            606,
            608,
            611,
            611,
            611,
            613,
            613,
            615,
            616
           ]
          }
         ]
        }
       ],
       "layout": {
        "hoverlabel": {
         "namelength": -1
        },
        "hovermode": "x unified",
        "showlegend": false,
        "template": {
         "data": {
          "bar": [
           {
            "error_x": {
             "color": "#2a3f5f"
            },
            "error_y": {
             "color": "#2a3f5f"
            },
            "marker": {
             "line": {
              "color": "#E5ECF6",
              "width": 0.5
             },
             "pattern": {
              "fillmode": "overlay",
              "size": 10,
              "solidity": 0.2
             }
            },
            "type": "bar"
           }
          ],
          "barpolar": [
           {
            "marker": {
             "line": {
              "color": "#E5ECF6",
              "width": 0.5
             },
             "pattern": {
              "fillmode": "overlay",
              "size": 10,
              "solidity": 0.2
             }
            },
            "type": "barpolar"
           }
          ],
          "carpet": [
           {
            "aaxis": {
             "endlinecolor": "#2a3f5f",
             "gridcolor": "white",
             "linecolor": "white",
             "minorgridcolor": "white",
             "startlinecolor": "#2a3f5f"
            },
            "baxis": {
             "endlinecolor": "#2a3f5f",
             "gridcolor": "white",
             "linecolor": "white",
             "minorgridcolor": "white",
             "startlinecolor": "#2a3f5f"
            },
            "type": "carpet"
           }
          ],
          "choropleth": [
           {
            "colorbar": {
             "outlinewidth": 0,
             "ticks": ""
            },
            "type": "choropleth"
           }
          ],
          "contour": [
           {
            "colorbar": {
             "outlinewidth": 0,
             "ticks": ""
            },
            "colorscale": [
             [
              0,
              "#0d0887"
             ],
             [
              0.1111111111111111,
              "#46039f"
             ],
             [
              0.2222222222222222,
              "#7201a8"
             ],
             [
              0.3333333333333333,
              "#9c179e"
             ],
             [
              0.4444444444444444,
              "#bd3786"
             ],
             [
              0.5555555555555556,
              "#d8576b"
             ],
             [
              0.6666666666666666,
              "#ed7953"
             ],
             [
              0.7777777777777778,
              "#fb9f3a"
             ],
             [
              0.8888888888888888,
              "#fdca26"
             ],
             [
              1,
              "#f0f921"
             ]
            ],
            "type": "contour"
           }
          ],
          "contourcarpet": [
           {
            "colorbar": {
             "outlinewidth": 0,
             "ticks": ""
            },
            "type": "contourcarpet"
           }
          ],
          "heatmap": [
           {
            "colorbar": {
             "outlinewidth": 0,
             "ticks": ""
            },
            "colorscale": [
             [
              0,
              "#0d0887"
             ],
             [
              0.1111111111111111,
              "#46039f"
             ],
             [
              0.2222222222222222,
              "#7201a8"
             ],
             [
              0.3333333333333333,
              "#9c179e"
             ],
             [
              0.4444444444444444,
              "#bd3786"
             ],
             [
              0.5555555555555556,
              "#d8576b"
             ],
             [
              0.6666666666666666,
              "#ed7953"
             ],
             [
              0.7777777777777778,
              "#fb9f3a"
             ],
             [
              0.8888888888888888,
              "#fdca26"
             ],
             [
              1,
              "#f0f921"
             ]
            ],
            "type": "heatmap"
           }
          ],
          "heatmapgl": [
           {
            "colorbar": {
             "outlinewidth": 0,
             "ticks": ""
            },
            "colorscale": [
             [
              0,
              "#0d0887"
             ],
             [
              0.1111111111111111,
              "#46039f"
             ],
             [
              0.2222222222222222,
              "#7201a8"
             ],
             [
              0.3333333333333333,
              "#9c179e"
             ],
             [
              0.4444444444444444,
              "#bd3786"
             ],
             [
              0.5555555555555556,
              "#d8576b"
             ],
             [
              0.6666666666666666,
              "#ed7953"
             ],
             [
              0.7777777777777778,
              "#fb9f3a"
             ],
             [
              0.8888888888888888,
              "#fdca26"
             ],
             [
              1,
              "#f0f921"
             ]
            ],
            "type": "heatmapgl"
           }
          ],
          "histogram": [
           {
            "marker": {
             "pattern": {
              "fillmode": "overlay",
              "size": 10,
              "solidity": 0.2
             }
            },
            "type": "histogram"
           }
          ],
          "histogram2d": [
           {
            "colorbar": {
             "outlinewidth": 0,
             "ticks": ""
            },
            "colorscale": [
             [
              0,
              "#0d0887"
             ],
             [
              0.1111111111111111,
              "#46039f"
             ],
             [
              0.2222222222222222,
              "#7201a8"
             ],
             [
              0.3333333333333333,
              "#9c179e"
             ],
             [
              0.4444444444444444,
              "#bd3786"
             ],
             [
              0.5555555555555556,
              "#d8576b"
             ],
             [
              0.6666666666666666,
              "#ed7953"
             ],
             [
              0.7777777777777778,
              "#fb9f3a"
             ],
             [
              0.8888888888888888,
              "#fdca26"
             ],
             [
              1,
              "#f0f921"
             ]
            ],
            "type": "histogram2d"
           }
          ],
          "histogram2dcontour": [
           {
            "colorbar": {
             "outlinewidth": 0,
             "ticks": ""
            },
            "colorscale": [
             [
              0,
              "#0d0887"
             ],
             [
              0.1111111111111111,
              "#46039f"
             ],
             [
              0.2222222222222222,
              "#7201a8"
             ],
             [
              0.3333333333333333,
              "#9c179e"
             ],
             [
              0.4444444444444444,
              "#bd3786"
             ],
             [
              0.5555555555555556,
              "#d8576b"
             ],
             [
              0.6666666666666666,
              "#ed7953"
             ],
             [
              0.7777777777777778,
              "#fb9f3a"
             ],
             [
              0.8888888888888888,
              "#fdca26"
             ],
             [
              1,
              "#f0f921"
             ]
            ],
            "type": "histogram2dcontour"
           }
          ],
          "mesh3d": [
           {
            "colorbar": {
             "outlinewidth": 0,
             "ticks": ""
            },
            "type": "mesh3d"
           }
          ],
          "parcoords": [
           {
            "line": {
             "colorbar": {
              "outlinewidth": 0,
              "ticks": ""
             }
            },
            "type": "parcoords"
           }
          ],
          "pie": [
           {
            "automargin": true,
            "type": "pie"
           }
          ],
          "scatter": [
           {
            "fillpattern": {
             "fillmode": "overlay",
             "size": 10,
             "solidity": 0.2
            },
            "type": "scatter"
           }
          ],
          "scatter3d": [
           {
            "line": {
             "colorbar": {
              "outlinewidth": 0,
              "ticks": ""
             }
            },
            "marker": {
             "colorbar": {
              "outlinewidth": 0,
              "ticks": ""
             }
            },
            "type": "scatter3d"
           }
          ],
          "scattercarpet": [
           {
            "marker": {
             "colorbar": {
              "outlinewidth": 0,
              "ticks": ""
             }
            },
            "type": "scattercarpet"
           }
          ],
          "scattergeo": [
           {
            "marker": {
             "colorbar": {
              "outlinewidth": 0,
              "ticks": ""
             }
            },
            "type": "scattergeo"
           }
          ],
          "scattergl": [
           {
            "marker": {
             "colorbar": {
              "outlinewidth": 0,
              "ticks": ""
             }
            },
            "type": "scattergl"
           }
          ],
          "scattermapbox": [
           {
            "marker": {
             "colorbar": {
              "outlinewidth": 0,
              "ticks": ""
             }
            },
            "type": "scattermapbox"
           }
          ],
          "scatterpolar": [
           {
            "marker": {
             "colorbar": {
              "outlinewidth": 0,
              "ticks": ""
             }
            },
            "type": "scatterpolar"
           }
          ],
          "scatterpolargl": [
           {
            "marker": {
             "colorbar": {
              "outlinewidth": 0,
              "ticks": ""
             }
            },
            "type": "scatterpolargl"
           }
          ],
          "scatterternary": [
           {
            "marker": {
             "colorbar": {
              "outlinewidth": 0,
              "ticks": ""
             }
            },
            "type": "scatterternary"
           }
          ],
          "surface": [
           {
            "colorbar": {
             "outlinewidth": 0,
             "ticks": ""
            },
            "colorscale": [
             [
              0,
              "#0d0887"
             ],
             [
              0.1111111111111111,
              "#46039f"
             ],
             [
              0.2222222222222222,
              "#7201a8"
             ],
             [
              0.3333333333333333,
              "#9c179e"
             ],
             [
              0.4444444444444444,
              "#bd3786"
             ],
             [
              0.5555555555555556,
              "#d8576b"
             ],
             [
              0.6666666666666666,
              "#ed7953"
             ],
             [
              0.7777777777777778,
              "#fb9f3a"
             ],
             [
              0.8888888888888888,
              "#fdca26"
             ],
             [
              1,
              "#f0f921"
             ]
            ],
            "type": "surface"
           }
          ],
          "table": [
           {
            "cells": {
             "fill": {
              "color": "#EBF0F8"
             },
             "line": {
              "color": "white"
             }
            },
            "header": {
             "fill": {
              "color": "#C8D4E3"
             },
             "line": {
              "color": "white"
             }
            },
            "type": "table"
           }
          ]
         },
         "layout": {
          "annotationdefaults": {
           "arrowcolor": "#2a3f5f",
           "arrowhead": 0,
           "arrowwidth": 1
          },
          "autotypenumbers": "strict",
          "coloraxis": {
           "colorbar": {
            "outlinewidth": 0,
            "ticks": ""
           }
          },
          "colorscale": {
           "diverging": [
            [
             0,
             "#8e0152"
            ],
            [
             0.1,
             "#c51b7d"
            ],
            [
             0.2,
             "#de77ae"
            ],
            [
             0.3,
             "#f1b6da"
            ],
            [
             0.4,
             "#fde0ef"
            ],
            [
             0.5,
             "#f7f7f7"
            ],
            [
             0.6,
             "#e6f5d0"
            ],
            [
             0.7,
             "#b8e186"
            ],
            [
             0.8,
             "#7fbc41"
            ],
            [
             0.9,
             "#4d9221"
            ],
            [
             1,
             "#276419"
            ]
           ],
           "sequential": [
            [
             0,
             "#0d0887"
            ],
            [
             0.1111111111111111,
             "#46039f"
            ],
            [
             0.2222222222222222,
             "#7201a8"
            ],
            [
             0.3333333333333333,
             "#9c179e"
            ],
            [
             0.4444444444444444,
             "#bd3786"
            ],
            [
             0.5555555555555556,
             "#d8576b"
            ],
            [
             0.6666666666666666,
             "#ed7953"
            ],
            [
             0.7777777777777778,
             "#fb9f3a"
            ],
            [
             0.8888888888888888,
             "#fdca26"
            ],
            [
             1,
             "#f0f921"
            ]
           ],
           "sequentialminus": [
            [
             0,
             "#0d0887"
            ],
            [
             0.1111111111111111,
             "#46039f"
            ],
            [
             0.2222222222222222,
             "#7201a8"
            ],
            [
             0.3333333333333333,
             "#9c179e"
            ],
            [
             0.4444444444444444,
             "#bd3786"
            ],
            [
             0.5555555555555556,
             "#d8576b"
            ],
            [
             0.6666666666666666,
             "#ed7953"
            ],
            [
             0.7777777777777778,
             "#fb9f3a"
            ],
            [
             0.8888888888888888,
             "#fdca26"
            ],
            [
             1,
             "#f0f921"
            ]
           ]
          },
          "colorway": [
           "#636efa",
           "#EF553B",
           "#00cc96",
           "#ab63fa",
           "#FFA15A",
           "#19d3f3",
           "#FF6692",
           "#B6E880",
           "#FF97FF",
           "#FECB52"
          ],
          "font": {
           "color": "#2a3f5f"
          },
          "geo": {
           "bgcolor": "white",
           "lakecolor": "white",
           "landcolor": "#E5ECF6",
           "showlakes": true,
           "showland": true,
           "subunitcolor": "white"
          },
          "hoverlabel": {
           "align": "left"
          },
          "hovermode": "closest",
          "mapbox": {
           "style": "light"
          },
          "paper_bgcolor": "white",
          "plot_bgcolor": "#E5ECF6",
          "polar": {
           "angularaxis": {
            "gridcolor": "white",
            "linecolor": "white",
            "ticks": ""
           },
           "bgcolor": "#E5ECF6",
           "radialaxis": {
            "gridcolor": "white",
            "linecolor": "white",
            "ticks": ""
           }
          },
          "scene": {
           "xaxis": {
            "backgroundcolor": "#E5ECF6",
            "gridcolor": "white",
            "gridwidth": 2,
            "linecolor": "white",
            "showbackground": true,
            "ticks": "",
            "zerolinecolor": "white"
           },
           "yaxis": {
            "backgroundcolor": "#E5ECF6",
            "gridcolor": "white",
            "gridwidth": 2,
            "linecolor": "white",
            "showbackground": true,
            "ticks": "",
            "zerolinecolor": "white"
           },
           "zaxis": {
            "backgroundcolor": "#E5ECF6",
            "gridcolor": "white",
            "gridwidth": 2,
            "linecolor": "white",
            "showbackground": true,
            "ticks": "",
            "zerolinecolor": "white"
           }
          },
          "shapedefaults": {
           "line": {
            "color": "#2a3f5f"
           }
          },
          "ternary": {
           "aaxis": {
            "gridcolor": "white",
            "linecolor": "white",
            "ticks": ""
           },
           "baxis": {
            "gridcolor": "white",
            "linecolor": "white",
            "ticks": ""
           },
           "bgcolor": "#E5ECF6",
           "caxis": {
            "gridcolor": "white",
            "linecolor": "white",
            "ticks": ""
           }
          },
          "title": {
           "x": 0.05
          },
          "xaxis": {
           "automargin": true,
           "gridcolor": "white",
           "linecolor": "white",
           "ticks": "",
           "title": {
            "standoff": 15
           },
           "zerolinecolor": "white",
           "zerolinewidth": 2
          },
          "yaxis": {
           "automargin": true,
           "gridcolor": "white",
           "linecolor": "white",
           "ticks": "",
           "title": {
            "standoff": 15
           },
           "zerolinecolor": "white",
           "zerolinewidth": 2
          }
         }
        },
        "updatemenus": [
         {
          "buttons": [
           {
            "args": [
             null,
             {
              "frame": {
               "duration": 80,
               "redraw": false
              },
              "fromcurrent": true,
              "mode": "immediate",
              "transition": {
               "duration": 0
              }
             }
            ],
            "label": "Play",
            "method": "animate"
           }
          ],
          "pad": {
           "r": 10,
           "t": 0
          },
          "showactive": false,
          "type": "buttons",
          "x": 1.15,
          "xanchor": "right",
          "y": 1.05,
          "yanchor": "top"
         }
        ],
        "xaxis": {
         "autorange": false,
         "nticks": 18,
         "range": [
          "1854-08-19",
          "1854-09-29"
         ],
         "tickangle": 45
        },
        "yaxis": {
         "autorange": false,
         "range": [
          -4,
          666
         ]
        }
       }
      },
      "text/html": [
       "<div>                            <div id=\"423dbacf-0b7a-41e4-9d27-7fbf856a7b54\" class=\"plotly-graph-div\" style=\"height:525px; width:100%;\"></div>            <script type=\"text/javascript\">                require([\"plotly\"], function(Plotly) {                    window.PLOTLYENV=window.PLOTLYENV || {};                                    if (document.getElementById(\"423dbacf-0b7a-41e4-9d27-7fbf856a7b54\")) {                    Plotly.newPlot(                        \"423dbacf-0b7a-41e4-9d27-7fbf856a7b54\",                        [{\"mode\":\"lines\",\"name\":\"Today's Attacks\",\"x\":[\"1854-08-19\",\"1854-08-20\"],\"y\":[1,1],\"type\":\"scatter\"},{\"mode\":\"lines\",\"name\":\"Total Attacks\",\"x\":[\"1854-08-19\",\"1854-08-20\"],\"y\":[1,2],\"type\":\"scatter\"},{\"mode\":\"lines\",\"name\":\"Today's Deaths\",\"x\":[\"1854-08-19\",\"1854-08-20\"],\"y\":[1,0],\"type\":\"scatter\"},{\"mode\":\"lines\",\"name\":\"Total Deaths\",\"x\":[\"1854-08-19\",\"1854-08-20\"],\"y\":[1,1],\"type\":\"scatter\"}],                        {\"hoverlabel\":{\"namelength\":-1},\"hovermode\":\"x unified\",\"showlegend\":false,\"updatemenus\":[{\"buttons\":[{\"args\":[null,{\"frame\":{\"duration\":80,\"redraw\":false},\"transition\":{\"duration\":0},\"fromcurrent\":true,\"mode\":\"immediate\"}],\"label\":\"Play\",\"method\":\"animate\"}],\"pad\":{\"r\":10,\"t\":0},\"showactive\":false,\"type\":\"buttons\",\"x\":1.15,\"xanchor\":\"right\",\"y\":1.05,\"yanchor\":\"top\"}],\"xaxis\":{\"autorange\":false,\"nticks\":18,\"range\":[\"1854-08-19\",\"1854-09-29\"],\"tickangle\":45},\"yaxis\":{\"autorange\":false,\"range\":[-4,666]},\"template\":{\"data\":{\"histogram2dcontour\":[{\"type\":\"histogram2dcontour\",\"colorbar\":{\"outlinewidth\":0,\"ticks\":\"\"},\"colorscale\":[[0.0,\"#0d0887\"],[0.1111111111111111,\"#46039f\"],[0.2222222222222222,\"#7201a8\"],[0.3333333333333333,\"#9c179e\"],[0.4444444444444444,\"#bd3786\"],[0.5555555555555556,\"#d8576b\"],[0.6666666666666666,\"#ed7953\"],[0.7777777777777778,\"#fb9f3a\"],[0.8888888888888888,\"#fdca26\"],[1.0,\"#f0f921\"]]}],\"choropleth\":[{\"type\":\"choropleth\",\"colorbar\":{\"outlinewidth\":0,\"ticks\":\"\"}}],\"histogram2d\":[{\"type\":\"histogram2d\",\"colorbar\":{\"outlinewidth\":0,\"ticks\":\"\"},\"colorscale\":[[0.0,\"#0d0887\"],[0.1111111111111111,\"#46039f\"],[0.2222222222222222,\"#7201a8\"],[0.3333333333333333,\"#9c179e\"],[0.4444444444444444,\"#bd3786\"],[0.5555555555555556,\"#d8576b\"],[0.6666666666666666,\"#ed7953\"],[0.7777777777777778,\"#fb9f3a\"],[0.8888888888888888,\"#fdca26\"],[1.0,\"#f0f921\"]]}],\"heatmap\":[{\"type\":\"heatmap\",\"colorbar\":{\"outlinewidth\":0,\"ticks\":\"\"},\"colorscale\":[[0.0,\"#0d0887\"],[0.1111111111111111,\"#46039f\"],[0.2222222222222222,\"#7201a8\"],[0.3333333333333333,\"#9c179e\"],[0.4444444444444444,\"#bd3786\"],[0.5555555555555556,\"#d8576b\"],[0.6666666666666666,\"#ed7953\"],[0.7777777777777778,\"#fb9f3a\"],[0.8888888888888888,\"#fdca26\"],[1.0,\"#f0f921\"]]}],\"heatmapgl\":[{\"type\":\"heatmapgl\",\"colorbar\":{\"outlinewidth\":0,\"ticks\":\"\"},\"colorscale\":[[0.0,\"#0d0887\"],[0.1111111111111111,\"#46039f\"],[0.2222222222222222,\"#7201a8\"],[0.3333333333333333,\"#9c179e\"],[0.4444444444444444,\"#bd3786\"],[0.5555555555555556,\"#d8576b\"],[0.6666666666666666,\"#ed7953\"],[0.7777777777777778,\"#fb9f3a\"],[0.8888888888888888,\"#fdca26\"],[1.0,\"#f0f921\"]]}],\"contourcarpet\":[{\"type\":\"contourcarpet\",\"colorbar\":{\"outlinewidth\":0,\"ticks\":\"\"}}],\"contour\":[{\"type\":\"contour\",\"colorbar\":{\"outlinewidth\":0,\"ticks\":\"\"},\"colorscale\":[[0.0,\"#0d0887\"],[0.1111111111111111,\"#46039f\"],[0.2222222222222222,\"#7201a8\"],[0.3333333333333333,\"#9c179e\"],[0.4444444444444444,\"#bd3786\"],[0.5555555555555556,\"#d8576b\"],[0.6666666666666666,\"#ed7953\"],[0.7777777777777778,\"#fb9f3a\"],[0.8888888888888888,\"#fdca26\"],[1.0,\"#f0f921\"]]}],\"surface\":[{\"type\":\"surface\",\"colorbar\":{\"outlinewidth\":0,\"ticks\":\"\"},\"colorscale\":[[0.0,\"#0d0887\"],[0.1111111111111111,\"#46039f\"],[0.2222222222222222,\"#7201a8\"],[0.3333333333333333,\"#9c179e\"],[0.4444444444444444,\"#bd3786\"],[0.5555555555555556,\"#d8576b\"],[0.6666666666666666,\"#ed7953\"],[0.7777777777777778,\"#fb9f3a\"],[0.8888888888888888,\"#fdca26\"],[1.0,\"#f0f921\"]]}],\"mesh3d\":[{\"type\":\"mesh3d\",\"colorbar\":{\"outlinewidth\":0,\"ticks\":\"\"}}],\"scatter\":[{\"fillpattern\":{\"fillmode\":\"overlay\",\"size\":10,\"solidity\":0.2},\"type\":\"scatter\"}],\"parcoords\":[{\"type\":\"parcoords\",\"line\":{\"colorbar\":{\"outlinewidth\":0,\"ticks\":\"\"}}}],\"scatterpolargl\":[{\"type\":\"scatterpolargl\",\"marker\":{\"colorbar\":{\"outlinewidth\":0,\"ticks\":\"\"}}}],\"bar\":[{\"error_x\":{\"color\":\"#2a3f5f\"},\"error_y\":{\"color\":\"#2a3f5f\"},\"marker\":{\"line\":{\"color\":\"#E5ECF6\",\"width\":0.5},\"pattern\":{\"fillmode\":\"overlay\",\"size\":10,\"solidity\":0.2}},\"type\":\"bar\"}],\"scattergeo\":[{\"type\":\"scattergeo\",\"marker\":{\"colorbar\":{\"outlinewidth\":0,\"ticks\":\"\"}}}],\"scatterpolar\":[{\"type\":\"scatterpolar\",\"marker\":{\"colorbar\":{\"outlinewidth\":0,\"ticks\":\"\"}}}],\"histogram\":[{\"marker\":{\"pattern\":{\"fillmode\":\"overlay\",\"size\":10,\"solidity\":0.2}},\"type\":\"histogram\"}],\"scattergl\":[{\"type\":\"scattergl\",\"marker\":{\"colorbar\":{\"outlinewidth\":0,\"ticks\":\"\"}}}],\"scatter3d\":[{\"type\":\"scatter3d\",\"line\":{\"colorbar\":{\"outlinewidth\":0,\"ticks\":\"\"}},\"marker\":{\"colorbar\":{\"outlinewidth\":0,\"ticks\":\"\"}}}],\"scattermapbox\":[{\"type\":\"scattermapbox\",\"marker\":{\"colorbar\":{\"outlinewidth\":0,\"ticks\":\"\"}}}],\"scatterternary\":[{\"type\":\"scatterternary\",\"marker\":{\"colorbar\":{\"outlinewidth\":0,\"ticks\":\"\"}}}],\"scattercarpet\":[{\"type\":\"scattercarpet\",\"marker\":{\"colorbar\":{\"outlinewidth\":0,\"ticks\":\"\"}}}],\"carpet\":[{\"aaxis\":{\"endlinecolor\":\"#2a3f5f\",\"gridcolor\":\"white\",\"linecolor\":\"white\",\"minorgridcolor\":\"white\",\"startlinecolor\":\"#2a3f5f\"},\"baxis\":{\"endlinecolor\":\"#2a3f5f\",\"gridcolor\":\"white\",\"linecolor\":\"white\",\"minorgridcolor\":\"white\",\"startlinecolor\":\"#2a3f5f\"},\"type\":\"carpet\"}],\"table\":[{\"cells\":{\"fill\":{\"color\":\"#EBF0F8\"},\"line\":{\"color\":\"white\"}},\"header\":{\"fill\":{\"color\":\"#C8D4E3\"},\"line\":{\"color\":\"white\"}},\"type\":\"table\"}],\"barpolar\":[{\"marker\":{\"line\":{\"color\":\"#E5ECF6\",\"width\":0.5},\"pattern\":{\"fillmode\":\"overlay\",\"size\":10,\"solidity\":0.2}},\"type\":\"barpolar\"}],\"pie\":[{\"automargin\":true,\"type\":\"pie\"}]},\"layout\":{\"autotypenumbers\":\"strict\",\"colorway\":[\"#636efa\",\"#EF553B\",\"#00cc96\",\"#ab63fa\",\"#FFA15A\",\"#19d3f3\",\"#FF6692\",\"#B6E880\",\"#FF97FF\",\"#FECB52\"],\"font\":{\"color\":\"#2a3f5f\"},\"hovermode\":\"closest\",\"hoverlabel\":{\"align\":\"left\"},\"paper_bgcolor\":\"white\",\"plot_bgcolor\":\"#E5ECF6\",\"polar\":{\"bgcolor\":\"#E5ECF6\",\"angularaxis\":{\"gridcolor\":\"white\",\"linecolor\":\"white\",\"ticks\":\"\"},\"radialaxis\":{\"gridcolor\":\"white\",\"linecolor\":\"white\",\"ticks\":\"\"}},\"ternary\":{\"bgcolor\":\"#E5ECF6\",\"aaxis\":{\"gridcolor\":\"white\",\"linecolor\":\"white\",\"ticks\":\"\"},\"baxis\":{\"gridcolor\":\"white\",\"linecolor\":\"white\",\"ticks\":\"\"},\"caxis\":{\"gridcolor\":\"white\",\"linecolor\":\"white\",\"ticks\":\"\"}},\"coloraxis\":{\"colorbar\":{\"outlinewidth\":0,\"ticks\":\"\"}},\"colorscale\":{\"sequential\":[[0.0,\"#0d0887\"],[0.1111111111111111,\"#46039f\"],[0.2222222222222222,\"#7201a8\"],[0.3333333333333333,\"#9c179e\"],[0.4444444444444444,\"#bd3786\"],[0.5555555555555556,\"#d8576b\"],[0.6666666666666666,\"#ed7953\"],[0.7777777777777778,\"#fb9f3a\"],[0.8888888888888888,\"#fdca26\"],[1.0,\"#f0f921\"]],\"sequentialminus\":[[0.0,\"#0d0887\"],[0.1111111111111111,\"#46039f\"],[0.2222222222222222,\"#7201a8\"],[0.3333333333333333,\"#9c179e\"],[0.4444444444444444,\"#bd3786\"],[0.5555555555555556,\"#d8576b\"],[0.6666666666666666,\"#ed7953\"],[0.7777777777777778,\"#fb9f3a\"],[0.8888888888888888,\"#fdca26\"],[1.0,\"#f0f921\"]],\"diverging\":[[0,\"#8e0152\"],[0.1,\"#c51b7d\"],[0.2,\"#de77ae\"],[0.3,\"#f1b6da\"],[0.4,\"#fde0ef\"],[0.5,\"#f7f7f7\"],[0.6,\"#e6f5d0\"],[0.7,\"#b8e186\"],[0.8,\"#7fbc41\"],[0.9,\"#4d9221\"],[1,\"#276419\"]]},\"xaxis\":{\"gridcolor\":\"white\",\"linecolor\":\"white\",\"ticks\":\"\",\"title\":{\"standoff\":15},\"zerolinecolor\":\"white\",\"automargin\":true,\"zerolinewidth\":2},\"yaxis\":{\"gridcolor\":\"white\",\"linecolor\":\"white\",\"ticks\":\"\",\"title\":{\"standoff\":15},\"zerolinecolor\":\"white\",\"automargin\":true,\"zerolinewidth\":2},\"scene\":{\"xaxis\":{\"backgroundcolor\":\"#E5ECF6\",\"gridcolor\":\"white\",\"linecolor\":\"white\",\"showbackground\":true,\"ticks\":\"\",\"zerolinecolor\":\"white\",\"gridwidth\":2},\"yaxis\":{\"backgroundcolor\":\"#E5ECF6\",\"gridcolor\":\"white\",\"linecolor\":\"white\",\"showbackground\":true,\"ticks\":\"\",\"zerolinecolor\":\"white\",\"gridwidth\":2},\"zaxis\":{\"backgroundcolor\":\"#E5ECF6\",\"gridcolor\":\"white\",\"linecolor\":\"white\",\"showbackground\":true,\"ticks\":\"\",\"zerolinecolor\":\"white\",\"gridwidth\":2}},\"shapedefaults\":{\"line\":{\"color\":\"#2a3f5f\"}},\"annotationdefaults\":{\"arrowcolor\":\"#2a3f5f\",\"arrowhead\":0,\"arrowwidth\":1},\"geo\":{\"bgcolor\":\"white\",\"landcolor\":\"#E5ECF6\",\"subunitcolor\":\"white\",\"showland\":true,\"showlakes\":true,\"lakecolor\":\"white\"},\"title\":{\"x\":0.05},\"mapbox\":{\"style\":\"light\"}}}},                        {\"responsive\": true}                    ).then(function(){\n",
       "                            Plotly.addFrames('423dbacf-0b7a-41e4-9d27-7fbf856a7b54', [{\"data\":[{\"x\":[\"1854-08-19\",\"1854-08-20\"],\"y\":[1,1],\"type\":\"scatter\"},{\"x\":[\"1854-08-19\",\"1854-08-20\"],\"y\":[1,2],\"type\":\"scatter\"},{\"x\":[\"1854-08-19\",\"1854-08-20\"],\"y\":[1,0],\"type\":\"scatter\"},{\"x\":[\"1854-08-19\",\"1854-08-20\"],\"y\":[1,1],\"type\":\"scatter\"}]},{\"data\":[{\"x\":[\"1854-08-19\",\"1854-08-20\",\"1854-08-21\"],\"y\":[1,1,1],\"type\":\"scatter\"},{\"x\":[\"1854-08-19\",\"1854-08-20\",\"1854-08-21\"],\"y\":[1,2,3],\"type\":\"scatter\"},{\"x\":[\"1854-08-19\",\"1854-08-20\",\"1854-08-21\"],\"y\":[1,0,2],\"type\":\"scatter\"},{\"x\":[\"1854-08-19\",\"1854-08-20\",\"1854-08-21\"],\"y\":[1,1,3],\"type\":\"scatter\"}]},{\"data\":[{\"x\":[\"1854-08-19\",\"1854-08-20\",\"1854-08-21\",\"1854-08-22\"],\"y\":[1,1,1,0],\"type\":\"scatter\"},{\"x\":[\"1854-08-19\",\"1854-08-20\",\"1854-08-21\",\"1854-08-22\"],\"y\":[1,2,3,3],\"type\":\"scatter\"},{\"x\":[\"1854-08-19\",\"1854-08-20\",\"1854-08-21\",\"1854-08-22\"],\"y\":[1,0,2,0],\"type\":\"scatter\"},{\"x\":[\"1854-08-19\",\"1854-08-20\",\"1854-08-21\",\"1854-08-22\"],\"y\":[1,1,3,3],\"type\":\"scatter\"}]},{\"data\":[{\"x\":[\"1854-08-19\",\"1854-08-20\",\"1854-08-21\",\"1854-08-22\",\"1854-08-23\"],\"y\":[1,1,1,0,1],\"type\":\"scatter\"},{\"x\":[\"1854-08-19\",\"1854-08-20\",\"1854-08-21\",\"1854-08-22\",\"1854-08-23\"],\"y\":[1,2,3,3,4],\"type\":\"scatter\"},{\"x\":[\"1854-08-19\",\"1854-08-20\",\"1854-08-21\",\"1854-08-22\",\"1854-08-23\"],\"y\":[1,0,2,0,0],\"type\":\"scatter\"},{\"x\":[\"1854-08-19\",\"1854-08-20\",\"1854-08-21\",\"1854-08-22\",\"1854-08-23\"],\"y\":[1,1,3,3,3],\"type\":\"scatter\"}]},{\"data\":[{\"x\":[\"1854-08-19\",\"1854-08-20\",\"1854-08-21\",\"1854-08-22\",\"1854-08-23\",\"1854-08-24\"],\"y\":[1,1,1,0,1,1],\"type\":\"scatter\"},{\"x\":[\"1854-08-19\",\"1854-08-20\",\"1854-08-21\",\"1854-08-22\",\"1854-08-23\",\"1854-08-24\"],\"y\":[1,2,3,3,4,5],\"type\":\"scatter\"},{\"x\":[\"1854-08-19\",\"1854-08-20\",\"1854-08-21\",\"1854-08-22\",\"1854-08-23\",\"1854-08-24\"],\"y\":[1,0,2,0,0,2],\"type\":\"scatter\"},{\"x\":[\"1854-08-19\",\"1854-08-20\",\"1854-08-21\",\"1854-08-22\",\"1854-08-23\",\"1854-08-24\"],\"y\":[1,1,3,3,3,5],\"type\":\"scatter\"}]},{\"data\":[{\"x\":[\"1854-08-19\",\"1854-08-20\",\"1854-08-21\",\"1854-08-22\",\"1854-08-23\",\"1854-08-24\",\"1854-08-25\"],\"y\":[1,1,1,0,1,1,0],\"type\":\"scatter\"},{\"x\":[\"1854-08-19\",\"1854-08-20\",\"1854-08-21\",\"1854-08-22\",\"1854-08-23\",\"1854-08-24\",\"1854-08-25\"],\"y\":[1,2,3,3,4,5,5],\"type\":\"scatter\"},{\"x\":[\"1854-08-19\",\"1854-08-20\",\"1854-08-21\",\"1854-08-22\",\"1854-08-23\",\"1854-08-24\",\"1854-08-25\"],\"y\":[1,0,2,0,0,2,0],\"type\":\"scatter\"},{\"x\":[\"1854-08-19\",\"1854-08-20\",\"1854-08-21\",\"1854-08-22\",\"1854-08-23\",\"1854-08-24\",\"1854-08-25\"],\"y\":[1,1,3,3,3,5,5],\"type\":\"scatter\"}]},{\"data\":[{\"x\":[\"1854-08-19\",\"1854-08-20\",\"1854-08-21\",\"1854-08-22\",\"1854-08-23\",\"1854-08-24\",\"1854-08-25\",\"1854-08-26\"],\"y\":[1,1,1,0,1,1,0,1],\"type\":\"scatter\"},{\"x\":[\"1854-08-19\",\"1854-08-20\",\"1854-08-21\",\"1854-08-22\",\"1854-08-23\",\"1854-08-24\",\"1854-08-25\",\"1854-08-26\"],\"y\":[1,2,3,3,4,5,5,6],\"type\":\"scatter\"},{\"x\":[\"1854-08-19\",\"1854-08-20\",\"1854-08-21\",\"1854-08-22\",\"1854-08-23\",\"1854-08-24\",\"1854-08-25\",\"1854-08-26\"],\"y\":[1,0,2,0,0,2,0,0],\"type\":\"scatter\"},{\"x\":[\"1854-08-19\",\"1854-08-20\",\"1854-08-21\",\"1854-08-22\",\"1854-08-23\",\"1854-08-24\",\"1854-08-25\",\"1854-08-26\"],\"y\":[1,1,3,3,3,5,5,5],\"type\":\"scatter\"}]},{\"data\":[{\"x\":[\"1854-08-19\",\"1854-08-20\",\"1854-08-21\",\"1854-08-22\",\"1854-08-23\",\"1854-08-24\",\"1854-08-25\",\"1854-08-26\",\"1854-08-27\"],\"y\":[1,1,1,0,1,1,0,1,1],\"type\":\"scatter\"},{\"x\":[\"1854-08-19\",\"1854-08-20\",\"1854-08-21\",\"1854-08-22\",\"1854-08-23\",\"1854-08-24\",\"1854-08-25\",\"1854-08-26\",\"1854-08-27\"],\"y\":[1,2,3,3,4,5,5,6,7],\"type\":\"scatter\"},{\"x\":[\"1854-08-19\",\"1854-08-20\",\"1854-08-21\",\"1854-08-22\",\"1854-08-23\",\"1854-08-24\",\"1854-08-25\",\"1854-08-26\",\"1854-08-27\"],\"y\":[1,0,2,0,0,2,0,0,1],\"type\":\"scatter\"},{\"x\":[\"1854-08-19\",\"1854-08-20\",\"1854-08-21\",\"1854-08-22\",\"1854-08-23\",\"1854-08-24\",\"1854-08-25\",\"1854-08-26\",\"1854-08-27\"],\"y\":[1,1,3,3,3,5,5,5,6],\"type\":\"scatter\"}]},{\"data\":[{\"x\":[\"1854-08-19\",\"1854-08-20\",\"1854-08-21\",\"1854-08-22\",\"1854-08-23\",\"1854-08-24\",\"1854-08-25\",\"1854-08-26\",\"1854-08-27\",\"1854-08-28\"],\"y\":[1,1,1,0,1,1,0,1,1,1],\"type\":\"scatter\"},{\"x\":[\"1854-08-19\",\"1854-08-20\",\"1854-08-21\",\"1854-08-22\",\"1854-08-23\",\"1854-08-24\",\"1854-08-25\",\"1854-08-26\",\"1854-08-27\",\"1854-08-28\"],\"y\":[1,2,3,3,4,5,5,6,7,8],\"type\":\"scatter\"},{\"x\":[\"1854-08-19\",\"1854-08-20\",\"1854-08-21\",\"1854-08-22\",\"1854-08-23\",\"1854-08-24\",\"1854-08-25\",\"1854-08-26\",\"1854-08-27\",\"1854-08-28\"],\"y\":[1,0,2,0,0,2,0,0,1,0],\"type\":\"scatter\"},{\"x\":[\"1854-08-19\",\"1854-08-20\",\"1854-08-21\",\"1854-08-22\",\"1854-08-23\",\"1854-08-24\",\"1854-08-25\",\"1854-08-26\",\"1854-08-27\",\"1854-08-28\"],\"y\":[1,1,3,3,3,5,5,5,6,6],\"type\":\"scatter\"}]},{\"data\":[{\"x\":[\"1854-08-19\",\"1854-08-20\",\"1854-08-21\",\"1854-08-22\",\"1854-08-23\",\"1854-08-24\",\"1854-08-25\",\"1854-08-26\",\"1854-08-27\",\"1854-08-28\",\"1854-08-29\"],\"y\":[1,1,1,0,1,1,0,1,1,1,1],\"type\":\"scatter\"},{\"x\":[\"1854-08-19\",\"1854-08-20\",\"1854-08-21\",\"1854-08-22\",\"1854-08-23\",\"1854-08-24\",\"1854-08-25\",\"1854-08-26\",\"1854-08-27\",\"1854-08-28\",\"1854-08-29\"],\"y\":[1,2,3,3,4,5,5,6,7,8,9],\"type\":\"scatter\"},{\"x\":[\"1854-08-19\",\"1854-08-20\",\"1854-08-21\",\"1854-08-22\",\"1854-08-23\",\"1854-08-24\",\"1854-08-25\",\"1854-08-26\",\"1854-08-27\",\"1854-08-28\",\"1854-08-29\"],\"y\":[1,0,2,0,0,2,0,0,1,0,1],\"type\":\"scatter\"},{\"x\":[\"1854-08-19\",\"1854-08-20\",\"1854-08-21\",\"1854-08-22\",\"1854-08-23\",\"1854-08-24\",\"1854-08-25\",\"1854-08-26\",\"1854-08-27\",\"1854-08-28\",\"1854-08-29\"],\"y\":[1,1,3,3,3,5,5,5,6,6,7],\"type\":\"scatter\"}]},{\"data\":[{\"x\":[\"1854-08-19\",\"1854-08-20\",\"1854-08-21\",\"1854-08-22\",\"1854-08-23\",\"1854-08-24\",\"1854-08-25\",\"1854-08-26\",\"1854-08-27\",\"1854-08-28\",\"1854-08-29\",\"1854-08-30\"],\"y\":[1,1,1,0,1,1,0,1,1,1,1,8],\"type\":\"scatter\"},{\"x\":[\"1854-08-19\",\"1854-08-20\",\"1854-08-21\",\"1854-08-22\",\"1854-08-23\",\"1854-08-24\",\"1854-08-25\",\"1854-08-26\",\"1854-08-27\",\"1854-08-28\",\"1854-08-29\",\"1854-08-30\"],\"y\":[1,2,3,3,4,5,5,6,7,8,9,17],\"type\":\"scatter\"},{\"x\":[\"1854-08-19\",\"1854-08-20\",\"1854-08-21\",\"1854-08-22\",\"1854-08-23\",\"1854-08-24\",\"1854-08-25\",\"1854-08-26\",\"1854-08-27\",\"1854-08-28\",\"1854-08-29\",\"1854-08-30\"],\"y\":[1,0,2,0,0,2,0,0,1,0,1,2],\"type\":\"scatter\"},{\"x\":[\"1854-08-19\",\"1854-08-20\",\"1854-08-21\",\"1854-08-22\",\"1854-08-23\",\"1854-08-24\",\"1854-08-25\",\"1854-08-26\",\"1854-08-27\",\"1854-08-28\",\"1854-08-29\",\"1854-08-30\"],\"y\":[1,1,3,3,3,5,5,5,6,6,7,9],\"type\":\"scatter\"}]},{\"data\":[{\"x\":[\"1854-08-19\",\"1854-08-20\",\"1854-08-21\",\"1854-08-22\",\"1854-08-23\",\"1854-08-24\",\"1854-08-25\",\"1854-08-26\",\"1854-08-27\",\"1854-08-28\",\"1854-08-29\",\"1854-08-30\",\"1854-08-31\"],\"y\":[1,1,1,0,1,1,0,1,1,1,1,8,56],\"type\":\"scatter\"},{\"x\":[\"1854-08-19\",\"1854-08-20\",\"1854-08-21\",\"1854-08-22\",\"1854-08-23\",\"1854-08-24\",\"1854-08-25\",\"1854-08-26\",\"1854-08-27\",\"1854-08-28\",\"1854-08-29\",\"1854-08-30\",\"1854-08-31\"],\"y\":[1,2,3,3,4,5,5,6,7,8,9,17,73],\"type\":\"scatter\"},{\"x\":[\"1854-08-19\",\"1854-08-20\",\"1854-08-21\",\"1854-08-22\",\"1854-08-23\",\"1854-08-24\",\"1854-08-25\",\"1854-08-26\",\"1854-08-27\",\"1854-08-28\",\"1854-08-29\",\"1854-08-30\",\"1854-08-31\"],\"y\":[1,0,2,0,0,2,0,0,1,0,1,2,3],\"type\":\"scatter\"},{\"x\":[\"1854-08-19\",\"1854-08-20\",\"1854-08-21\",\"1854-08-22\",\"1854-08-23\",\"1854-08-24\",\"1854-08-25\",\"1854-08-26\",\"1854-08-27\",\"1854-08-28\",\"1854-08-29\",\"1854-08-30\",\"1854-08-31\"],\"y\":[1,1,3,3,3,5,5,5,6,6,7,9,12],\"type\":\"scatter\"}]},{\"data\":[{\"x\":[\"1854-08-19\",\"1854-08-20\",\"1854-08-21\",\"1854-08-22\",\"1854-08-23\",\"1854-08-24\",\"1854-08-25\",\"1854-08-26\",\"1854-08-27\",\"1854-08-28\",\"1854-08-29\",\"1854-08-30\",\"1854-08-31\",\"1854-09-01\"],\"y\":[1,1,1,0,1,1,0,1,1,1,1,8,56,143],\"type\":\"scatter\"},{\"x\":[\"1854-08-19\",\"1854-08-20\",\"1854-08-21\",\"1854-08-22\",\"1854-08-23\",\"1854-08-24\",\"1854-08-25\",\"1854-08-26\",\"1854-08-27\",\"1854-08-28\",\"1854-08-29\",\"1854-08-30\",\"1854-08-31\",\"1854-09-01\"],\"y\":[1,2,3,3,4,5,5,6,7,8,9,17,73,216],\"type\":\"scatter\"},{\"x\":[\"1854-08-19\",\"1854-08-20\",\"1854-08-21\",\"1854-08-22\",\"1854-08-23\",\"1854-08-24\",\"1854-08-25\",\"1854-08-26\",\"1854-08-27\",\"1854-08-28\",\"1854-08-29\",\"1854-08-30\",\"1854-08-31\",\"1854-09-01\"],\"y\":[1,0,2,0,0,2,0,0,1,0,1,2,3,70],\"type\":\"scatter\"},{\"x\":[\"1854-08-19\",\"1854-08-20\",\"1854-08-21\",\"1854-08-22\",\"1854-08-23\",\"1854-08-24\",\"1854-08-25\",\"1854-08-26\",\"1854-08-27\",\"1854-08-28\",\"1854-08-29\",\"1854-08-30\",\"1854-08-31\",\"1854-09-01\"],\"y\":[1,1,3,3,3,5,5,5,6,6,7,9,12,82],\"type\":\"scatter\"}]},{\"data\":[{\"x\":[\"1854-08-19\",\"1854-08-20\",\"1854-08-21\",\"1854-08-22\",\"1854-08-23\",\"1854-08-24\",\"1854-08-25\",\"1854-08-26\",\"1854-08-27\",\"1854-08-28\",\"1854-08-29\",\"1854-08-30\",\"1854-08-31\",\"1854-09-01\",\"1854-09-02\"],\"y\":[1,1,1,0,1,1,0,1,1,1,1,8,56,143,116],\"type\":\"scatter\"},{\"x\":[\"1854-08-19\",\"1854-08-20\",\"1854-08-21\",\"1854-08-22\",\"1854-08-23\",\"1854-08-24\",\"1854-08-25\",\"1854-08-26\",\"1854-08-27\",\"1854-08-28\",\"1854-08-29\",\"1854-08-30\",\"1854-08-31\",\"1854-09-01\",\"1854-09-02\"],\"y\":[1,2,3,3,4,5,5,6,7,8,9,17,73,216,332],\"type\":\"scatter\"},{\"x\":[\"1854-08-19\",\"1854-08-20\",\"1854-08-21\",\"1854-08-22\",\"1854-08-23\",\"1854-08-24\",\"1854-08-25\",\"1854-08-26\",\"1854-08-27\",\"1854-08-28\",\"1854-08-29\",\"1854-08-30\",\"1854-08-31\",\"1854-09-01\",\"1854-09-02\"],\"y\":[1,0,2,0,0,2,0,0,1,0,1,2,3,70,127],\"type\":\"scatter\"},{\"x\":[\"1854-08-19\",\"1854-08-20\",\"1854-08-21\",\"1854-08-22\",\"1854-08-23\",\"1854-08-24\",\"1854-08-25\",\"1854-08-26\",\"1854-08-27\",\"1854-08-28\",\"1854-08-29\",\"1854-08-30\",\"1854-08-31\",\"1854-09-01\",\"1854-09-02\"],\"y\":[1,1,3,3,3,5,5,5,6,6,7,9,12,82,209],\"type\":\"scatter\"}]},{\"data\":[{\"x\":[\"1854-08-19\",\"1854-08-20\",\"1854-08-21\",\"1854-08-22\",\"1854-08-23\",\"1854-08-24\",\"1854-08-25\",\"1854-08-26\",\"1854-08-27\",\"1854-08-28\",\"1854-08-29\",\"1854-08-30\",\"1854-08-31\",\"1854-09-01\",\"1854-09-02\",\"1854-09-03\"],\"y\":[1,1,1,0,1,1,0,1,1,1,1,8,56,143,116,54],\"type\":\"scatter\"},{\"x\":[\"1854-08-19\",\"1854-08-20\",\"1854-08-21\",\"1854-08-22\",\"1854-08-23\",\"1854-08-24\",\"1854-08-25\",\"1854-08-26\",\"1854-08-27\",\"1854-08-28\",\"1854-08-29\",\"1854-08-30\",\"1854-08-31\",\"1854-09-01\",\"1854-09-02\",\"1854-09-03\"],\"y\":[1,2,3,3,4,5,5,6,7,8,9,17,73,216,332,386],\"type\":\"scatter\"},{\"x\":[\"1854-08-19\",\"1854-08-20\",\"1854-08-21\",\"1854-08-22\",\"1854-08-23\",\"1854-08-24\",\"1854-08-25\",\"1854-08-26\",\"1854-08-27\",\"1854-08-28\",\"1854-08-29\",\"1854-08-30\",\"1854-08-31\",\"1854-09-01\",\"1854-09-02\",\"1854-09-03\"],\"y\":[1,0,2,0,0,2,0,0,1,0,1,2,3,70,127,76],\"type\":\"scatter\"},{\"x\":[\"1854-08-19\",\"1854-08-20\",\"1854-08-21\",\"1854-08-22\",\"1854-08-23\",\"1854-08-24\",\"1854-08-25\",\"1854-08-26\",\"1854-08-27\",\"1854-08-28\",\"1854-08-29\",\"1854-08-30\",\"1854-08-31\",\"1854-09-01\",\"1854-09-02\",\"1854-09-03\"],\"y\":[1,1,3,3,3,5,5,5,6,6,7,9,12,82,209,285],\"type\":\"scatter\"}]},{\"data\":[{\"x\":[\"1854-08-19\",\"1854-08-20\",\"1854-08-21\",\"1854-08-22\",\"1854-08-23\",\"1854-08-24\",\"1854-08-25\",\"1854-08-26\",\"1854-08-27\",\"1854-08-28\",\"1854-08-29\",\"1854-08-30\",\"1854-08-31\",\"1854-09-01\",\"1854-09-02\",\"1854-09-03\",\"1854-09-04\"],\"y\":[1,1,1,0,1,1,0,1,1,1,1,8,56,143,116,54,46],\"type\":\"scatter\"},{\"x\":[\"1854-08-19\",\"1854-08-20\",\"1854-08-21\",\"1854-08-22\",\"1854-08-23\",\"1854-08-24\",\"1854-08-25\",\"1854-08-26\",\"1854-08-27\",\"1854-08-28\",\"1854-08-29\",\"1854-08-30\",\"1854-08-31\",\"1854-09-01\",\"1854-09-02\",\"1854-09-03\",\"1854-09-04\"],\"y\":[1,2,3,3,4,5,5,6,7,8,9,17,73,216,332,386,432],\"type\":\"scatter\"},{\"x\":[\"1854-08-19\",\"1854-08-20\",\"1854-08-21\",\"1854-08-22\",\"1854-08-23\",\"1854-08-24\",\"1854-08-25\",\"1854-08-26\",\"1854-08-27\",\"1854-08-28\",\"1854-08-29\",\"1854-08-30\",\"1854-08-31\",\"1854-09-01\",\"1854-09-02\",\"1854-09-03\",\"1854-09-04\"],\"y\":[1,0,2,0,0,2,0,0,1,0,1,2,3,70,127,76,71],\"type\":\"scatter\"},{\"x\":[\"1854-08-19\",\"1854-08-20\",\"1854-08-21\",\"1854-08-22\",\"1854-08-23\",\"1854-08-24\",\"1854-08-25\",\"1854-08-26\",\"1854-08-27\",\"1854-08-28\",\"1854-08-29\",\"1854-08-30\",\"1854-08-31\",\"1854-09-01\",\"1854-09-02\",\"1854-09-03\",\"1854-09-04\"],\"y\":[1,1,3,3,3,5,5,5,6,6,7,9,12,82,209,285,356],\"type\":\"scatter\"}]},{\"data\":[{\"x\":[\"1854-08-19\",\"1854-08-20\",\"1854-08-21\",\"1854-08-22\",\"1854-08-23\",\"1854-08-24\",\"1854-08-25\",\"1854-08-26\",\"1854-08-27\",\"1854-08-28\",\"1854-08-29\",\"1854-08-30\",\"1854-08-31\",\"1854-09-01\",\"1854-09-02\",\"1854-09-03\",\"1854-09-04\",\"1854-09-05\"],\"y\":[1,1,1,0,1,1,0,1,1,1,1,8,56,143,116,54,46,36],\"type\":\"scatter\"},{\"x\":[\"1854-08-19\",\"1854-08-20\",\"1854-08-21\",\"1854-08-22\",\"1854-08-23\",\"1854-08-24\",\"1854-08-25\",\"1854-08-26\",\"1854-08-27\",\"1854-08-28\",\"1854-08-29\",\"1854-08-30\",\"1854-08-31\",\"1854-09-01\",\"1854-09-02\",\"1854-09-03\",\"1854-09-04\",\"1854-09-05\"],\"y\":[1,2,3,3,4,5,5,6,7,8,9,17,73,216,332,386,432,468],\"type\":\"scatter\"},{\"x\":[\"1854-08-19\",\"1854-08-20\",\"1854-08-21\",\"1854-08-22\",\"1854-08-23\",\"1854-08-24\",\"1854-08-25\",\"1854-08-26\",\"1854-08-27\",\"1854-08-28\",\"1854-08-29\",\"1854-08-30\",\"1854-08-31\",\"1854-09-01\",\"1854-09-02\",\"1854-09-03\",\"1854-09-04\",\"1854-09-05\"],\"y\":[1,0,2,0,0,2,0,0,1,0,1,2,3,70,127,76,71,45],\"type\":\"scatter\"},{\"x\":[\"1854-08-19\",\"1854-08-20\",\"1854-08-21\",\"1854-08-22\",\"1854-08-23\",\"1854-08-24\",\"1854-08-25\",\"1854-08-26\",\"1854-08-27\",\"1854-08-28\",\"1854-08-29\",\"1854-08-30\",\"1854-08-31\",\"1854-09-01\",\"1854-09-02\",\"1854-09-03\",\"1854-09-04\",\"1854-09-05\"],\"y\":[1,1,3,3,3,5,5,5,6,6,7,9,12,82,209,285,356,401],\"type\":\"scatter\"}]},{\"data\":[{\"x\":[\"1854-08-19\",\"1854-08-20\",\"1854-08-21\",\"1854-08-22\",\"1854-08-23\",\"1854-08-24\",\"1854-08-25\",\"1854-08-26\",\"1854-08-27\",\"1854-08-28\",\"1854-08-29\",\"1854-08-30\",\"1854-08-31\",\"1854-09-01\",\"1854-09-02\",\"1854-09-03\",\"1854-09-04\",\"1854-09-05\",\"1854-09-06\"],\"y\":[1,1,1,0,1,1,0,1,1,1,1,8,56,143,116,54,46,36,20],\"type\":\"scatter\"},{\"x\":[\"1854-08-19\",\"1854-08-20\",\"1854-08-21\",\"1854-08-22\",\"1854-08-23\",\"1854-08-24\",\"1854-08-25\",\"1854-08-26\",\"1854-08-27\",\"1854-08-28\",\"1854-08-29\",\"1854-08-30\",\"1854-08-31\",\"1854-09-01\",\"1854-09-02\",\"1854-09-03\",\"1854-09-04\",\"1854-09-05\",\"1854-09-06\"],\"y\":[1,2,3,3,4,5,5,6,7,8,9,17,73,216,332,386,432,468,488],\"type\":\"scatter\"},{\"x\":[\"1854-08-19\",\"1854-08-20\",\"1854-08-21\",\"1854-08-22\",\"1854-08-23\",\"1854-08-24\",\"1854-08-25\",\"1854-08-26\",\"1854-08-27\",\"1854-08-28\",\"1854-08-29\",\"1854-08-30\",\"1854-08-31\",\"1854-09-01\",\"1854-09-02\",\"1854-09-03\",\"1854-09-04\",\"1854-09-05\",\"1854-09-06\"],\"y\":[1,0,2,0,0,2,0,0,1,0,1,2,3,70,127,76,71,45,37],\"type\":\"scatter\"},{\"x\":[\"1854-08-19\",\"1854-08-20\",\"1854-08-21\",\"1854-08-22\",\"1854-08-23\",\"1854-08-24\",\"1854-08-25\",\"1854-08-26\",\"1854-08-27\",\"1854-08-28\",\"1854-08-29\",\"1854-08-30\",\"1854-08-31\",\"1854-09-01\",\"1854-09-02\",\"1854-09-03\",\"1854-09-04\",\"1854-09-05\",\"1854-09-06\"],\"y\":[1,1,3,3,3,5,5,5,6,6,7,9,12,82,209,285,356,401,438],\"type\":\"scatter\"}]},{\"data\":[{\"x\":[\"1854-08-19\",\"1854-08-20\",\"1854-08-21\",\"1854-08-22\",\"1854-08-23\",\"1854-08-24\",\"1854-08-25\",\"1854-08-26\",\"1854-08-27\",\"1854-08-28\",\"1854-08-29\",\"1854-08-30\",\"1854-08-31\",\"1854-09-01\",\"1854-09-02\",\"1854-09-03\",\"1854-09-04\",\"1854-09-05\",\"1854-09-06\",\"1854-09-07\"],\"y\":[1,1,1,0,1,1,0,1,1,1,1,8,56,143,116,54,46,36,20,28],\"type\":\"scatter\"},{\"x\":[\"1854-08-19\",\"1854-08-20\",\"1854-08-21\",\"1854-08-22\",\"1854-08-23\",\"1854-08-24\",\"1854-08-25\",\"1854-08-26\",\"1854-08-27\",\"1854-08-28\",\"1854-08-29\",\"1854-08-30\",\"1854-08-31\",\"1854-09-01\",\"1854-09-02\",\"1854-09-03\",\"1854-09-04\",\"1854-09-05\",\"1854-09-06\",\"1854-09-07\"],\"y\":[1,2,3,3,4,5,5,6,7,8,9,17,73,216,332,386,432,468,488,516],\"type\":\"scatter\"},{\"x\":[\"1854-08-19\",\"1854-08-20\",\"1854-08-21\",\"1854-08-22\",\"1854-08-23\",\"1854-08-24\",\"1854-08-25\",\"1854-08-26\",\"1854-08-27\",\"1854-08-28\",\"1854-08-29\",\"1854-08-30\",\"1854-08-31\",\"1854-09-01\",\"1854-09-02\",\"1854-09-03\",\"1854-09-04\",\"1854-09-05\",\"1854-09-06\",\"1854-09-07\"],\"y\":[1,0,2,0,0,2,0,0,1,0,1,2,3,70,127,76,71,45,37,32],\"type\":\"scatter\"},{\"x\":[\"1854-08-19\",\"1854-08-20\",\"1854-08-21\",\"1854-08-22\",\"1854-08-23\",\"1854-08-24\",\"1854-08-25\",\"1854-08-26\",\"1854-08-27\",\"1854-08-28\",\"1854-08-29\",\"1854-08-30\",\"1854-08-31\",\"1854-09-01\",\"1854-09-02\",\"1854-09-03\",\"1854-09-04\",\"1854-09-05\",\"1854-09-06\",\"1854-09-07\"],\"y\":[1,1,3,3,3,5,5,5,6,6,7,9,12,82,209,285,356,401,438,470],\"type\":\"scatter\"}]},{\"data\":[{\"x\":[\"1854-08-19\",\"1854-08-20\",\"1854-08-21\",\"1854-08-22\",\"1854-08-23\",\"1854-08-24\",\"1854-08-25\",\"1854-08-26\",\"1854-08-27\",\"1854-08-28\",\"1854-08-29\",\"1854-08-30\",\"1854-08-31\",\"1854-09-01\",\"1854-09-02\",\"1854-09-03\",\"1854-09-04\",\"1854-09-05\",\"1854-09-06\",\"1854-09-07\",\"1854-09-08\"],\"y\":[1,1,1,0,1,1,0,1,1,1,1,8,56,143,116,54,46,36,20,28,12],\"type\":\"scatter\"},{\"x\":[\"1854-08-19\",\"1854-08-20\",\"1854-08-21\",\"1854-08-22\",\"1854-08-23\",\"1854-08-24\",\"1854-08-25\",\"1854-08-26\",\"1854-08-27\",\"1854-08-28\",\"1854-08-29\",\"1854-08-30\",\"1854-08-31\",\"1854-09-01\",\"1854-09-02\",\"1854-09-03\",\"1854-09-04\",\"1854-09-05\",\"1854-09-06\",\"1854-09-07\",\"1854-09-08\"],\"y\":[1,2,3,3,4,5,5,6,7,8,9,17,73,216,332,386,432,468,488,516,528],\"type\":\"scatter\"},{\"x\":[\"1854-08-19\",\"1854-08-20\",\"1854-08-21\",\"1854-08-22\",\"1854-08-23\",\"1854-08-24\",\"1854-08-25\",\"1854-08-26\",\"1854-08-27\",\"1854-08-28\",\"1854-08-29\",\"1854-08-30\",\"1854-08-31\",\"1854-09-01\",\"1854-09-02\",\"1854-09-03\",\"1854-09-04\",\"1854-09-05\",\"1854-09-06\",\"1854-09-07\",\"1854-09-08\"],\"y\":[1,0,2,0,0,2,0,0,1,0,1,2,3,70,127,76,71,45,37,32,30],\"type\":\"scatter\"},{\"x\":[\"1854-08-19\",\"1854-08-20\",\"1854-08-21\",\"1854-08-22\",\"1854-08-23\",\"1854-08-24\",\"1854-08-25\",\"1854-08-26\",\"1854-08-27\",\"1854-08-28\",\"1854-08-29\",\"1854-08-30\",\"1854-08-31\",\"1854-09-01\",\"1854-09-02\",\"1854-09-03\",\"1854-09-04\",\"1854-09-05\",\"1854-09-06\",\"1854-09-07\",\"1854-09-08\"],\"y\":[1,1,3,3,3,5,5,5,6,6,7,9,12,82,209,285,356,401,438,470,500],\"type\":\"scatter\"}]},{\"data\":[{\"x\":[\"1854-08-19\",\"1854-08-20\",\"1854-08-21\",\"1854-08-22\",\"1854-08-23\",\"1854-08-24\",\"1854-08-25\",\"1854-08-26\",\"1854-08-27\",\"1854-08-28\",\"1854-08-29\",\"1854-08-30\",\"1854-08-31\",\"1854-09-01\",\"1854-09-02\",\"1854-09-03\",\"1854-09-04\",\"1854-09-05\",\"1854-09-06\",\"1854-09-07\",\"1854-09-08\",\"1854-09-09\"],\"y\":[1,1,1,0,1,1,0,1,1,1,1,8,56,143,116,54,46,36,20,28,12,11],\"type\":\"scatter\"},{\"x\":[\"1854-08-19\",\"1854-08-20\",\"1854-08-21\",\"1854-08-22\",\"1854-08-23\",\"1854-08-24\",\"1854-08-25\",\"1854-08-26\",\"1854-08-27\",\"1854-08-28\",\"1854-08-29\",\"1854-08-30\",\"1854-08-31\",\"1854-09-01\",\"1854-09-02\",\"1854-09-03\",\"1854-09-04\",\"1854-09-05\",\"1854-09-06\",\"1854-09-07\",\"1854-09-08\",\"1854-09-09\"],\"y\":[1,2,3,3,4,5,5,6,7,8,9,17,73,216,332,386,432,468,488,516,528,539],\"type\":\"scatter\"},{\"x\":[\"1854-08-19\",\"1854-08-20\",\"1854-08-21\",\"1854-08-22\",\"1854-08-23\",\"1854-08-24\",\"1854-08-25\",\"1854-08-26\",\"1854-08-27\",\"1854-08-28\",\"1854-08-29\",\"1854-08-30\",\"1854-08-31\",\"1854-09-01\",\"1854-09-02\",\"1854-09-03\",\"1854-09-04\",\"1854-09-05\",\"1854-09-06\",\"1854-09-07\",\"1854-09-08\",\"1854-09-09\"],\"y\":[1,0,2,0,0,2,0,0,1,0,1,2,3,70,127,76,71,45,37,32,30,24],\"type\":\"scatter\"},{\"x\":[\"1854-08-19\",\"1854-08-20\",\"1854-08-21\",\"1854-08-22\",\"1854-08-23\",\"1854-08-24\",\"1854-08-25\",\"1854-08-26\",\"1854-08-27\",\"1854-08-28\",\"1854-08-29\",\"1854-08-30\",\"1854-08-31\",\"1854-09-01\",\"1854-09-02\",\"1854-09-03\",\"1854-09-04\",\"1854-09-05\",\"1854-09-06\",\"1854-09-07\",\"1854-09-08\",\"1854-09-09\"],\"y\":[1,1,3,3,3,5,5,5,6,6,7,9,12,82,209,285,356,401,438,470,500,524],\"type\":\"scatter\"}]},{\"data\":[{\"x\":[\"1854-08-19\",\"1854-08-20\",\"1854-08-21\",\"1854-08-22\",\"1854-08-23\",\"1854-08-24\",\"1854-08-25\",\"1854-08-26\",\"1854-08-27\",\"1854-08-28\",\"1854-08-29\",\"1854-08-30\",\"1854-08-31\",\"1854-09-01\",\"1854-09-02\",\"1854-09-03\",\"1854-09-04\",\"1854-09-05\",\"1854-09-06\",\"1854-09-07\",\"1854-09-08\",\"1854-09-09\",\"1854-09-10\"],\"y\":[1,1,1,0,1,1,0,1,1,1,1,8,56,143,116,54,46,36,20,28,12,11,5],\"type\":\"scatter\"},{\"x\":[\"1854-08-19\",\"1854-08-20\",\"1854-08-21\",\"1854-08-22\",\"1854-08-23\",\"1854-08-24\",\"1854-08-25\",\"1854-08-26\",\"1854-08-27\",\"1854-08-28\",\"1854-08-29\",\"1854-08-30\",\"1854-08-31\",\"1854-09-01\",\"1854-09-02\",\"1854-09-03\",\"1854-09-04\",\"1854-09-05\",\"1854-09-06\",\"1854-09-07\",\"1854-09-08\",\"1854-09-09\",\"1854-09-10\"],\"y\":[1,2,3,3,4,5,5,6,7,8,9,17,73,216,332,386,432,468,488,516,528,539,544],\"type\":\"scatter\"},{\"x\":[\"1854-08-19\",\"1854-08-20\",\"1854-08-21\",\"1854-08-22\",\"1854-08-23\",\"1854-08-24\",\"1854-08-25\",\"1854-08-26\",\"1854-08-27\",\"1854-08-28\",\"1854-08-29\",\"1854-08-30\",\"1854-08-31\",\"1854-09-01\",\"1854-09-02\",\"1854-09-03\",\"1854-09-04\",\"1854-09-05\",\"1854-09-06\",\"1854-09-07\",\"1854-09-08\",\"1854-09-09\",\"1854-09-10\"],\"y\":[1,0,2,0,0,2,0,0,1,0,1,2,3,70,127,76,71,45,37,32,30,24,18],\"type\":\"scatter\"},{\"x\":[\"1854-08-19\",\"1854-08-20\",\"1854-08-21\",\"1854-08-22\",\"1854-08-23\",\"1854-08-24\",\"1854-08-25\",\"1854-08-26\",\"1854-08-27\",\"1854-08-28\",\"1854-08-29\",\"1854-08-30\",\"1854-08-31\",\"1854-09-01\",\"1854-09-02\",\"1854-09-03\",\"1854-09-04\",\"1854-09-05\",\"1854-09-06\",\"1854-09-07\",\"1854-09-08\",\"1854-09-09\",\"1854-09-10\"],\"y\":[1,1,3,3,3,5,5,5,6,6,7,9,12,82,209,285,356,401,438,470,500,524,542],\"type\":\"scatter\"}]},{\"data\":[{\"x\":[\"1854-08-19\",\"1854-08-20\",\"1854-08-21\",\"1854-08-22\",\"1854-08-23\",\"1854-08-24\",\"1854-08-25\",\"1854-08-26\",\"1854-08-27\",\"1854-08-28\",\"1854-08-29\",\"1854-08-30\",\"1854-08-31\",\"1854-09-01\",\"1854-09-02\",\"1854-09-03\",\"1854-09-04\",\"1854-09-05\",\"1854-09-06\",\"1854-09-07\",\"1854-09-08\",\"1854-09-09\",\"1854-09-10\",\"1854-09-11\"],\"y\":[1,1,1,0,1,1,0,1,1,1,1,8,56,143,116,54,46,36,20,28,12,11,5,5],\"type\":\"scatter\"},{\"x\":[\"1854-08-19\",\"1854-08-20\",\"1854-08-21\",\"1854-08-22\",\"1854-08-23\",\"1854-08-24\",\"1854-08-25\",\"1854-08-26\",\"1854-08-27\",\"1854-08-28\",\"1854-08-29\",\"1854-08-30\",\"1854-08-31\",\"1854-09-01\",\"1854-09-02\",\"1854-09-03\",\"1854-09-04\",\"1854-09-05\",\"1854-09-06\",\"1854-09-07\",\"1854-09-08\",\"1854-09-09\",\"1854-09-10\",\"1854-09-11\"],\"y\":[1,2,3,3,4,5,5,6,7,8,9,17,73,216,332,386,432,468,488,516,528,539,544,549],\"type\":\"scatter\"},{\"x\":[\"1854-08-19\",\"1854-08-20\",\"1854-08-21\",\"1854-08-22\",\"1854-08-23\",\"1854-08-24\",\"1854-08-25\",\"1854-08-26\",\"1854-08-27\",\"1854-08-28\",\"1854-08-29\",\"1854-08-30\",\"1854-08-31\",\"1854-09-01\",\"1854-09-02\",\"1854-09-03\",\"1854-09-04\",\"1854-09-05\",\"1854-09-06\",\"1854-09-07\",\"1854-09-08\",\"1854-09-09\",\"1854-09-10\",\"1854-09-11\"],\"y\":[1,0,2,0,0,2,0,0,1,0,1,2,3,70,127,76,71,45,37,32,30,24,18,15],\"type\":\"scatter\"},{\"x\":[\"1854-08-19\",\"1854-08-20\",\"1854-08-21\",\"1854-08-22\",\"1854-08-23\",\"1854-08-24\",\"1854-08-25\",\"1854-08-26\",\"1854-08-27\",\"1854-08-28\",\"1854-08-29\",\"1854-08-30\",\"1854-08-31\",\"1854-09-01\",\"1854-09-02\",\"1854-09-03\",\"1854-09-04\",\"1854-09-05\",\"1854-09-06\",\"1854-09-07\",\"1854-09-08\",\"1854-09-09\",\"1854-09-10\",\"1854-09-11\"],\"y\":[1,1,3,3,3,5,5,5,6,6,7,9,12,82,209,285,356,401,438,470,500,524,542,557],\"type\":\"scatter\"}]},{\"data\":[{\"x\":[\"1854-08-19\",\"1854-08-20\",\"1854-08-21\",\"1854-08-22\",\"1854-08-23\",\"1854-08-24\",\"1854-08-25\",\"1854-08-26\",\"1854-08-27\",\"1854-08-28\",\"1854-08-29\",\"1854-08-30\",\"1854-08-31\",\"1854-09-01\",\"1854-09-02\",\"1854-09-03\",\"1854-09-04\",\"1854-09-05\",\"1854-09-06\",\"1854-09-07\",\"1854-09-08\",\"1854-09-09\",\"1854-09-10\",\"1854-09-11\",\"1854-09-12\"],\"y\":[1,1,1,0,1,1,0,1,1,1,1,8,56,143,116,54,46,36,20,28,12,11,5,5,1],\"type\":\"scatter\"},{\"x\":[\"1854-08-19\",\"1854-08-20\",\"1854-08-21\",\"1854-08-22\",\"1854-08-23\",\"1854-08-24\",\"1854-08-25\",\"1854-08-26\",\"1854-08-27\",\"1854-08-28\",\"1854-08-29\",\"1854-08-30\",\"1854-08-31\",\"1854-09-01\",\"1854-09-02\",\"1854-09-03\",\"1854-09-04\",\"1854-09-05\",\"1854-09-06\",\"1854-09-07\",\"1854-09-08\",\"1854-09-09\",\"1854-09-10\",\"1854-09-11\",\"1854-09-12\"],\"y\":[1,2,3,3,4,5,5,6,7,8,9,17,73,216,332,386,432,468,488,516,528,539,544,549,550],\"type\":\"scatter\"},{\"x\":[\"1854-08-19\",\"1854-08-20\",\"1854-08-21\",\"1854-08-22\",\"1854-08-23\",\"1854-08-24\",\"1854-08-25\",\"1854-08-26\",\"1854-08-27\",\"1854-08-28\",\"1854-08-29\",\"1854-08-30\",\"1854-08-31\",\"1854-09-01\",\"1854-09-02\",\"1854-09-03\",\"1854-09-04\",\"1854-09-05\",\"1854-09-06\",\"1854-09-07\",\"1854-09-08\",\"1854-09-09\",\"1854-09-10\",\"1854-09-11\",\"1854-09-12\"],\"y\":[1,0,2,0,0,2,0,0,1,0,1,2,3,70,127,76,71,45,37,32,30,24,18,15,6],\"type\":\"scatter\"},{\"x\":[\"1854-08-19\",\"1854-08-20\",\"1854-08-21\",\"1854-08-22\",\"1854-08-23\",\"1854-08-24\",\"1854-08-25\",\"1854-08-26\",\"1854-08-27\",\"1854-08-28\",\"1854-08-29\",\"1854-08-30\",\"1854-08-31\",\"1854-09-01\",\"1854-09-02\",\"1854-09-03\",\"1854-09-04\",\"1854-09-05\",\"1854-09-06\",\"1854-09-07\",\"1854-09-08\",\"1854-09-09\",\"1854-09-10\",\"1854-09-11\",\"1854-09-12\"],\"y\":[1,1,3,3,3,5,5,5,6,6,7,9,12,82,209,285,356,401,438,470,500,524,542,557,563],\"type\":\"scatter\"}]},{\"data\":[{\"x\":[\"1854-08-19\",\"1854-08-20\",\"1854-08-21\",\"1854-08-22\",\"1854-08-23\",\"1854-08-24\",\"1854-08-25\",\"1854-08-26\",\"1854-08-27\",\"1854-08-28\",\"1854-08-29\",\"1854-08-30\",\"1854-08-31\",\"1854-09-01\",\"1854-09-02\",\"1854-09-03\",\"1854-09-04\",\"1854-09-05\",\"1854-09-06\",\"1854-09-07\",\"1854-09-08\",\"1854-09-09\",\"1854-09-10\",\"1854-09-11\",\"1854-09-12\",\"1854-09-13\"],\"y\":[1,1,1,0,1,1,0,1,1,1,1,8,56,143,116,54,46,36,20,28,12,11,5,5,1,3],\"type\":\"scatter\"},{\"x\":[\"1854-08-19\",\"1854-08-20\",\"1854-08-21\",\"1854-08-22\",\"1854-08-23\",\"1854-08-24\",\"1854-08-25\",\"1854-08-26\",\"1854-08-27\",\"1854-08-28\",\"1854-08-29\",\"1854-08-30\",\"1854-08-31\",\"1854-09-01\",\"1854-09-02\",\"1854-09-03\",\"1854-09-04\",\"1854-09-05\",\"1854-09-06\",\"1854-09-07\",\"1854-09-08\",\"1854-09-09\",\"1854-09-10\",\"1854-09-11\",\"1854-09-12\",\"1854-09-13\"],\"y\":[1,2,3,3,4,5,5,6,7,8,9,17,73,216,332,386,432,468,488,516,528,539,544,549,550,553],\"type\":\"scatter\"},{\"x\":[\"1854-08-19\",\"1854-08-20\",\"1854-08-21\",\"1854-08-22\",\"1854-08-23\",\"1854-08-24\",\"1854-08-25\",\"1854-08-26\",\"1854-08-27\",\"1854-08-28\",\"1854-08-29\",\"1854-08-30\",\"1854-08-31\",\"1854-09-01\",\"1854-09-02\",\"1854-09-03\",\"1854-09-04\",\"1854-09-05\",\"1854-09-06\",\"1854-09-07\",\"1854-09-08\",\"1854-09-09\",\"1854-09-10\",\"1854-09-11\",\"1854-09-12\",\"1854-09-13\"],\"y\":[1,0,2,0,0,2,0,0,1,0,1,2,3,70,127,76,71,45,37,32,30,24,18,15,6,13],\"type\":\"scatter\"},{\"x\":[\"1854-08-19\",\"1854-08-20\",\"1854-08-21\",\"1854-08-22\",\"1854-08-23\",\"1854-08-24\",\"1854-08-25\",\"1854-08-26\",\"1854-08-27\",\"1854-08-28\",\"1854-08-29\",\"1854-08-30\",\"1854-08-31\",\"1854-09-01\",\"1854-09-02\",\"1854-09-03\",\"1854-09-04\",\"1854-09-05\",\"1854-09-06\",\"1854-09-07\",\"1854-09-08\",\"1854-09-09\",\"1854-09-10\",\"1854-09-11\",\"1854-09-12\",\"1854-09-13\"],\"y\":[1,1,3,3,3,5,5,5,6,6,7,9,12,82,209,285,356,401,438,470,500,524,542,557,563,576],\"type\":\"scatter\"}]},{\"data\":[{\"x\":[\"1854-08-19\",\"1854-08-20\",\"1854-08-21\",\"1854-08-22\",\"1854-08-23\",\"1854-08-24\",\"1854-08-25\",\"1854-08-26\",\"1854-08-27\",\"1854-08-28\",\"1854-08-29\",\"1854-08-30\",\"1854-08-31\",\"1854-09-01\",\"1854-09-02\",\"1854-09-03\",\"1854-09-04\",\"1854-09-05\",\"1854-09-06\",\"1854-09-07\",\"1854-09-08\",\"1854-09-09\",\"1854-09-10\",\"1854-09-11\",\"1854-09-12\",\"1854-09-13\",\"1854-09-14\"],\"y\":[1,1,1,0,1,1,0,1,1,1,1,8,56,143,116,54,46,36,20,28,12,11,5,5,1,3,0],\"type\":\"scatter\"},{\"x\":[\"1854-08-19\",\"1854-08-20\",\"1854-08-21\",\"1854-08-22\",\"1854-08-23\",\"1854-08-24\",\"1854-08-25\",\"1854-08-26\",\"1854-08-27\",\"1854-08-28\",\"1854-08-29\",\"1854-08-30\",\"1854-08-31\",\"1854-09-01\",\"1854-09-02\",\"1854-09-03\",\"1854-09-04\",\"1854-09-05\",\"1854-09-06\",\"1854-09-07\",\"1854-09-08\",\"1854-09-09\",\"1854-09-10\",\"1854-09-11\",\"1854-09-12\",\"1854-09-13\",\"1854-09-14\"],\"y\":[1,2,3,3,4,5,5,6,7,8,9,17,73,216,332,386,432,468,488,516,528,539,544,549,550,553,553],\"type\":\"scatter\"},{\"x\":[\"1854-08-19\",\"1854-08-20\",\"1854-08-21\",\"1854-08-22\",\"1854-08-23\",\"1854-08-24\",\"1854-08-25\",\"1854-08-26\",\"1854-08-27\",\"1854-08-28\",\"1854-08-29\",\"1854-08-30\",\"1854-08-31\",\"1854-09-01\",\"1854-09-02\",\"1854-09-03\",\"1854-09-04\",\"1854-09-05\",\"1854-09-06\",\"1854-09-07\",\"1854-09-08\",\"1854-09-09\",\"1854-09-10\",\"1854-09-11\",\"1854-09-12\",\"1854-09-13\",\"1854-09-14\"],\"y\":[1,0,2,0,0,2,0,0,1,0,1,2,3,70,127,76,71,45,37,32,30,24,18,15,6,13,6],\"type\":\"scatter\"},{\"x\":[\"1854-08-19\",\"1854-08-20\",\"1854-08-21\",\"1854-08-22\",\"1854-08-23\",\"1854-08-24\",\"1854-08-25\",\"1854-08-26\",\"1854-08-27\",\"1854-08-28\",\"1854-08-29\",\"1854-08-30\",\"1854-08-31\",\"1854-09-01\",\"1854-09-02\",\"1854-09-03\",\"1854-09-04\",\"1854-09-05\",\"1854-09-06\",\"1854-09-07\",\"1854-09-08\",\"1854-09-09\",\"1854-09-10\",\"1854-09-11\",\"1854-09-12\",\"1854-09-13\",\"1854-09-14\"],\"y\":[1,1,3,3,3,5,5,5,6,6,7,9,12,82,209,285,356,401,438,470,500,524,542,557,563,576,582],\"type\":\"scatter\"}]},{\"data\":[{\"x\":[\"1854-08-19\",\"1854-08-20\",\"1854-08-21\",\"1854-08-22\",\"1854-08-23\",\"1854-08-24\",\"1854-08-25\",\"1854-08-26\",\"1854-08-27\",\"1854-08-28\",\"1854-08-29\",\"1854-08-30\",\"1854-08-31\",\"1854-09-01\",\"1854-09-02\",\"1854-09-03\",\"1854-09-04\",\"1854-09-05\",\"1854-09-06\",\"1854-09-07\",\"1854-09-08\",\"1854-09-09\",\"1854-09-10\",\"1854-09-11\",\"1854-09-12\",\"1854-09-13\",\"1854-09-14\",\"1854-09-15\"],\"y\":[1,1,1,0,1,1,0,1,1,1,1,8,56,143,116,54,46,36,20,28,12,11,5,5,1,3,0,1],\"type\":\"scatter\"},{\"x\":[\"1854-08-19\",\"1854-08-20\",\"1854-08-21\",\"1854-08-22\",\"1854-08-23\",\"1854-08-24\",\"1854-08-25\",\"1854-08-26\",\"1854-08-27\",\"1854-08-28\",\"1854-08-29\",\"1854-08-30\",\"1854-08-31\",\"1854-09-01\",\"1854-09-02\",\"1854-09-03\",\"1854-09-04\",\"1854-09-05\",\"1854-09-06\",\"1854-09-07\",\"1854-09-08\",\"1854-09-09\",\"1854-09-10\",\"1854-09-11\",\"1854-09-12\",\"1854-09-13\",\"1854-09-14\",\"1854-09-15\"],\"y\":[1,2,3,3,4,5,5,6,7,8,9,17,73,216,332,386,432,468,488,516,528,539,544,549,550,553,553,554],\"type\":\"scatter\"},{\"x\":[\"1854-08-19\",\"1854-08-20\",\"1854-08-21\",\"1854-08-22\",\"1854-08-23\",\"1854-08-24\",\"1854-08-25\",\"1854-08-26\",\"1854-08-27\",\"1854-08-28\",\"1854-08-29\",\"1854-08-30\",\"1854-08-31\",\"1854-09-01\",\"1854-09-02\",\"1854-09-03\",\"1854-09-04\",\"1854-09-05\",\"1854-09-06\",\"1854-09-07\",\"1854-09-08\",\"1854-09-09\",\"1854-09-10\",\"1854-09-11\",\"1854-09-12\",\"1854-09-13\",\"1854-09-14\",\"1854-09-15\"],\"y\":[1,0,2,0,0,2,0,0,1,0,1,2,3,70,127,76,71,45,37,32,30,24,18,15,6,13,6,8],\"type\":\"scatter\"},{\"x\":[\"1854-08-19\",\"1854-08-20\",\"1854-08-21\",\"1854-08-22\",\"1854-08-23\",\"1854-08-24\",\"1854-08-25\",\"1854-08-26\",\"1854-08-27\",\"1854-08-28\",\"1854-08-29\",\"1854-08-30\",\"1854-08-31\",\"1854-09-01\",\"1854-09-02\",\"1854-09-03\",\"1854-09-04\",\"1854-09-05\",\"1854-09-06\",\"1854-09-07\",\"1854-09-08\",\"1854-09-09\",\"1854-09-10\",\"1854-09-11\",\"1854-09-12\",\"1854-09-13\",\"1854-09-14\",\"1854-09-15\"],\"y\":[1,1,3,3,3,5,5,5,6,6,7,9,12,82,209,285,356,401,438,470,500,524,542,557,563,576,582,590],\"type\":\"scatter\"}]},{\"data\":[{\"x\":[\"1854-08-19\",\"1854-08-20\",\"1854-08-21\",\"1854-08-22\",\"1854-08-23\",\"1854-08-24\",\"1854-08-25\",\"1854-08-26\",\"1854-08-27\",\"1854-08-28\",\"1854-08-29\",\"1854-08-30\",\"1854-08-31\",\"1854-09-01\",\"1854-09-02\",\"1854-09-03\",\"1854-09-04\",\"1854-09-05\",\"1854-09-06\",\"1854-09-07\",\"1854-09-08\",\"1854-09-09\",\"1854-09-10\",\"1854-09-11\",\"1854-09-12\",\"1854-09-13\",\"1854-09-14\",\"1854-09-15\",\"1854-09-16\"],\"y\":[1,1,1,0,1,1,0,1,1,1,1,8,56,143,116,54,46,36,20,28,12,11,5,5,1,3,0,1,4],\"type\":\"scatter\"},{\"x\":[\"1854-08-19\",\"1854-08-20\",\"1854-08-21\",\"1854-08-22\",\"1854-08-23\",\"1854-08-24\",\"1854-08-25\",\"1854-08-26\",\"1854-08-27\",\"1854-08-28\",\"1854-08-29\",\"1854-08-30\",\"1854-08-31\",\"1854-09-01\",\"1854-09-02\",\"1854-09-03\",\"1854-09-04\",\"1854-09-05\",\"1854-09-06\",\"1854-09-07\",\"1854-09-08\",\"1854-09-09\",\"1854-09-10\",\"1854-09-11\",\"1854-09-12\",\"1854-09-13\",\"1854-09-14\",\"1854-09-15\",\"1854-09-16\"],\"y\":[1,2,3,3,4,5,5,6,7,8,9,17,73,216,332,386,432,468,488,516,528,539,544,549,550,553,553,554,558],\"type\":\"scatter\"},{\"x\":[\"1854-08-19\",\"1854-08-20\",\"1854-08-21\",\"1854-08-22\",\"1854-08-23\",\"1854-08-24\",\"1854-08-25\",\"1854-08-26\",\"1854-08-27\",\"1854-08-28\",\"1854-08-29\",\"1854-08-30\",\"1854-08-31\",\"1854-09-01\",\"1854-09-02\",\"1854-09-03\",\"1854-09-04\",\"1854-09-05\",\"1854-09-06\",\"1854-09-07\",\"1854-09-08\",\"1854-09-09\",\"1854-09-10\",\"1854-09-11\",\"1854-09-12\",\"1854-09-13\",\"1854-09-14\",\"1854-09-15\",\"1854-09-16\"],\"y\":[1,0,2,0,0,2,0,0,1,0,1,2,3,70,127,76,71,45,37,32,30,24,18,15,6,13,6,8,6],\"type\":\"scatter\"},{\"x\":[\"1854-08-19\",\"1854-08-20\",\"1854-08-21\",\"1854-08-22\",\"1854-08-23\",\"1854-08-24\",\"1854-08-25\",\"1854-08-26\",\"1854-08-27\",\"1854-08-28\",\"1854-08-29\",\"1854-08-30\",\"1854-08-31\",\"1854-09-01\",\"1854-09-02\",\"1854-09-03\",\"1854-09-04\",\"1854-09-05\",\"1854-09-06\",\"1854-09-07\",\"1854-09-08\",\"1854-09-09\",\"1854-09-10\",\"1854-09-11\",\"1854-09-12\",\"1854-09-13\",\"1854-09-14\",\"1854-09-15\",\"1854-09-16\"],\"y\":[1,1,3,3,3,5,5,5,6,6,7,9,12,82,209,285,356,401,438,470,500,524,542,557,563,576,582,590,596],\"type\":\"scatter\"}]},{\"data\":[{\"x\":[\"1854-08-19\",\"1854-08-20\",\"1854-08-21\",\"1854-08-22\",\"1854-08-23\",\"1854-08-24\",\"1854-08-25\",\"1854-08-26\",\"1854-08-27\",\"1854-08-28\",\"1854-08-29\",\"1854-08-30\",\"1854-08-31\",\"1854-09-01\",\"1854-09-02\",\"1854-09-03\",\"1854-09-04\",\"1854-09-05\",\"1854-09-06\",\"1854-09-07\",\"1854-09-08\",\"1854-09-09\",\"1854-09-10\",\"1854-09-11\",\"1854-09-12\",\"1854-09-13\",\"1854-09-14\",\"1854-09-15\",\"1854-09-16\",\"1854-09-17\"],\"y\":[1,1,1,0,1,1,0,1,1,1,1,8,56,143,116,54,46,36,20,28,12,11,5,5,1,3,0,1,4,2],\"type\":\"scatter\"},{\"x\":[\"1854-08-19\",\"1854-08-20\",\"1854-08-21\",\"1854-08-22\",\"1854-08-23\",\"1854-08-24\",\"1854-08-25\",\"1854-08-26\",\"1854-08-27\",\"1854-08-28\",\"1854-08-29\",\"1854-08-30\",\"1854-08-31\",\"1854-09-01\",\"1854-09-02\",\"1854-09-03\",\"1854-09-04\",\"1854-09-05\",\"1854-09-06\",\"1854-09-07\",\"1854-09-08\",\"1854-09-09\",\"1854-09-10\",\"1854-09-11\",\"1854-09-12\",\"1854-09-13\",\"1854-09-14\",\"1854-09-15\",\"1854-09-16\",\"1854-09-17\"],\"y\":[1,2,3,3,4,5,5,6,7,8,9,17,73,216,332,386,432,468,488,516,528,539,544,549,550,553,553,554,558,560],\"type\":\"scatter\"},{\"x\":[\"1854-08-19\",\"1854-08-20\",\"1854-08-21\",\"1854-08-22\",\"1854-08-23\",\"1854-08-24\",\"1854-08-25\",\"1854-08-26\",\"1854-08-27\",\"1854-08-28\",\"1854-08-29\",\"1854-08-30\",\"1854-08-31\",\"1854-09-01\",\"1854-09-02\",\"1854-09-03\",\"1854-09-04\",\"1854-09-05\",\"1854-09-06\",\"1854-09-07\",\"1854-09-08\",\"1854-09-09\",\"1854-09-10\",\"1854-09-11\",\"1854-09-12\",\"1854-09-13\",\"1854-09-14\",\"1854-09-15\",\"1854-09-16\",\"1854-09-17\"],\"y\":[1,0,2,0,0,2,0,0,1,0,1,2,3,70,127,76,71,45,37,32,30,24,18,15,6,13,6,8,6,5],\"type\":\"scatter\"},{\"x\":[\"1854-08-19\",\"1854-08-20\",\"1854-08-21\",\"1854-08-22\",\"1854-08-23\",\"1854-08-24\",\"1854-08-25\",\"1854-08-26\",\"1854-08-27\",\"1854-08-28\",\"1854-08-29\",\"1854-08-30\",\"1854-08-31\",\"1854-09-01\",\"1854-09-02\",\"1854-09-03\",\"1854-09-04\",\"1854-09-05\",\"1854-09-06\",\"1854-09-07\",\"1854-09-08\",\"1854-09-09\",\"1854-09-10\",\"1854-09-11\",\"1854-09-12\",\"1854-09-13\",\"1854-09-14\",\"1854-09-15\",\"1854-09-16\",\"1854-09-17\"],\"y\":[1,1,3,3,3,5,5,5,6,6,7,9,12,82,209,285,356,401,438,470,500,524,542,557,563,576,582,590,596,601],\"type\":\"scatter\"}]},{\"data\":[{\"x\":[\"1854-08-19\",\"1854-08-20\",\"1854-08-21\",\"1854-08-22\",\"1854-08-23\",\"1854-08-24\",\"1854-08-25\",\"1854-08-26\",\"1854-08-27\",\"1854-08-28\",\"1854-08-29\",\"1854-08-30\",\"1854-08-31\",\"1854-09-01\",\"1854-09-02\",\"1854-09-03\",\"1854-09-04\",\"1854-09-05\",\"1854-09-06\",\"1854-09-07\",\"1854-09-08\",\"1854-09-09\",\"1854-09-10\",\"1854-09-11\",\"1854-09-12\",\"1854-09-13\",\"1854-09-14\",\"1854-09-15\",\"1854-09-16\",\"1854-09-17\",\"1854-09-18\"],\"y\":[1,1,1,0,1,1,0,1,1,1,1,8,56,143,116,54,46,36,20,28,12,11,5,5,1,3,0,1,4,2,3],\"type\":\"scatter\"},{\"x\":[\"1854-08-19\",\"1854-08-20\",\"1854-08-21\",\"1854-08-22\",\"1854-08-23\",\"1854-08-24\",\"1854-08-25\",\"1854-08-26\",\"1854-08-27\",\"1854-08-28\",\"1854-08-29\",\"1854-08-30\",\"1854-08-31\",\"1854-09-01\",\"1854-09-02\",\"1854-09-03\",\"1854-09-04\",\"1854-09-05\",\"1854-09-06\",\"1854-09-07\",\"1854-09-08\",\"1854-09-09\",\"1854-09-10\",\"1854-09-11\",\"1854-09-12\",\"1854-09-13\",\"1854-09-14\",\"1854-09-15\",\"1854-09-16\",\"1854-09-17\",\"1854-09-18\"],\"y\":[1,2,3,3,4,5,5,6,7,8,9,17,73,216,332,386,432,468,488,516,528,539,544,549,550,553,553,554,558,560,563],\"type\":\"scatter\"},{\"x\":[\"1854-08-19\",\"1854-08-20\",\"1854-08-21\",\"1854-08-22\",\"1854-08-23\",\"1854-08-24\",\"1854-08-25\",\"1854-08-26\",\"1854-08-27\",\"1854-08-28\",\"1854-08-29\",\"1854-08-30\",\"1854-08-31\",\"1854-09-01\",\"1854-09-02\",\"1854-09-03\",\"1854-09-04\",\"1854-09-05\",\"1854-09-06\",\"1854-09-07\",\"1854-09-08\",\"1854-09-09\",\"1854-09-10\",\"1854-09-11\",\"1854-09-12\",\"1854-09-13\",\"1854-09-14\",\"1854-09-15\",\"1854-09-16\",\"1854-09-17\",\"1854-09-18\"],\"y\":[1,0,2,0,0,2,0,0,1,0,1,2,3,70,127,76,71,45,37,32,30,24,18,15,6,13,6,8,6,5,2],\"type\":\"scatter\"},{\"x\":[\"1854-08-19\",\"1854-08-20\",\"1854-08-21\",\"1854-08-22\",\"1854-08-23\",\"1854-08-24\",\"1854-08-25\",\"1854-08-26\",\"1854-08-27\",\"1854-08-28\",\"1854-08-29\",\"1854-08-30\",\"1854-08-31\",\"1854-09-01\",\"1854-09-02\",\"1854-09-03\",\"1854-09-04\",\"1854-09-05\",\"1854-09-06\",\"1854-09-07\",\"1854-09-08\",\"1854-09-09\",\"1854-09-10\",\"1854-09-11\",\"1854-09-12\",\"1854-09-13\",\"1854-09-14\",\"1854-09-15\",\"1854-09-16\",\"1854-09-17\",\"1854-09-18\"],\"y\":[1,1,3,3,3,5,5,5,6,6,7,9,12,82,209,285,356,401,438,470,500,524,542,557,563,576,582,590,596,601,603],\"type\":\"scatter\"}]},{\"data\":[{\"x\":[\"1854-08-19\",\"1854-08-20\",\"1854-08-21\",\"1854-08-22\",\"1854-08-23\",\"1854-08-24\",\"1854-08-25\",\"1854-08-26\",\"1854-08-27\",\"1854-08-28\",\"1854-08-29\",\"1854-08-30\",\"1854-08-31\",\"1854-09-01\",\"1854-09-02\",\"1854-09-03\",\"1854-09-04\",\"1854-09-05\",\"1854-09-06\",\"1854-09-07\",\"1854-09-08\",\"1854-09-09\",\"1854-09-10\",\"1854-09-11\",\"1854-09-12\",\"1854-09-13\",\"1854-09-14\",\"1854-09-15\",\"1854-09-16\",\"1854-09-17\",\"1854-09-18\",\"1854-09-19\"],\"y\":[1,1,1,0,1,1,0,1,1,1,1,8,56,143,116,54,46,36,20,28,12,11,5,5,1,3,0,1,4,2,3,0],\"type\":\"scatter\"},{\"x\":[\"1854-08-19\",\"1854-08-20\",\"1854-08-21\",\"1854-08-22\",\"1854-08-23\",\"1854-08-24\",\"1854-08-25\",\"1854-08-26\",\"1854-08-27\",\"1854-08-28\",\"1854-08-29\",\"1854-08-30\",\"1854-08-31\",\"1854-09-01\",\"1854-09-02\",\"1854-09-03\",\"1854-09-04\",\"1854-09-05\",\"1854-09-06\",\"1854-09-07\",\"1854-09-08\",\"1854-09-09\",\"1854-09-10\",\"1854-09-11\",\"1854-09-12\",\"1854-09-13\",\"1854-09-14\",\"1854-09-15\",\"1854-09-16\",\"1854-09-17\",\"1854-09-18\",\"1854-09-19\"],\"y\":[1,2,3,3,4,5,5,6,7,8,9,17,73,216,332,386,432,468,488,516,528,539,544,549,550,553,553,554,558,560,563,563],\"type\":\"scatter\"},{\"x\":[\"1854-08-19\",\"1854-08-20\",\"1854-08-21\",\"1854-08-22\",\"1854-08-23\",\"1854-08-24\",\"1854-08-25\",\"1854-08-26\",\"1854-08-27\",\"1854-08-28\",\"1854-08-29\",\"1854-08-30\",\"1854-08-31\",\"1854-09-01\",\"1854-09-02\",\"1854-09-03\",\"1854-09-04\",\"1854-09-05\",\"1854-09-06\",\"1854-09-07\",\"1854-09-08\",\"1854-09-09\",\"1854-09-10\",\"1854-09-11\",\"1854-09-12\",\"1854-09-13\",\"1854-09-14\",\"1854-09-15\",\"1854-09-16\",\"1854-09-17\",\"1854-09-18\",\"1854-09-19\"],\"y\":[1,0,2,0,0,2,0,0,1,0,1,2,3,70,127,76,71,45,37,32,30,24,18,15,6,13,6,8,6,5,2,3],\"type\":\"scatter\"},{\"x\":[\"1854-08-19\",\"1854-08-20\",\"1854-08-21\",\"1854-08-22\",\"1854-08-23\",\"1854-08-24\",\"1854-08-25\",\"1854-08-26\",\"1854-08-27\",\"1854-08-28\",\"1854-08-29\",\"1854-08-30\",\"1854-08-31\",\"1854-09-01\",\"1854-09-02\",\"1854-09-03\",\"1854-09-04\",\"1854-09-05\",\"1854-09-06\",\"1854-09-07\",\"1854-09-08\",\"1854-09-09\",\"1854-09-10\",\"1854-09-11\",\"1854-09-12\",\"1854-09-13\",\"1854-09-14\",\"1854-09-15\",\"1854-09-16\",\"1854-09-17\",\"1854-09-18\",\"1854-09-19\"],\"y\":[1,1,3,3,3,5,5,5,6,6,7,9,12,82,209,285,356,401,438,470,500,524,542,557,563,576,582,590,596,601,603,606],\"type\":\"scatter\"}]},{\"data\":[{\"x\":[\"1854-08-19\",\"1854-08-20\",\"1854-08-21\",\"1854-08-22\",\"1854-08-23\",\"1854-08-24\",\"1854-08-25\",\"1854-08-26\",\"1854-08-27\",\"1854-08-28\",\"1854-08-29\",\"1854-08-30\",\"1854-08-31\",\"1854-09-01\",\"1854-09-02\",\"1854-09-03\",\"1854-09-04\",\"1854-09-05\",\"1854-09-06\",\"1854-09-07\",\"1854-09-08\",\"1854-09-09\",\"1854-09-10\",\"1854-09-11\",\"1854-09-12\",\"1854-09-13\",\"1854-09-14\",\"1854-09-15\",\"1854-09-16\",\"1854-09-17\",\"1854-09-18\",\"1854-09-19\",\"1854-09-20\"],\"y\":[1,1,1,0,1,1,0,1,1,1,1,8,56,143,116,54,46,36,20,28,12,11,5,5,1,3,0,1,4,2,3,0,0],\"type\":\"scatter\"},{\"x\":[\"1854-08-19\",\"1854-08-20\",\"1854-08-21\",\"1854-08-22\",\"1854-08-23\",\"1854-08-24\",\"1854-08-25\",\"1854-08-26\",\"1854-08-27\",\"1854-08-28\",\"1854-08-29\",\"1854-08-30\",\"1854-08-31\",\"1854-09-01\",\"1854-09-02\",\"1854-09-03\",\"1854-09-04\",\"1854-09-05\",\"1854-09-06\",\"1854-09-07\",\"1854-09-08\",\"1854-09-09\",\"1854-09-10\",\"1854-09-11\",\"1854-09-12\",\"1854-09-13\",\"1854-09-14\",\"1854-09-15\",\"1854-09-16\",\"1854-09-17\",\"1854-09-18\",\"1854-09-19\",\"1854-09-20\"],\"y\":[1,2,3,3,4,5,5,6,7,8,9,17,73,216,332,386,432,468,488,516,528,539,544,549,550,553,553,554,558,560,563,563,563],\"type\":\"scatter\"},{\"x\":[\"1854-08-19\",\"1854-08-20\",\"1854-08-21\",\"1854-08-22\",\"1854-08-23\",\"1854-08-24\",\"1854-08-25\",\"1854-08-26\",\"1854-08-27\",\"1854-08-28\",\"1854-08-29\",\"1854-08-30\",\"1854-08-31\",\"1854-09-01\",\"1854-09-02\",\"1854-09-03\",\"1854-09-04\",\"1854-09-05\",\"1854-09-06\",\"1854-09-07\",\"1854-09-08\",\"1854-09-09\",\"1854-09-10\",\"1854-09-11\",\"1854-09-12\",\"1854-09-13\",\"1854-09-14\",\"1854-09-15\",\"1854-09-16\",\"1854-09-17\",\"1854-09-18\",\"1854-09-19\",\"1854-09-20\"],\"y\":[1,0,2,0,0,2,0,0,1,0,1,2,3,70,127,76,71,45,37,32,30,24,18,15,6,13,6,8,6,5,2,3,0],\"type\":\"scatter\"},{\"x\":[\"1854-08-19\",\"1854-08-20\",\"1854-08-21\",\"1854-08-22\",\"1854-08-23\",\"1854-08-24\",\"1854-08-25\",\"1854-08-26\",\"1854-08-27\",\"1854-08-28\",\"1854-08-29\",\"1854-08-30\",\"1854-08-31\",\"1854-09-01\",\"1854-09-02\",\"1854-09-03\",\"1854-09-04\",\"1854-09-05\",\"1854-09-06\",\"1854-09-07\",\"1854-09-08\",\"1854-09-09\",\"1854-09-10\",\"1854-09-11\",\"1854-09-12\",\"1854-09-13\",\"1854-09-14\",\"1854-09-15\",\"1854-09-16\",\"1854-09-17\",\"1854-09-18\",\"1854-09-19\",\"1854-09-20\"],\"y\":[1,1,3,3,3,5,5,5,6,6,7,9,12,82,209,285,356,401,438,470,500,524,542,557,563,576,582,590,596,601,603,606,606],\"type\":\"scatter\"}]},{\"data\":[{\"x\":[\"1854-08-19\",\"1854-08-20\",\"1854-08-21\",\"1854-08-22\",\"1854-08-23\",\"1854-08-24\",\"1854-08-25\",\"1854-08-26\",\"1854-08-27\",\"1854-08-28\",\"1854-08-29\",\"1854-08-30\",\"1854-08-31\",\"1854-09-01\",\"1854-09-02\",\"1854-09-03\",\"1854-09-04\",\"1854-09-05\",\"1854-09-06\",\"1854-09-07\",\"1854-09-08\",\"1854-09-09\",\"1854-09-10\",\"1854-09-11\",\"1854-09-12\",\"1854-09-13\",\"1854-09-14\",\"1854-09-15\",\"1854-09-16\",\"1854-09-17\",\"1854-09-18\",\"1854-09-19\",\"1854-09-20\",\"1854-09-21\"],\"y\":[1,1,1,0,1,1,0,1,1,1,1,8,56,143,116,54,46,36,20,28,12,11,5,5,1,3,0,1,4,2,3,0,0,2],\"type\":\"scatter\"},{\"x\":[\"1854-08-19\",\"1854-08-20\",\"1854-08-21\",\"1854-08-22\",\"1854-08-23\",\"1854-08-24\",\"1854-08-25\",\"1854-08-26\",\"1854-08-27\",\"1854-08-28\",\"1854-08-29\",\"1854-08-30\",\"1854-08-31\",\"1854-09-01\",\"1854-09-02\",\"1854-09-03\",\"1854-09-04\",\"1854-09-05\",\"1854-09-06\",\"1854-09-07\",\"1854-09-08\",\"1854-09-09\",\"1854-09-10\",\"1854-09-11\",\"1854-09-12\",\"1854-09-13\",\"1854-09-14\",\"1854-09-15\",\"1854-09-16\",\"1854-09-17\",\"1854-09-18\",\"1854-09-19\",\"1854-09-20\",\"1854-09-21\"],\"y\":[1,2,3,3,4,5,5,6,7,8,9,17,73,216,332,386,432,468,488,516,528,539,544,549,550,553,553,554,558,560,563,563,563,565],\"type\":\"scatter\"},{\"x\":[\"1854-08-19\",\"1854-08-20\",\"1854-08-21\",\"1854-08-22\",\"1854-08-23\",\"1854-08-24\",\"1854-08-25\",\"1854-08-26\",\"1854-08-27\",\"1854-08-28\",\"1854-08-29\",\"1854-08-30\",\"1854-08-31\",\"1854-09-01\",\"1854-09-02\",\"1854-09-03\",\"1854-09-04\",\"1854-09-05\",\"1854-09-06\",\"1854-09-07\",\"1854-09-08\",\"1854-09-09\",\"1854-09-10\",\"1854-09-11\",\"1854-09-12\",\"1854-09-13\",\"1854-09-14\",\"1854-09-15\",\"1854-09-16\",\"1854-09-17\",\"1854-09-18\",\"1854-09-19\",\"1854-09-20\",\"1854-09-21\"],\"y\":[1,0,2,0,0,2,0,0,1,0,1,2,3,70,127,76,71,45,37,32,30,24,18,15,6,13,6,8,6,5,2,3,0,0],\"type\":\"scatter\"},{\"x\":[\"1854-08-19\",\"1854-08-20\",\"1854-08-21\",\"1854-08-22\",\"1854-08-23\",\"1854-08-24\",\"1854-08-25\",\"1854-08-26\",\"1854-08-27\",\"1854-08-28\",\"1854-08-29\",\"1854-08-30\",\"1854-08-31\",\"1854-09-01\",\"1854-09-02\",\"1854-09-03\",\"1854-09-04\",\"1854-09-05\",\"1854-09-06\",\"1854-09-07\",\"1854-09-08\",\"1854-09-09\",\"1854-09-10\",\"1854-09-11\",\"1854-09-12\",\"1854-09-13\",\"1854-09-14\",\"1854-09-15\",\"1854-09-16\",\"1854-09-17\",\"1854-09-18\",\"1854-09-19\",\"1854-09-20\",\"1854-09-21\"],\"y\":[1,1,3,3,3,5,5,5,6,6,7,9,12,82,209,285,356,401,438,470,500,524,542,557,563,576,582,590,596,601,603,606,606,606],\"type\":\"scatter\"}]},{\"data\":[{\"x\":[\"1854-08-19\",\"1854-08-20\",\"1854-08-21\",\"1854-08-22\",\"1854-08-23\",\"1854-08-24\",\"1854-08-25\",\"1854-08-26\",\"1854-08-27\",\"1854-08-28\",\"1854-08-29\",\"1854-08-30\",\"1854-08-31\",\"1854-09-01\",\"1854-09-02\",\"1854-09-03\",\"1854-09-04\",\"1854-09-05\",\"1854-09-06\",\"1854-09-07\",\"1854-09-08\",\"1854-09-09\",\"1854-09-10\",\"1854-09-11\",\"1854-09-12\",\"1854-09-13\",\"1854-09-14\",\"1854-09-15\",\"1854-09-16\",\"1854-09-17\",\"1854-09-18\",\"1854-09-19\",\"1854-09-20\",\"1854-09-21\",\"1854-09-22\"],\"y\":[1,1,1,0,1,1,0,1,1,1,1,8,56,143,116,54,46,36,20,28,12,11,5,5,1,3,0,1,4,2,3,0,0,2,1],\"type\":\"scatter\"},{\"x\":[\"1854-08-19\",\"1854-08-20\",\"1854-08-21\",\"1854-08-22\",\"1854-08-23\",\"1854-08-24\",\"1854-08-25\",\"1854-08-26\",\"1854-08-27\",\"1854-08-28\",\"1854-08-29\",\"1854-08-30\",\"1854-08-31\",\"1854-09-01\",\"1854-09-02\",\"1854-09-03\",\"1854-09-04\",\"1854-09-05\",\"1854-09-06\",\"1854-09-07\",\"1854-09-08\",\"1854-09-09\",\"1854-09-10\",\"1854-09-11\",\"1854-09-12\",\"1854-09-13\",\"1854-09-14\",\"1854-09-15\",\"1854-09-16\",\"1854-09-17\",\"1854-09-18\",\"1854-09-19\",\"1854-09-20\",\"1854-09-21\",\"1854-09-22\"],\"y\":[1,2,3,3,4,5,5,6,7,8,9,17,73,216,332,386,432,468,488,516,528,539,544,549,550,553,553,554,558,560,563,563,563,565,566],\"type\":\"scatter\"},{\"x\":[\"1854-08-19\",\"1854-08-20\",\"1854-08-21\",\"1854-08-22\",\"1854-08-23\",\"1854-08-24\",\"1854-08-25\",\"1854-08-26\",\"1854-08-27\",\"1854-08-28\",\"1854-08-29\",\"1854-08-30\",\"1854-08-31\",\"1854-09-01\",\"1854-09-02\",\"1854-09-03\",\"1854-09-04\",\"1854-09-05\",\"1854-09-06\",\"1854-09-07\",\"1854-09-08\",\"1854-09-09\",\"1854-09-10\",\"1854-09-11\",\"1854-09-12\",\"1854-09-13\",\"1854-09-14\",\"1854-09-15\",\"1854-09-16\",\"1854-09-17\",\"1854-09-18\",\"1854-09-19\",\"1854-09-20\",\"1854-09-21\",\"1854-09-22\"],\"y\":[1,0,2,0,0,2,0,0,1,0,1,2,3,70,127,76,71,45,37,32,30,24,18,15,6,13,6,8,6,5,2,3,0,0,2],\"type\":\"scatter\"},{\"x\":[\"1854-08-19\",\"1854-08-20\",\"1854-08-21\",\"1854-08-22\",\"1854-08-23\",\"1854-08-24\",\"1854-08-25\",\"1854-08-26\",\"1854-08-27\",\"1854-08-28\",\"1854-08-29\",\"1854-08-30\",\"1854-08-31\",\"1854-09-01\",\"1854-09-02\",\"1854-09-03\",\"1854-09-04\",\"1854-09-05\",\"1854-09-06\",\"1854-09-07\",\"1854-09-08\",\"1854-09-09\",\"1854-09-10\",\"1854-09-11\",\"1854-09-12\",\"1854-09-13\",\"1854-09-14\",\"1854-09-15\",\"1854-09-16\",\"1854-09-17\",\"1854-09-18\",\"1854-09-19\",\"1854-09-20\",\"1854-09-21\",\"1854-09-22\"],\"y\":[1,1,3,3,3,5,5,5,6,6,7,9,12,82,209,285,356,401,438,470,500,524,542,557,563,576,582,590,596,601,603,606,606,606,608],\"type\":\"scatter\"}]},{\"data\":[{\"x\":[\"1854-08-19\",\"1854-08-20\",\"1854-08-21\",\"1854-08-22\",\"1854-08-23\",\"1854-08-24\",\"1854-08-25\",\"1854-08-26\",\"1854-08-27\",\"1854-08-28\",\"1854-08-29\",\"1854-08-30\",\"1854-08-31\",\"1854-09-01\",\"1854-09-02\",\"1854-09-03\",\"1854-09-04\",\"1854-09-05\",\"1854-09-06\",\"1854-09-07\",\"1854-09-08\",\"1854-09-09\",\"1854-09-10\",\"1854-09-11\",\"1854-09-12\",\"1854-09-13\",\"1854-09-14\",\"1854-09-15\",\"1854-09-16\",\"1854-09-17\",\"1854-09-18\",\"1854-09-19\",\"1854-09-20\",\"1854-09-21\",\"1854-09-22\",\"1854-09-23\"],\"y\":[1,1,1,0,1,1,0,1,1,1,1,8,56,143,116,54,46,36,20,28,12,11,5,5,1,3,0,1,4,2,3,0,0,2,1,1],\"type\":\"scatter\"},{\"x\":[\"1854-08-19\",\"1854-08-20\",\"1854-08-21\",\"1854-08-22\",\"1854-08-23\",\"1854-08-24\",\"1854-08-25\",\"1854-08-26\",\"1854-08-27\",\"1854-08-28\",\"1854-08-29\",\"1854-08-30\",\"1854-08-31\",\"1854-09-01\",\"1854-09-02\",\"1854-09-03\",\"1854-09-04\",\"1854-09-05\",\"1854-09-06\",\"1854-09-07\",\"1854-09-08\",\"1854-09-09\",\"1854-09-10\",\"1854-09-11\",\"1854-09-12\",\"1854-09-13\",\"1854-09-14\",\"1854-09-15\",\"1854-09-16\",\"1854-09-17\",\"1854-09-18\",\"1854-09-19\",\"1854-09-20\",\"1854-09-21\",\"1854-09-22\",\"1854-09-23\"],\"y\":[1,2,3,3,4,5,5,6,7,8,9,17,73,216,332,386,432,468,488,516,528,539,544,549,550,553,553,554,558,560,563,563,563,565,566,567],\"type\":\"scatter\"},{\"x\":[\"1854-08-19\",\"1854-08-20\",\"1854-08-21\",\"1854-08-22\",\"1854-08-23\",\"1854-08-24\",\"1854-08-25\",\"1854-08-26\",\"1854-08-27\",\"1854-08-28\",\"1854-08-29\",\"1854-08-30\",\"1854-08-31\",\"1854-09-01\",\"1854-09-02\",\"1854-09-03\",\"1854-09-04\",\"1854-09-05\",\"1854-09-06\",\"1854-09-07\",\"1854-09-08\",\"1854-09-09\",\"1854-09-10\",\"1854-09-11\",\"1854-09-12\",\"1854-09-13\",\"1854-09-14\",\"1854-09-15\",\"1854-09-16\",\"1854-09-17\",\"1854-09-18\",\"1854-09-19\",\"1854-09-20\",\"1854-09-21\",\"1854-09-22\",\"1854-09-23\"],\"y\":[1,0,2,0,0,2,0,0,1,0,1,2,3,70,127,76,71,45,37,32,30,24,18,15,6,13,6,8,6,5,2,3,0,0,2,3],\"type\":\"scatter\"},{\"x\":[\"1854-08-19\",\"1854-08-20\",\"1854-08-21\",\"1854-08-22\",\"1854-08-23\",\"1854-08-24\",\"1854-08-25\",\"1854-08-26\",\"1854-08-27\",\"1854-08-28\",\"1854-08-29\",\"1854-08-30\",\"1854-08-31\",\"1854-09-01\",\"1854-09-02\",\"1854-09-03\",\"1854-09-04\",\"1854-09-05\",\"1854-09-06\",\"1854-09-07\",\"1854-09-08\",\"1854-09-09\",\"1854-09-10\",\"1854-09-11\",\"1854-09-12\",\"1854-09-13\",\"1854-09-14\",\"1854-09-15\",\"1854-09-16\",\"1854-09-17\",\"1854-09-18\",\"1854-09-19\",\"1854-09-20\",\"1854-09-21\",\"1854-09-22\",\"1854-09-23\"],\"y\":[1,1,3,3,3,5,5,5,6,6,7,9,12,82,209,285,356,401,438,470,500,524,542,557,563,576,582,590,596,601,603,606,606,606,608,611],\"type\":\"scatter\"}]},{\"data\":[{\"x\":[\"1854-08-19\",\"1854-08-20\",\"1854-08-21\",\"1854-08-22\",\"1854-08-23\",\"1854-08-24\",\"1854-08-25\",\"1854-08-26\",\"1854-08-27\",\"1854-08-28\",\"1854-08-29\",\"1854-08-30\",\"1854-08-31\",\"1854-09-01\",\"1854-09-02\",\"1854-09-03\",\"1854-09-04\",\"1854-09-05\",\"1854-09-06\",\"1854-09-07\",\"1854-09-08\",\"1854-09-09\",\"1854-09-10\",\"1854-09-11\",\"1854-09-12\",\"1854-09-13\",\"1854-09-14\",\"1854-09-15\",\"1854-09-16\",\"1854-09-17\",\"1854-09-18\",\"1854-09-19\",\"1854-09-20\",\"1854-09-21\",\"1854-09-22\",\"1854-09-23\",\"1854-09-24\"],\"y\":[1,1,1,0,1,1,0,1,1,1,1,8,56,143,116,54,46,36,20,28,12,11,5,5,1,3,0,1,4,2,3,0,0,2,1,1,1],\"type\":\"scatter\"},{\"x\":[\"1854-08-19\",\"1854-08-20\",\"1854-08-21\",\"1854-08-22\",\"1854-08-23\",\"1854-08-24\",\"1854-08-25\",\"1854-08-26\",\"1854-08-27\",\"1854-08-28\",\"1854-08-29\",\"1854-08-30\",\"1854-08-31\",\"1854-09-01\",\"1854-09-02\",\"1854-09-03\",\"1854-09-04\",\"1854-09-05\",\"1854-09-06\",\"1854-09-07\",\"1854-09-08\",\"1854-09-09\",\"1854-09-10\",\"1854-09-11\",\"1854-09-12\",\"1854-09-13\",\"1854-09-14\",\"1854-09-15\",\"1854-09-16\",\"1854-09-17\",\"1854-09-18\",\"1854-09-19\",\"1854-09-20\",\"1854-09-21\",\"1854-09-22\",\"1854-09-23\",\"1854-09-24\"],\"y\":[1,2,3,3,4,5,5,6,7,8,9,17,73,216,332,386,432,468,488,516,528,539,544,549,550,553,553,554,558,560,563,563,563,565,566,567,568],\"type\":\"scatter\"},{\"x\":[\"1854-08-19\",\"1854-08-20\",\"1854-08-21\",\"1854-08-22\",\"1854-08-23\",\"1854-08-24\",\"1854-08-25\",\"1854-08-26\",\"1854-08-27\",\"1854-08-28\",\"1854-08-29\",\"1854-08-30\",\"1854-08-31\",\"1854-09-01\",\"1854-09-02\",\"1854-09-03\",\"1854-09-04\",\"1854-09-05\",\"1854-09-06\",\"1854-09-07\",\"1854-09-08\",\"1854-09-09\",\"1854-09-10\",\"1854-09-11\",\"1854-09-12\",\"1854-09-13\",\"1854-09-14\",\"1854-09-15\",\"1854-09-16\",\"1854-09-17\",\"1854-09-18\",\"1854-09-19\",\"1854-09-20\",\"1854-09-21\",\"1854-09-22\",\"1854-09-23\",\"1854-09-24\"],\"y\":[1,0,2,0,0,2,0,0,1,0,1,2,3,70,127,76,71,45,37,32,30,24,18,15,6,13,6,8,6,5,2,3,0,0,2,3,0],\"type\":\"scatter\"},{\"x\":[\"1854-08-19\",\"1854-08-20\",\"1854-08-21\",\"1854-08-22\",\"1854-08-23\",\"1854-08-24\",\"1854-08-25\",\"1854-08-26\",\"1854-08-27\",\"1854-08-28\",\"1854-08-29\",\"1854-08-30\",\"1854-08-31\",\"1854-09-01\",\"1854-09-02\",\"1854-09-03\",\"1854-09-04\",\"1854-09-05\",\"1854-09-06\",\"1854-09-07\",\"1854-09-08\",\"1854-09-09\",\"1854-09-10\",\"1854-09-11\",\"1854-09-12\",\"1854-09-13\",\"1854-09-14\",\"1854-09-15\",\"1854-09-16\",\"1854-09-17\",\"1854-09-18\",\"1854-09-19\",\"1854-09-20\",\"1854-09-21\",\"1854-09-22\",\"1854-09-23\",\"1854-09-24\"],\"y\":[1,1,3,3,3,5,5,5,6,6,7,9,12,82,209,285,356,401,438,470,500,524,542,557,563,576,582,590,596,601,603,606,606,606,608,611,611],\"type\":\"scatter\"}]},{\"data\":[{\"x\":[\"1854-08-19\",\"1854-08-20\",\"1854-08-21\",\"1854-08-22\",\"1854-08-23\",\"1854-08-24\",\"1854-08-25\",\"1854-08-26\",\"1854-08-27\",\"1854-08-28\",\"1854-08-29\",\"1854-08-30\",\"1854-08-31\",\"1854-09-01\",\"1854-09-02\",\"1854-09-03\",\"1854-09-04\",\"1854-09-05\",\"1854-09-06\",\"1854-09-07\",\"1854-09-08\",\"1854-09-09\",\"1854-09-10\",\"1854-09-11\",\"1854-09-12\",\"1854-09-13\",\"1854-09-14\",\"1854-09-15\",\"1854-09-16\",\"1854-09-17\",\"1854-09-18\",\"1854-09-19\",\"1854-09-20\",\"1854-09-21\",\"1854-09-22\",\"1854-09-23\",\"1854-09-24\",\"1854-09-25\"],\"y\":[1,1,1,0,1,1,0,1,1,1,1,8,56,143,116,54,46,36,20,28,12,11,5,5,1,3,0,1,4,2,3,0,0,2,1,1,1,1],\"type\":\"scatter\"},{\"x\":[\"1854-08-19\",\"1854-08-20\",\"1854-08-21\",\"1854-08-22\",\"1854-08-23\",\"1854-08-24\",\"1854-08-25\",\"1854-08-26\",\"1854-08-27\",\"1854-08-28\",\"1854-08-29\",\"1854-08-30\",\"1854-08-31\",\"1854-09-01\",\"1854-09-02\",\"1854-09-03\",\"1854-09-04\",\"1854-09-05\",\"1854-09-06\",\"1854-09-07\",\"1854-09-08\",\"1854-09-09\",\"1854-09-10\",\"1854-09-11\",\"1854-09-12\",\"1854-09-13\",\"1854-09-14\",\"1854-09-15\",\"1854-09-16\",\"1854-09-17\",\"1854-09-18\",\"1854-09-19\",\"1854-09-20\",\"1854-09-21\",\"1854-09-22\",\"1854-09-23\",\"1854-09-24\",\"1854-09-25\"],\"y\":[1,2,3,3,4,5,5,6,7,8,9,17,73,216,332,386,432,468,488,516,528,539,544,549,550,553,553,554,558,560,563,563,563,565,566,567,568,569],\"type\":\"scatter\"},{\"x\":[\"1854-08-19\",\"1854-08-20\",\"1854-08-21\",\"1854-08-22\",\"1854-08-23\",\"1854-08-24\",\"1854-08-25\",\"1854-08-26\",\"1854-08-27\",\"1854-08-28\",\"1854-08-29\",\"1854-08-30\",\"1854-08-31\",\"1854-09-01\",\"1854-09-02\",\"1854-09-03\",\"1854-09-04\",\"1854-09-05\",\"1854-09-06\",\"1854-09-07\",\"1854-09-08\",\"1854-09-09\",\"1854-09-10\",\"1854-09-11\",\"1854-09-12\",\"1854-09-13\",\"1854-09-14\",\"1854-09-15\",\"1854-09-16\",\"1854-09-17\",\"1854-09-18\",\"1854-09-19\",\"1854-09-20\",\"1854-09-21\",\"1854-09-22\",\"1854-09-23\",\"1854-09-24\",\"1854-09-25\"],\"y\":[1,0,2,0,0,2,0,0,1,0,1,2,3,70,127,76,71,45,37,32,30,24,18,15,6,13,6,8,6,5,2,3,0,0,2,3,0,0],\"type\":\"scatter\"},{\"x\":[\"1854-08-19\",\"1854-08-20\",\"1854-08-21\",\"1854-08-22\",\"1854-08-23\",\"1854-08-24\",\"1854-08-25\",\"1854-08-26\",\"1854-08-27\",\"1854-08-28\",\"1854-08-29\",\"1854-08-30\",\"1854-08-31\",\"1854-09-01\",\"1854-09-02\",\"1854-09-03\",\"1854-09-04\",\"1854-09-05\",\"1854-09-06\",\"1854-09-07\",\"1854-09-08\",\"1854-09-09\",\"1854-09-10\",\"1854-09-11\",\"1854-09-12\",\"1854-09-13\",\"1854-09-14\",\"1854-09-15\",\"1854-09-16\",\"1854-09-17\",\"1854-09-18\",\"1854-09-19\",\"1854-09-20\",\"1854-09-21\",\"1854-09-22\",\"1854-09-23\",\"1854-09-24\",\"1854-09-25\"],\"y\":[1,1,3,3,3,5,5,5,6,6,7,9,12,82,209,285,356,401,438,470,500,524,542,557,563,576,582,590,596,601,603,606,606,606,608,611,611,611],\"type\":\"scatter\"}]},{\"data\":[{\"x\":[\"1854-08-19\",\"1854-08-20\",\"1854-08-21\",\"1854-08-22\",\"1854-08-23\",\"1854-08-24\",\"1854-08-25\",\"1854-08-26\",\"1854-08-27\",\"1854-08-28\",\"1854-08-29\",\"1854-08-30\",\"1854-08-31\",\"1854-09-01\",\"1854-09-02\",\"1854-09-03\",\"1854-09-04\",\"1854-09-05\",\"1854-09-06\",\"1854-09-07\",\"1854-09-08\",\"1854-09-09\",\"1854-09-10\",\"1854-09-11\",\"1854-09-12\",\"1854-09-13\",\"1854-09-14\",\"1854-09-15\",\"1854-09-16\",\"1854-09-17\",\"1854-09-18\",\"1854-09-19\",\"1854-09-20\",\"1854-09-21\",\"1854-09-22\",\"1854-09-23\",\"1854-09-24\",\"1854-09-25\",\"1854-09-26\"],\"y\":[1,1,1,0,1,1,0,1,1,1,1,8,56,143,116,54,46,36,20,28,12,11,5,5,1,3,0,1,4,2,3,0,0,2,1,1,1,1,1],\"type\":\"scatter\"},{\"x\":[\"1854-08-19\",\"1854-08-20\",\"1854-08-21\",\"1854-08-22\",\"1854-08-23\",\"1854-08-24\",\"1854-08-25\",\"1854-08-26\",\"1854-08-27\",\"1854-08-28\",\"1854-08-29\",\"1854-08-30\",\"1854-08-31\",\"1854-09-01\",\"1854-09-02\",\"1854-09-03\",\"1854-09-04\",\"1854-09-05\",\"1854-09-06\",\"1854-09-07\",\"1854-09-08\",\"1854-09-09\",\"1854-09-10\",\"1854-09-11\",\"1854-09-12\",\"1854-09-13\",\"1854-09-14\",\"1854-09-15\",\"1854-09-16\",\"1854-09-17\",\"1854-09-18\",\"1854-09-19\",\"1854-09-20\",\"1854-09-21\",\"1854-09-22\",\"1854-09-23\",\"1854-09-24\",\"1854-09-25\",\"1854-09-26\"],\"y\":[1,2,3,3,4,5,5,6,7,8,9,17,73,216,332,386,432,468,488,516,528,539,544,549,550,553,553,554,558,560,563,563,563,565,566,567,568,569,570],\"type\":\"scatter\"},{\"x\":[\"1854-08-19\",\"1854-08-20\",\"1854-08-21\",\"1854-08-22\",\"1854-08-23\",\"1854-08-24\",\"1854-08-25\",\"1854-08-26\",\"1854-08-27\",\"1854-08-28\",\"1854-08-29\",\"1854-08-30\",\"1854-08-31\",\"1854-09-01\",\"1854-09-02\",\"1854-09-03\",\"1854-09-04\",\"1854-09-05\",\"1854-09-06\",\"1854-09-07\",\"1854-09-08\",\"1854-09-09\",\"1854-09-10\",\"1854-09-11\",\"1854-09-12\",\"1854-09-13\",\"1854-09-14\",\"1854-09-15\",\"1854-09-16\",\"1854-09-17\",\"1854-09-18\",\"1854-09-19\",\"1854-09-20\",\"1854-09-21\",\"1854-09-22\",\"1854-09-23\",\"1854-09-24\",\"1854-09-25\",\"1854-09-26\"],\"y\":[1,0,2,0,0,2,0,0,1,0,1,2,3,70,127,76,71,45,37,32,30,24,18,15,6,13,6,8,6,5,2,3,0,0,2,3,0,0,2],\"type\":\"scatter\"},{\"x\":[\"1854-08-19\",\"1854-08-20\",\"1854-08-21\",\"1854-08-22\",\"1854-08-23\",\"1854-08-24\",\"1854-08-25\",\"1854-08-26\",\"1854-08-27\",\"1854-08-28\",\"1854-08-29\",\"1854-08-30\",\"1854-08-31\",\"1854-09-01\",\"1854-09-02\",\"1854-09-03\",\"1854-09-04\",\"1854-09-05\",\"1854-09-06\",\"1854-09-07\",\"1854-09-08\",\"1854-09-09\",\"1854-09-10\",\"1854-09-11\",\"1854-09-12\",\"1854-09-13\",\"1854-09-14\",\"1854-09-15\",\"1854-09-16\",\"1854-09-17\",\"1854-09-18\",\"1854-09-19\",\"1854-09-20\",\"1854-09-21\",\"1854-09-22\",\"1854-09-23\",\"1854-09-24\",\"1854-09-25\",\"1854-09-26\"],\"y\":[1,1,3,3,3,5,5,5,6,6,7,9,12,82,209,285,356,401,438,470,500,524,542,557,563,576,582,590,596,601,603,606,606,606,608,611,611,611,613],\"type\":\"scatter\"}]},{\"data\":[{\"x\":[\"1854-08-19\",\"1854-08-20\",\"1854-08-21\",\"1854-08-22\",\"1854-08-23\",\"1854-08-24\",\"1854-08-25\",\"1854-08-26\",\"1854-08-27\",\"1854-08-28\",\"1854-08-29\",\"1854-08-30\",\"1854-08-31\",\"1854-09-01\",\"1854-09-02\",\"1854-09-03\",\"1854-09-04\",\"1854-09-05\",\"1854-09-06\",\"1854-09-07\",\"1854-09-08\",\"1854-09-09\",\"1854-09-10\",\"1854-09-11\",\"1854-09-12\",\"1854-09-13\",\"1854-09-14\",\"1854-09-15\",\"1854-09-16\",\"1854-09-17\",\"1854-09-18\",\"1854-09-19\",\"1854-09-20\",\"1854-09-21\",\"1854-09-22\",\"1854-09-23\",\"1854-09-24\",\"1854-09-25\",\"1854-09-26\",\"1854-09-27\"],\"y\":[1,1,1,0,1,1,0,1,1,1,1,8,56,143,116,54,46,36,20,28,12,11,5,5,1,3,0,1,4,2,3,0,0,2,1,1,1,1,1,1],\"type\":\"scatter\"},{\"x\":[\"1854-08-19\",\"1854-08-20\",\"1854-08-21\",\"1854-08-22\",\"1854-08-23\",\"1854-08-24\",\"1854-08-25\",\"1854-08-26\",\"1854-08-27\",\"1854-08-28\",\"1854-08-29\",\"1854-08-30\",\"1854-08-31\",\"1854-09-01\",\"1854-09-02\",\"1854-09-03\",\"1854-09-04\",\"1854-09-05\",\"1854-09-06\",\"1854-09-07\",\"1854-09-08\",\"1854-09-09\",\"1854-09-10\",\"1854-09-11\",\"1854-09-12\",\"1854-09-13\",\"1854-09-14\",\"1854-09-15\",\"1854-09-16\",\"1854-09-17\",\"1854-09-18\",\"1854-09-19\",\"1854-09-20\",\"1854-09-21\",\"1854-09-22\",\"1854-09-23\",\"1854-09-24\",\"1854-09-25\",\"1854-09-26\",\"1854-09-27\"],\"y\":[1,2,3,3,4,5,5,6,7,8,9,17,73,216,332,386,432,468,488,516,528,539,544,549,550,553,553,554,558,560,563,563,563,565,566,567,568,569,570,571],\"type\":\"scatter\"},{\"x\":[\"1854-08-19\",\"1854-08-20\",\"1854-08-21\",\"1854-08-22\",\"1854-08-23\",\"1854-08-24\",\"1854-08-25\",\"1854-08-26\",\"1854-08-27\",\"1854-08-28\",\"1854-08-29\",\"1854-08-30\",\"1854-08-31\",\"1854-09-01\",\"1854-09-02\",\"1854-09-03\",\"1854-09-04\",\"1854-09-05\",\"1854-09-06\",\"1854-09-07\",\"1854-09-08\",\"1854-09-09\",\"1854-09-10\",\"1854-09-11\",\"1854-09-12\",\"1854-09-13\",\"1854-09-14\",\"1854-09-15\",\"1854-09-16\",\"1854-09-17\",\"1854-09-18\",\"1854-09-19\",\"1854-09-20\",\"1854-09-21\",\"1854-09-22\",\"1854-09-23\",\"1854-09-24\",\"1854-09-25\",\"1854-09-26\",\"1854-09-27\"],\"y\":[1,0,2,0,0,2,0,0,1,0,1,2,3,70,127,76,71,45,37,32,30,24,18,15,6,13,6,8,6,5,2,3,0,0,2,3,0,0,2,0],\"type\":\"scatter\"},{\"x\":[\"1854-08-19\",\"1854-08-20\",\"1854-08-21\",\"1854-08-22\",\"1854-08-23\",\"1854-08-24\",\"1854-08-25\",\"1854-08-26\",\"1854-08-27\",\"1854-08-28\",\"1854-08-29\",\"1854-08-30\",\"1854-08-31\",\"1854-09-01\",\"1854-09-02\",\"1854-09-03\",\"1854-09-04\",\"1854-09-05\",\"1854-09-06\",\"1854-09-07\",\"1854-09-08\",\"1854-09-09\",\"1854-09-10\",\"1854-09-11\",\"1854-09-12\",\"1854-09-13\",\"1854-09-14\",\"1854-09-15\",\"1854-09-16\",\"1854-09-17\",\"1854-09-18\",\"1854-09-19\",\"1854-09-20\",\"1854-09-21\",\"1854-09-22\",\"1854-09-23\",\"1854-09-24\",\"1854-09-25\",\"1854-09-26\",\"1854-09-27\"],\"y\":[1,1,3,3,3,5,5,5,6,6,7,9,12,82,209,285,356,401,438,470,500,524,542,557,563,576,582,590,596,601,603,606,606,606,608,611,611,611,613,613],\"type\":\"scatter\"}]},{\"data\":[{\"x\":[\"1854-08-19\",\"1854-08-20\",\"1854-08-21\",\"1854-08-22\",\"1854-08-23\",\"1854-08-24\",\"1854-08-25\",\"1854-08-26\",\"1854-08-27\",\"1854-08-28\",\"1854-08-29\",\"1854-08-30\",\"1854-08-31\",\"1854-09-01\",\"1854-09-02\",\"1854-09-03\",\"1854-09-04\",\"1854-09-05\",\"1854-09-06\",\"1854-09-07\",\"1854-09-08\",\"1854-09-09\",\"1854-09-10\",\"1854-09-11\",\"1854-09-12\",\"1854-09-13\",\"1854-09-14\",\"1854-09-15\",\"1854-09-16\",\"1854-09-17\",\"1854-09-18\",\"1854-09-19\",\"1854-09-20\",\"1854-09-21\",\"1854-09-22\",\"1854-09-23\",\"1854-09-24\",\"1854-09-25\",\"1854-09-26\",\"1854-09-27\",\"1854-09-28\"],\"y\":[1,1,1,0,1,1,0,1,1,1,1,8,56,143,116,54,46,36,20,28,12,11,5,5,1,3,0,1,4,2,3,0,0,2,1,1,1,1,1,1,0],\"type\":\"scatter\"},{\"x\":[\"1854-08-19\",\"1854-08-20\",\"1854-08-21\",\"1854-08-22\",\"1854-08-23\",\"1854-08-24\",\"1854-08-25\",\"1854-08-26\",\"1854-08-27\",\"1854-08-28\",\"1854-08-29\",\"1854-08-30\",\"1854-08-31\",\"1854-09-01\",\"1854-09-02\",\"1854-09-03\",\"1854-09-04\",\"1854-09-05\",\"1854-09-06\",\"1854-09-07\",\"1854-09-08\",\"1854-09-09\",\"1854-09-10\",\"1854-09-11\",\"1854-09-12\",\"1854-09-13\",\"1854-09-14\",\"1854-09-15\",\"1854-09-16\",\"1854-09-17\",\"1854-09-18\",\"1854-09-19\",\"1854-09-20\",\"1854-09-21\",\"1854-09-22\",\"1854-09-23\",\"1854-09-24\",\"1854-09-25\",\"1854-09-26\",\"1854-09-27\",\"1854-09-28\"],\"y\":[1,2,3,3,4,5,5,6,7,8,9,17,73,216,332,386,432,468,488,516,528,539,544,549,550,553,553,554,558,560,563,563,563,565,566,567,568,569,570,571,571],\"type\":\"scatter\"},{\"x\":[\"1854-08-19\",\"1854-08-20\",\"1854-08-21\",\"1854-08-22\",\"1854-08-23\",\"1854-08-24\",\"1854-08-25\",\"1854-08-26\",\"1854-08-27\",\"1854-08-28\",\"1854-08-29\",\"1854-08-30\",\"1854-08-31\",\"1854-09-01\",\"1854-09-02\",\"1854-09-03\",\"1854-09-04\",\"1854-09-05\",\"1854-09-06\",\"1854-09-07\",\"1854-09-08\",\"1854-09-09\",\"1854-09-10\",\"1854-09-11\",\"1854-09-12\",\"1854-09-13\",\"1854-09-14\",\"1854-09-15\",\"1854-09-16\",\"1854-09-17\",\"1854-09-18\",\"1854-09-19\",\"1854-09-20\",\"1854-09-21\",\"1854-09-22\",\"1854-09-23\",\"1854-09-24\",\"1854-09-25\",\"1854-09-26\",\"1854-09-27\",\"1854-09-28\"],\"y\":[1,0,2,0,0,2,0,0,1,0,1,2,3,70,127,76,71,45,37,32,30,24,18,15,6,13,6,8,6,5,2,3,0,0,2,3,0,0,2,0,2],\"type\":\"scatter\"},{\"x\":[\"1854-08-19\",\"1854-08-20\",\"1854-08-21\",\"1854-08-22\",\"1854-08-23\",\"1854-08-24\",\"1854-08-25\",\"1854-08-26\",\"1854-08-27\",\"1854-08-28\",\"1854-08-29\",\"1854-08-30\",\"1854-08-31\",\"1854-09-01\",\"1854-09-02\",\"1854-09-03\",\"1854-09-04\",\"1854-09-05\",\"1854-09-06\",\"1854-09-07\",\"1854-09-08\",\"1854-09-09\",\"1854-09-10\",\"1854-09-11\",\"1854-09-12\",\"1854-09-13\",\"1854-09-14\",\"1854-09-15\",\"1854-09-16\",\"1854-09-17\",\"1854-09-18\",\"1854-09-19\",\"1854-09-20\",\"1854-09-21\",\"1854-09-22\",\"1854-09-23\",\"1854-09-24\",\"1854-09-25\",\"1854-09-26\",\"1854-09-27\",\"1854-09-28\"],\"y\":[1,1,3,3,3,5,5,5,6,6,7,9,12,82,209,285,356,401,438,470,500,524,542,557,563,576,582,590,596,601,603,606,606,606,608,611,611,611,613,613,615],\"type\":\"scatter\"}]},{\"data\":[{\"x\":[\"1854-08-19\",\"1854-08-20\",\"1854-08-21\",\"1854-08-22\",\"1854-08-23\",\"1854-08-24\",\"1854-08-25\",\"1854-08-26\",\"1854-08-27\",\"1854-08-28\",\"1854-08-29\",\"1854-08-30\",\"1854-08-31\",\"1854-09-01\",\"1854-09-02\",\"1854-09-03\",\"1854-09-04\",\"1854-09-05\",\"1854-09-06\",\"1854-09-07\",\"1854-09-08\",\"1854-09-09\",\"1854-09-10\",\"1854-09-11\",\"1854-09-12\",\"1854-09-13\",\"1854-09-14\",\"1854-09-15\",\"1854-09-16\",\"1854-09-17\",\"1854-09-18\",\"1854-09-19\",\"1854-09-20\",\"1854-09-21\",\"1854-09-22\",\"1854-09-23\",\"1854-09-24\",\"1854-09-25\",\"1854-09-26\",\"1854-09-27\",\"1854-09-28\",\"1854-09-29\"],\"y\":[1,1,1,0,1,1,0,1,1,1,1,8,56,143,116,54,46,36,20,28,12,11,5,5,1,3,0,1,4,2,3,0,0,2,1,1,1,1,1,1,0,0],\"type\":\"scatter\"},{\"x\":[\"1854-08-19\",\"1854-08-20\",\"1854-08-21\",\"1854-08-22\",\"1854-08-23\",\"1854-08-24\",\"1854-08-25\",\"1854-08-26\",\"1854-08-27\",\"1854-08-28\",\"1854-08-29\",\"1854-08-30\",\"1854-08-31\",\"1854-09-01\",\"1854-09-02\",\"1854-09-03\",\"1854-09-04\",\"1854-09-05\",\"1854-09-06\",\"1854-09-07\",\"1854-09-08\",\"1854-09-09\",\"1854-09-10\",\"1854-09-11\",\"1854-09-12\",\"1854-09-13\",\"1854-09-14\",\"1854-09-15\",\"1854-09-16\",\"1854-09-17\",\"1854-09-18\",\"1854-09-19\",\"1854-09-20\",\"1854-09-21\",\"1854-09-22\",\"1854-09-23\",\"1854-09-24\",\"1854-09-25\",\"1854-09-26\",\"1854-09-27\",\"1854-09-28\",\"1854-09-29\"],\"y\":[1,2,3,3,4,5,5,6,7,8,9,17,73,216,332,386,432,468,488,516,528,539,544,549,550,553,553,554,558,560,563,563,563,565,566,567,568,569,570,571,571,571],\"type\":\"scatter\"},{\"x\":[\"1854-08-19\",\"1854-08-20\",\"1854-08-21\",\"1854-08-22\",\"1854-08-23\",\"1854-08-24\",\"1854-08-25\",\"1854-08-26\",\"1854-08-27\",\"1854-08-28\",\"1854-08-29\",\"1854-08-30\",\"1854-08-31\",\"1854-09-01\",\"1854-09-02\",\"1854-09-03\",\"1854-09-04\",\"1854-09-05\",\"1854-09-06\",\"1854-09-07\",\"1854-09-08\",\"1854-09-09\",\"1854-09-10\",\"1854-09-11\",\"1854-09-12\",\"1854-09-13\",\"1854-09-14\",\"1854-09-15\",\"1854-09-16\",\"1854-09-17\",\"1854-09-18\",\"1854-09-19\",\"1854-09-20\",\"1854-09-21\",\"1854-09-22\",\"1854-09-23\",\"1854-09-24\",\"1854-09-25\",\"1854-09-26\",\"1854-09-27\",\"1854-09-28\",\"1854-09-29\"],\"y\":[1,0,2,0,0,2,0,0,1,0,1,2,3,70,127,76,71,45,37,32,30,24,18,15,6,13,6,8,6,5,2,3,0,0,2,3,0,0,2,0,2,1],\"type\":\"scatter\"},{\"x\":[\"1854-08-19\",\"1854-08-20\",\"1854-08-21\",\"1854-08-22\",\"1854-08-23\",\"1854-08-24\",\"1854-08-25\",\"1854-08-26\",\"1854-08-27\",\"1854-08-28\",\"1854-08-29\",\"1854-08-30\",\"1854-08-31\",\"1854-09-01\",\"1854-09-02\",\"1854-09-03\",\"1854-09-04\",\"1854-09-05\",\"1854-09-06\",\"1854-09-07\",\"1854-09-08\",\"1854-09-09\",\"1854-09-10\",\"1854-09-11\",\"1854-09-12\",\"1854-09-13\",\"1854-09-14\",\"1854-09-15\",\"1854-09-16\",\"1854-09-17\",\"1854-09-18\",\"1854-09-19\",\"1854-09-20\",\"1854-09-21\",\"1854-09-22\",\"1854-09-23\",\"1854-09-24\",\"1854-09-25\",\"1854-09-26\",\"1854-09-27\",\"1854-09-28\",\"1854-09-29\"],\"y\":[1,1,3,3,3,5,5,5,6,6,7,9,12,82,209,285,356,401,438,470,500,524,542,557,563,576,582,590,596,601,603,606,606,606,608,611,611,611,613,613,615,616],\"type\":\"scatter\"}]}]);\n",
       "                        }).then(function(){\n",
       "                            \n",
       "var gd = document.getElementById('423dbacf-0b7a-41e4-9d27-7fbf856a7b54');\n",
       "var x = new MutationObserver(function (mutations, observer) {{\n",
       "        var display = window.getComputedStyle(gd).display;\n",
       "        if (!display || display === 'none') {{\n",
       "            console.log([gd, 'removed!']);\n",
       "            Plotly.purge(gd);\n",
       "            observer.disconnect();\n",
       "        }}\n",
       "}});\n",
       "\n",
       "// Listen for the removal of the full notebook cells\n",
       "var notebookContainer = gd.closest('#notebook-container');\n",
       "if (notebookContainer) {{\n",
       "    x.observe(notebookContainer, {childList: true});\n",
       "}}\n",
       "\n",
       "// Listen for the clearing of the current output cell\n",
       "var outputEl = gd.closest('.output');\n",
       "if (outputEl) {{\n",
       "    x.observe(outputEl, {childList: true});\n",
       "}}\n",
       "\n",
       "                        })                };                });            </script>        </div>"
      ]
     },
     "metadata": {},
     "output_type": "display_data"
    }
   ],
   "source": [
    "fig = go.Figure(data=data, frames=frames, layout=layout)\n",
    "fig.show()"
   ]
  },
  {
   "cell_type": "code",
   "execution_count": null,
   "id": "81307f21",
   "metadata": {},
   "outputs": [],
   "source": []
  },
  {
   "cell_type": "code",
   "execution_count": null,
   "id": "20f998be",
   "metadata": {},
   "outputs": [],
   "source": []
  }
 ],
 "metadata": {
  "kernelspec": {
   "display_name": "Python 3",
   "language": "python",
   "name": "python3"
  },
  "language_info": {
   "codemirror_mode": {
    "name": "ipython",
    "version": 3
   },
   "file_extension": ".py",
   "mimetype": "text/x-python",
   "name": "python",
   "nbconvert_exporter": "python",
   "pygments_lexer": "ipython3",
   "version": "3.8.8"
  }
 },
 "nbformat": 4,
 "nbformat_minor": 5
}
